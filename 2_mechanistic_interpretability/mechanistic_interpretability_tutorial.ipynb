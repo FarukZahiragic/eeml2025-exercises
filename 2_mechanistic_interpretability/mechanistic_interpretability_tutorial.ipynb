{
  "cells": [
    {
      "cell_type": "markdown",
      "metadata": {
        "id": "view-in-github",
        "colab_type": "text"
      },
      "source": [
        "<a href=\"https://colab.research.google.com/github/FarukZahiragic/eeml2025-exercises/blob/main/2_mechanistic_interpretability/mechanistic_interpretability_tutorial.ipynb\" target=\"_parent\"><img src=\"https://colab.research.google.com/assets/colab-badge.svg\" alt=\"Open In Colab\"/></a>"
      ]
    },
    {
      "cell_type": "markdown",
      "metadata": {
        "id": "0WeF2yG1HEKv"
      },
      "source": [
        "# EEML Mechanistic Interpretability Workshop\n",
        "Arthur Conmy and Federico Barbero\n",
        "\n",
        "*This notebook heavily borrows from the ARENA tutorial by Callum McDougall -- if you like this tutorial, we recommend looking further at the [ARENA material](https://arena-chapter1-transformer-interp.streamlit.app/[1.2]_Intro_to_Mech_Interp)*.\n",
        "\n",
        "For those that feel like they could brush up on Transformers, we recommend [this great video tutorial](https://www.youtube.com/watch?v=bOYE6E8JrtU) by Neel Nanda. A lot of the material in this notebook has been built by Neel so a huge shoutout to him.\n",
        "\n",
        "The tutorial is designed to introduce you to the core concepts of mechanistic interpretability using the [TransformerLens](https://github.com/TransformerLensOrg/TransformerLens) library. We thank the developers of this library for their efforts.\n"
      ]
    },
    {
      "cell_type": "markdown",
      "metadata": {
        "id": "8zkwFgtGHEKw"
      },
      "source": [
        "Most of the sections are constructed in the following way:\n",
        "\n",
        "1. A particular feature of TransformerLens is introduced.\n",
        "2. You are given an exercise, in which you have to apply the feature.\n",
        "\n",
        "Each exercise will have a difficulty and importance rating out of 5, as well as an estimated maximum time you should spend on these exercises and sometimes a short annotation. You should interpret the ratings & time estimates relatively (e.g. if you find yourself spending about 50% longer on the exercises than the time estimates, adjust accordingly)."
      ]
    },
    {
      "cell_type": "markdown",
      "metadata": {
        "id": "b_JcwWixHEKw"
      },
      "source": [
        "## Content & Learning Objectives\n",
        "\n",
        "### 1️⃣ TransformerLens: Introduction\n",
        "\n",
        "This section is designed to get you up to speed with the TransformerLens library. You'll learn how to load and run models, and learn about the shared architecture template for all of these models.\n",
        "\n",
        "##### Learning Objectives\n",
        "\n",
        "> - Load and run a `HookedTransformer` model\n",
        "> - Understand the basic architecture of these models\n",
        "> - Use the model's tokenizer to convert text to tokens, and vice versa\n",
        "> - Know how to cache activations, and to access activations from the cache\n",
        "> - Use `circuitsvis` to visualise attention heads\n",
        "\n",
        "### 2️⃣ TransformerLens: Hooks\n",
        "\n",
        "Next, you'll learn about hooks, which are a great feature of TransformerLens allowing you to access and intervene on activations within the model. We will mainly focus on the basics of hooks and using them to access activations. You will also build some tools to perform logit attribution within your model, so you can identify which components are responsible for your model's performance on certain tasks.\n",
        "\n",
        "##### Learning Objectives\n",
        "\n",
        "> - Understand what hooks are, and how they are used in TransformerLens\n",
        "> - Use hooks to access activations, process the results, and write them to an external tensor\n",
        "> - Build tools to perform attribution, i.e. detecting which components of your model are responsible for performance on a given task\n",
        "> - Understand how hooks can be used to perform basic interventions like **ablation**\n",
        "\n",
        "### 3️⃣ **Bonus:** Replicating [Golden Gate Claude](https://www.anthropic.com/news/golden-gate-claude)!\n",
        "\n",
        "##### Learning Objectives:\n",
        "\n",
        "Finally, you will be replicating one of the first impressive results from the field of mechanistic interpretability: the \"Golden Gate Claude\" experiment. You will learn how to take an LLM and *steer* it such that it loves to talk about the Golden Gate bridge and San Francisco!\n",
        "\n",
        "> - Work with an LLM finetuned for chat interactions (like ChatGPT, Gemini, Claude, ...)\n",
        "> - Get activations from the inside of a chat LLM\n",
        "> - Do a small-scale replication of Anthropic's [Golden Gate Claude](https://www.anthropic.com/news/golden-gate-claude) famous result\n"
      ]
    },
    {
      "cell_type": "markdown",
      "metadata": {
        "id": "eSI231BaHEKx"
      },
      "source": [
        "## Setup code\n",
        "\n",
        "If you get an error like this:\n",
        "\n",
        "```\n",
        "ValueError: numpy.dtype size changed, may indicate binary incompatibility. Expected 96 from C header, got 88 from PyObject\n",
        "```\n",
        "\n",
        "Select Runtime > Restart (also discoverable with CTRL+Shift+P)"
      ]
    },
    {
      "cell_type": "markdown",
      "source": [
        "*Please run the code in the cells below to setup the notebook*"
      ],
      "metadata": {
        "id": "7ZnKuaFXtT4I"
      }
    },
    {
      "cell_type": "code",
      "execution_count": null,
      "metadata": {
        "id": "4f_0YbkSHEKx"
      },
      "outputs": [],
      "source": [
        "# @title\n",
        "import os\n",
        "import sys\n",
        "from pathlib import Path\n",
        "\n",
        "import pkg_resources\n",
        "\n",
        "IN_COLAB = \"google.colab\" in sys.modules\n",
        "\n",
        "chapter = \"chapter1_transformer_interp\"\n",
        "repo = \"ARENA_3.0\"\n",
        "branch = \"main\"\n",
        "\n",
        "# Install dependencies\n",
        "installed_packages = [pkg.key for pkg in pkg_resources.working_set]\n",
        "if \"transformer-lens\" not in installed_packages:\n",
        "    %pip install transformer_lens==2.16.1 einops eindex-callum jaxtyping git+https://github.com/callummcdougall/CircuitsVis.git#subdirectory=python\n",
        "\n",
        "# Get root directory, handling 3 different cases: (1) Colab, (2) notebook not in ARENA repo, (3) notebook in ARENA repo\n",
        "root = (\n",
        "    \"/content\"\n",
        "    if IN_COLAB\n",
        "    else \"/root\"\n",
        "    if repo not in os.getcwd()\n",
        "    else str(next(p for p in Path.cwd().parents if p.name == repo))\n",
        ")\n",
        "\n",
        "if Path(root).exists() and not Path(f\"{root}/{chapter}\").exists():\n",
        "    if not IN_COLAB:\n",
        "        !sudo apt-get install unzip\n",
        "        %pip install jupyter ipython --upgrade\n",
        "\n",
        "    if not os.path.exists(f\"{root}/{chapter}\"):\n",
        "        !wget -P {root} https://github.com/callummcdougall/ARENA_3.0/archive/refs/heads/{branch}.zip\n",
        "        !unzip {root}/{branch}.zip '{repo}-{branch}/{chapter}/exercises/*' -d {root}\n",
        "        !mv {root}/{repo}-{branch}/{chapter} {root}/{chapter}\n",
        "        !rm {root}/{branch}.zip\n",
        "        !rmdir {root}/ARENA_3.0-{branch}\n",
        "\n",
        "\n",
        "if f\"{root}/{chapter}/exercises\" not in sys.path:\n",
        "    sys.path.append(f\"{root}/{chapter}/exercises\")\n",
        "\n",
        "os.chdir(f\"{root}/{chapter}/exercises\")"
      ]
    },
    {
      "cell_type": "code",
      "execution_count": null,
      "metadata": {
        "id": "CaPSs5g0HEKx"
      },
      "outputs": [],
      "source": [
        "# @title\n",
        "import torch as t\n",
        "assert t.cuda.is_available(), \"You are not connected to a GPU. Please use Runtime > Change Runtime Type and choose e.g. T4\"\n",
        "device = \"cuda:0\"\n",
        "\n",
        "import functools\n",
        "import sys\n",
        "from pathlib import Path\n",
        "from typing import Callable\n",
        "import circuitsvis as cv\n",
        "import einops\n",
        "import numpy as np\n",
        "import torch.nn as nn\n",
        "import torch.nn.functional as F\n",
        "from eindex import eindex\n",
        "from IPython.display import display\n",
        "from jaxtyping import Float, Int\n",
        "from torch import Tensor\n",
        "from tqdm import tqdm\n",
        "from transformer_lens import (\n",
        "    ActivationCache,\n",
        "    FactoredMatrix,\n",
        "    HookedTransformer,\n",
        "    HookedTransformerConfig,\n",
        "    utils,\n",
        ")\n",
        "from transformer_lens.hook_points import HookPoint\n",
        "import gc\n",
        "import json\n",
        "import markdown\n",
        "from huggingface_hub import hf_hub_download\n",
        "from IPython.display import HTML\n",
        "\n",
        "# Make sure exercises are in the path\n",
        "chapter = \"chapter1_transformer_interp\"\n",
        "section = \"part2_intro_to_mech_interp\"\n",
        "root_dir = next(p for p in Path.cwd().parents if (p / chapter).exists())\n",
        "exercises_dir = root_dir / chapter / \"exercises\"\n",
        "section_dir = exercises_dir / section\n",
        "\n",
        "import part2_intro_to_mech_interp.tests as tests\n",
        "from plotly_utils import hist, imshow, plot_comp_scores, plot_logit_attribution, plot_loss_difference\n",
        "\n",
        "# Saves computation time, since we don't need it for the contents of this notebook\n",
        "t.set_grad_enabled(False)\n",
        "\n",
        "MAIN = __name__ == \"__main__\""
      ]
    },
    {
      "cell_type": "markdown",
      "metadata": {
        "id": "tJzLSOc2HEKy"
      },
      "source": [
        "# 1️⃣ TransformerLens: Introduction\n",
        "\n",
        "> ##### Learning Objectives\n",
        ">\n",
        "> - Load and run a `HookedTransformer` model\n",
        "> - Understand the basic architecture of these models\n",
        "> - Use the model's tokenizer to convert text to tokens, and vice versa\n",
        "> - Know how to cache activations, and to access activations from the cache\n",
        "> - Use `circuitsvis` to visualise attention heads"
      ]
    },
    {
      "cell_type": "markdown",
      "metadata": {
        "id": "SC4EHyGAHEKy"
      },
      "source": [
        "## Introduction\n",
        "\n",
        "The goal of mechanistic interpretability is to take a trained model and reverse engineer the algorithms the model learned during training from its weights. It is a fact about the world today that we have computer programs that can essentially speak English at a human level (GPT-3 was announced in 2020, PaLM in 2022, many more LLMs since then), and yet we have no idea how they work nor how to write one ourselves. The goal of mechanistic interpretability is to try to fix this! It is a very young and growing field, and there are a *lot* of open problems - if you would like to help, please try working on one! **For a list of open problems feel free to check out this [doc](https://docs.google.com/document/d/1WONBzNqfKIxERejrrPlQMyKqg7jSFW92x5UMXNrMdPo/edit#) to figure out where to start.**\n",
        "\n",
        "There's a lot of excellent infrastructure like HuggingFace and DeepSpeed to *use* or *train* models, but very little to dig into their internals and reverse engineer how they work. **The TransformerLens library tries to solve that**, and to make it easy to get into the field even if you don't work at an industry org with real infrastructure! The core features were heavily inspired by [Anthropic's excellent Garcon tool](https://transformer-circuits.pub/2021/garcon/index.html) -- credit to Nelson Elhage and Chris Olah for building Garcon!\n",
        "\n",
        "The point of this library is to keep the gap between having an experiment idea and seeing the results as small as possible, to make it easy for **research to feel like play** and to enter a flow state. This notebook demonstrates how the library works and how to use it, but if you want to see how well it works for exploratory research, check out [Neel Nanda's notebook analysing Indirect Objection Identification](https://github.com/neelnanda-io/TransformerLens/blob/main/Exploratory_Analysis_Demo.ipynb) or [Neel Nanda's recording of himself doing research](https://www.youtube.com/watch?v=yo4QvDn-vsU)!"
      ]
    },
    {
      "cell_type": "markdown",
      "metadata": {
        "id": "KoZx1rhdHEKy"
      },
      "source": [
        "## Loading and Running Models\n",
        "\n",
        "TransformerLens comes loaded with >40 open source GPT-style models. You can load any of them in with `HookedTransformer.from_pretrained(MODEL_NAME)`. For this demo notebook we'll look at GPT-2 Small, an 80M parameter model, see the Available Models section for info on the rest."
      ]
    },
    {
      "cell_type": "code",
      "execution_count": null,
      "metadata": {
        "id": "xuZIbTa0HEKy"
      },
      "outputs": [],
      "source": [
        "gpt2_small: HookedTransformer = HookedTransformer.from_pretrained(\"gpt2-small\")"
      ]
    },
    {
      "cell_type": "markdown",
      "metadata": {
        "id": "3_R2TUB9HEKy"
      },
      "source": [
        "### HookedTransformerConfig\n",
        "\n",
        "Alternatively, you can define a config object, then call `HookedTransformer.from_config(cfg)` to define your model. This is particularly useful when you want to have finer control over the architecture of your model. We'll see an example of this in the next section, when we define an attention-only model to study induction heads.\n",
        "\n",
        "Even if you don't define your model in this way, you can still access the config object through the `cfg` attribute of the model."
      ]
    },
    {
      "cell_type": "markdown",
      "metadata": {
        "id": "yNUI_U7mHEKy"
      },
      "source": [
        "### 💻 Exercise - inspect your model\n",
        "\n",
        "> ```yaml\n",
        "> Difficulty: 🔴⚪⚪⚪⚪\n",
        "> Importance: 🔵🔵🔵⚪⚪\n",
        "> ```\n",
        "\n",
        "Use `gpt2_small.cfg` to find the following, for your GPT-2 Small model:\n",
        "\n",
        "* Number of layers\n",
        "* Number of heads per layer\n",
        "* Maximum context window\n",
        "\n",
        "You might have to check out the documentation page for some of these. If you're in VSCode then you can reach it by right-clicking on `HookedTransformerConfig` and choosing \"Go to definition\". If you're in Colab, then you can read the [GitHub page](https://github.com/neelnanda-io/TransformerLens).\n",
        "\n",
        "<details>\n",
        "<summary>Answer</summary>\n",
        "\n",
        "The following parameters in the config object give you the answers:\n",
        "\n",
        "```\n",
        "cfg.n_layers == 12\n",
        "cfg.n_heads == 12\n",
        "cfg.n_ctx == 1024\n",
        "```\n",
        "\n",
        "</details>"
      ]
    },
    {
      "cell_type": "markdown",
      "metadata": {
        "id": "P19iBl34HEKy"
      },
      "source": [
        "### Running your model\n",
        "\n",
        "Models can be run on a single string or a tensor of tokens (shape: `[batch, position]`, all integers). The possible return types are:\n",
        "\n",
        "* `\"logits\"` (shape `[batch, position, d_vocab]`, floats),\n",
        "* `\"loss\"` (the cross-entropy loss when predicting the next token),\n",
        "* `\"both\"` (a tuple of `(logits, loss)`)\n",
        "* `None` (run the model, but don't calculate the logits - this is faster when we only want to use intermediate activations)"
      ]
    },
    {
      "cell_type": "code",
      "execution_count": null,
      "metadata": {
        "id": "TpjpOq-3HEKy"
      },
      "outputs": [],
      "source": [
        "model_description_text = \"\"\"## Loading Models\n",
        "\n",
        "HookedTransformer comes loaded with >40 open source GPT-style models. You can load any of them in with `HookedTransformer.from_pretrained(MODEL_NAME)`. Each model is loaded into the consistent HookedTransformer architecture, designed to be clean, consistent and interpretability-friendly.\n",
        "\n",
        "For this demo notebook we'll look at GPT-2 Small, an 80M parameter model. To try the model the model out, let's find the loss on this paragraph!\"\"\"\n",
        "\n",
        "loss = gpt2_small(model_description_text, return_type=\"loss\")\n",
        "print(\"Model loss:\", loss)"
      ]
    },
    {
      "cell_type": "markdown",
      "metadata": {
        "id": "1wE3c64wHEKy"
      },
      "source": [
        "<pre style=\"white-space:pre;overflow-x:auto;line-height:normal;font-family:Menlo,'DejaVu Sans Mono',consolas,'Courier New',monospace\">Model loss: tensor(4.3443, device='cuda:0')</pre>"
      ]
    },
    {
      "cell_type": "markdown",
      "metadata": {
        "id": "hDow8eR5HEKy"
      },
      "source": [
        "## Transformer architecture\n",
        "\n",
        "The key picture to keep in your head when thinking about the internals of tranformers is this one:\n",
        "\n",
        "![Anthropic_Circuit_Diagram](https://img2024.cnblogs.com/blog/1797571/202503/1797571-20250325133836129-771431847.png)\n",
        "*From Anthropic's [Mathematical Framework For Transformer Circuits paper](https://transformer-circuits.pub/2021/framework/index.html)*.\n",
        "\n",
        "Do not worry about not understanding every part of the transformer in detail! Part of the reason to do workshops with colabs is so that you can help investigate models to figure out confusing details. (Also ask LLMs such as OpenAI o3 or Gemini 2.5 Pro or Claude 4 to help clarify details!)\n",
        "\n",
        "One of the key bits of unusual terminology that Anthropic use in their [Mathematical Framework For Transformer Circuits paper](https://transformer-circuits.pub/2021/framework/index.html) is the reference to the internal current state of the activations as the **Residual Stream**. Each value $x_0, x_i, x_{i+1}, ...$ on the central vertical line in the diagram above is one value of the residual stream. We will use the phrase \"residual stream\" throughout this tutorial.\n",
        "\n",
        "Now, back to TransformerLens. The `HookedTransformer` class is a somewhat adapted GPT-2 architecture, but is computationally identical. The most significant changes are to the internal structure of the attention heads:\n",
        "\n",
        "* The weights `W_K`, `W_Q`, `W_V` mapping the residual stream to queries, keys and values are 3 separate matrices, rather than big concatenated one.\n",
        "* The weight matrices `W_K`, `W_Q`, `W_V`, `W_O` and activations have separate `head_index` and `d_head` axes, rather than flattening them into one big axis.\n",
        "    * The activations all have shape `[batch, position, head_index, d_head]`.\n",
        "    * `W_K`, `W_Q`, `W_V` have shape `[head_index, d_model, d_head]` and `W_O` has shape `[head_index, d_head, d_model]`\n",
        "* **Important - we generally follow the convention that weight matrices multiply on the right rather than the left.** In other words, they have shape `[input, output]`, and we have `new_activation = old_activation @ weights + bias`.\n",
        "    * Click the dropdown below for examples of this, if it seems unintuitive.\n",
        "\n",
        "<details>\n",
        "<summary>Examples of matrix multiplication in our model</summary>\n",
        "\n",
        "* **Query matrices**\n",
        "    * Each query matrix `W_Q` for a particular layer and head has shape `[d_model, d_head]`.\n",
        "    * So if a vector `x` in the residual stream has length `d_model`, then the corresponding query vector is `x @ W_Q`, which has length `d_head`.\n",
        "* **Embedding matrix**\n",
        "    * The embedding matrix `W_E` has shape `[d_vocab, d_model]`.\n",
        "    * So if `A` is a one-hot-encoded vector of length `d_vocab` corresponding to a particular token, then the embedding vector for this token is `A @ W_E`, which has length `d_model`.\n",
        "\n",
        "</details>\n",
        "\n",
        "The actual code is a bit of a mess, as there's a variety of Boolean flags to make it consistent with the various different model families in TransformerLens - to understand it and the internal structure, I instead recommend reading the code in [CleanTransformerDemo](https://colab.research.google.com/github/neelnanda-io/TransformerLens/blob/clean-transformer-demo/Clean_Transformer_Demo.ipynb)."
      ]
    },
    {
      "cell_type": "markdown",
      "metadata": {
        "id": "vhh1NBvFHEKy"
      },
      "source": [
        "### Parameters and Activations\n",
        "\n",
        "It's important to distinguish between parameters and activations in the model.\n",
        "\n",
        "* **Parameters** are the weights and biases that are learned during training.\n",
        "    * These don't change when the model input changes.\n",
        "    * They can be accessed directly from the model, e.g. `model.W_E` for the embedding matrix.\n",
        "* **Activations** are temporary numbers calculated during a forward pass, that are functions of the input.\n",
        "    * We can think of these values as only existing for the duration of a single forward pass, and disappearing afterwards.\n",
        "    * We can use hooks to access these values during a forward pass (more on hooks later), but it doesn't make sense to talk about a model's activations outside the context of some particular input.\n",
        "    * Attention scores and patterns are activations (this is slightly non-intuitve because they're used in a matrix multiplication with another activation).\n",
        "    * All values of the residual stream are activations, for example.\n",
        "\n",
        "The link below shows a diagram of a single layer (called a `TransformerBlock`) for an attention-only model with no biases. Each box corresponds to an **activation** (and also tells you the name of the corresponding hook point, which we will eventually use to access those activations). The red text below each box tells you the shape of the activation (ignoring the batch dimension). Each arrow corresponds to an operation on an activation; where there are **parameters** involved these are labelled on the arrows.\n",
        "\n",
        "[Link to diagram](https://raw.githubusercontent.com/info-arena/ARENA_img/main/misc/small-merm.svg)\n",
        "\n",
        "The next link is to a diagram of a `TransformerBlock` with full features (including biases, layernorms, and MLPs). Don't worry if not all of this makes sense at first - we'll return to some of the details later. As we work with these transformers, we'll get more comfortable with their architecture.\n",
        "\n",
        "[Link to diagram](https://raw.githubusercontent.com/info-arena/ARENA_img/main/misc/full-merm.svg)"
      ]
    },
    {
      "cell_type": "markdown",
      "metadata": {
        "id": "bmpggDJOHEKy"
      },
      "source": [
        "A few shortcuts to make your lives easier when using these models:\n",
        "\n",
        "* You can index weights like `W_Q` directly from the model via e.g. `model.blocks[0].attn.W_Q` (which gives you the `[nheads, d_model, d_head]` query weights for all heads in layer 0).\n",
        "    * But an easier way is just to index with `model.W_Q`, which gives you the `[nlayers, nheads, d_model, d_head]` tensor containing **every** query weight in the model.\n",
        "* Similarly, there exist shortcuts `model.W_E`, `model.W_U` and `model.W_pos` for the embeddings, unembeddings and positional embeddings respectively.\n",
        "* With models containing MLP layers, you also have `model.W_in` and `model.W_out` for the linear layers.\n",
        "* The same is true for all biases (e.g. `model.b_Q` for all query biases)."
      ]
    },
    {
      "cell_type": "markdown",
      "metadata": {
        "id": "sQR99CUZHEKy"
      },
      "source": [
        "## Tokenization\n",
        "\n",
        "This section assumes that you understand tokenization. If you would like to learn about it (highly recommended as it is a very important topic), there is this [excellent video](https://www.youtube.com/watch?v=zduSFxRajkE) by Andrej Karpathy that dives into great detail on the topic.\n",
        "\n",
        "The tokenizer is stored inside the model, and you can access it using `model.tokenizer`. There are also a few helper methods that call the tokenizer under the hood, for instance:\n",
        "\n",
        "* `model.to_str_tokens(text)` converts a string into a list of tokens-as-strings (or a list of strings into a list of lists of tokens-as-strings).\n",
        "* `model.to_tokens(text)` converts a string into a tensor of tokens.\n",
        "* `model.to_string(tokens)` converts a tensor of tokens into a string.\n",
        "\n",
        "Examples of use:"
      ]
    },
    {
      "cell_type": "code",
      "execution_count": 8,
      "metadata": {
        "id": "jw70xrMZHEKy",
        "outputId": "e6213529-b4f5-49ec-f30a-e09ddeab727c",
        "colab": {
          "base_uri": "https://localhost:8080/"
        }
      },
      "outputs": [
        {
          "output_type": "stream",
          "name": "stdout",
          "text": [
            "['<|endoftext|>', 'g', 'pt', '2']\n",
            "[['<|endoftext|>', 'g', 'pt', '2'], ['<|endoftext|>', 'g', 'pt', '2']]\n",
            "tensor([[50256,    70,   457,    17]], device='cuda:0')\n",
            "<|endoftext|>gpt2\n"
          ]
        }
      ],
      "source": [
        "print(gpt2_small.to_str_tokens(\"gpt2\"))\n",
        "print(gpt2_small.to_str_tokens([\"gpt2\", \"gpt2\"]))\n",
        "print(gpt2_small.to_tokens(\"gpt2\"))\n",
        "print(gpt2_small.to_string([50256, 70, 457, 17]))"
      ]
    },
    {
      "cell_type": "markdown",
      "metadata": {
        "id": "k7ziZgg2HEKz"
      },
      "source": [
        "<pre style=\"white-space:pre;overflow-x:auto;line-height:normal;font-family:Menlo,'DejaVu Sans Mono',consolas,'Courier New',monospace\">['<|endoftext|>', 'g', 'pt', '2']\n",
        "[['<|endoftext|>', 'g', 'pt', '2'], ['<|endoftext|>', 'g', 'pt', '2']]\n",
        "tensor([[50256,    70,   457,    17]], device='cuda:0')\n",
        "<|endoftext|>gpt2</pre>"
      ]
    },
    {
      "cell_type": "markdown",
      "metadata": {
        "id": "_Alcz8pYHEKz"
      },
      "source": [
        "<details>\n",
        "<summary>Aside - <code><|endoftext|></code></summary>\n",
        "\n",
        "A weirdness you may have noticed in the above is that `to_tokens` and `to_str_tokens` added a weird `<|endoftext|>` to the start of each prompt.\n",
        "\n",
        "TransformerLens appends this token by default, and it can easily trip up new users. Notably, **this includes** `model.forward` (which is what's implicitly used when you do eg `model(\"Hello World\")`). You can disable this behaviour by setting the flag `prepend_bos=False` in `to_tokens`, `to_str_tokens`, `model.forward` and any other function that converts strings to multi-token tensors.\n",
        "\n",
        "`prepend_bos` is a bit of a hack, and I've gone back and forth on what the correct default here is. The reason I do this is that transformers tend to treat the first token weirdly - this doesn't really matter in training (where all inputs are >1000 tokens), but this can be a big issue when investigating short prompts! The reason for this is that attention patterns are a probability distribution and so need to add up to one, so to simulate being \"off\" they normally look at the first token. Giving them a BOS token lets the heads rest by looking at that, preserving the information in the first \"real\" token.\n",
        "\n",
        "Further, *some* models are trained to need a BOS token (OPT and my interpretability-friendly models are, GPT-2 and GPT-Neo are not). But despite GPT-2 not being trained with this, empirically it seems to make interpretability easier.\n",
        "\n",
        "</details>"
      ]
    },
    {
      "cell_type": "markdown",
      "metadata": {
        "id": "gGF-7LmAHEKz"
      },
      "source": [
        "### 💻 Exercise - how many tokens does your model guess correctly?\n",
        "\n",
        "> ```yaml\n",
        "> Difficulty: 🔴🔴⚪⚪⚪\n",
        "> Importance: 🔵🔵🔵⚪⚪\n",
        ">\n",
        "> You should spend up to ~10 minutes on this exercise.\n",
        "> ```\n",
        "\n",
        "Consider the `model_description_text` you fed into your model above. How many tokens did your model guess correctly? Which tokens were correct?"
      ]
    },
    {
      "cell_type": "code",
      "execution_count": 39,
      "metadata": {
        "id": "dla6X2qjHEKz",
        "outputId": "415fe54f-6c07-440f-c029-1fd76409a9a8",
        "colab": {
          "base_uri": "https://localhost:8080/"
        }
      },
      "outputs": [
        {
          "output_type": "stream",
          "name": "stdout",
          "text": [
            "tensor([  198,   198,   986,   198,   198,  2235,  2217,   319, 16354,   198,\n",
            "          351,   351,   477,  3064,  4981,  4981,  4981,  3955,  4981,  3106,\n",
            "         4981,    13,   198,   460,   779,   606,   286,   777,   422,   534,\n",
            "          262,    71, 46288,  8291, 16354, 44646,  2220,    63, 19849,   437,\n",
            "           62, 19849, 24212,    62, 20608,    11, 44646,   198,  2746,   468,\n",
            "          257,   351,   262,  4600,  4600,  8291,  8291, 16354,    13,    13,\n",
            "          290,   284,   307,   973,   290,  2562,   290,  2562,   540,    12,\n",
            "         5787,    13,   198,   198,  2235,  1672, 11808,    11,    11,   481,\n",
            "          779,   379,   262, 11571,    12,  7635,    13,    11, 13398,  1280,\n",
            "           87,    65,  1143,   351,   198,  3440,   503,  2746,    11,  1708,\n",
            "          318,    11,   345,   338,   779,   262,  4600,  1203,   262,  2746,\n",
            "           25], device='cuda:0')\n",
            "tensor([ 2235, 12320, 32329,   198,   198,    39, 46288,  8291, 16354,  2058,\n",
            "         9639,   351,  1875,  1821,  1280,  2723,   402, 11571,    12,  7635,\n",
            "         4981,    13,   921,   460,  3440,   597,   286,   606,   287,   351,\n",
            "         4600,    39, 46288,  8291, 16354,    13,  6738,    62,  5310, 13363,\n",
            "            7, 33365,  3698,    62, 20608,     8, 44646,  5501,  2746,   318,\n",
            "         9639,   656,   262,  6414, 18531,   276,  8291, 16354, 10959,    11,\n",
            "         3562,   284,   307,  3424,    11,  6414,   290,  6179,  1799,    12,\n",
            "        13120,    13,   198,   198,  1890,   428, 13605, 20922,   356,  1183,\n",
            "          804,   379,   402, 11571,    12,    17, 10452,    11,   281,  4019,\n",
            "           44, 11507,  2746,    13,  1675,  1949,   262,  2746,   262,  2746,\n",
            "          503,    11,  1309,   338,  1064,   262,  2994,   319,   428,  7322,\n",
            "            0], device='cuda:0')\n",
            "Number of correctly guessed elements: tensor([False, False, False,  True,  True, False, False, False,  True, False,\n",
            "        False,  True, False, False, False, False, False, False, False, False,\n",
            "         True,  True, False,  True, False, False,  True, False, False, False,\n",
            "        False, False,  True,  True,  True, False, False, False, False, False,\n",
            "        False, False, False,  True,  True, False,  True, False,  True, False,\n",
            "        False, False,  True, False, False, False,  True,  True, False, False,\n",
            "        False,  True,  True, False, False, False,  True, False, False,  True,\n",
            "        False,  True,  True,  True, False, False, False, False, False, False,\n",
            "        False,  True, False,  True,  True, False, False,  True, False, False,\n",
            "        False, False, False, False, False, False, False,  True, False, False,\n",
            "        False,  True, False,  True, False,  True, False, False, False, False,\n",
            "        False], device='cuda:0')\n",
            "33\n"
          ]
        }
      ],
      "source": [
        "logits: Tensor = gpt2_small(model_description_text, return_type=\"logits\")\n",
        "prediction = logits.argmax(dim=-1).squeeze()[:-1]\n",
        "\n",
        "# YOUR CODE HERE - get the model's prediction on the text\n",
        "actual = gpt2_small.to_tokens(model_description_text).squeeze()[1:]\n",
        "print(prediction)\n",
        "print(actual)\n",
        "\n",
        "#min_len = min(len(prediction[]), len(actual.H))\n",
        "#print(min_len)\n",
        "\n",
        "correct = prediction == actual\n",
        "\n",
        "#num_different = (prediction != actual[:-1]).sum().item()\n",
        "\n",
        "print(\"Number of correctly guessed elements:\", correct)\n",
        "\n",
        "num_true = correct.sum().item()\n",
        "\n",
        "print(num_true)"
      ]
    },
    {
      "cell_type": "markdown",
      "metadata": {
        "id": "12ZikdxKHEKz"
      },
      "source": [
        "<details>\n",
        "<summary>Hint</summary>\n",
        "\n",
        "Use `return_type=\"logits\"` to get the model's predictions, then take argmax across the vocab dimension. Then, compare these predictions with the actual tokens, derived from the `model_description_text`.\n",
        "\n",
        "Remember, you should be comparing the `[:-1]`th elements of this tensor of predictions with the `[1:]`th elements of the input tokens (because your model's output represents a probability distribution over the *next* token, not the current one).\n",
        "\n",
        "Also, remember to handle the batch dimension (since `logits`, and the output of `to_tokens`, will both have batch dimensions by default).\n",
        "\n",
        "</details>\n",
        "\n",
        "<details>\n",
        "<summary>Answer - what you should see</summary>\n",
        "\n",
        "<pre style=\"white-space:pre;overflow-x:auto;line-height:normal;font-family:Menlo,'DejaVu Sans Mono',consolas,'Courier New',monospace\">Model accuracy: 33/111\n",
        "Correct tokens: ['\\n', '\\n', 'former', ' with', ' models', '.', ' can', ' of', 'ooked', 'Trans', 'former', '_', 'NAME', '`.', ' model', ' the', 'Trans', 'former', ' to', ' be', ' and', '-', '.', '\\n', '\\n', ' at', 'PT', '-', ',', ' model', ',', \"'s\", ' the']\n",
        "</pre>\n",
        "\n",
        "So the model got 33 out of 111 tokens correct. Not too bad!\n",
        "\n",
        "</details>\n",
        "\n",
        "\n",
        "<details><summary>Solution</summary>\n",
        "\n",
        "```python\n",
        "logits: Tensor = gpt2_small(model_description_text, return_type=\"logits\")\n",
        "prediction = logits.argmax(dim=-1).squeeze()[:-1]\n",
        "\n",
        "true_tokens = gpt2_small.to_tokens(model_description_text).squeeze()[1:]\n",
        "is_correct = prediction == true_tokens\n",
        "\n",
        "print(f\"Model accuracy: {is_correct.sum()}/{len(true_tokens)}\")\n",
        "print(f\"Correct tokens: {gpt2_small.to_str_tokens(prediction[is_correct])}\")\n",
        "```\n",
        "</details>"
      ]
    },
    {
      "cell_type": "markdown",
      "metadata": {
        "id": "8bMpJEkAHEKz"
      },
      "source": [
        "**Induction heads** are a special kind of attention head which we'll examine a lot more in coming exercises. They allow a model to perform in-context learning of a specific form: generalising from one observation that token `B` follows token `A`, to predict that token `B` will follow `A` in future occurrences of `A`, even if these two tokens had never appeared together in the model's training data.\n",
        "\n",
        "**Can you see evidence of any induction heads at work, on this text?**\n",
        "\n",
        "<details>\n",
        "<summary>Evidence of induction heads</summary>\n",
        "\n",
        "The evidence for induction heads comes from the fact that the model successfully predicted `'ooked', 'Trans', 'former'` following the token `'H'`. This is because it's the second time that `HookedTransformer` had appeared in this text string, and the model predicted it the second time but not the first. (The model did predict `former` the first time, but we can reasonably assume that `Transformer` is a word this model had already been exposed to during training, so this prediction wouldn't require the induction capability, unlike `HookedTransformer`.)\n",
        "\n",
        "```python\n",
        "print(gpt2_small.to_str_tokens(\"HookedTransformer\", prepend_bos=False))     # --> ['H', 'ooked', 'Trans', 'former']\n",
        "```\n",
        "</details>"
      ]
    },
    {
      "cell_type": "markdown",
      "metadata": {
        "id": "rglqrBMnHEKz"
      },
      "source": [
        "## Caching all Activations\n",
        "\n",
        "The first basic operation when doing mechanistic interpretability is to break open the black box of the model and look at all of the internal activations of a model. This can be done with `logits, cache = model.run_with_cache(tokens)`. Let's try this out, on the first sentence from the GPT-2 paper.\n",
        "\n",
        "<details>\n",
        "<summary>Aside - a note on <code>remove_batch_dim</code></summary>\n",
        "\n",
        "Every activation inside the model begins with a batch dimension. Here, because we only entered a single batch dimension, that dimension is always length 1 and kinda annoying, so passing in the `remove_batch_dim=True` keyword removes it.\n",
        "\n",
        "`gpt2_cache_no_batch_dim = gpt2_cache.remove_batch_dim()` would have achieved the same effect.\n",
        "</details>"
      ]
    },
    {
      "cell_type": "code",
      "execution_count": 42,
      "metadata": {
        "id": "9UPRg0C6HEKz",
        "outputId": "f4b07a1c-1942-49d3-db30-07c9d682c34d",
        "colab": {
          "base_uri": "https://localhost:8080/"
        }
      },
      "outputs": [
        {
          "output_type": "stream",
          "name": "stdout",
          "text": [
            "<class 'torch.Tensor'> <class 'transformer_lens.ActivationCache.ActivationCache'>\n",
            "ActivationCache with keys ['hook_embed', 'hook_pos_embed', 'blocks.0.hook_resid_pre', 'blocks.0.ln1.hook_scale', 'blocks.0.ln1.hook_normalized', 'blocks.0.attn.hook_q', 'blocks.0.attn.hook_k', 'blocks.0.attn.hook_v', 'blocks.0.attn.hook_attn_scores', 'blocks.0.attn.hook_pattern', 'blocks.0.attn.hook_z', 'blocks.0.hook_attn_out', 'blocks.0.hook_resid_mid', 'blocks.0.ln2.hook_scale', 'blocks.0.ln2.hook_normalized', 'blocks.0.mlp.hook_pre', 'blocks.0.mlp.hook_post', 'blocks.0.hook_mlp_out', 'blocks.0.hook_resid_post', 'blocks.1.hook_resid_pre', 'blocks.1.ln1.hook_scale', 'blocks.1.ln1.hook_normalized', 'blocks.1.attn.hook_q', 'blocks.1.attn.hook_k', 'blocks.1.attn.hook_v', 'blocks.1.attn.hook_attn_scores', 'blocks.1.attn.hook_pattern', 'blocks.1.attn.hook_z', 'blocks.1.hook_attn_out', 'blocks.1.hook_resid_mid', 'blocks.1.ln2.hook_scale', 'blocks.1.ln2.hook_normalized', 'blocks.1.mlp.hook_pre', 'blocks.1.mlp.hook_post', 'blocks.1.hook_mlp_out', 'blocks.1.hook_resid_post', 'blocks.2.hook_resid_pre', 'blocks.2.ln1.hook_scale', 'blocks.2.ln1.hook_normalized', 'blocks.2.attn.hook_q', 'blocks.2.attn.hook_k', 'blocks.2.attn.hook_v', 'blocks.2.attn.hook_attn_scores', 'blocks.2.attn.hook_pattern', 'blocks.2.attn.hook_z', 'blocks.2.hook_attn_out', 'blocks.2.hook_resid_mid', 'blocks.2.ln2.hook_scale', 'blocks.2.ln2.hook_normalized', 'blocks.2.mlp.hook_pre', 'blocks.2.mlp.hook_post', 'blocks.2.hook_mlp_out', 'blocks.2.hook_resid_post', 'blocks.3.hook_resid_pre', 'blocks.3.ln1.hook_scale', 'blocks.3.ln1.hook_normalized', 'blocks.3.attn.hook_q', 'blocks.3.attn.hook_k', 'blocks.3.attn.hook_v', 'blocks.3.attn.hook_attn_scores', 'blocks.3.attn.hook_pattern', 'blocks.3.attn.hook_z', 'blocks.3.hook_attn_out', 'blocks.3.hook_resid_mid', 'blocks.3.ln2.hook_scale', 'blocks.3.ln2.hook_normalized', 'blocks.3.mlp.hook_pre', 'blocks.3.mlp.hook_post', 'blocks.3.hook_mlp_out', 'blocks.3.hook_resid_post', 'blocks.4.hook_resid_pre', 'blocks.4.ln1.hook_scale', 'blocks.4.ln1.hook_normalized', 'blocks.4.attn.hook_q', 'blocks.4.attn.hook_k', 'blocks.4.attn.hook_v', 'blocks.4.attn.hook_attn_scores', 'blocks.4.attn.hook_pattern', 'blocks.4.attn.hook_z', 'blocks.4.hook_attn_out', 'blocks.4.hook_resid_mid', 'blocks.4.ln2.hook_scale', 'blocks.4.ln2.hook_normalized', 'blocks.4.mlp.hook_pre', 'blocks.4.mlp.hook_post', 'blocks.4.hook_mlp_out', 'blocks.4.hook_resid_post', 'blocks.5.hook_resid_pre', 'blocks.5.ln1.hook_scale', 'blocks.5.ln1.hook_normalized', 'blocks.5.attn.hook_q', 'blocks.5.attn.hook_k', 'blocks.5.attn.hook_v', 'blocks.5.attn.hook_attn_scores', 'blocks.5.attn.hook_pattern', 'blocks.5.attn.hook_z', 'blocks.5.hook_attn_out', 'blocks.5.hook_resid_mid', 'blocks.5.ln2.hook_scale', 'blocks.5.ln2.hook_normalized', 'blocks.5.mlp.hook_pre', 'blocks.5.mlp.hook_post', 'blocks.5.hook_mlp_out', 'blocks.5.hook_resid_post', 'blocks.6.hook_resid_pre', 'blocks.6.ln1.hook_scale', 'blocks.6.ln1.hook_normalized', 'blocks.6.attn.hook_q', 'blocks.6.attn.hook_k', 'blocks.6.attn.hook_v', 'blocks.6.attn.hook_attn_scores', 'blocks.6.attn.hook_pattern', 'blocks.6.attn.hook_z', 'blocks.6.hook_attn_out', 'blocks.6.hook_resid_mid', 'blocks.6.ln2.hook_scale', 'blocks.6.ln2.hook_normalized', 'blocks.6.mlp.hook_pre', 'blocks.6.mlp.hook_post', 'blocks.6.hook_mlp_out', 'blocks.6.hook_resid_post', 'blocks.7.hook_resid_pre', 'blocks.7.ln1.hook_scale', 'blocks.7.ln1.hook_normalized', 'blocks.7.attn.hook_q', 'blocks.7.attn.hook_k', 'blocks.7.attn.hook_v', 'blocks.7.attn.hook_attn_scores', 'blocks.7.attn.hook_pattern', 'blocks.7.attn.hook_z', 'blocks.7.hook_attn_out', 'blocks.7.hook_resid_mid', 'blocks.7.ln2.hook_scale', 'blocks.7.ln2.hook_normalized', 'blocks.7.mlp.hook_pre', 'blocks.7.mlp.hook_post', 'blocks.7.hook_mlp_out', 'blocks.7.hook_resid_post', 'blocks.8.hook_resid_pre', 'blocks.8.ln1.hook_scale', 'blocks.8.ln1.hook_normalized', 'blocks.8.attn.hook_q', 'blocks.8.attn.hook_k', 'blocks.8.attn.hook_v', 'blocks.8.attn.hook_attn_scores', 'blocks.8.attn.hook_pattern', 'blocks.8.attn.hook_z', 'blocks.8.hook_attn_out', 'blocks.8.hook_resid_mid', 'blocks.8.ln2.hook_scale', 'blocks.8.ln2.hook_normalized', 'blocks.8.mlp.hook_pre', 'blocks.8.mlp.hook_post', 'blocks.8.hook_mlp_out', 'blocks.8.hook_resid_post', 'blocks.9.hook_resid_pre', 'blocks.9.ln1.hook_scale', 'blocks.9.ln1.hook_normalized', 'blocks.9.attn.hook_q', 'blocks.9.attn.hook_k', 'blocks.9.attn.hook_v', 'blocks.9.attn.hook_attn_scores', 'blocks.9.attn.hook_pattern', 'blocks.9.attn.hook_z', 'blocks.9.hook_attn_out', 'blocks.9.hook_resid_mid', 'blocks.9.ln2.hook_scale', 'blocks.9.ln2.hook_normalized', 'blocks.9.mlp.hook_pre', 'blocks.9.mlp.hook_post', 'blocks.9.hook_mlp_out', 'blocks.9.hook_resid_post', 'blocks.10.hook_resid_pre', 'blocks.10.ln1.hook_scale', 'blocks.10.ln1.hook_normalized', 'blocks.10.attn.hook_q', 'blocks.10.attn.hook_k', 'blocks.10.attn.hook_v', 'blocks.10.attn.hook_attn_scores', 'blocks.10.attn.hook_pattern', 'blocks.10.attn.hook_z', 'blocks.10.hook_attn_out', 'blocks.10.hook_resid_mid', 'blocks.10.ln2.hook_scale', 'blocks.10.ln2.hook_normalized', 'blocks.10.mlp.hook_pre', 'blocks.10.mlp.hook_post', 'blocks.10.hook_mlp_out', 'blocks.10.hook_resid_post', 'blocks.11.hook_resid_pre', 'blocks.11.ln1.hook_scale', 'blocks.11.ln1.hook_normalized', 'blocks.11.attn.hook_q', 'blocks.11.attn.hook_k', 'blocks.11.attn.hook_v', 'blocks.11.attn.hook_attn_scores', 'blocks.11.attn.hook_pattern', 'blocks.11.attn.hook_z', 'blocks.11.hook_attn_out', 'blocks.11.hook_resid_mid', 'blocks.11.ln2.hook_scale', 'blocks.11.ln2.hook_normalized', 'blocks.11.mlp.hook_pre', 'blocks.11.mlp.hook_post', 'blocks.11.hook_mlp_out', 'blocks.11.hook_resid_post', 'ln_final.hook_scale', 'ln_final.hook_normalized']\n"
          ]
        }
      ],
      "source": [
        "gpt2_text = \"Natural language processing tasks, such as question answering, machine translation, reading comprehension, and summarization, are typically approached with supervised learning on taskspecific datasets.\"\n",
        "gpt2_tokens = gpt2_small.to_tokens(gpt2_text)\n",
        "gpt2_logits, gpt2_cache = gpt2_small.run_with_cache(gpt2_tokens, remove_batch_dim=True)\n",
        "\n",
        "print(type(gpt2_logits), type(gpt2_cache))\n",
        "\n",
        "print(gpt2_cache)"
      ]
    },
    {
      "cell_type": "markdown",
      "metadata": {
        "id": "GeFoZ6khHEKz"
      },
      "source": [
        "If you inspect the `gpt2_cache` object, you should see that it contains a very large number of keys, each one corresponding to a different activation in the model. You can access the keys by indexing the cache directly, or by a more convenient indexing shorthand. For instance, here are 2 ways to extract the attention patterns for layer 0:"
      ]
    },
    {
      "cell_type": "code",
      "execution_count": 43,
      "metadata": {
        "id": "mnpGfni_HEKz",
        "outputId": "c1e50d74-8b06-4239-fa47-acca5398cdbf",
        "colab": {
          "base_uri": "https://localhost:8080/"
        }
      },
      "outputs": [
        {
          "output_type": "stream",
          "name": "stdout",
          "text": [
            "tensor([[[1.0000e+00, 0.0000e+00, 0.0000e+00,  ..., 0.0000e+00,\n",
            "          0.0000e+00, 0.0000e+00],\n",
            "         [9.6394e-01, 3.6058e-02, 0.0000e+00,  ..., 0.0000e+00,\n",
            "          0.0000e+00, 0.0000e+00],\n",
            "         [8.3894e-01, 1.1829e-01, 4.2775e-02,  ..., 0.0000e+00,\n",
            "          0.0000e+00, 0.0000e+00],\n",
            "         ...,\n",
            "         [7.1686e-02, 6.9244e-02, 1.9307e-02,  ..., 3.0615e-02,\n",
            "          0.0000e+00, 0.0000e+00],\n",
            "         [6.9108e-02, 3.7012e-02, 3.8621e-02,  ..., 5.0884e-02,\n",
            "          3.4151e-02, 0.0000e+00],\n",
            "         [1.4376e-01, 1.6811e-02, 9.3867e-03,  ..., 9.4509e-02,\n",
            "          7.1715e-02, 3.3723e-03]],\n",
            "\n",
            "        [[1.0000e+00, 0.0000e+00, 0.0000e+00,  ..., 0.0000e+00,\n",
            "          0.0000e+00, 0.0000e+00],\n",
            "         [4.2467e-04, 9.9958e-01, 0.0000e+00,  ..., 0.0000e+00,\n",
            "          0.0000e+00, 0.0000e+00],\n",
            "         [5.6219e-04, 1.6407e-02, 9.8303e-01,  ..., 0.0000e+00,\n",
            "          0.0000e+00, 0.0000e+00],\n",
            "         ...,\n",
            "         [1.3371e-05, 9.8215e-04, 4.1548e-04,  ..., 9.8880e-01,\n",
            "          0.0000e+00, 0.0000e+00],\n",
            "         [2.7455e-05, 1.6438e-04, 7.9964e-05,  ..., 2.5485e-04,\n",
            "          9.9433e-01, 0.0000e+00],\n",
            "         [6.2310e-03, 9.7228e-05, 6.8716e-06,  ..., 1.3426e-04,\n",
            "          6.8131e-05, 9.4252e-01]],\n",
            "\n",
            "        [[1.0000e+00, 0.0000e+00, 0.0000e+00,  ..., 0.0000e+00,\n",
            "          0.0000e+00, 0.0000e+00],\n",
            "         [9.4303e-01, 5.6970e-02, 0.0000e+00,  ..., 0.0000e+00,\n",
            "          0.0000e+00, 0.0000e+00],\n",
            "         [9.1856e-01, 3.2800e-02, 4.8644e-02,  ..., 0.0000e+00,\n",
            "          0.0000e+00, 0.0000e+00],\n",
            "         ...,\n",
            "         [1.8919e-01, 1.4352e-02, 2.7829e-02,  ..., 9.5255e-03,\n",
            "          0.0000e+00, 0.0000e+00],\n",
            "         [2.7112e-01, 5.4606e-02, 3.9706e-02,  ..., 3.4397e-02,\n",
            "          6.5929e-02, 0.0000e+00],\n",
            "         [1.4837e-01, 1.4507e-02, 7.6463e-03,  ..., 1.4491e-02,\n",
            "          1.9146e-02, 2.2842e-02]],\n",
            "\n",
            "        ...,\n",
            "\n",
            "        [[1.0000e+00, 0.0000e+00, 0.0000e+00,  ..., 0.0000e+00,\n",
            "          0.0000e+00, 0.0000e+00],\n",
            "         [9.7264e-01, 2.7359e-02, 0.0000e+00,  ..., 0.0000e+00,\n",
            "          0.0000e+00, 0.0000e+00],\n",
            "         [8.8506e-01, 8.1606e-02, 3.3337e-02,  ..., 0.0000e+00,\n",
            "          0.0000e+00, 0.0000e+00],\n",
            "         ...,\n",
            "         [1.6564e-01, 2.2809e-02, 2.9108e-02,  ..., 8.7509e-03,\n",
            "          0.0000e+00, 0.0000e+00],\n",
            "         [1.6794e-01, 2.5983e-02, 3.2223e-02,  ..., 4.3556e-02,\n",
            "          9.5587e-03, 0.0000e+00],\n",
            "         [1.1397e-01, 1.7753e-02, 1.6062e-02,  ..., 3.6321e-02,\n",
            "          3.5681e-02, 5.7703e-02]],\n",
            "\n",
            "        [[1.0000e+00, 0.0000e+00, 0.0000e+00,  ..., 0.0000e+00,\n",
            "          0.0000e+00, 0.0000e+00],\n",
            "         [8.0584e-01, 1.9416e-01, 0.0000e+00,  ..., 0.0000e+00,\n",
            "          0.0000e+00, 0.0000e+00],\n",
            "         [6.3739e-01, 9.6720e-02, 2.6589e-01,  ..., 0.0000e+00,\n",
            "          0.0000e+00, 0.0000e+00],\n",
            "         ...,\n",
            "         [1.0060e-01, 3.0964e-02, 2.5579e-02,  ..., 1.8000e-01,\n",
            "          0.0000e+00, 0.0000e+00],\n",
            "         [8.3616e-02, 1.6582e-02, 1.5823e-02,  ..., 2.7525e-02,\n",
            "          2.5614e-01, 0.0000e+00],\n",
            "         [5.2584e-02, 1.2508e-02, 1.2738e-02,  ..., 3.1696e-02,\n",
            "          4.4629e-02, 1.0305e-01]],\n",
            "\n",
            "        [[1.0000e+00, 0.0000e+00, 0.0000e+00,  ..., 0.0000e+00,\n",
            "          0.0000e+00, 0.0000e+00],\n",
            "         [7.7077e-01, 2.2923e-01, 0.0000e+00,  ..., 0.0000e+00,\n",
            "          0.0000e+00, 0.0000e+00],\n",
            "         [7.8136e-01, 1.0979e-01, 1.0885e-01,  ..., 0.0000e+00,\n",
            "          0.0000e+00, 0.0000e+00],\n",
            "         ...,\n",
            "         [5.4338e-02, 1.9248e-02, 1.1686e-02,  ..., 2.2454e-02,\n",
            "          0.0000e+00, 0.0000e+00],\n",
            "         [5.8496e-02, 3.4377e-02, 1.3603e-02,  ..., 1.8569e-02,\n",
            "          4.7140e-02, 0.0000e+00],\n",
            "         [1.3529e-01, 2.9733e-02, 2.6111e-02,  ..., 3.6165e-02,\n",
            "          2.6840e-02, 3.2485e-02]]], device='cuda:0')\n"
          ]
        }
      ],
      "source": [
        "attn_patterns_from_shorthand = gpt2_cache[\"pattern\", 0]\n",
        "attn_patterns_from_full_name = gpt2_cache[\"blocks.0.attn.hook_pattern\"]\n",
        "\n",
        "print(attn_patterns_from_shorthand)\n",
        "\n",
        "t.testing.assert_close(attn_patterns_from_shorthand, attn_patterns_from_full_name)"
      ]
    },
    {
      "cell_type": "markdown",
      "metadata": {
        "id": "VeVIVif9HEKz"
      },
      "source": [
        "<details>\n",
        "<summary>Aside: <code>utils.get_act_name</code></summary>\n",
        "\n",
        "The reason these are the same is that, under the hood, the first example actually indexes by `utils.get_act_name(\"pattern\", 0)`, which evaluates to `\"blocks.0.attn.hook_pattern\"`.\n",
        "\n",
        "In general, `utils.get_act_name` is a useful function for getting the full name of an activation, given its short name and layer number.\n",
        "\n",
        "You can use the diagram from the **Transformer Architecture** section to help you find activation names.\n",
        "</details>"
      ]
    },
    {
      "cell_type": "markdown",
      "metadata": {
        "id": "DgzoU5I7HEKz"
      },
      "source": [
        "### 💻 Exercise - verify activations\n",
        "\n",
        "> ```yaml\n",
        "> Difficulty: 🔴🔴🔴⚪⚪\n",
        "> Importance: 🔵🔵🔵⚪⚪\n",
        ">\n",
        "> You should spend up to 10-15 minutes on this exercise.\n",
        ">\n",
        "> If you're already comfortable implementing things like attention calculations (e.g. having gone through Neel's transformer walkthrough) you can skip this exercise. However, it might serve as a useful refresher.\n",
        "> ```\n",
        "\n",
        "Verify that `hook_q`, `hook_k` and `hook_pattern` are related to each other in the way implied by the diagram. Do this by computing `layer0_pattern_from_cache` (the attention pattern taken directly from the cache, for layer 0) and `layer0_pattern_from_q_and_k` (the attention pattern calculated from `hook_q` and `hook_k`, for layer 0). Remember that attention pattern is the probabilities, so you'll need to scale and softmax appropriately."
      ]
    },
    {
      "cell_type": "code",
      "execution_count": 66,
      "metadata": {
        "id": "XTU7Zm6QHEKz",
        "outputId": "3a249585-3ade-4d54-ef1e-d52789c74235",
        "colab": {
          "base_uri": "https://localhost:8080/"
        }
      },
      "outputs": [
        {
          "output_type": "stream",
          "name": "stdout",
          "text": [
            "From cache: torch.Size([12, 33, 33])\n",
            "Computed   : torch.Size([12, 33, 33])\n",
            "Tests passed!\n"
          ]
        }
      ],
      "source": [
        "layer0_pattern_from_cache = gpt2_cache[\"pattern\", 0]\n",
        "\n",
        "# YOUR CODE HERE - define `layer0_pattern_from_q_and_k` manually, by performing the steps of the attention calculation (dot product, masking, scaling, softmax)\n",
        "# The steps are the following:\n",
        "# 1. Get queries and keys\n",
        "# 2. Perform the einsum (matmul)\n",
        "# 3. Apply the triangular mask\n",
        "# 4. Normalise by the sqrt of the hidden_dim and apply softmax\n",
        "\n",
        "import math\n",
        "\n",
        "layer0_q = gpt2_cache[\"q\", 0]\n",
        "layer0_k = gpt2_cache[\"k\", 0]\n",
        "\n",
        "einsum = t.einsum(\"qnh, knh -> nqk\", layer0_q, layer0_k)\n",
        "\n",
        "head_dim = layer0_q.size(-1)\n",
        "einsum = einsum / math.sqrt(head_dim)\n",
        "\n",
        "B, Q, K = einsum.shape\n",
        "\n",
        "mask = t.tril(t.ones(Q, K, dtype=t.bool, device=einsum.device))\n",
        "\n",
        "# Apply the mask (broadcasts over batch dimension)\n",
        "scores = einsum.masked_fill(~mask, float('-inf'))\n",
        "\n",
        "attn_weights = t.softmax(scores, dim=-1)\n",
        "\n",
        "# layer0_pattern_from_q_and_k = out\n",
        "\n",
        "print(\"From cache:\", layer0_pattern_from_cache.shape)\n",
        "print(\"Computed   :\", attn_weights.shape)\n",
        "\n",
        "# attn_weights = attn_weights.permute(1, 2, 0)\n",
        "\n",
        "t.testing.assert_close(layer0_pattern_from_cache, attn_weights)\n",
        "\n",
        "\n",
        "print(\"Tests passed!\")"
      ]
    },
    {
      "cell_type": "markdown",
      "metadata": {
        "id": "xKAQcwBdHEKz"
      },
      "source": [
        "<details>\n",
        "<summary>Hint</summary>\n",
        "\n",
        "You'll need to use three different cache indexes in all:\n",
        "\n",
        "* `gpt2_cache[\"pattern\", 0]` to get the attention patterns, which have shape `[nhead, seqQ, seqK]`\n",
        "* `gpt2_cache[\"q\", 0]` to get the query vectors, which have shape `[seqQ, nhead, headsize]`\n",
        "* `gpt2_cache[\"k\", 0]` to get the key vectors, which have shape `[seqK, nhead, headsize]`\n",
        "\n",
        "</details>\n",
        "\n",
        "\n",
        "<details><summary>Solution</summary>\n",
        "\n",
        "```python\n",
        "layer0_pattern_from_cache = gpt2_cache[\"pattern\", 0]\n",
        "\n",
        "q, k = gpt2_cache[\"q\", 0], gpt2_cache[\"k\", 0]\n",
        "seq, nhead, headsize = q.shape\n",
        "layer0_attn_scores = einops.einsum(q, k, \"seqQ n h, seqK n h -> n seqQ seqK\")\n",
        "mask = t.triu(t.ones((seq, seq), dtype=t.bool), diagonal=1).to(device)\n",
        "layer0_attn_scores.masked_fill_(mask, -1e9)\n",
        "layer0_pattern_from_q_and_k = (layer0_attn_scores / headsize**0.5).softmax(-1)\n",
        "```\n",
        "</details>"
      ]
    },
    {
      "cell_type": "markdown",
      "metadata": {
        "id": "t3JtwBEdHEKz"
      },
      "source": [
        "## Visualising Attention Heads\n",
        "\n",
        "A key insight from the Mathematical Frameworks paper is that we should focus on interpreting the parts of the model that are intrinsically interpretable - the input tokens, the output logits and the attention patterns. Everything else (the residual stream, keys, queries, values, etc) are compressed intermediate states when calculating meaningful things. So a natural place to start is classifying heads by their attention patterns on various texts.\n",
        "\n",
        "When doing interpretability, it's always good to begin by visualising your data, rather than taking summary statistics. Summary statistics can be super misleading! But now that we have visualised the attention patterns, we can create some basic summary statistics and use our visualisations to validate them! (Accordingly, being good at web dev/data visualisation is a surprisingly useful skillset! Neural networks are very high-dimensional object.)\n",
        "\n",
        "Let's visualize the attention pattern of all the heads in layer 0, using [Alan Cooney's CircuitsVis library](https://github.com/alan-cooney/CircuitsVis) (based on Anthropic's PySvelte library). If you did the previous set of exercises, you'll have seen this library before.\n",
        "\n",
        "We will use the function `cv.attention.attention_patterns`, which takes two important arguments:\n",
        "\n",
        "* `attention`: the attention head patterns, of shape `[n_heads, seq_len, seq_len]`. This consists of the stacked grid of attention probabilities for each head, i.e. `attention[head, d, s]` is the attention probability from destination position `d` to source position `s` in attention head `head`.\n",
        "* `tokens`: List of tokens, which should have the same length as the `seq_len` dimension of `attention`. Make sure you're not accidentally passing in a list with a dummy dimension, or that differs from `seq_len` because of the BOS token!\n",
        "\n",
        "This visualization is interactive! Try hovering over a token or head, and click to lock. The grid on the top left and for each head is the attention pattern as a destination position by source position grid. It's lower triangular because GPT-2 has **causal attention**, attention can only look backwards, so information can only move forwards in the network.\n",
        "\n",
        "> Note - you can also use the `cv.attention.attention_heads` function, which presents the data in a different way (the syntax is exactly the same as `attention_patterns`). Note, if you display this in VSCode then it may exhibit a bug where the main plot continually shrinks in size - if this happens, you should instead save the HTML (i.e. with `html = cv.attention.attention_heads(...); with open(\"attn_heads.html\", \"w\") as f: f.write(str(html))`) and open the plot in your browser."
      ]
    },
    {
      "cell_type": "code",
      "execution_count": 67,
      "metadata": {
        "id": "KfG1HSZ8HEKz",
        "outputId": "f6d63bea-2b28-46dc-e854-af3e4dff0548",
        "colab": {
          "base_uri": "https://localhost:8080/",
          "height": 411
        }
      },
      "outputs": [
        {
          "output_type": "stream",
          "name": "stdout",
          "text": [
            "<class 'transformer_lens.ActivationCache.ActivationCache'>\n",
            "torch.Size([12, 33, 33])\n",
            "Layer 0 Head Attention Patterns:\n"
          ]
        },
        {
          "output_type": "display_data",
          "data": {
            "text/plain": [
              "<circuitsvis.utils.render.RenderedHTML at 0x7d149d872bd0>"
            ],
            "text/html": [
              "<div id=\"circuits-vis-6b9a6fd8-3809\" style=\"margin: 15px 0;\"/>\n",
              "    <script crossorigin type=\"module\">\n",
              "    import { render, AttentionPatterns } from \"https://unpkg.com/circuitsvis@1.41.0/dist/cdn/esm.js\";\n",
              "    render(\n",
              "      \"circuits-vis-6b9a6fd8-3809\",\n",
              "      AttentionPatterns,\n",
              "      {\"tokens\": [\"<|endoftext|>\", \"Natural\", \" language\", \" processing\", \" tasks\", \",\", \" such\", \" as\", \" question\", \" answering\", \",\", \" machine\", \" translation\", \",\", \" reading\", \" comprehension\", \",\", \" and\", \" summar\", \"ization\", \",\", \" are\", \" typically\", \" approached\", \" with\", \" supervised\", \" learning\", \" on\", \" tasks\", \"pe\", \"cific\", \" datasets\", \".\"], \"attention\": [[[1.0, 0.0, 0.0, 0.0, 0.0, 0.0, 0.0, 0.0, 0.0, 0.0, 0.0, 0.0, 0.0, 0.0, 0.0, 0.0, 0.0, 0.0, 0.0, 0.0, 0.0, 0.0, 0.0, 0.0, 0.0, 0.0, 0.0, 0.0, 0.0, 0.0, 0.0, 0.0, 0.0], [0.9639418125152588, 0.03605815768241882, 0.0, 0.0, 0.0, 0.0, 0.0, 0.0, 0.0, 0.0, 0.0, 0.0, 0.0, 0.0, 0.0, 0.0, 0.0, 0.0, 0.0, 0.0, 0.0, 0.0, 0.0, 0.0, 0.0, 0.0, 0.0, 0.0, 0.0, 0.0, 0.0, 0.0, 0.0], [0.8389372229576111, 0.11828786134719849, 0.04277484863996506, 0.0, 0.0, 0.0, 0.0, 0.0, 0.0, 0.0, 0.0, 0.0, 0.0, 0.0, 0.0, 0.0, 0.0, 0.0, 0.0, 0.0, 0.0, 0.0, 0.0, 0.0, 0.0, 0.0, 0.0, 0.0, 0.0, 0.0, 0.0, 0.0, 0.0], [0.4743611216545105, 0.13382023572921753, 0.27371740341186523, 0.11810114979743958, 0.0, 0.0, 0.0, 0.0, 0.0, 0.0, 0.0, 0.0, 0.0, 0.0, 0.0, 0.0, 0.0, 0.0, 0.0, 0.0, 0.0, 0.0, 0.0, 0.0, 0.0, 0.0, 0.0, 0.0, 0.0, 0.0, 0.0, 0.0, 0.0], [0.3560643792152405, 0.10184908658266068, 0.23054224252700806, 0.20397403836250305, 0.10757026076316833, 0.0, 0.0, 0.0, 0.0, 0.0, 0.0, 0.0, 0.0, 0.0, 0.0, 0.0, 0.0, 0.0, 0.0, 0.0, 0.0, 0.0, 0.0, 0.0, 0.0, 0.0, 0.0, 0.0, 0.0, 0.0, 0.0, 0.0, 0.0], [0.6660143733024597, 0.16866372525691986, 0.04535674303770065, 0.03885500878095627, 0.06775479763746262, 0.013355277478694916, 0.0, 0.0, 0.0, 0.0, 0.0, 0.0, 0.0, 0.0, 0.0, 0.0, 0.0, 0.0, 0.0, 0.0, 0.0, 0.0, 0.0, 0.0, 0.0, 0.0, 0.0, 0.0, 0.0, 0.0, 0.0, 0.0, 0.0], [0.38626962900161743, 0.2851092219352722, 0.07609007507562637, 0.059083789587020874, 0.07223350554704666, 0.039796341210603714, 0.08141742646694183, 0.0, 0.0, 0.0, 0.0, 0.0, 0.0, 0.0, 0.0, 0.0, 0.0, 0.0, 0.0, 0.0, 0.0, 0.0, 0.0, 0.0, 0.0, 0.0, 0.0, 0.0, 0.0, 0.0, 0.0, 0.0, 0.0], [0.3775394856929779, 0.1883881688117981, 0.11723986268043518, 0.08685602992773056, 0.0666918084025383, 0.03500017523765564, 0.09693004935979843, 0.0313543900847435, 0.0, 0.0, 0.0, 0.0, 0.0, 0.0, 0.0, 0.0, 0.0, 0.0, 0.0, 0.0, 0.0, 0.0, 0.0, 0.0, 0.0, 0.0, 0.0, 0.0, 0.0, 0.0, 0.0, 0.0, 0.0], [0.4869752824306488, 0.06781316548585892, 0.07952871918678284, 0.0848078578710556, 0.1590261310338974, 0.029577823355793953, 0.025685928761959076, 0.016474612057209015, 0.05011039599776268, 0.0, 0.0, 0.0, 0.0, 0.0, 0.0, 0.0, 0.0, 0.0, 0.0, 0.0, 0.0, 0.0, 0.0, 0.0, 0.0, 0.0, 0.0, 0.0, 0.0, 0.0, 0.0, 0.0, 0.0], [0.2906550168991089, 0.0401349700987339, 0.14614856243133545, 0.0994059219956398, 0.15389195084571838, 0.039001598954200745, 0.024988990277051926, 0.03184126317501068, 0.10222823172807693, 0.0717034786939621, 0.0, 0.0, 0.0, 0.0, 0.0, 0.0, 0.0, 0.0, 0.0, 0.0, 0.0, 0.0, 0.0, 0.0, 0.0, 0.0, 0.0, 0.0, 0.0, 0.0, 0.0, 0.0, 0.0], [0.39624106884002686, 0.0969417542219162, 0.027270646765828133, 0.023551346734166145, 0.03723450005054474, 0.006502412725239992, 0.08118753135204315, 0.013088461942970753, 0.06990592181682587, 0.240431010723114, 0.007645339705049992, 0.0, 0.0, 0.0, 0.0, 0.0, 0.0, 0.0, 0.0, 0.0, 0.0, 0.0, 0.0, 0.0, 0.0, 0.0, 0.0, 0.0, 0.0, 0.0, 0.0, 0.0, 0.0], [0.24864791333675385, 0.1380206048488617, 0.09235315024852753, 0.08676131069660187, 0.13819696009159088, 0.05914197489619255, 0.03223859518766403, 0.031582385301589966, 0.030489427968859673, 0.03873484954237938, 0.06671839207410812, 0.0371144637465477, 0.0, 0.0, 0.0, 0.0, 0.0, 0.0, 0.0, 0.0, 0.0, 0.0, 0.0, 0.0, 0.0, 0.0, 0.0, 0.0, 0.0, 0.0, 0.0, 0.0, 0.0], [0.1914844512939453, 0.1617259532213211, 0.07445938885211945, 0.07740951329469681, 0.021961107850074768, 0.03392129763960838, 0.051250215619802475, 0.01951923407614231, 0.031324464827775955, 0.040201541036367416, 0.03874267637729645, 0.21578848361968994, 0.04221168905496597, 0.0, 0.0, 0.0, 0.0, 0.0, 0.0, 0.0, 0.0, 0.0, 0.0, 0.0, 0.0, 0.0, 0.0, 0.0, 0.0, 0.0, 0.0, 0.0, 0.0], [0.3704318404197693, 0.08681412786245346, 0.02458467334508896, 0.02161632478237152, 0.032388728111982346, 0.0054227374494075775, 0.0727522224187851, 0.011272797361016273, 0.06329694390296936, 0.21726815402507782, 0.006367161404341459, 0.029603805392980576, 0.05099845305085182, 0.007182057481259108, 0.0, 0.0, 0.0, 0.0, 0.0, 0.0, 0.0, 0.0, 0.0, 0.0, 0.0, 0.0, 0.0, 0.0, 0.0, 0.0, 0.0, 0.0, 0.0], [0.197376549243927, 0.04603995010256767, 0.0439998134970665, 0.1337345838546753, 0.05424821004271507, 0.025475719943642616, 0.02756350487470627, 0.021570924669504166, 0.05171823874115944, 0.0645809918642044, 0.028064632788300514, 0.23551586270332336, 0.019129812717437744, 0.02996351197361946, 0.021017685532569885, 0.0, 0.0, 0.0, 0.0, 0.0, 0.0, 0.0, 0.0, 0.0, 0.0, 0.0, 0.0, 0.0, 0.0, 0.0, 0.0, 0.0, 0.0], [0.08907235413789749, 0.01928834244608879, 0.1665353626012802, 0.07281265407800674, 0.04738640785217285, 0.024487901479005814, 0.028987325727939606, 0.019370373338460922, 0.026673024520277977, 0.0731663629412651, 0.02570459246635437, 0.04242359474301338, 0.058694593608379364, 0.028932709246873856, 0.18119074404239655, 0.0952737107872963, 0.0, 0.0, 0.0, 0.0, 0.0, 0.0, 0.0, 0.0, 0.0, 0.0, 0.0, 0.0, 0.0, 0.0, 0.0, 0.0, 0.0], [0.281672865152359, 0.06441287696361542, 0.018008548766374588, 0.016169609501957893, 0.023183880373835564, 0.003753294702619314, 0.054722439497709274, 0.00790976732969284, 0.04616469517350197, 0.16947276890277863, 0.004361644387245178, 0.021011333912611008, 0.0354907251894474, 0.004932567942887545, 0.0955522358417511, 0.1472633332014084, 0.0059174480848014355, 0.0, 0.0, 0.0, 0.0, 0.0, 0.0, 0.0, 0.0, 0.0, 0.0, 0.0, 0.0, 0.0, 0.0, 0.0, 0.0], [0.21305489540100098, 0.059123702347278595, 0.03382088243961334, 0.02747686766088009, 0.028393559157848358, 0.008422904647886753, 0.040085308253765106, 0.011629268527030945, 0.05295189470052719, 0.15404638648033142, 0.009831810370087624, 0.03610190376639366, 0.047372911125421524, 0.011069191619753838, 0.09972472488880157, 0.13971355557441711, 0.013185343705117702, 0.01399493869394064, 0.0, 0.0, 0.0, 0.0, 0.0, 0.0, 0.0, 0.0, 0.0, 0.0, 0.0, 0.0, 0.0, 0.0, 0.0], [0.15871697664260864, 0.04387887939810753, 0.08712150156497955, 0.08998464792966843, 0.030738582834601402, 0.0341489352285862, 0.024917254224419594, 0.03139195218682289, 0.024823857471346855, 0.019790327176451683, 0.03625484183430672, 0.020694414153695107, 0.04284068942070007, 0.03820899873971939, 0.062346599996089935, 0.10919700562953949, 0.041376009583473206, 0.049167610704898834, 0.05440090224146843, 0.0, 0.0, 0.0, 0.0, 0.0, 0.0, 0.0, 0.0, 0.0, 0.0, 0.0, 0.0, 0.0, 0.0], [0.10485512763261795, 0.12122289836406708, 0.06487482041120529, 0.0876871645450592, 0.03434053063392639, 0.01748395338654518, 0.03415181487798691, 0.015289152041077614, 0.02331211417913437, 0.0283065102994442, 0.018720479682087898, 0.028111927211284637, 0.04190530255436897, 0.020989568904042244, 0.04678507149219513, 0.08659637719392776, 0.023631839081645012, 0.024273166432976723, 0.16702401638031006, 0.01043822430074215, 0.0, 0.0, 0.0, 0.0, 0.0, 0.0, 0.0, 0.0, 0.0, 0.0, 0.0, 0.0, 0.0], [0.22901973128318787, 0.05184384435415268, 0.013585173524916172, 0.012337238527834415, 0.018005413934588432, 0.0027703619562089443, 0.04238126799464226, 0.005856254603713751, 0.036144863814115524, 0.13039223849773407, 0.003153424011543393, 0.01567256823182106, 0.027800407260656357, 0.0035543241538107395, 0.07460813969373703, 0.11298280954360962, 0.004272264428436756, 0.006832204759120941, 0.18569745123386383, 0.018073637038469315, 0.0050163534469902515, 0.0, 0.0, 0.0, 0.0, 0.0, 0.0, 0.0, 0.0, 0.0, 0.0, 0.0, 0.0], [0.18869926035404205, 0.034387122839689255, 0.022344738245010376, 0.019972728565335274, 0.016354024410247803, 0.006856558378785849, 0.02085905149579048, 0.005695996806025505, 0.03415917605161667, 0.07260987162590027, 0.007857208140194416, 0.018040237948298454, 0.026904450729489326, 0.00902039185166359, 0.06876447796821594, 0.17578737437725067, 0.010720063000917435, 0.009284541010856628, 0.1925639510154724, 0.025180330500006676, 0.012639064341783524, 0.021299371495842934, 0.0, 0.0, 0.0, 0.0, 0.0, 0.0, 0.0, 0.0, 0.0, 0.0, 0.0], [0.1195831298828125, 0.022259406745433807, 0.03294713795185089, 0.02017022855579853, 0.03565330430865288, 0.013459905050694942, 0.017516469582915306, 0.010057876817882061, 0.025856448337435722, 0.059559572488069534, 0.015084503218531609, 0.015008729882538319, 0.053174685686826706, 0.016597606241703033, 0.041555255651474, 0.1312934160232544, 0.019296670332551003, 0.01585504598915577, 0.1792508214712143, 0.01618383079767227, 0.022295527160167694, 0.015463397838175297, 0.10187704861164093, 0.0, 0.0, 0.0, 0.0, 0.0, 0.0, 0.0, 0.0, 0.0, 0.0], [0.14615532755851746, 0.02672751247882843, 0.016624556854367256, 0.018987687304615974, 0.06278637051582336, 0.015317166224122047, 0.019792238250374794, 0.014227763749659061, 0.025458162650465965, 0.045303549617528915, 0.016364360228180885, 0.03749304264783859, 0.01328864973038435, 0.017496544867753983, 0.0399458147585392, 0.05881758779287338, 0.01926097460091114, 0.02461603283882141, 0.03821970149874687, 0.021577805280685425, 0.02094990387558937, 0.07973217219114304, 0.05017608404159546, 0.17068099975585938, 0.0, 0.0, 0.0, 0.0, 0.0, 0.0, 0.0, 0.0, 0.0], [0.11321667581796646, 0.036746375262737274, 0.011786573566496372, 0.01027486938983202, 0.020370664075016975, 0.005243889056146145, 0.01591884344816208, 0.005266785621643066, 0.02489173598587513, 0.06593257933855057, 0.005933661479502916, 0.018209027126431465, 0.02102019637823105, 0.0066674984991550446, 0.034828800708055496, 0.13742125034332275, 0.00792704802006483, 0.008618663996458054, 0.1137719601392746, 0.013557438738644123, 0.009277836419641972, 0.026121364906430244, 0.08499342203140259, 0.19073906540870667, 0.011263743974268436, 0.0, 0.0, 0.0, 0.0, 0.0, 0.0, 0.0, 0.0], [0.1333771049976349, 0.026216598227620125, 0.03827153891324997, 0.07152578234672546, 0.05317767336964607, 0.013925841078162193, 0.007084188517183065, 0.013450146652758121, 0.009841440245509148, 0.011789779178798199, 0.013537580147385597, 0.0381549634039402, 0.04193304851651192, 0.013882286846637726, 0.037071458995342255, 0.13838458061218262, 0.014846335165202618, 0.03156951442360878, 0.05598174408078194, 0.015536683611571789, 0.01595635525882244, 0.04545557126402855, 0.01669965870678425, 0.025325758382678032, 0.036718931049108505, 0.08028540760278702, 0.0, 0.0, 0.0, 0.0, 0.0, 0.0, 0.0], [0.106089748442173, 0.019107718020677567, 0.024468664079904556, 0.027496397495269775, 0.016365811228752136, 0.005011420231312513, 0.01041310466825962, 0.006081143394112587, 0.005301058758050203, 0.011143161915242672, 0.00456538749858737, 0.01896991766989231, 0.004321121610701084, 0.004814981948584318, 0.029409391805529594, 0.028682025149464607, 0.005097249522805214, 0.007234347518533468, 0.0341259203851223, 0.01037058886140585, 0.005643270909786224, 0.007283584680408239, 0.02938956394791603, 0.010038796812295914, 0.009134512394666672, 0.5466631650924683, 0.012777911499142647, 0.0, 0.0, 0.0, 0.0, 0.0, 0.0], [0.1046731024980545, 0.03321941941976547, 0.01534124743193388, 0.009373546577990055, 0.026595454663038254, 0.005787807051092386, 0.01357134897261858, 0.00455488683655858, 0.028058908879756927, 0.026107225567102432, 0.006353436037898064, 0.013315827585756779, 0.026628250256180763, 0.006888875737786293, 0.06204746663570404, 0.05890706181526184, 0.00806804932653904, 0.007557099685072899, 0.0852278470993042, 0.017075752839446068, 0.009256890043616295, 0.019695762544870377, 0.1261781007051468, 0.13061511516571045, 0.011351034976541996, 0.0898437350988388, 0.046381499618291855, 0.007325292564928532, 0.0, 0.0, 0.0, 0.0, 0.0], [0.0856190174818039, 0.02143893390893936, 0.05641256645321846, 0.0570666529238224, 0.01980219967663288, 0.006727498024702072, 0.005809162277728319, 0.004516261164098978, 0.0031647472642362118, 0.017615200951695442, 0.006174598820507526, 0.08767974376678467, 0.012299860827624798, 0.0063504548743367195, 0.017522133886814117, 0.14295214414596558, 0.006585485301911831, 0.007875686511397362, 0.030078932642936707, 0.013907494954764843, 0.007376695517450571, 0.0076847863383591175, 0.022160831838846207, 0.012385021895170212, 0.011890060268342495, 0.08669772744178772, 0.19902540743350983, 0.013594485819339752, 0.029586225748062134, 0.0, 0.0, 0.0, 0.0], [0.14064587652683258, 0.013298701494932175, 0.015702953562140465, 0.01735786721110344, 0.02233150787651539, 0.029672259464859962, 0.04172081872820854, 0.018995430320501328, 0.03827710449695587, 0.048635635524988174, 0.030946897342801094, 0.016023889183998108, 0.020880885422229767, 0.0324382446706295, 0.03055812232196331, 0.022808346897363663, 0.035377588123083115, 0.03145160153508186, 0.03497113287448883, 0.01867910847067833, 0.038219086825847626, 0.022578872740268707, 0.06819561123847961, 0.042140960693359375, 0.028620854020118713, 0.03775002807378769, 0.018578052520751953, 0.03376872465014458, 0.03641696274280548, 0.012956859543919563, 0.0, 0.0, 0.0], [0.07168620824813843, 0.06924445927143097, 0.019306901842355728, 0.014161976985633373, 0.016823193058371544, 0.019380610436201096, 0.019257407635450363, 0.022003665566444397, 0.013706527650356293, 0.03578377515077591, 0.018465181812644005, 0.05207168683409691, 0.020085180178284645, 0.019862134009599686, 0.020662128925323486, 0.04725164547562599, 0.021076710894703865, 0.036787249147892, 0.024324089288711548, 0.0038275509141385555, 0.023920683190226555, 0.008533230051398277, 0.026241615414619446, 0.027380069717764854, 0.0346120186150074, 0.022884158417582512, 0.10047904402017593, 0.06913501024246216, 0.025474555790424347, 0.06495600938796997, 0.03061537630856037, 0.0, 0.0], [0.0691077783703804, 0.0370122492313385, 0.038621146231889725, 0.05933324620127678, 0.015923548489809036, 0.00791856087744236, 0.010371049866080284, 0.006615664344280958, 0.002520076697692275, 0.026019375771284103, 0.007905229926109314, 0.029652005061507225, 0.04000621661543846, 0.008451343514025211, 0.010741148144006729, 0.05027562752366066, 0.009428855963051319, 0.013601029291749, 0.050369225442409515, 0.031767137348651886, 0.010793022811412811, 0.007216807454824448, 0.00647842837497592, 0.01480062399059534, 0.021585963666439056, 0.15769486129283905, 0.0888475850224495, 0.01901693269610405, 0.029729343950748444, 0.033161360770463943, 0.05088368058204651, 0.03415084630250931, 0.0], [0.14375510811805725, 0.01681104302406311, 0.009386666119098663, 0.006830314174294472, 0.011656844057142735, 0.0015672282315790653, 0.019711479544639587, 0.002398042008280754, 0.021235883235931396, 0.046836815774440765, 0.001690514967776835, 0.005827189888805151, 0.011980000883340836, 0.0018251417204737663, 0.0423133485019207, 0.054913751780986786, 0.0021786559373140335, 0.002417010487988591, 0.09604066610336304, 0.00575287826359272, 0.0025577894411981106, 0.007121232803910971, 0.08889927715063095, 0.10852082073688507, 0.005179054569453001, 0.03657733276486397, 0.024719923734664917, 0.003734764875844121, 0.031077083200216293, 0.016887949779629707, 0.09450862556695938, 0.07171520590782166, 0.0033723192755132914]], [[1.0, 0.0, 0.0, 0.0, 0.0, 0.0, 0.0, 0.0, 0.0, 0.0, 0.0, 0.0, 0.0, 0.0, 0.0, 0.0, 0.0, 0.0, 0.0, 0.0, 0.0, 0.0, 0.0, 0.0, 0.0, 0.0, 0.0, 0.0, 0.0, 0.0, 0.0, 0.0, 0.0], [0.0004246665630489588, 0.9995753169059753, 0.0, 0.0, 0.0, 0.0, 0.0, 0.0, 0.0, 0.0, 0.0, 0.0, 0.0, 0.0, 0.0, 0.0, 0.0, 0.0, 0.0, 0.0, 0.0, 0.0, 0.0, 0.0, 0.0, 0.0, 0.0, 0.0, 0.0, 0.0, 0.0, 0.0, 0.0], [0.0005621903110295534, 0.016407256945967674, 0.9830306172370911, 0.0, 0.0, 0.0, 0.0, 0.0, 0.0, 0.0, 0.0, 0.0, 0.0, 0.0, 0.0, 0.0, 0.0, 0.0, 0.0, 0.0, 0.0, 0.0, 0.0, 0.0, 0.0, 0.0, 0.0, 0.0, 0.0, 0.0, 0.0, 0.0, 0.0], [0.0011627558851614594, 0.021681953221559525, 0.003762035397812724, 0.9733933210372925, 0.0, 0.0, 0.0, 0.0, 0.0, 0.0, 0.0, 0.0, 0.0, 0.0, 0.0, 0.0, 0.0, 0.0, 0.0, 0.0, 0.0, 0.0, 0.0, 0.0, 0.0, 0.0, 0.0, 0.0, 0.0, 0.0, 0.0, 0.0, 0.0], [3.7244368286337703e-05, 0.00017202251183334738, 0.0002814393083099276, 0.00274214381352067, 0.9967671632766724, 0.0, 0.0, 0.0, 0.0, 0.0, 0.0, 0.0, 0.0, 0.0, 0.0, 0.0, 0.0, 0.0, 0.0, 0.0, 0.0, 0.0, 0.0, 0.0, 0.0, 0.0, 0.0, 0.0, 0.0, 0.0, 0.0, 0.0, 0.0], [0.008268454112112522, 0.0002398560318397358, 7.361917960224673e-05, 6.437734555220231e-05, 0.0001756634155754, 0.9911779761314392, 0.0, 0.0, 0.0, 0.0, 0.0, 0.0, 0.0, 0.0, 0.0, 0.0, 0.0, 0.0, 0.0, 0.0, 0.0, 0.0, 0.0, 0.0, 0.0, 0.0, 0.0, 0.0, 0.0, 0.0, 0.0, 0.0, 0.0], [0.0012215046444907784, 0.00540044903755188, 0.0016716319369152188, 0.00040775592788122594, 0.0006163657526485622, 0.0010931179858744144, 0.9895892143249512, 0.0, 0.0, 0.0, 0.0, 0.0, 0.0, 0.0, 0.0, 0.0, 0.0, 0.0, 0.0, 0.0, 0.0, 0.0, 0.0, 0.0, 0.0, 0.0, 0.0, 0.0, 0.0, 0.0, 0.0, 0.0, 0.0], [0.0012459800345823169, 0.0009121237671934068, 0.0005976726533845067, 0.00013656896771863103, 0.0003304113633930683, 0.0015722825191915035, 0.0038808276876807213, 0.9913240671157837, 0.0, 0.0, 0.0, 0.0, 0.0, 0.0, 0.0, 0.0, 0.0, 0.0, 0.0, 0.0, 0.0, 0.0, 0.0, 0.0, 0.0, 0.0, 0.0, 0.0, 0.0, 0.0, 0.0, 0.0, 0.0], [0.00028217487852089107, 0.0040681809186935425, 0.00266051571816206, 0.001309309503994882, 0.008030473254621029, 0.00028790911892428994, 0.00022922920470591635, 0.0003948427038267255, 0.9827372431755066, 0.0, 0.0, 0.0, 0.0, 0.0, 0.0, 0.0, 0.0, 0.0, 0.0, 0.0, 0.0, 0.0, 0.0, 0.0, 0.0, 0.0, 0.0, 0.0, 0.0, 0.0, 0.0, 0.0, 0.0], [3.473936885711737e-05, 0.0003953843843191862, 0.00013272734940983355, 0.0002585231268312782, 0.0010855591390281916, 9.198053157888353e-05, 0.0003267084830440581, 0.0005427459836937487, 0.006105939392000437, 0.9910256266593933, 0.0, 0.0, 0.0, 0.0, 0.0, 0.0, 0.0, 0.0, 0.0, 0.0, 0.0, 0.0, 0.0, 0.0, 0.0, 0.0, 0.0, 0.0, 0.0, 0.0, 0.0, 0.0, 0.0], [0.0033785076811909676, 5.090881313662976e-05, 1.6452062482130714e-05, 1.6926167518249713e-05, 4.181407712167129e-05, 0.49394044280052185, 0.0001298127754125744, 0.0008837333880364895, 3.22120358760003e-05, 2.7252126528765075e-05, 0.5014819502830505, 0.0, 0.0, 0.0, 0.0, 0.0, 0.0, 0.0, 0.0, 0.0, 0.0, 0.0, 0.0, 0.0, 0.0, 0.0, 0.0, 0.0, 0.0, 0.0, 0.0, 0.0, 0.0], [8.416048513026908e-05, 0.0013417217414826155, 0.0012613593135029078, 0.0021450757049024105, 0.004042362794280052, 0.0004830532125197351, 0.00011582656588871032, 0.0001520359655842185, 2.6925310521619394e-05, 0.00012675127072725445, 0.0003128990938421339, 0.9899078607559204, 0.0, 0.0, 0.0, 0.0, 0.0, 0.0, 0.0, 0.0, 0.0, 0.0, 0.0, 0.0, 0.0, 0.0, 0.0, 0.0, 0.0, 0.0, 0.0, 0.0, 0.0], [0.00037822354352101684, 0.0009837576653808355, 0.03934130072593689, 0.002732248278334737, 0.0036680244375020266, 0.00011039190576411784, 0.0001293104432988912, 0.0002174347755499184, 0.00010623304842738435, 0.0007748189964331686, 6.647672125836834e-05, 0.00031486680381931365, 0.9511768817901611, 0.0, 0.0, 0.0, 0.0, 0.0, 0.0, 0.0, 0.0, 0.0, 0.0, 0.0, 0.0, 0.0, 0.0, 0.0, 0.0, 0.0, 0.0, 0.0, 0.0], [0.0021017224062234163, 2.4436934836558066e-05, 7.788786206219811e-06, 8.651628377265297e-06, 2.014003439398948e-05, 0.2997135818004608, 7.525274850195274e-05, 0.000489831087179482, 1.845949918788392e-05, 1.5344572602771223e-05, 0.3283388018608093, 4.175807043793611e-05, 6.469193067459855e-06, 0.3691377341747284, 0.0, 0.0, 0.0, 0.0, 0.0, 0.0, 0.0, 0.0, 0.0, 0.0, 0.0, 0.0, 0.0, 0.0, 0.0, 0.0, 0.0, 0.0, 0.0], [0.00014968343020882457, 0.00011296640150249004, 0.00036294953315518796, 0.00018591257685329765, 0.00016460906772408634, 4.1432369471294805e-05, 2.876477265090216e-05, 7.786958303768188e-05, 0.000920100137591362, 0.010340185835957527, 2.7572392355068587e-05, 1.783325569704175e-05, 0.00033054559025913477, 2.4375751308980398e-05, 0.9872152805328369, 0.0, 0.0, 0.0, 0.0, 0.0, 0.0, 0.0, 0.0, 0.0, 0.0, 0.0, 0.0, 0.0, 0.0, 0.0, 0.0, 0.0, 0.0], [0.00010753826063591987, 0.002178190043196082, 0.0020426111295819283, 0.004251929000020027, 0.006989904213696718, 2.5118793928413652e-05, 0.0007779040024615824, 0.0005783546948805451, 0.0029378447216004133, 0.033225372433662415, 1.7199263311340474e-05, 0.0008936485392041504, 0.001523857470601797, 1.4656819985248148e-05, 0.006222638301551342, 0.9382132887840271, 0.0, 0.0, 0.0, 0.0, 0.0, 0.0, 0.0, 0.0, 0.0, 0.0, 0.0, 0.0, 0.0, 0.0, 0.0, 0.0, 0.0], [0.0013634881470352411, 1.3226069313532207e-05, 4.013945272163255e-06, 4.80306516692508e-06, 1.0257449503114913e-05, 0.19665956497192383, 4.5272623538039625e-05, 0.0002776258625090122, 1.171444273495581e-05, 9.473308637097944e-06, 0.22919613122940063, 2.6430643629282713e-05, 4.101842932868749e-06, 0.265761137008667, 8.515353329130448e-06, 4.536023880064022e-06, 0.3065996766090393, 0.0, 0.0, 0.0, 0.0, 0.0, 0.0, 0.0, 0.0, 0.0, 0.0, 0.0, 0.0, 0.0, 0.0, 0.0, 0.0], [0.0008924761787056923, 0.00013490833225660026, 4.779844675795175e-05, 5.803713065688498e-05, 0.00010480182390892878, 0.012799100950360298, 0.0007168257143348455, 0.03257954493165016, 2.644998130563181e-05, 0.00011185094626853243, 0.01188427023589611, 4.0102739149006084e-05, 5.555408642976545e-05, 0.012377867475152016, 0.00010783479228848591, 5.4043754062149674e-05, 0.013122130185365677, 0.9148862957954407, 0.0, 0.0, 0.0, 0.0, 0.0, 0.0, 0.0, 0.0, 0.0, 0.0, 0.0, 0.0, 0.0, 0.0, 0.0], [5.075319677416701e-06, 4.3961477786069736e-05, 3.39850848831702e-05, 7.940309296827763e-05, 5.477917875396088e-05, 7.921551627987355e-07, 9.313343070971314e-06, 7.727078809693921e-06, 8.597270789323375e-05, 0.00012274044274818152, 5.141489509696839e-07, 1.702795657365641e-06, 3.8341830077115446e-05, 4.450980384262948e-07, 0.00013928250700701028, 0.00032758014276623726, 3.994805410911795e-07, 3.948134690290317e-06, 0.9990440011024475, 0.0, 0.0, 0.0, 0.0, 0.0, 0.0, 0.0, 0.0, 0.0, 0.0, 0.0, 0.0, 0.0, 0.0], [9.346190199721605e-05, 0.0018395757069811225, 0.002523313742130995, 0.018087247386574745, 0.002936379285529256, 0.0002733583969529718, 4.872979479841888e-05, 0.00042127809138037264, 0.0001562437682878226, 0.0009748343145474792, 0.00020533606584649533, 0.0010228840401396155, 0.00195480533875525, 0.0001947038690559566, 0.0011294216383248568, 0.00166561349760741, 0.00018734059995040298, 0.0009503458277322352, 0.0004455179441720247, 0.964889645576477, 0.0, 0.0, 0.0, 0.0, 0.0, 0.0, 0.0, 0.0, 0.0, 0.0, 0.0, 0.0, 0.0], [0.0010859703179448843, 8.512341992172878e-06, 2.53072653322306e-06, 3.0625210456491914e-06, 5.9751241678895894e-06, 0.13292618095874786, 3.3453237847425044e-05, 0.0001889125123852864, 8.477757546643261e-06, 6.540428785228869e-06, 0.16445916891098022, 1.8130021999240853e-05, 3.0627456908405293e-06, 0.1971917301416397, 6.429836503230035e-06, 3.4447398320480715e-06, 0.23317106068134308, 0.002279627602547407, 3.713433443408576e-06, 3.5288030630908906e-05, 0.2685586214065552, 0.0, 0.0, 0.0, 0.0, 0.0, 0.0, 0.0, 0.0, 0.0, 0.0, 0.0, 0.0], [0.00041979606612585485, 0.00011805036047007889, 0.00014240530435927212, 3.7967951357131824e-05, 0.000190431994269602, 0.0017651234520599246, 0.0005709836259484291, 0.0005008860025554895, 8.840770897222683e-05, 0.0001420870394213125, 0.001663984963670373, 3.348117752466351e-05, 2.441400647512637e-05, 0.0017546514282003045, 6.520324677694589e-05, 2.414271693851333e-05, 0.0018299167277291417, 0.0015691055450588465, 3.9748843846609816e-05, 0.00015712430467829108, 0.001855448354035616, 0.9870065450668335, 0.0, 0.0, 0.0, 0.0, 0.0, 0.0, 0.0, 0.0, 0.0, 0.0, 0.0], [7.501792424591258e-05, 0.001437984756194055, 6.345164001686499e-05, 0.00010864849900826812, 0.00015633183647878468, 3.210129079889157e-06, 0.0022032838314771652, 0.00022076598543208092, 5.24030729138758e-05, 4.8815887566888705e-05, 2.264465592816123e-06, 1.532726309960708e-05, 4.157148396188859e-06, 2.022844682869618e-06, 6.296808805927867e-06, 4.848678509006277e-05, 1.992902980418876e-06, 3.2470103178638965e-05, 0.0012695103650912642, 1.96326454897644e-05, 1.8090950106852688e-06, 0.0005810307920910418, 0.9936450719833374, 0.0, 0.0, 0.0, 0.0, 0.0, 0.0, 0.0, 0.0, 0.0, 0.0], [7.450171688105911e-05, 0.0006139400647953153, 0.0009361213305965066, 0.0008487811428494751, 0.002850641030818224, 1.0365070920670405e-05, 0.00021614317665807903, 0.00017397581541445106, 0.0020508442539721727, 0.005805313587188721, 8.055246325966436e-06, 8.086615707725286e-05, 0.0007702455040998757, 7.2882048698375e-06, 0.0010576178319752216, 0.0022756007965654135, 6.663274234597338e-06, 0.00011621051089605317, 0.0005972468061372638, 8.736322342883795e-05, 6.3323500398837496e-06, 6.0964699514443055e-05, 6.090595343266614e-05, 0.9812840819358826, 0.0, 0.0, 0.0, 0.0, 0.0, 0.0, 0.0, 0.0, 0.0], [0.0005848744767718017, 0.00015909200010355562, 1.0836469300556928e-05, 7.365475175902247e-05, 0.00011349544365657493, 0.0008256662404164672, 0.00031911066616885364, 0.018529994413256645, 1.0226588528894354e-05, 4.958726276527159e-05, 0.000771642429754138, 4.4548189180204645e-05, 9.865023457678035e-06, 0.0008067169692367315, 2.2673904823022895e-05, 1.2464137398637831e-05, 0.0008449098677374423, 0.008790110237896442, 3.579240365070291e-05, 3.662861854536459e-05, 0.0008917527156881988, 0.001079177251085639, 0.00037084624636918306, 0.00010837146692210808, 0.9654977917671204, 0.0, 0.0, 0.0, 0.0, 0.0, 0.0, 0.0, 0.0], [1.6459913240396418e-05, 0.00017152423970401287, 3.208315320080146e-05, 0.00010234164074063301, 0.002631878713145852, 9.88617648545187e-06, 3.250845838920213e-05, 3.741750697372481e-05, 0.00012631529534701258, 4.991211972082965e-05, 8.302533387904987e-06, 8.443423575954512e-05, 3.1279632821679115e-05, 7.633364475623239e-06, 1.0101344741997309e-05, 5.6673758081160486e-05, 7.442129572154954e-06, 2.7689631679095328e-05, 1.8418324543745257e-05, 2.8794349873351166e-06, 6.840415153419599e-06, 4.279875611246098e-06, 0.00043176536564715207, 0.00017617485718801618, 8.995591633720323e-05, 0.9958258867263794, 0.0, 0.0, 0.0, 0.0, 0.0, 0.0, 0.0], [2.63680012722034e-05, 0.00018008692131843418, 0.00018082918541040272, 0.0003046466736122966, 0.000393908703699708, 4.674835872719996e-05, 2.7231642889091745e-05, 4.873481884715147e-05, 0.0002913164207711816, 0.0004206156881991774, 3.8046331610530615e-05, 0.00025245067081414163, 5.606727791018784e-05, 3.820365236606449e-05, 0.0015365087892860174, 0.0012537199072539806, 3.5934186598751694e-05, 2.3036598577164114e-05, 0.00018036190886050463, 0.00012266090197954327, 3.517777440720238e-05, 6.92467947374098e-05, 0.00011267283844063058, 0.0008507365128025413, 0.0001436186139471829, 0.00023527958546765149, 0.9930958151817322, 0.0, 0.0, 0.0, 0.0, 0.0, 0.0], [0.0007048260886222124, 5.675393549608998e-05, 3.35129539053014e-06, 7.472656761819962e-06, 1.7859476429293863e-05, 0.0008156531257554889, 4.952957169734873e-05, 0.0013530976139008999, 3.7417627027025446e-05, 0.00014378019841387868, 0.0007639338728040457, 9.991684237320442e-06, 2.884440846173675e-06, 0.0007552228635177016, 0.0001015961097436957, 3.120549763480085e-06, 0.000806095136795193, 0.0011406766716390848, 1.4343116163217928e-05, 9.910185326589271e-06, 0.0008649189840070903, 8.663273183628917e-05, 3.469543662504293e-05, 0.00010265829769195989, 0.007663473952561617, 4.187890954199247e-05, 3.490865992716863e-06, 0.9844047427177429, 0.0, 0.0, 0.0, 0.0, 0.0], [2.028830931521952e-05, 2.9542690754169598e-05, 5.037496885051951e-05, 0.0009778316598385572, 0.3728255033493042, 6.661310635536211e-06, 1.573362351336982e-05, 3.9812392060412094e-05, 0.00022353223175741732, 0.00012674317986238748, 5.1184383664804045e-06, 0.00024116170243360102, 1.2973822776984889e-05, 4.800690476258751e-06, 2.3321632397710346e-05, 7.723524322500452e-05, 4.593432095134631e-06, 1.9647121007437818e-05, 0.00021129929518792778, 1.1453507795522455e-05, 4.380479822430061e-06, 1.4442666724789888e-05, 3.676741835079156e-05, 0.00011845318658743054, 3.797714816755615e-05, 0.0007802752661518753, 0.00040483620250597596, 1.0429542271594983e-05, 0.6236647963523865, 0.0, 0.0, 0.0, 0.0], [2.0582907382049598e-05, 8.831243758322671e-05, 0.0002045488217845559, 0.00030188958044163883, 8.223887562053278e-05, 1.970439734577667e-05, 0.00014085113070905209, 2.896314617828466e-05, 7.669385013286956e-06, 3.724613634403795e-05, 1.673677070357371e-05, 6.404696614481509e-05, 0.0006910585216246545, 1.6027570381993428e-05, 0.00015603681094944477, 0.00014825914695393294, 1.570006861584261e-05, 9.155381849268451e-05, 8.525091107003391e-05, 4.904512934444938e-06, 1.5784382412675768e-05, 5.293112189974636e-05, 0.0005298354080878198, 0.0005658397567458451, 6.167318497318774e-05, 6.72949172439985e-05, 0.0003077442815992981, 1.0369159099354874e-05, 6.799336551921442e-05, 0.9960988759994507, 0.0, 0.0, 0.0], [1.3371280147111975e-05, 0.0009821506682783365, 0.0004154803173150867, 0.00011442304821684957, 0.00038730716914869845, 5.660844180965796e-06, 0.0012746263528242707, 0.0005708053940907121, 0.0006383609143085778, 0.0005776649340987206, 4.127725333091803e-06, 9.161725756712258e-06, 9.142815542872995e-05, 3.7748570775875123e-06, 1.3575269804277923e-05, 0.0002916174125857651, 3.4474792300898116e-06, 7.899177580839023e-05, 0.003189116483554244, 4.885074758931296e-06, 3.1652775760449003e-06, 1.4087428098719101e-05, 0.00015671398432459682, 0.0003544882347341627, 0.00017265425412915647, 0.0013050604611635208, 0.0002186762576457113, 2.677666998351924e-05, 0.00026460105436854064, 1.3334503819351085e-05, 0.9888005256652832, 0.0, 0.0], [2.7455085728433914e-05, 0.00016438258171547204, 7.996422937139869e-05, 0.0011914964998140931, 0.0007883633370511234, 2.6584166334941983e-06, 3.0057588446652517e-05, 7.457974788849242e-06, 0.00014940994151402265, 2.885715730371885e-05, 1.873829091891821e-06, 0.0003328803286422044, 5.1608600188046694e-05, 1.757746304065222e-06, 0.0001265660102944821, 0.00014267010556068271, 1.6954469401753158e-06, 2.1952593669993803e-05, 0.000230407778872177, 4.429338514455594e-05, 1.6103305142678437e-06, 2.700804907362908e-05, 0.00023884863185230643, 0.00019046032684855163, 9.49614513956476e-06, 0.0004466439422685653, 0.00022095764870755374, 5.3791804930369835e-06, 0.0006956399301998317, 0.00015470779908355325, 0.0002548545890022069, 0.9943285584449768, 0.0], [0.006231049541383982, 9.722825780045241e-05, 6.871602636238094e-06, 2.1151156033738516e-05, 5.828053690493107e-05, 0.0072389086708426476, 2.0987938114558347e-05, 0.00025459096650592983, 6.243877578526735e-05, 2.0924704585922882e-05, 0.007872147485613823, 5.585329927271232e-05, 9.868796041700989e-06, 0.009169407188892365, 7.203016866696998e-05, 7.0687078732589725e-06, 0.010345976799726486, 0.0013096556067466736, 3.803684376180172e-05, 8.022712427191436e-05, 0.012053268030285835, 4.0720067772781476e-05, 3.686071750053088e-06, 3.471352465567179e-05, 0.0005061830161139369, 8.918951061787084e-05, 2.9112090487615205e-05, 0.0012772828340530396, 8.489656465826556e-05, 0.00018447409092914313, 0.0001342574250884354, 6.813074287492782e-05, 0.9425214529037476]], [[1.0, 0.0, 0.0, 0.0, 0.0, 0.0, 0.0, 0.0, 0.0, 0.0, 0.0, 0.0, 0.0, 0.0, 0.0, 0.0, 0.0, 0.0, 0.0, 0.0, 0.0, 0.0, 0.0, 0.0, 0.0, 0.0, 0.0, 0.0, 0.0, 0.0, 0.0, 0.0, 0.0], [0.943029522895813, 0.05697042867541313, 0.0, 0.0, 0.0, 0.0, 0.0, 0.0, 0.0, 0.0, 0.0, 0.0, 0.0, 0.0, 0.0, 0.0, 0.0, 0.0, 0.0, 0.0, 0.0, 0.0, 0.0, 0.0, 0.0, 0.0, 0.0, 0.0, 0.0, 0.0, 0.0, 0.0, 0.0], [0.9185556173324585, 0.032800041139125824, 0.048644356429576874, 0.0, 0.0, 0.0, 0.0, 0.0, 0.0, 0.0, 0.0, 0.0, 0.0, 0.0, 0.0, 0.0, 0.0, 0.0, 0.0, 0.0, 0.0, 0.0, 0.0, 0.0, 0.0, 0.0, 0.0, 0.0, 0.0, 0.0, 0.0, 0.0, 0.0], [0.8779289126396179, 0.056434258818626404, 0.04271192476153374, 0.022924983873963356, 0.0, 0.0, 0.0, 0.0, 0.0, 0.0, 0.0, 0.0, 0.0, 0.0, 0.0, 0.0, 0.0, 0.0, 0.0, 0.0, 0.0, 0.0, 0.0, 0.0, 0.0, 0.0, 0.0, 0.0, 0.0, 0.0, 0.0, 0.0, 0.0], [0.804131805896759, 0.029098203405737877, 0.07556731253862381, 0.056435927748680115, 0.03476677089929581, 0.0, 0.0, 0.0, 0.0, 0.0, 0.0, 0.0, 0.0, 0.0, 0.0, 0.0, 0.0, 0.0, 0.0, 0.0, 0.0, 0.0, 0.0, 0.0, 0.0, 0.0, 0.0, 0.0, 0.0, 0.0, 0.0, 0.0, 0.0], [0.49431052803993225, 0.020183544605970383, 0.027966558933258057, 0.018319077789783478, 0.03144204244017601, 0.40777820348739624, 0.0, 0.0, 0.0, 0.0, 0.0, 0.0, 0.0, 0.0, 0.0, 0.0, 0.0, 0.0, 0.0, 0.0, 0.0, 0.0, 0.0, 0.0, 0.0, 0.0, 0.0, 0.0, 0.0, 0.0, 0.0, 0.0, 0.0], [0.6057478785514832, 0.02924242615699768, 0.09491508454084396, 0.07609346508979797, 0.0661466047167778, 0.08705785870552063, 0.0407966710627079, 0.0, 0.0, 0.0, 0.0, 0.0, 0.0, 0.0, 0.0, 0.0, 0.0, 0.0, 0.0, 0.0, 0.0, 0.0, 0.0, 0.0, 0.0, 0.0, 0.0, 0.0, 0.0, 0.0, 0.0, 0.0, 0.0], [0.4483822286128998, 0.04542430490255356, 0.0740148276090622, 0.06864845007658005, 0.0937662422657013, 0.0877426415681839, 0.06534269452095032, 0.1166786327958107, 0.0, 0.0, 0.0, 0.0, 0.0, 0.0, 0.0, 0.0, 0.0, 0.0, 0.0, 0.0, 0.0, 0.0, 0.0, 0.0, 0.0, 0.0, 0.0, 0.0, 0.0, 0.0, 0.0, 0.0, 0.0], [0.49169260263442993, 0.1378207504749298, 0.03955019265413284, 0.061533186584711075, 0.04539963975548744, 0.040731459856033325, 0.06228704750537872, 0.058618661016225815, 0.06236643344163895, 0.0, 0.0, 0.0, 0.0, 0.0, 0.0, 0.0, 0.0, 0.0, 0.0, 0.0, 0.0, 0.0, 0.0, 0.0, 0.0, 0.0, 0.0, 0.0, 0.0, 0.0, 0.0, 0.0, 0.0], [0.5404126048088074, 0.044426657259464264, 0.03957851976156235, 0.041888076812028885, 0.07529859244823456, 0.0466950498521328, 0.048475220799446106, 0.055005185306072235, 0.08293059468269348, 0.02528950944542885, 0.0, 0.0, 0.0, 0.0, 0.0, 0.0, 0.0, 0.0, 0.0, 0.0, 0.0, 0.0, 0.0, 0.0, 0.0, 0.0, 0.0, 0.0, 0.0, 0.0, 0.0, 0.0, 0.0], [0.28273552656173706, 0.014234177768230438, 0.017647748813033104, 0.011433064937591553, 0.021741703152656555, 0.2666538953781128, 0.01540353987365961, 0.04734928905963898, 0.017767542973160744, 0.013926072046160698, 0.29110750555992126, 0.0, 0.0, 0.0, 0.0, 0.0, 0.0, 0.0, 0.0, 0.0, 0.0, 0.0, 0.0, 0.0, 0.0, 0.0, 0.0, 0.0, 0.0, 0.0, 0.0, 0.0, 0.0], [0.34496626257896423, 0.04611676186323166, 0.05771546810865402, 0.11131857335567474, 0.11289367079734802, 0.027930336073040962, 0.0385918915271759, 0.05656527355313301, 0.05864057317376137, 0.06648597866296768, 0.026114359498023987, 0.052660852670669556, 0.0, 0.0, 0.0, 0.0, 0.0, 0.0, 0.0, 0.0, 0.0, 0.0, 0.0, 0.0, 0.0, 0.0, 0.0, 0.0, 0.0, 0.0, 0.0, 0.0, 0.0], [0.4699217975139618, 0.03201567754149437, 0.10772901028394699, 0.027006756514310837, 0.04465881362557411, 0.022773560136556625, 0.02311706356704235, 0.025491517037153244, 0.04950270429253578, 0.026573944836854935, 0.01970886066555977, 0.06337957829236984, 0.08812078088521957, 0.0, 0.0, 0.0, 0.0, 0.0, 0.0, 0.0, 0.0, 0.0, 0.0, 0.0, 0.0, 0.0, 0.0, 0.0, 0.0, 0.0, 0.0, 0.0, 0.0], [0.20661771297454834, 0.01037929579615593, 0.012261929921805859, 0.008319096639752388, 0.01600707322359085, 0.19527733325958252, 0.011453291401267052, 0.03475671634078026, 0.013073586858808994, 0.010938980616629124, 0.21602486073970795, 0.005866499152034521, 0.023642314597964287, 0.23538129031658173, 0.0, 0.0, 0.0, 0.0, 0.0, 0.0, 0.0, 0.0, 0.0, 0.0, 0.0, 0.0, 0.0, 0.0, 0.0, 0.0, 0.0, 0.0, 0.0], [0.3399348556995392, 0.029161641374230385, 0.09540712088346481, 0.033951885998249054, 0.0844045877456665, 0.012559546157717705, 0.02935866452753544, 0.02456415630877018, 0.10622432827949524, 0.04689214751124382, 0.01146959699690342, 0.0063691940158605576, 0.11145273596048355, 0.011318002827465534, 0.0569315142929554, 0.0, 0.0, 0.0, 0.0, 0.0, 0.0, 0.0, 0.0, 0.0, 0.0, 0.0, 0.0, 0.0, 0.0, 0.0, 0.0, 0.0, 0.0], [0.4040880799293518, 0.02419566921889782, 0.03891005367040634, 0.014727428555488586, 0.024456556886434555, 0.03845001384615898, 0.03923036903142929, 0.03717135637998581, 0.06030002236366272, 0.04198545962572098, 0.037167176604270935, 0.016391228884458542, 0.0392896868288517, 0.03772978484630585, 0.13448573648929596, 0.011421294882893562, 0.0, 0.0, 0.0, 0.0, 0.0, 0.0, 0.0, 0.0, 0.0, 0.0, 0.0, 0.0, 0.0, 0.0, 0.0, 0.0, 0.0], [0.15876437723636627, 0.008203906007111073, 0.009295265190303326, 0.00622171675786376, 0.011793207377195358, 0.15069787204265594, 0.008851954713463783, 0.026313524693250656, 0.010186919942498207, 0.008433728478848934, 0.1676223874092102, 0.004420034121721983, 0.01821179874241352, 0.18350811302661896, 0.02092735469341278, 0.006447791121900082, 0.2001000940799713, 0.0, 0.0, 0.0, 0.0, 0.0, 0.0, 0.0, 0.0, 0.0, 0.0, 0.0, 0.0, 0.0, 0.0, 0.0, 0.0], [0.17539212107658386, 0.020569656044244766, 0.018291445448994637, 0.009298025630414486, 0.017377890646457672, 0.042534783482551575, 0.02070159651339054, 0.05044393986463547, 0.025438033044338226, 0.017218228429555893, 0.04311535507440567, 0.013349834829568863, 0.028528602793812752, 0.045972563326358795, 0.03408820554614067, 0.019834207370877266, 0.04992839694023132, 0.36791715025901794, 0.0, 0.0, 0.0, 0.0, 0.0, 0.0, 0.0, 0.0, 0.0, 0.0, 0.0, 0.0, 0.0, 0.0, 0.0], [0.26033347845077515, 0.01714838109910488, 0.03745276853442192, 0.07594799995422363, 0.04674699530005455, 0.018068531528115273, 0.03134646266698837, 0.03741513937711716, 0.07175809890031815, 0.058725375682115555, 0.0170787014067173, 0.04030591621994972, 0.05706356093287468, 0.01711358316242695, 0.10491336137056351, 0.046705346554517746, 0.01723019778728485, 0.024682143703103065, 0.019963981583714485, 0.0, 0.0, 0.0, 0.0, 0.0, 0.0, 0.0, 0.0, 0.0, 0.0, 0.0, 0.0, 0.0, 0.0], [0.30547064542770386, 0.05190497264266014, 0.04346899688243866, 0.021846851333975792, 0.02101719193160534, 0.03390473872423172, 0.04190470278263092, 0.03909287601709366, 0.028871968388557434, 0.023003438487648964, 0.03205801174044609, 0.023334508761763573, 0.0711059644818306, 0.03290089964866638, 0.061641957610845566, 0.03183262050151825, 0.03376762941479683, 0.04571489244699478, 0.035015229135751724, 0.022141894325613976, 0.0, 0.0, 0.0, 0.0, 0.0, 0.0, 0.0, 0.0, 0.0, 0.0, 0.0, 0.0, 0.0], [0.1224294900894165, 0.006105297245085239, 0.006670300383120775, 0.00458177737891674, 0.009337784722447395, 0.11381794512271881, 0.006783355958759785, 0.01971990428864956, 0.00758085772395134, 0.006613647565245628, 0.12765926122665405, 0.0035026585683226585, 0.01400233618915081, 0.14000988006591797, 0.015684887766838074, 0.005092611536383629, 0.15336212515830994, 0.03527417778968811, 0.022465627640485764, 0.006954454816877842, 0.17235167324543, 0.0, 0.0, 0.0, 0.0, 0.0, 0.0, 0.0, 0.0, 0.0, 0.0, 0.0, 0.0], [0.20538488030433655, 0.03477851673960686, 0.014682917855679989, 0.031183285638689995, 0.03093125857412815, 0.02195277437567711, 0.03290864825248718, 0.05740532651543617, 0.055875152349472046, 0.04864277318120003, 0.023520756512880325, 0.015108550898730755, 0.027386335656046867, 0.024518460035324097, 0.060604579746723175, 0.034776147454977036, 0.026137806475162506, 0.051684360951185226, 0.06281405687332153, 0.020291464403271675, 0.028601741418242455, 0.09081016480922699, 0.0, 0.0, 0.0, 0.0, 0.0, 0.0, 0.0, 0.0, 0.0, 0.0, 0.0], [0.23978599905967712, 0.031323496252298355, 0.050377532839775085, 0.01586942747235298, 0.039014581590890884, 0.02280554361641407, 0.042853571474552155, 0.028882302343845367, 0.04046262800693512, 0.0341072604060173, 0.022644517943263054, 0.039230696856975555, 0.0723857581615448, 0.02234550379216671, 0.04958105459809303, 0.03193334490060806, 0.023325582966208458, 0.045213595032691956, 0.03055434860289097, 0.022876491770148277, 0.024732304736971855, 0.05549483001232147, 0.014199568890035152, 0.0, 0.0, 0.0, 0.0, 0.0, 0.0, 0.0, 0.0, 0.0, 0.0], [0.23581695556640625, 0.020558318123221397, 0.04375004768371582, 0.02970486506819725, 0.037038758397102356, 0.014953460544347763, 0.04004308208823204, 0.027184361591935158, 0.0457618273794651, 0.03809260204434395, 0.014181885868310928, 0.03789154067635536, 0.0651824101805687, 0.0141829252243042, 0.05489494279026985, 0.023720964789390564, 0.014592775143682957, 0.025570036843419075, 0.07356179505586624, 0.03918233513832092, 0.014925524592399597, 0.04628865420818329, 0.027801068499684334, 0.01511886715888977, 0.0, 0.0, 0.0, 0.0, 0.0, 0.0, 0.0, 0.0, 0.0], [0.14254967868328094, 0.012010160833597183, 0.016881301999092102, 0.02074255980551243, 0.032451774924993515, 0.029625995084643364, 0.030295219272375107, 0.056208714842796326, 0.02960873953998089, 0.02948184683918953, 0.032639842480421066, 0.010038231499493122, 0.04078620672225952, 0.034627851098775864, 0.033916372805833817, 0.020155752077698708, 0.03684316202998161, 0.0606469064950943, 0.04744713753461838, 0.03252528980374336, 0.04040035605430603, 0.05947761982679367, 0.03129400312900543, 0.04792550206184387, 0.07141982018947601, 0.0, 0.0, 0.0, 0.0, 0.0, 0.0, 0.0, 0.0], [0.2222907692193985, 0.059111371636390686, 0.03702676296234131, 0.04059012606739998, 0.0272544976323843, 0.01917477697134018, 0.03171538934111595, 0.020462151616811752, 0.038113273680210114, 0.019927898421883583, 0.018538910895586014, 0.015436704270541668, 0.04536490514874458, 0.019355764612555504, 0.05035828799009323, 0.03328138589859009, 0.02017974853515625, 0.036794353276491165, 0.0433138906955719, 0.02847641333937645, 0.02131732366979122, 0.04771287366747856, 0.013107037171721458, 0.026336049661040306, 0.03021136112511158, 0.03454800695180893, 0.0, 0.0, 0.0, 0.0, 0.0, 0.0, 0.0], [0.28438135981559753, 0.02387010119855404, 0.046418823301792145, 0.010260089300572872, 0.03390985354781151, 0.018301475793123245, 0.0237088892608881, 0.024766823276877403, 0.02576776221394539, 0.02296881377696991, 0.016735460609197617, 0.013406945392489433, 0.045986611396074295, 0.016673235222697258, 0.08106393367052078, 0.05033262073993683, 0.016726162284612656, 0.019904805347323418, 0.03032534569501877, 0.010146318934857845, 0.017318228259682655, 0.019040973857045174, 0.01108111534267664, 0.05204640328884125, 0.033353522419929504, 0.03880883380770683, 0.01269550807774067, 0.0, 0.0, 0.0, 0.0, 0.0, 0.0], [0.1185436025261879, 0.01335094217211008, 0.013422028161585331, 0.030273206532001495, 0.026162927970290184, 0.020776210352778435, 0.021280206739902496, 0.03798935189843178, 0.035364434123039246, 0.036651816219091415, 0.0220040176063776, 0.01538003422319889, 0.030023114755749702, 0.023299679160118103, 0.030007565394043922, 0.014861379750072956, 0.024521933868527412, 0.03999801352620125, 0.03900155797600746, 0.036007679998874664, 0.02685120515525341, 0.06795869767665863, 0.03893129900097847, 0.05725808069109917, 0.06659836322069168, 0.030756846070289612, 0.023343196138739586, 0.05938267707824707, 0.0, 0.0, 0.0, 0.0, 0.0], [0.2509184777736664, 0.011351886205375195, 0.023033957928419113, 0.018849769607186317, 0.013208834454417229, 0.01643039472401142, 0.03763698786497116, 0.021519407629966736, 0.03823146969079971, 0.031223099678754807, 0.01608108915388584, 0.017179016023874283, 0.0823964774608612, 0.015775414183735847, 0.04969312250614166, 0.03397903963923454, 0.016469132155179977, 0.025656113401055336, 0.053269319236278534, 0.024380967020988464, 0.017032906413078308, 0.031062563881278038, 0.014834264293313026, 0.04310780018568039, 0.027818357571959496, 0.015127940103411674, 0.012749838642776012, 0.0268526803702116, 0.014129594899713993, 0.0, 0.0, 0.0, 0.0], [0.19256950914859772, 0.02283368445932865, 0.014495889656245708, 0.028055019676685333, 0.03290427103638649, 0.01857709139585495, 0.02377672679722309, 0.014988908544182777, 0.027755482122302055, 0.01995215192437172, 0.018426891416311264, 0.026808490976691246, 0.040261946618556976, 0.018957342952489853, 0.019980262964963913, 0.039050325751304626, 0.01949433609843254, 0.03071432374417782, 0.07932325452566147, 0.03619768097996712, 0.02037958987057209, 0.023319298401474953, 0.018723847344517708, 0.056927718222141266, 0.023927533999085426, 0.03924323245882988, 0.021783508360385895, 0.02037421055138111, 0.041788313537836075, 0.008409244939684868, 0.0, 0.0, 0.0], [0.1891939342021942, 0.014352066442370415, 0.02782936580479145, 0.01893605850636959, 0.0545523427426815, 0.024302387610077858, 0.02075256034731865, 0.03050179034471512, 0.01690042018890381, 0.029904039576649666, 0.023111771792173386, 0.021664857864379883, 0.033359821885824203, 0.02305050753057003, 0.027927031740546227, 0.026253478601574898, 0.0242579597979784, 0.024394981563091278, 0.017666665837168694, 0.02208106778562069, 0.025441495701670647, 0.023996729403734207, 0.015941401943564415, 0.021863475441932678, 0.04876274988055229, 0.01023405697196722, 0.025762973353266716, 0.06192328408360481, 0.06737112253904343, 0.01818411983549595, 0.00952550582587719, 0.0, 0.0], [0.2711195647716522, 0.054605741053819656, 0.03970598429441452, 0.03512895852327347, 0.020313765853643417, 0.0081838583573699, 0.022556638345122337, 0.014036435633897781, 0.02619847282767296, 0.032355356961488724, 0.007185027003288269, 0.010813490487635136, 0.05162610113620758, 0.007057544309645891, 0.04232773184776306, 0.018505986779928207, 0.006952994968742132, 0.012550846673548222, 0.037855181843042374, 0.014787380583584309, 0.007130765356123447, 0.018956724554300308, 0.01075897179543972, 0.023540524765849113, 0.016256198287010193, 0.007915408350527287, 0.036523107439279556, 0.014562278985977173, 0.01925145462155342, 0.010911817662417889, 0.0343966968357563, 0.06592901796102524, 0.0], [0.14836537837982178, 0.014506891369819641, 0.007646293379366398, 0.011038761585950851, 0.02630247361958027, 0.013194825500249863, 0.02718489244580269, 0.017392197623848915, 0.01612214371562004, 0.03288080543279648, 0.01405027974396944, 0.007167350966483355, 0.01612005941569805, 0.014647025614976883, 0.018450893461704254, 0.01310212817043066, 0.015283219516277313, 0.014542990364134312, 0.059612173587083817, 0.02238386496901512, 0.016796983778476715, 0.10928262025117874, 0.07263997197151184, 0.08393710106611252, 0.025248991325497627, 0.03774847090244293, 0.01622692495584488, 0.024953879415988922, 0.04216583073139191, 0.00452581187710166, 0.014491363428533077, 0.019145717844367027, 0.022841649129986763]], [[1.0, 0.0, 0.0, 0.0, 0.0, 0.0, 0.0, 0.0, 0.0, 0.0, 0.0, 0.0, 0.0, 0.0, 0.0, 0.0, 0.0, 0.0, 0.0, 0.0, 0.0, 0.0, 0.0, 0.0, 0.0, 0.0, 0.0, 0.0, 0.0, 0.0, 0.0, 0.0, 0.0], [0.09646987915039062, 0.9035301804542542, 0.0, 0.0, 0.0, 0.0, 0.0, 0.0, 0.0, 0.0, 0.0, 0.0, 0.0, 0.0, 0.0, 0.0, 0.0, 0.0, 0.0, 0.0, 0.0, 0.0, 0.0, 0.0, 0.0, 0.0, 0.0, 0.0, 0.0, 0.0, 0.0, 0.0, 0.0], [0.04325238987803459, 0.08177753537893295, 0.8749701380729675, 0.0, 0.0, 0.0, 0.0, 0.0, 0.0, 0.0, 0.0, 0.0, 0.0, 0.0, 0.0, 0.0, 0.0, 0.0, 0.0, 0.0, 0.0, 0.0, 0.0, 0.0, 0.0, 0.0, 0.0, 0.0, 0.0, 0.0, 0.0, 0.0, 0.0], [0.09995399415493011, 0.025312744081020355, 0.020108040422201157, 0.8546252250671387, 0.0, 0.0, 0.0, 0.0, 0.0, 0.0, 0.0, 0.0, 0.0, 0.0, 0.0, 0.0, 0.0, 0.0, 0.0, 0.0, 0.0, 0.0, 0.0, 0.0, 0.0, 0.0, 0.0, 0.0, 0.0, 0.0, 0.0, 0.0, 0.0], [0.024889377877116203, 0.00320735783316195, 0.001842159079387784, 0.022361507639288902, 0.9476995468139648, 0.0, 0.0, 0.0, 0.0, 0.0, 0.0, 0.0, 0.0, 0.0, 0.0, 0.0, 0.0, 0.0, 0.0, 0.0, 0.0, 0.0, 0.0, 0.0, 0.0, 0.0, 0.0, 0.0, 0.0, 0.0, 0.0, 0.0, 0.0], [0.10732381045818329, 0.017841674387454987, 0.019553348422050476, 0.04333319887518883, 0.1021149754524231, 0.7098329663276672, 0.0, 0.0, 0.0, 0.0, 0.0, 0.0, 0.0, 0.0, 0.0, 0.0, 0.0, 0.0, 0.0, 0.0, 0.0, 0.0, 0.0, 0.0, 0.0, 0.0, 0.0, 0.0, 0.0, 0.0, 0.0, 0.0, 0.0], [0.006426358595490456, 0.0004479780327528715, 0.00014756589371245354, 0.0004693667870014906, 0.0014411881566047668, 0.003859696676954627, 0.98720782995224, 0.0, 0.0, 0.0, 0.0, 0.0, 0.0, 0.0, 0.0, 0.0, 0.0, 0.0, 0.0, 0.0, 0.0, 0.0, 0.0, 0.0, 0.0, 0.0, 0.0, 0.0, 0.0, 0.0, 0.0, 0.0, 0.0], [0.0010354593396186829, 0.00019901854102499783, 0.00016020439215935767, 6.937277066754177e-05, 0.00038674171082675457, 0.00517159653827548, 0.8964055776596069, 0.09657210856676102, 0.0, 0.0, 0.0, 0.0, 0.0, 0.0, 0.0, 0.0, 0.0, 0.0, 0.0, 0.0, 0.0, 0.0, 0.0, 0.0, 0.0, 0.0, 0.0, 0.0, 0.0, 0.0, 0.0, 0.0, 0.0], [0.0012883302988484502, 0.00032334504066966474, 0.00026527163572609425, 0.0002549059281591326, 0.0002012980548897758, 0.00010049015691038221, 0.0005700886249542236, 0.0004091299488209188, 0.9965871572494507, 0.0, 0.0, 0.0, 0.0, 0.0, 0.0, 0.0, 0.0, 0.0, 0.0, 0.0, 0.0, 0.0, 0.0, 0.0, 0.0, 0.0, 0.0, 0.0, 0.0, 0.0, 0.0, 0.0, 0.0], [0.00018741606618277729, 1.619654540263582e-05, 4.2281080823158845e-06, 0.0002875888312701136, 1.1125715900561772e-05, 9.805675290408544e-06, 0.0001556722418172285, 7.632972119608894e-05, 0.0034869108349084854, 0.9957647323608398, 0.0, 0.0, 0.0, 0.0, 0.0, 0.0, 0.0, 0.0, 0.0, 0.0, 0.0, 0.0, 0.0, 0.0, 0.0, 0.0, 0.0, 0.0, 0.0, 0.0, 0.0, 0.0, 0.0], [0.015741514042019844, 0.0006393608637154102, 0.000457152898889035, 0.0009912521345540881, 0.0021140349563211203, 0.0180897768586874, 0.047120351344347, 0.07010912895202637, 0.06152831017971039, 0.27690389752388, 0.5063052773475647, 0.0, 0.0, 0.0, 0.0, 0.0, 0.0, 0.0, 0.0, 0.0, 0.0, 0.0, 0.0, 0.0, 0.0, 0.0, 0.0, 0.0, 0.0, 0.0, 0.0, 0.0, 0.0], [0.000616659817751497, 0.0005207083304412663, 4.61151976196561e-05, 0.001461300067603588, 0.0005623756442219019, 4.44760407845024e-05, 0.0003653968160506338, 0.0002860166132450104, 0.004506129305809736, 0.005816521588712931, 0.0007244543521665037, 0.9850499033927917, 0.0, 0.0, 0.0, 0.0, 0.0, 0.0, 0.0, 0.0, 0.0, 0.0, 0.0, 0.0, 0.0, 0.0, 0.0, 0.0, 0.0, 0.0, 0.0, 0.0, 0.0], [0.0010478552430868149, 3.062814721488394e-05, 0.00017344979278277606, 5.423119000624865e-05, 6.388417386915535e-05, 1.1261127838224638e-05, 1.7169008060591295e-05, 1.3931307876191568e-05, 0.0020760390907526016, 0.00026926834834739566, 0.00015268487913999707, 0.00368442852050066, 0.992405116558075, 0.0, 0.0, 0.0, 0.0, 0.0, 0.0, 0.0, 0.0, 0.0, 0.0, 0.0, 0.0, 0.0, 0.0, 0.0, 0.0, 0.0, 0.0, 0.0, 0.0], [0.01074627973139286, 0.00025354354875162244, 0.00015322951367124915, 0.0002928703906945884, 0.0005376800545491278, 0.004423543810844421, 0.009884344413876534, 0.012843048200011253, 0.012738621793687344, 0.05966857820749283, 0.10773001611232758, 0.02474571019411087, 0.0780869871377945, 0.6778956055641174, 0.0, 0.0, 0.0, 0.0, 0.0, 0.0, 0.0, 0.0, 0.0, 0.0, 0.0, 0.0, 0.0, 0.0, 0.0, 0.0, 0.0, 0.0, 0.0], [0.00041218000114895403, 2.6218713173875585e-05, 1.7755904991645366e-05, 0.00019181902462150902, 3.2979492061713245e-06, 3.912674856110243e-06, 1.043809788825456e-05, 4.906853973807301e-06, 0.0005868570297025144, 0.003038149792701006, 3.693121107062325e-05, 0.00077243015402928, 0.0096226055175066, 0.00016094396414700896, 0.9851114153862, 0.0, 0.0, 0.0, 0.0, 0.0, 0.0, 0.0, 0.0, 0.0, 0.0, 0.0, 0.0, 0.0, 0.0, 0.0, 0.0, 0.0, 0.0], [0.00010886572272283956, 3.5845450838678516e-06, 5.191652235225774e-06, 3.0838342354400083e-05, 1.840874392655678e-05, 7.954758416417462e-07, 3.3532105589983985e-06, 6.5743715822463855e-06, 0.0007270936039276421, 0.0018232464790344238, 7.85325846663909e-06, 0.0003062748000957072, 0.006975044962018728, 3.485083652776666e-05, 0.028292691335082054, 0.9616552591323853, 0.0, 0.0, 0.0, 0.0, 0.0, 0.0, 0.0, 0.0, 0.0, 0.0, 0.0, 0.0, 0.0, 0.0, 0.0, 0.0, 0.0], [0.006073978263884783, 8.81518644746393e-05, 4.5837728976039216e-05, 8.250468090409413e-05, 0.00012720408267341554, 0.000931250920984894, 0.0016699982807040215, 0.001938195782713592, 0.0021016946993768215, 0.0101316561922431, 0.016047311946749687, 0.0038353847339749336, 0.01224213745445013, 0.10037067532539368, 0.07853126525878906, 0.10997357219457626, 0.655809223651886, 0.0, 0.0, 0.0, 0.0, 0.0, 0.0, 0.0, 0.0, 0.0, 0.0, 0.0, 0.0, 0.0, 0.0, 0.0, 0.0], [0.002186301862820983, 1.1892930160684045e-05, 1.673597580520436e-05, 2.0815430616494268e-05, 2.1162533812457696e-05, 0.0007714928942732513, 0.0008652113610878587, 0.000556030310690403, 0.00015655900642741472, 0.0019499912159517407, 0.010891204699873924, 0.0003954313579015434, 0.0015144705539569259, 0.06916317343711853, 0.004308106377720833, 0.0040351636707782745, 0.49397045373916626, 0.40916574001312256, 0.0, 0.0, 0.0, 0.0, 0.0, 0.0, 0.0, 0.0, 0.0, 0.0, 0.0, 0.0, 0.0, 0.0, 0.0], [1.9798026187345386e-05, 4.972388865098765e-07, 9.165694869750496e-09, 1.3230416584519844e-07, 5.601832953061603e-08, 1.1903900087872898e-08, 6.15311137153185e-07, 4.068558112635401e-08, 4.517454726737924e-06, 1.4017790817888454e-05, 1.6456915830076468e-07, 1.0863833495022845e-06, 7.444054062943906e-06, 1.0056664905278012e-06, 2.759499693638645e-05, 0.00031378009589388967, 6.201137239258969e-06, 8.21336197986966e-06, 0.9995948672294617, 0.0, 0.0, 0.0, 0.0, 0.0, 0.0, 0.0, 0.0, 0.0, 0.0, 0.0, 0.0, 0.0, 0.0], [6.497172307717847e-06, 8.692009600963502e-07, 1.4051375956114498e-06, 3.7704856481468596e-07, 3.329178355215845e-07, 6.104960448283236e-08, 2.5429949701560872e-08, 1.1067756844340693e-07, 3.6708766856463626e-05, 5.704796990357863e-07, 6.172344910737593e-07, 0.0001562793186167255, 0.00014737895980942994, 3.010377895407146e-06, 6.130664405645803e-05, 0.0017769908299669623, 1.8545950297266245e-05, 3.426315379329026e-05, 0.9233513474464417, 0.07440327107906342, 0.0, 0.0, 0.0, 0.0, 0.0, 0.0, 0.0, 0.0, 0.0, 0.0, 0.0, 0.0, 0.0], [0.003649001708254218, 3.749433017219417e-05, 1.7470789316575974e-05, 2.84492016362492e-05, 3.312421540613286e-05, 0.0001956921914825216, 0.0002647591463755816, 0.00024690438294783235, 0.00028033150010742247, 0.0013949173735454679, 0.0017910299357026815, 0.0004246797179803252, 0.0014623699244111776, 0.009717757813632488, 0.008053945377469063, 0.013200579211115837, 0.06315964460372925, 0.07152794301509857, 0.07523113489151001, 0.024205079302191734, 0.725077748298645, 0.0, 0.0, 0.0, 0.0, 0.0, 0.0, 0.0, 0.0, 0.0, 0.0, 0.0, 0.0], [0.0006410913192667067, 3.925716100638965e-06, 1.1607406804614584e-06, 1.5375526345451362e-06, 9.072659281628148e-07, 8.05821309768362e-06, 1.3223983842181042e-05, 4.619937044481048e-06, 3.6788402212550864e-05, 4.5651882828678936e-05, 7.577838550787419e-05, 2.2741820430383086e-05, 5.6684581068111584e-05, 0.0004737513663712889, 0.0003640770446509123, 0.0004240032867528498, 0.0037573371082544327, 0.004363126587122679, 0.007395234890282154, 0.005022631958127022, 0.055756233632564545, 0.9215314984321594, 0.0, 0.0, 0.0, 0.0, 0.0, 0.0, 0.0, 0.0, 0.0, 0.0, 0.0], [0.0005377687630243599, 8.12255905202619e-07, 2.301860604347894e-06, 1.4700369774800492e-06, 1.8703681234910619e-06, 6.024516778779798e-07, 4.127833562961314e-06, 1.6705779444237123e-06, 2.0471941297728335e-06, 7.430040568578988e-05, 3.5942293834523298e-06, 7.171522156568244e-06, 3.0528204661095515e-05, 1.892775617307052e-05, 0.000254388025496155, 0.0001949638535734266, 0.00012626551324501634, 0.00018230553541798145, 0.0037352286744862795, 0.0006727128638885915, 0.0015798339154571295, 0.011177700944244862, 0.9813894629478455, 0.0, 0.0, 0.0, 0.0, 0.0, 0.0, 0.0, 0.0, 0.0, 0.0], [8.512815838912502e-05, 4.870875613960379e-07, 1.2458991704988875e-06, 2.0811258139019628e-07, 1.9242881421632774e-07, 3.70403121507934e-08, 4.5552476990451396e-07, 5.504545796952698e-08, 1.5320365491788834e-06, 5.083300493424758e-06, 2.140098018799108e-07, 1.4595336779166246e-06, 1.4768359505978879e-05, 1.0635034186634584e-06, 2.9461509257089347e-05, 5.7288274547318e-05, 6.615687198063824e-06, 7.844209903851151e-06, 0.00015063828323036432, 0.00022636979701928794, 7.97358006821014e-05, 0.00013040871999692172, 0.010868420824408531, 0.9883312582969666, 0.0, 0.0, 0.0, 0.0, 0.0, 0.0, 0.0, 0.0, 0.0], [0.0004166323342360556, 2.2503731997858267e-06, 5.270541350910207e-06, 2.7549087462830357e-05, 3.963052586186677e-05, 7.514734079450136e-06, 8.10093024483649e-06, 1.1581339094846044e-05, 1.3205974028096534e-05, 6.750720785930753e-05, 2.5212733817170374e-05, 1.4860710507491603e-05, 7.521700172219425e-05, 0.00011457459913799539, 0.0002574533282313496, 0.0003666859120130539, 0.000690474989823997, 0.001451847143471241, 0.0032460202928632498, 0.0006353401695378125, 0.008745573461055756, 0.015190859325230122, 0.018150201067328453, 0.13303320109844208, 0.8174031376838684, 0.0, 0.0, 0.0, 0.0, 0.0, 0.0, 0.0, 0.0], [1.673923725320492e-05, 8.245286409191976e-08, 3.257380143395494e-08, 2.8737394686118023e-08, 1.6217649090322084e-07, 1.5275354314780998e-09, 2.3278555971728565e-08, 5.576718198341268e-09, 1.2825766759760882e-07, 1.3429448131319077e-07, 6.160536969446184e-09, 2.523252362607309e-07, 3.205750772394822e-06, 2.6277223952320128e-08, 7.619948405590549e-07, 7.901960088929627e-06, 1.394041220237341e-07, 1.955259563146683e-07, 0.00032022554660215974, 8.173661854016245e-07, 1.5629975678166375e-06, 3.76315961148066e-06, 0.0007450510165654123, 0.0037152196746319532, 3.934420601581223e-05, 0.995144248008728, 0.0, 0.0, 0.0, 0.0, 0.0, 0.0, 0.0], [0.00023842266818974167, 5.040105861553457e-06, 1.3208579048296087e-06, 8.599819921073504e-06, 5.166068604012253e-06, 1.3470912563207094e-07, 6.710810112053878e-07, 2.69969319788288e-07, 6.345725523715373e-06, 4.417822856339626e-05, 2.7444932015896484e-07, 2.0171175492578186e-05, 1.6526626495760866e-05, 8.12277562545205e-07, 0.0001077098204405047, 0.00012397429964039475, 3.507592055029818e-06, 8.50583273859229e-06, 6.98026196914725e-05, 0.00026813612203113735, 2.879278690670617e-05, 0.00011957895185332745, 0.0001296166592510417, 0.007425930816680193, 0.0007109703146852553, 0.005815010517835617, 0.9848405718803406, 0.0, 0.0, 0.0, 0.0, 0.0, 0.0], [0.00040899546002037823, 6.095377216297493e-07, 1.9963931663369294e-06, 9.310348104918376e-06, 3.769060640479438e-06, 1.987661789826234e-06, 4.576555738822208e-07, 1.0690733915907913e-06, 3.087182903982466e-06, 9.211432370648254e-06, 4.724378413811792e-06, 1.2070066759406473e-06, 5.095625510875834e-06, 1.804713610908948e-05, 4.857869862462394e-05, 4.1693871025927365e-05, 0.00010537524212850258, 0.000224668241571635, 0.00011528635513968766, 0.00024928964558057487, 0.0013673142530024052, 0.0016190336318686604, 0.0013275156961753964, 0.0034917823504656553, 0.06305663287639618, 0.006469069980084896, 0.09512649476528168, 0.8262877464294434, 0.0, 0.0, 0.0, 0.0, 0.0], [0.00031804663012735546, 1.4181800906953868e-06, 3.18549126632206e-07, 2.782305045911926e-06, 5.388588033383712e-05, 4.300602185480784e-08, 5.386265229390119e-07, 8.497839587562339e-08, 5.999703489578678e-07, 4.110322151973378e-06, 7.099398402488077e-08, 8.454306907879072e-07, 2.52661243393959e-06, 2.1983862552588107e-07, 6.098245648900047e-06, 2.1130004824954085e-05, 9.411792802893615e-07, 9.950375670086942e-07, 3.0413542845053598e-05, 2.976988980663009e-06, 8.453859663859475e-06, 2.6007011911133304e-05, 0.00023055807105265558, 0.0013383382465690374, 0.0002175825648009777, 0.007014391012489796, 0.017924033105373383, 0.0005302673089317977, 0.9722621440887451, 0.0, 0.0, 0.0, 0.0], [1.8505333798657375e-07, 5.565691907349901e-09, 7.262697110377303e-10, 7.745998509278706e-09, 1.507950919688028e-08, 8.228537295984495e-10, 1.7915348093922034e-09, 1.7345679337310571e-09, 1.0962556196147943e-08, 5.003294134553471e-08, 3.9228313930550485e-09, 1.0013925333396401e-07, 2.3337790366895206e-08, 1.6555286919128775e-08, 5.171330030862009e-08, 1.6146056225352368e-07, 9.827939351225723e-08, 2.7074545982941345e-07, 5.411987785919337e-06, 2.508390934963245e-07, 1.180596768790565e-06, 2.800431047944585e-06, 4.61038098364952e-06, 0.00022679209359921515, 5.794253229396418e-05, 0.0004519550420809537, 0.00011976501991739497, 0.00023980966943781823, 0.0018740074010565877, 0.9970145225524902, 0.0, 0.0, 0.0], [4.347453432274051e-05, 2.9688635549973696e-06, 3.919361404314259e-07, 9.117047738982365e-07, 4.364481469565362e-07, 4.686582233404124e-09, 9.240343246119664e-08, 1.2419325123858016e-08, 7.188964445958845e-08, 6.30454337624542e-07, 6.108888506162202e-09, 1.9987159305401292e-07, 1.4578646414520335e-06, 1.4727286945515061e-08, 1.7957326292616926e-07, 2.6422712835483253e-05, 5.112656964456619e-08, 4.710665280072135e-08, 0.001576115726493299, 2.1989392280374886e-06, 3.333979350372829e-07, 2.181479203500203e-06, 0.00016240376862697303, 0.0017777645261958241, 1.1749207260436378e-05, 0.0036160817835479975, 6.199465860845521e-05, 3.516816286719404e-05, 0.0011488657910376787, 0.016085559502243996, 0.9754422307014465, 0.0, 0.0], [0.00115629390347749, 6.1990413087187335e-06, 6.137800596661691e-07, 3.102660230069887e-06, 8.2284321933912e-07, 4.3660275395041026e-08, 9.363272823748048e-08, 2.7735543639550997e-08, 5.10952929744235e-07, 1.2355308172118384e-06, 3.825311623018024e-08, 1.1272317124166875e-06, 1.9008953131560702e-06, 8.71407408453706e-08, 5.398182565841125e-06, 7.393457963189576e-06, 3.128878631741827e-07, 3.0146313179102435e-07, 0.00013595363998319954, 1.3343834325496573e-05, 2.3996453819563612e-06, 3.871276931022294e-05, 0.0008219628361985087, 0.0006131281261332333, 2.1518460926017724e-05, 0.004140728618949652, 0.0008760862983763218, 0.00011684603668982163, 0.002159067429602146, 0.027525248005986214, 0.044349703937768936, 0.9179997444152832, 0.0], [0.003194292774423957, 4.681673090090044e-05, 3.4991320717381313e-05, 2.704309008549899e-05, 1.4000327610119712e-05, 1.70851362781832e-05, 8.051894837990403e-06, 3.909832230419852e-06, 1.0716952601796947e-05, 1.7930766261997633e-05, 1.4207501408236567e-05, 2.6911291570286267e-05, 2.641200444486458e-05, 3.110023681074381e-05, 1.1198572792636696e-05, 5.485507062985562e-05, 0.00011474492930574343, 0.00010493677837075666, 0.0002806306292768568, 0.00020839071657974273, 0.0009329256718046963, 0.0018990020034834743, 0.001126758987084031, 0.00192572723608464, 0.003917159046977758, 0.0074994550086557865, 0.010695934295654297, 0.02319987118244171, 0.030398163944482803, 0.12729352712631226, 0.04325325787067413, 0.17668049037456512, 0.5669295191764832]], [[1.0, 0.0, 0.0, 0.0, 0.0, 0.0, 0.0, 0.0, 0.0, 0.0, 0.0, 0.0, 0.0, 0.0, 0.0, 0.0, 0.0, 0.0, 0.0, 0.0, 0.0, 0.0, 0.0, 0.0, 0.0, 0.0, 0.0, 0.0, 0.0, 0.0, 0.0, 0.0, 0.0], [0.2530864179134369, 0.7469136118888855, 0.0, 0.0, 0.0, 0.0, 0.0, 0.0, 0.0, 0.0, 0.0, 0.0, 0.0, 0.0, 0.0, 0.0, 0.0, 0.0, 0.0, 0.0, 0.0, 0.0, 0.0, 0.0, 0.0, 0.0, 0.0, 0.0, 0.0, 0.0, 0.0, 0.0, 0.0], [0.30671584606170654, 0.32906389236450195, 0.3642202615737915, 0.0, 0.0, 0.0, 0.0, 0.0, 0.0, 0.0, 0.0, 0.0, 0.0, 0.0, 0.0, 0.0, 0.0, 0.0, 0.0, 0.0, 0.0, 0.0, 0.0, 0.0, 0.0, 0.0, 0.0, 0.0, 0.0, 0.0, 0.0, 0.0, 0.0], [0.07416977733373642, 0.1618967354297638, 0.054325904697179794, 0.7096076011657715, 0.0, 0.0, 0.0, 0.0, 0.0, 0.0, 0.0, 0.0, 0.0, 0.0, 0.0, 0.0, 0.0, 0.0, 0.0, 0.0, 0.0, 0.0, 0.0, 0.0, 0.0, 0.0, 0.0, 0.0, 0.0, 0.0, 0.0, 0.0, 0.0], [0.1668822169303894, 0.03901783376932144, 0.03822458162903786, 0.21398350596427917, 0.541891872882843, 0.0, 0.0, 0.0, 0.0, 0.0, 0.0, 0.0, 0.0, 0.0, 0.0, 0.0, 0.0, 0.0, 0.0, 0.0, 0.0, 0.0, 0.0, 0.0, 0.0, 0.0, 0.0, 0.0, 0.0, 0.0, 0.0, 0.0, 0.0], [0.19483646750450134, 0.21119247376918793, 0.051505617797374725, 0.08703829348087311, 0.22999553382396698, 0.22543160617351532, 0.0, 0.0, 0.0, 0.0, 0.0, 0.0, 0.0, 0.0, 0.0, 0.0, 0.0, 0.0, 0.0, 0.0, 0.0, 0.0, 0.0, 0.0, 0.0, 0.0, 0.0, 0.0, 0.0, 0.0, 0.0, 0.0, 0.0], [0.13900136947631836, 0.02974863164126873, 0.03860693424940109, 0.051332730799913406, 0.1928424835205078, 0.08012371510267258, 0.468344122171402, 0.0, 0.0, 0.0, 0.0, 0.0, 0.0, 0.0, 0.0, 0.0, 0.0, 0.0, 0.0, 0.0, 0.0, 0.0, 0.0, 0.0, 0.0, 0.0, 0.0, 0.0, 0.0, 0.0, 0.0, 0.0, 0.0], [0.08969780802726746, 0.04080599173903465, 0.03473306819796562, 0.08414527028799057, 0.09911051392555237, 0.07059448212385178, 0.1361657679080963, 0.44474709033966064, 0.0, 0.0, 0.0, 0.0, 0.0, 0.0, 0.0, 0.0, 0.0, 0.0, 0.0, 0.0, 0.0, 0.0, 0.0, 0.0, 0.0, 0.0, 0.0, 0.0, 0.0, 0.0, 0.0, 0.0, 0.0], [0.05986517667770386, 0.020190440118312836, 0.01878531090915203, 0.10584728419780731, 0.057948801666498184, 0.02751770429313183, 0.05666313320398331, 0.08226759731769562, 0.5709145665168762, 0.0, 0.0, 0.0, 0.0, 0.0, 0.0, 0.0, 0.0, 0.0, 0.0, 0.0, 0.0, 0.0, 0.0, 0.0, 0.0, 0.0, 0.0, 0.0, 0.0, 0.0, 0.0, 0.0, 0.0], [0.010379280894994736, 0.004698258358985186, 0.004143988247960806, 0.007291416637599468, 0.006256698630750179, 0.003318049944937229, 0.00917502585798502, 0.018754426389932632, 0.03393151983618736, 0.9020513892173767, 0.0, 0.0, 0.0, 0.0, 0.0, 0.0, 0.0, 0.0, 0.0, 0.0, 0.0, 0.0, 0.0, 0.0, 0.0, 0.0, 0.0, 0.0, 0.0, 0.0, 0.0, 0.0, 0.0], [0.07270114123821259, 0.0477648489177227, 0.01050033699721098, 0.016159415245056152, 0.046178217977285385, 0.0524945892393589, 0.05184570327401161, 0.2118951976299286, 0.035158198326826096, 0.17267180979251862, 0.28263059258461, 0.0, 0.0, 0.0, 0.0, 0.0, 0.0, 0.0, 0.0, 0.0, 0.0, 0.0, 0.0, 0.0, 0.0, 0.0, 0.0, 0.0, 0.0, 0.0, 0.0, 0.0, 0.0], [0.01512689609080553, 0.004731191787868738, 0.0023226316552609205, 0.006575742270797491, 0.018362468108534813, 0.0033396664075553417, 0.00878423172980547, 0.007409749086946249, 0.006289810407906771, 0.07638946920633316, 0.012003494426608086, 0.8386646509170532, 0.0, 0.0, 0.0, 0.0, 0.0, 0.0, 0.0, 0.0, 0.0, 0.0, 0.0, 0.0, 0.0, 0.0, 0.0, 0.0, 0.0, 0.0, 0.0, 0.0, 0.0], [0.0323319286108017, 0.010628961026668549, 0.002615162869915366, 0.0011762926587834954, 0.003093285020440817, 0.0015055524418130517, 0.007079715374857187, 0.002834467915818095, 0.005003879778087139, 0.012032576836645603, 0.0039877742528915405, 0.0518723726272583, 0.8658380508422852, 0.0, 0.0, 0.0, 0.0, 0.0, 0.0, 0.0, 0.0, 0.0, 0.0, 0.0, 0.0, 0.0, 0.0, 0.0, 0.0, 0.0, 0.0, 0.0, 0.0], [0.05045590549707413, 0.02653883770108223, 0.005783272907137871, 0.008087298832833767, 0.02179938368499279, 0.025670338422060013, 0.02277901954948902, 0.09139907360076904, 0.015017365105450153, 0.07093922793865204, 0.12448636442422867, 0.126683309674263, 0.061021339148283005, 0.34933924674987793, 0.0, 0.0, 0.0, 0.0, 0.0, 0.0, 0.0, 0.0, 0.0, 0.0, 0.0, 0.0, 0.0, 0.0, 0.0, 0.0, 0.0, 0.0, 0.0], [0.05474130064249039, 0.05296850949525833, 0.00398813234642148, 0.012351631186902523, 0.004415622912347317, 0.003596280235797167, 0.011385717429220676, 0.009828073903918266, 0.014749746769666672, 0.07078829407691956, 0.011209191754460335, 0.051640577614307404, 0.19734399020671844, 0.027129286900162697, 0.4738636314868927, 0.0, 0.0, 0.0, 0.0, 0.0, 0.0, 0.0, 0.0, 0.0, 0.0, 0.0, 0.0, 0.0, 0.0, 0.0, 0.0, 0.0, 0.0], [0.007163068279623985, 0.004963846877217293, 0.002769225277006626, 0.0019424435449764132, 0.01054474525153637, 0.001414487836882472, 0.0036636630538851023, 0.0031499487813562155, 0.005481294356286526, 0.021614037454128265, 0.003922199830412865, 0.07935076951980591, 0.2247791439294815, 0.009166956879198551, 0.02740265056490898, 0.5926715135574341, 0.0, 0.0, 0.0, 0.0, 0.0, 0.0, 0.0, 0.0, 0.0, 0.0, 0.0, 0.0, 0.0, 0.0, 0.0, 0.0, 0.0], [0.034611064940690994, 0.015296337194740772, 0.003095125313848257, 0.0038990930188447237, 0.009989402256906033, 0.011446862481534481, 0.009189355187118053, 0.033565156161785126, 0.005761208478361368, 0.025581005960702896, 0.04384687915444374, 0.04521359130740166, 0.020553382113575935, 0.11962336301803589, 0.1567324697971344, 0.1317344605922699, 0.32986125349998474, 0.0, 0.0, 0.0, 0.0, 0.0, 0.0, 0.0, 0.0, 0.0, 0.0, 0.0, 0.0, 0.0, 0.0, 0.0, 0.0], [0.01725388504564762, 0.0043975296430289745, 0.004968694411218166, 0.007064319681376219, 0.006634896155446768, 0.0069109550677239895, 0.01138690672814846, 0.016178511083126068, 0.020317766815423965, 0.020396819338202477, 0.023422112688422203, 0.018909139558672905, 0.04024204984307289, 0.06200677528977394, 0.11645364761352539, 0.07975106686353683, 0.16864478588104248, 0.37506014108657837, 0.0, 0.0, 0.0, 0.0, 0.0, 0.0, 0.0, 0.0, 0.0, 0.0, 0.0, 0.0, 0.0, 0.0, 0.0], [0.002459116280078888, 0.0002491974155418575, 3.400466084713116e-05, 0.0002113294176524505, 0.00020066798606421798, 0.00012589257676154375, 0.00036506837932392955, 0.0003735979844350368, 0.00013798550935462117, 0.0004702211881522089, 0.0002715182490646839, 0.003417078172788024, 0.0006049809162504971, 0.0005454609054140747, 0.0008937670500017703, 0.0015852133510634303, 0.0012150751426815987, 0.002821265487000346, 0.9840186238288879, 0.0, 0.0, 0.0, 0.0, 0.0, 0.0, 0.0, 0.0, 0.0, 0.0, 0.0, 0.0, 0.0, 0.0], [0.00015282476670108736, 0.03892366588115692, 0.0004715205868706107, 0.00037318209069781005, 3.2717995054554194e-05, 1.0635622857080307e-05, 3.8245761970756575e-06, 1.3244718502392061e-05, 6.418923294404522e-05, 2.734439476625994e-05, 2.8319980629021302e-05, 0.0022295699454844, 0.0013866395456716418, 7.1635382482782e-05, 0.00014025592827238142, 0.008246451616287231, 0.00019678672833833843, 0.0002054670621873811, 0.8976380228996277, 0.04978379234671593, 0.0, 0.0, 0.0, 0.0, 0.0, 0.0, 0.0, 0.0, 0.0, 0.0, 0.0, 0.0, 0.0], [0.02645810693502426, 0.010410883463919163, 0.0021332562901079655, 0.002456017304211855, 0.005542599130421877, 0.0059545692056417465, 0.004195829853415489, 0.013451543636620045, 0.002351952251046896, 0.009471958503127098, 0.01543342974036932, 0.014804965816438198, 0.006865759380161762, 0.037873174995183945, 0.047449320554733276, 0.045472823083400726, 0.1019916981458664, 0.08666389435529709, 0.06470182538032532, 0.10160761326551437, 0.3947087228298187, 0.0, 0.0, 0.0, 0.0, 0.0, 0.0, 0.0, 0.0, 0.0, 0.0, 0.0, 0.0], [0.02115791290998459, 0.003548436099663377, 0.001744113047607243, 0.0035093105398118496, 0.004201899748295546, 0.0025777805130928755, 0.004015855956822634, 0.004599003586918116, 0.0039551593363285065, 0.006455844733864069, 0.005907895974814892, 0.0037331627681851387, 0.009013410657644272, 0.013927989639341831, 0.02989579178392887, 0.020082326605916023, 0.03804443031549454, 0.0688309296965599, 0.08152897655963898, 0.038340263068675995, 0.1516026258468628, 0.48332679271698, 0.0, 0.0, 0.0, 0.0, 0.0, 0.0, 0.0, 0.0, 0.0, 0.0, 0.0], [0.0014211682137101889, 0.0004069012065883726, 0.000271441851509735, 0.0014869248261675239, 0.0006475152331404388, 0.0002567152550909668, 0.0002729761181399226, 0.0005059848772361875, 0.00017537492385599762, 0.0012059597065672278, 0.0005902894190512598, 0.0004307387862354517, 0.00036999606527388096, 0.0013322844170033932, 0.0007594263297505677, 0.002518306253477931, 0.0035999787505716085, 0.004756712354719639, 0.011892926879227161, 0.003410215023905039, 0.013851101510226727, 0.059073228389024734, 0.8907637596130371, 0.0, 0.0, 0.0, 0.0, 0.0, 0.0, 0.0, 0.0, 0.0, 0.0], [0.0050588687881827354, 0.0008823552052490413, 0.0015358285745605826, 0.0016909879632294178, 0.0013438755413517356, 0.0004949712310917675, 0.000657226366456598, 0.0005521598504856229, 0.0005812106537632644, 0.0020545623265206814, 0.0008380879298783839, 0.0010067485272884369, 0.0011300863698124886, 0.0016139950603246689, 0.005022874101996422, 0.014576884917914867, 0.0037143349181860685, 0.0046814787201583385, 0.007913828827440739, 0.006778393872082233, 0.012291375547647476, 0.027733033522963524, 0.10214655846357346, 0.7957003712654114, 0.0, 0.0, 0.0, 0.0, 0.0, 0.0, 0.0, 0.0, 0.0], [0.004004698246717453, 0.00045769751886837184, 0.00156452099326998, 0.003137206891551614, 0.001993746729567647, 0.00037892634281888604, 0.0004957785131409764, 0.0005698017776012421, 0.0010052066063508391, 0.002343225758522749, 0.0005772153963334858, 0.0016756143886595964, 0.0030787375289946795, 0.0012285261182114482, 0.005278327502310276, 0.006328055635094643, 0.0031517327297478914, 0.005319308023899794, 0.02138313092291355, 0.0061477115377783775, 0.012332224287092686, 0.07402163743972778, 0.12114021182060242, 0.5611115097999573, 0.16127519309520721, 0.0, 0.0, 0.0, 0.0, 0.0, 0.0, 0.0, 0.0], [0.0011286529479548335, 4.9889058573171496e-05, 4.129110311623663e-05, 9.249602589989081e-05, 5.513616997632198e-05, 3.8617217796854675e-05, 5.592021989286877e-05, 0.00014896252832841128, 5.5092091315600555e-06, 6.817420216975734e-05, 3.6204415664542466e-05, 4.6239569201134145e-05, 0.0010655007790774107, 5.919874456594698e-05, 7.787238428136334e-05, 0.0003842118021566421, 0.0001169242532341741, 0.00022428217926062644, 0.0005083983996883035, 0.0001562812103657052, 0.0003233142488170415, 0.0007086815894581378, 0.0009207411203533411, 0.0008559702546335757, 0.0044144499115645885, 0.9884169697761536, 0.0, 0.0, 0.0, 0.0, 0.0, 0.0, 0.0], [0.0024299679789692163, 0.003659631358459592, 0.0006344971479848027, 0.0006202650256454945, 0.002987674903124571, 0.0003476362908259034, 0.000505915901158005, 0.00041149737080559134, 0.00021321559324860573, 0.0006509347003884614, 0.0003955697757191956, 0.16986443102359772, 0.002188898390159011, 0.0006812378414906561, 0.0008683752967044711, 0.00890512578189373, 0.0014638518914580345, 0.0013394575798884034, 0.006495125591754913, 0.007638712413609028, 0.004619396757334471, 0.0031617905478924513, 0.014200891368091106, 0.04639657586812973, 0.02278606966137886, 0.21939243376255035, 0.47714075446128845, 0.0, 0.0, 0.0, 0.0, 0.0, 0.0], [0.015610335394740105, 0.0009648071718402207, 0.0010281833820044994, 0.00714851962402463, 0.005316655617207289, 0.000543268455658108, 0.0007839889149181545, 0.0004708300402853638, 0.002298037987202406, 0.00546309957280755, 0.000548307434655726, 0.0008661500178277493, 0.0009035557741299272, 0.0009251973824575543, 0.008375929668545723, 0.0014478126540780067, 0.002061491599306464, 0.003693383652716875, 0.017008865252137184, 0.006138680037111044, 0.007041896227747202, 0.041287053376436234, 0.06922489404678345, 0.2661719024181366, 0.05024212226271629, 0.11445137858390808, 0.13764898478984833, 0.2323346883058548, 0.0, 0.0, 0.0, 0.0, 0.0], [0.02189529314637184, 0.0013514539459720254, 0.001372795202769339, 0.0051577165722846985, 0.01093279104679823, 0.00044522169628180563, 0.0016178288497030735, 0.0005713263526558876, 0.0007700271671637893, 0.003093535313382745, 0.0003616343601606786, 0.0009329012827947736, 0.001903239986859262, 0.0005254388088360429, 0.0007036181050352752, 0.0015780641697347164, 0.0010200472315773368, 0.000934672134462744, 0.005167576018720865, 0.0007855411968193948, 0.0028796817641705275, 0.006337143946439028, 0.049514152109622955, 0.021886879578232765, 0.030046850442886353, 0.06941598653793335, 0.029953880235552788, 0.06111622974276543, 0.6677284836769104, 0.0, 0.0, 0.0, 0.0], [0.00029466566047631204, 8.08511977083981e-05, 0.0001199263206217438, 0.0001715399557724595, 0.00038990037865005434, 8.630252705188468e-05, 5.253727431409061e-05, 6.61636222503148e-05, 0.0001137837243732065, 6.200081406859681e-05, 0.00011238016304560006, 0.0005867312429472804, 9.784991561900824e-05, 0.00021334877237677574, 0.00040444263140670955, 0.00047262359294109046, 0.00047307315981015563, 0.0005199514562264085, 0.0008571151993237436, 0.00022720151173416525, 0.0015976768918335438, 0.0014780628262087703, 0.001650140155106783, 0.009339649230241776, 0.012792689725756645, 0.012606950476765633, 0.02165956050157547, 0.028867457062005997, 0.07784774154424667, 0.8267576694488525, 0.0, 0.0, 0.0], [0.0006396540557034314, 0.0001992022298509255, 0.00033784573315642774, 0.0003228616842534393, 0.00038839777698740363, 2.2511419956572354e-05, 0.00011559657286852598, 1.96836881514173e-05, 8.749761036597192e-05, 0.000166757294209674, 2.135317845386453e-05, 0.00018257681222166866, 0.0028796226251870394, 3.2708412618376315e-05, 6.355984078254551e-05, 0.0009078498114831746, 6.31420043646358e-05, 4.9545087676960975e-05, 0.005010191351175308, 0.00021555769490078092, 0.00018923325114883482, 0.00023579856497235596, 0.002119169570505619, 0.0034752406645566225, 0.0004957507480867207, 0.012673035264015198, 0.00262746075168252, 0.0011926391161978245, 0.028011504560709, 0.1421457678079605, 0.7951083183288574, 0.0, 0.0], [0.005492151249200106, 0.0014179629506543279, 6.310049502644688e-05, 0.0009282379760406911, 0.00046758734970353544, 9.701219823909923e-05, 5.678706293110736e-05, 6.824066076660529e-05, 4.054810051457025e-05, 0.00021011504577472806, 6.53469905955717e-05, 0.00011957788956351578, 9.082329779630527e-05, 9.077359572984278e-05, 0.00013827519433107227, 0.00041228393092751503, 0.00016900584159884602, 0.00013570731971412897, 0.00242832419462502, 0.00020654822583310306, 0.0004959601792506874, 0.0001656197418924421, 0.0018254023743793368, 0.0016808179207146168, 0.0010187356965616345, 0.015071489848196507, 0.0034083742648363113, 0.003384194104000926, 0.018865512683987617, 0.010037439875304699, 0.008259566500782967, 0.9230883717536926, 0.0], [0.009386111982166767, 0.0017380561912432313, 0.0018091686069965363, 0.001435025711543858, 0.0016812827670946717, 0.0019791307859122753, 0.0014143434818834066, 0.0021127827931195498, 0.0012016954133287072, 0.001046765479259193, 0.0012532485416159034, 0.0012125703506171703, 0.0006952427211217582, 0.0016850187676027417, 0.0012904981849715114, 0.0014949431642889977, 0.0030524656176567078, 0.00617640558630228, 0.003993154503405094, 0.002994521986693144, 0.008827604353427887, 0.009542395360767841, 0.010477363131940365, 0.02145143784582615, 0.06221356987953186, 0.026861058548092842, 0.03390643000602722, 0.11987607926130295, 0.05027471110224724, 0.026796855032444, 0.031165704131126404, 0.10728631913661957, 0.44366803765296936]], [[1.0, 0.0, 0.0, 0.0, 0.0, 0.0, 0.0, 0.0, 0.0, 0.0, 0.0, 0.0, 0.0, 0.0, 0.0, 0.0, 0.0, 0.0, 0.0, 0.0, 0.0, 0.0, 0.0, 0.0, 0.0, 0.0, 0.0, 0.0, 0.0, 0.0, 0.0, 0.0, 0.0], [0.10520478338003159, 0.8947951793670654, 0.0, 0.0, 0.0, 0.0, 0.0, 0.0, 0.0, 0.0, 0.0, 0.0, 0.0, 0.0, 0.0, 0.0, 0.0, 0.0, 0.0, 0.0, 0.0, 0.0, 0.0, 0.0, 0.0, 0.0, 0.0, 0.0, 0.0, 0.0, 0.0, 0.0, 0.0], [0.03907207399606705, 0.0020172225777059793, 0.9589106440544128, 0.0, 0.0, 0.0, 0.0, 0.0, 0.0, 0.0, 0.0, 0.0, 0.0, 0.0, 0.0, 0.0, 0.0, 0.0, 0.0, 0.0, 0.0, 0.0, 0.0, 0.0, 0.0, 0.0, 0.0, 0.0, 0.0, 0.0, 0.0, 0.0, 0.0], [0.015578624792397022, 0.0008392537129111588, 0.0006979762110859156, 0.9828841090202332, 0.0, 0.0, 0.0, 0.0, 0.0, 0.0, 0.0, 0.0, 0.0, 0.0, 0.0, 0.0, 0.0, 0.0, 0.0, 0.0, 0.0, 0.0, 0.0, 0.0, 0.0, 0.0, 0.0, 0.0, 0.0, 0.0, 0.0, 0.0, 0.0], [0.008856471627950668, 9.934287845680956e-06, 1.1174832252436318e-05, 0.00030247028917074203, 0.9908198714256287, 0.0, 0.0, 0.0, 0.0, 0.0, 0.0, 0.0, 0.0, 0.0, 0.0, 0.0, 0.0, 0.0, 0.0, 0.0, 0.0, 0.0, 0.0, 0.0, 0.0, 0.0, 0.0, 0.0, 0.0, 0.0, 0.0, 0.0, 0.0], [0.35445019602775574, 0.030589278787374496, 0.05988955497741699, 0.022903528064489365, 0.04747588187456131, 0.4846915602684021, 0.0, 0.0, 0.0, 0.0, 0.0, 0.0, 0.0, 0.0, 0.0, 0.0, 0.0, 0.0, 0.0, 0.0, 0.0, 0.0, 0.0, 0.0, 0.0, 0.0, 0.0, 0.0, 0.0, 0.0, 0.0, 0.0, 0.0], [0.04476897418498993, 0.001566466293297708, 0.00037738465471193194, 0.0002507324970792979, 0.00040889711817726493, 0.0002606558846309781, 0.9523669481277466, 0.0, 0.0, 0.0, 0.0, 0.0, 0.0, 0.0, 0.0, 0.0, 0.0, 0.0, 0.0, 0.0, 0.0, 0.0, 0.0, 0.0, 0.0, 0.0, 0.0, 0.0, 0.0, 0.0, 0.0, 0.0, 0.0], [0.09058347344398499, 0.0011470754398033023, 0.006027347408235073, 0.000546847702935338, 0.0017094232607632875, 0.0037850853987038136, 0.0026845417451113462, 0.8935161828994751, 0.0, 0.0, 0.0, 0.0, 0.0, 0.0, 0.0, 0.0, 0.0, 0.0, 0.0, 0.0, 0.0, 0.0, 0.0, 0.0, 0.0, 0.0, 0.0, 0.0, 0.0, 0.0, 0.0, 0.0, 0.0], [0.006010726094245911, 2.4289094653795473e-05, 0.00031266745645552874, 1.868293657025788e-05, 0.0002979248820338398, 9.904534636007156e-06, 6.619561190746026e-06, 7.912199180282187e-07, 0.9933184385299683, 0.0, 0.0, 0.0, 0.0, 0.0, 0.0, 0.0, 0.0, 0.0, 0.0, 0.0, 0.0, 0.0, 0.0, 0.0, 0.0, 0.0, 0.0, 0.0, 0.0, 0.0, 0.0, 0.0, 0.0], [0.00454681646078825, 0.00020019360817968845, 0.0002992021618410945, 0.001336393877863884, 0.00032676520640961826, 8.741358215047512e-07, 1.7415704860468395e-05, 2.783414174700738e-07, 0.0002966524625662714, 0.9929754734039307, 0.0, 0.0, 0.0, 0.0, 0.0, 0.0, 0.0, 0.0, 0.0, 0.0, 0.0, 0.0, 0.0, 0.0, 0.0, 0.0, 0.0, 0.0, 0.0, 0.0, 0.0, 0.0, 0.0], [0.12262559682130814, 0.02392657846212387, 0.038276493549346924, 0.01617196761071682, 0.030366232618689537, 0.293759286403656, 0.10661352425813675, 0.0705995038151741, 0.041900087147951126, 0.017833100631833076, 0.2379276007413864, 0.0, 0.0, 0.0, 0.0, 0.0, 0.0, 0.0, 0.0, 0.0, 0.0, 0.0, 0.0, 0.0, 0.0, 0.0, 0.0, 0.0, 0.0, 0.0, 0.0, 0.0, 0.0], [0.0008121058344841003, 0.00011546660971362144, 0.00013500907516572624, 5.539297853829339e-05, 0.0001317415590165183, 1.0027196140072192e-06, 1.3799102589473478e-06, 1.6001615676941583e-07, 1.8972989437315846e-06, 5.419665853878541e-07, 4.753100881771388e-07, 0.9987448453903198, 0.0, 0.0, 0.0, 0.0, 0.0, 0.0, 0.0, 0.0, 0.0, 0.0, 0.0, 0.0, 0.0, 0.0, 0.0, 0.0, 0.0, 0.0, 0.0, 0.0, 0.0], [0.0013333025854080915, 0.00010533028398640454, 0.0007669601473025978, 0.0009021891164593399, 3.570828994270414e-06, 8.120475172290753e-07, 1.4038076301403635e-07, 9.5612755046659e-08, 1.686503765085945e-06, 2.9789011023240164e-05, 4.3813361116917804e-07, 1.196578750750632e-06, 0.9968544840812683, 0.0, 0.0, 0.0, 0.0, 0.0, 0.0, 0.0, 0.0, 0.0, 0.0, 0.0, 0.0, 0.0, 0.0, 0.0, 0.0, 0.0, 0.0, 0.0, 0.0], [0.08159805834293365, 0.021388869732618332, 0.02887716144323349, 0.012675800360739231, 0.02493160218000412, 0.22996485233306885, 0.1040123775601387, 0.06472097337245941, 0.03460092842578888, 0.015198715031147003, 0.18564161658287048, 0.02052805759012699, 0.005003855563700199, 0.17085716128349304, 0.0, 0.0, 0.0, 0.0, 0.0, 0.0, 0.0, 0.0, 0.0, 0.0, 0.0, 0.0, 0.0, 0.0, 0.0, 0.0, 0.0, 0.0, 0.0], [0.0013488888507708907, 8.921229164116085e-05, 0.000685997714754194, 0.0006963223568163812, 2.1248662960715592e-05, 3.763401252854237e-07, 6.226750315363461e-07, 4.307224514832342e-07, 7.091887255228357e-06, 0.0013103713281452656, 1.6113781953208672e-07, 9.548780326440465e-07, 0.00016453623538836837, 1.1531959387411916e-07, 0.9956737160682678, 0.0, 0.0, 0.0, 0.0, 0.0, 0.0, 0.0, 0.0, 0.0, 0.0, 0.0, 0.0, 0.0, 0.0, 0.0, 0.0, 0.0, 0.0], [0.0010867505334317684, 0.00040724826976656914, 0.00010700321581680328, 0.0006782714044675231, 0.00011028484004782513, 1.3184263991661282e-07, 2.660271150034532e-07, 4.619576543518633e-07, 8.409714610024821e-06, 0.0007784891058690846, 5.1094499298187657e-08, 8.792078460828634e-07, 4.934295066050254e-05, 3.4893233191723994e-08, 0.000114411988761276, 0.9966580867767334, 0.0, 0.0, 0.0, 0.0, 0.0, 0.0, 0.0, 0.0, 0.0, 0.0, 0.0, 0.0, 0.0, 0.0, 0.0, 0.0, 0.0], [0.05868086218833923, 0.01878575049340725, 0.024067308753728867, 0.011013145558536053, 0.02145637944340706, 0.1911056786775589, 0.09902720898389816, 0.060658685863018036, 0.03016272932291031, 0.014801912009716034, 0.15370336174964905, 0.01661515422165394, 0.00438538147136569, 0.14085331559181213, 0.015014994889497757, 0.005390205420553684, 0.13427796959877014, 0.0, 0.0, 0.0, 0.0, 0.0, 0.0, 0.0, 0.0, 0.0, 0.0, 0.0, 0.0, 0.0, 0.0, 0.0, 0.0], [0.07323039323091507, 0.028374575078487396, 0.02105823904275894, 0.007611881010234356, 0.010053585283458233, 0.06553947925567627, 0.14559760689735413, 0.08620841056108475, 0.010241273790597916, 0.007425742223858833, 0.045262712985277176, 0.006621459499001503, 0.0011621782323345542, 0.03923853859305382, 0.008256879635155201, 0.0030656903982162476, 0.0361226461827755, 0.40492868423461914, 0.0, 0.0, 0.0, 0.0, 0.0, 0.0, 0.0, 0.0, 0.0, 0.0, 0.0, 0.0, 0.0, 0.0, 0.0], [7.944500976009294e-05, 1.838214188865095e-06, 3.7134324060161816e-08, 1.5575307770632207e-05, 3.4723791486612754e-06, 1.3165096790501707e-09, 2.7038710825877388e-08, 1.7186653877843128e-08, 9.2322629541286e-08, 1.350635284325108e-05, 4.4787887287789374e-10, 2.041673052843862e-09, 5.5420287026208825e-08, 3.0638666603799436e-10, 4.217715456888982e-07, 7.065874342515599e-06, 2.424439260462208e-10, 1.4397385506015326e-09, 0.9998784065246582, 0.0, 0.0, 0.0, 0.0, 0.0, 0.0, 0.0, 0.0, 0.0, 0.0, 0.0, 0.0, 0.0, 0.0], [0.002934493590146303, 0.0005883841076865792, 0.004250304773449898, 0.004028463736176491, 0.00011592944792937487, 4.3316217670508195e-06, 6.773899713152787e-06, 7.076467591105029e-05, 0.0002495265216566622, 0.0003159335465170443, 2.08243977795064e-06, 4.4092124880990013e-05, 0.0003044693439733237, 1.4702574162583915e-06, 0.0001976135972654447, 0.0013599260710179806, 1.2478651569836074e-06, 6.875187864352483e-06, 0.00019261146371718496, 0.9853246808052063, 0.0, 0.0, 0.0, 0.0, 0.0, 0.0, 0.0, 0.0, 0.0, 0.0, 0.0, 0.0, 0.0], [0.04056532680988312, 0.017898334190249443, 0.020600974559783936, 0.00982110295444727, 0.0178828202188015, 0.15653996169567108, 0.09208232164382935, 0.05628824606537819, 0.026661338284611702, 0.014471272937953472, 0.12537631392478943, 0.013986768200993538, 0.003927929326891899, 0.11453614383935928, 0.013395375572144985, 0.004846665076911449, 0.10880252718925476, 0.049533966928720474, 0.0051864092238247395, 0.00442087184637785, 0.10317537188529968, 0.0, 0.0, 0.0, 0.0, 0.0, 0.0, 0.0, 0.0, 0.0, 0.0, 0.0, 0.0], [0.024536410346627235, 0.0031243418343365192, 0.000969931366853416, 4.6315548388520256e-05, 0.000134348010760732, 0.0006453952519223094, 0.011668861843645573, 0.00032713511609472334, 0.00045730493729934096, 2.3976115699042566e-05, 0.00034454246633686125, 4.996432107873261e-05, 2.575745020294562e-05, 0.00028217825456522405, 6.525341632368509e-06, 4.981813617632724e-06, 0.0002355406468268484, 0.0002664515923243016, 2.531117388571147e-05, 2.9761116820736788e-05, 0.00018809281755238771, 0.9566067457199097, 0.0, 0.0, 0.0, 0.0, 0.0, 0.0, 0.0, 0.0, 0.0, 0.0, 0.0], [0.0020759988110512495, 0.00014591786020901054, 5.28989803569857e-05, 4.218073809170164e-05, 4.738719144370407e-05, 4.1423308516641555e-07, 0.00012964299821760505, 2.4250995920738205e-05, 1.803402483346872e-06, 1.4839280311207403e-06, 1.4489978639176115e-07, 4.19993239120231e-06, 4.106840378881316e-08, 1.0260480820534212e-07, 8.285464332402626e-07, 5.781902245871606e-07, 7.69515864362802e-08, 6.66962165496443e-08, 6.472614768426865e-05, 1.5700886706326855e-06, 5.6418308247430105e-08, 4.403031653055223e-06, 0.997401237487793, 0.0, 0.0, 0.0, 0.0, 0.0, 0.0, 0.0, 0.0, 0.0, 0.0], [0.0005159119609743357, 0.00011814653407782316, 3.2705673220334575e-05, 0.00021188741084188223, 4.5635246351594105e-05, 2.9248894861666486e-07, 3.057942421946791e-06, 7.607361851569294e-08, 0.000137536961119622, 0.0005283545469865203, 1.1576035774396587e-07, 4.028585408377694e-06, 2.0793006569874706e-06, 8.805425011360057e-08, 0.00010051707067759708, 4.4316235289443284e-05, 6.963725240893837e-08, 9.3730577077622e-08, 3.337771704536863e-05, 1.588891973369755e-05, 5.610686315549174e-08, 7.052654638073363e-08, 9.389286788064055e-06, 0.9981963038444519, 0.0, 0.0, 0.0, 0.0, 0.0, 0.0, 0.0, 0.0, 0.0], [0.06915222108364105, 0.014032106846570969, 0.0055990926921367645, 0.001257685013115406, 0.0008467997540719807, 0.00960117019712925, 0.008965766057372093, 0.05247688665986061, 0.00025028345407918096, 0.0009063854231499135, 0.005419903434813023, 0.0007309208740480244, 0.0001918794005177915, 0.004396578297019005, 0.00596471456810832, 0.00035585399018600583, 0.003877015318721533, 0.009727217257022858, 0.0011023484403267503, 0.00036442867713049054, 0.0034139559138566256, 0.0030523529276251793, 0.005698245484381914, 0.00029557303059846163, 0.7923206090927124, 0.0, 0.0, 0.0, 0.0, 0.0, 0.0, 0.0, 0.0], [0.0010461538331583142, 1.9557141058612615e-05, 1.7358943296130747e-06, 3.1030376703711227e-05, 2.7307954951538704e-05, 1.0180698062356441e-08, 4.815767624677392e-07, 1.749424711761094e-07, 7.31240987761339e-08, 7.983068712746899e-07, 3.4643101720632785e-09, 4.906718004349386e-06, 1.0718933651787665e-07, 2.3525483783259915e-09, 2.3834095941310807e-07, 1.3731333865507622e-06, 1.8288636161045702e-09, 6.247621531230152e-09, 9.208338269672822e-06, 1.6384271930292016e-06, 1.2523899695082719e-09, 8.27128976421676e-10, 8.45677095639985e-06, 3.118676431768108e-06, 9.241421849992548e-09, 0.9988435506820679, 0.0, 0.0, 0.0, 0.0, 0.0, 0.0, 0.0], [0.0010544898686930537, 0.00021373172057792544, 0.00028157164342701435, 0.0011373355519026518, 0.00014783910592086613, 2.0068473531864583e-06, 4.831345904676709e-06, 3.4823312944354257e-06, 5.1003303269681055e-06, 0.0001242046128027141, 9.301492127633537e-07, 1.058259113051463e-05, 1.1688251106534153e-05, 7.077497912177932e-07, 0.0034115887247025967, 0.00019905219960492104, 5.995600531605305e-07, 4.643032411877357e-07, 1.9585078916861676e-05, 0.00011087769962614402, 4.7500441269221483e-07, 3.2808813443807594e-07, 4.535345397016499e-06, 5.161693843547255e-05, 3.2474670774718106e-07, 1.3071345165371895e-05, 0.9931888580322266, 0.0, 0.0, 0.0, 0.0, 0.0, 0.0], [0.024200821295380592, 0.0028201343957334757, 0.004319303669035435, 0.0009108324302360415, 0.0017753969877958298, 0.003809922141954303, 0.002953327028080821, 0.016714811325073242, 0.0013931762659922242, 0.005003190599381924, 0.002276093466207385, 0.0005876422510482371, 0.0009901646990329027, 0.001806696760468185, 0.003131245030090213, 0.00023389424313791096, 0.001608274644240737, 0.009910316206514835, 0.0028539570048451424, 0.0002049517643172294, 0.0013712677173316479, 0.006919012870639563, 0.0010336583945900202, 0.00014528421161230654, 0.017489813268184662, 0.0004655321245081723, 0.00030240899650380015, 0.8847687840461731, 0.0, 0.0, 0.0, 0.0, 0.0], [0.0005256079020909965, 3.5286443562654313e-06, 1.7037654060914065e-06, 9.408161713508889e-05, 0.6647976040840149, 1.6531460289570532e-07, 9.511094845038315e-07, 8.886866567081597e-07, 1.7016682249959558e-05, 3.7421796150738373e-05, 6.832253518496145e-08, 9.810881238081492e-06, 7.54872289121522e-08, 4.9632514986797105e-08, 2.039385208263411e-06, 7.68653171689948e-06, 4.066836467586654e-08, 2.674426546889208e-08, 3.343185017001815e-05, 4.3410742023297644e-07, 3.007982485314642e-08, 3.206050891435552e-08, 4.900570274912752e-06, 3.0609364785050275e-06, 1.4603168452254067e-08, 2.2145499315229245e-05, 9.211144970322493e-06, 3.164266360045076e-08, 0.33442792296409607, 0.0, 0.0, 0.0, 0.0], [0.004677003715187311, 0.0002802134840749204, 8.346093818545341e-05, 3.157015271426644e-06, 4.065350367454812e-07, 1.334351367177078e-07, 2.642356230353471e-05, 1.14399881567806e-07, 2.787234620882373e-07, 3.7496097320399713e-06, 4.652897445112103e-08, 1.721399939924595e-06, 1.8165617632348585e-07, 3.148475968828279e-08, 1.8334264950681245e-07, 5.2147466789165264e-08, 2.5215808108214333e-08, 3.078440968806717e-08, 7.142029545548212e-08, 1.6640139932633247e-08, 1.7768222448921733e-08, 8.634525272555038e-08, 2.80096719507128e-06, 8.454143767266942e-07, 3.098357126418705e-08, 2.927863249624352e-07, 5.67622805647261e-07, 5.055421858912723e-09, 2.914097763095924e-08, 0.9949179887771606, 0.0, 0.0, 0.0], [5.63678695471026e-05, 0.0002002369292313233, 1.6319063433911651e-06, 1.5089314047145308e-06, 1.777969919203315e-05, 5.956430348952324e-10, 6.940362709428882e-06, 5.0340007717863955e-09, 2.168281127978844e-07, 1.7164239807243575e-06, 1.9326229505622905e-10, 1.8911388011133567e-08, 9.538822354215881e-08, 1.294685886277236e-10, 8.077134516781825e-09, 4.386611908557825e-05, 9.768646308527806e-11, 5.256069468551061e-10, 6.932163523742929e-05, 7.50586650610785e-08, 7.069277802029816e-11, 3.9880390545476985e-08, 1.0610256140353158e-05, 2.212068466178607e-06, 8.688617603169746e-10, 9.92846798908431e-06, 5.390084822920471e-09, 1.1354436835198101e-10, 3.060034941881895e-06, 3.894551241501176e-07, 0.9995738863945007, 0.0, 0.0], [0.00035569738247431815, 1.9489476471790113e-05, 9.16096723813098e-06, 1.3085251339362003e-05, 2.3808875994291157e-05, 2.971901658099796e-08, 4.1605944716138765e-05, 1.7756508441379992e-07, 6.896241870890663e-07, 1.050624064191652e-06, 1.2230765733534099e-08, 4.290543984097894e-06, 3.295830310889869e-07, 9.21108966878137e-09, 1.7466394410803332e-06, 4.68278949483647e-06, 7.44272510289079e-09, 9.673818190947259e-09, 3.9665097574470565e-05, 7.324891271309752e-07, 5.5436903956262995e-09, 1.0396705363291403e-07, 1.4401576663658489e-05, 8.87333953869529e-06, 5.98941607421466e-09, 1.5627783795935102e-05, 2.9811244530719705e-06, 6.8743553072181385e-09, 4.8546603466093075e-06, 7.0722649070376065e-06, 6.210685569385532e-06, 0.999423623085022, 0.0], [0.05455271899700165, 0.01642906479537487, 0.01600833795964718, 0.006986881606280804, 0.02488415315747261, 0.07376930862665176, 0.07933779805898666, 0.05594553053379059, 0.02726820483803749, 0.013368779793381691, 0.05590307340025902, 0.007223027292639017, 0.005426580552011728, 0.05012327805161476, 0.00827906746417284, 0.0030609630048274994, 0.04682297259569168, 0.04751850664615631, 0.002844945527613163, 0.00703797210007906, 0.04282715544104576, 0.051381904631853104, 0.02728237770497799, 0.026375338435173035, 0.02615920640528202, 0.011997988447546959, 0.006220120470970869, 0.03648781403899193, 0.011124703101813793, 0.005218563135713339, 0.0025592013262212276, 0.002604026347398758, 0.14697043597698212]], [[1.0, 0.0, 0.0, 0.0, 0.0, 0.0, 0.0, 0.0, 0.0, 0.0, 0.0, 0.0, 0.0, 0.0, 0.0, 0.0, 0.0, 0.0, 0.0, 0.0, 0.0, 0.0, 0.0, 0.0, 0.0, 0.0, 0.0, 0.0, 0.0, 0.0, 0.0, 0.0, 0.0], [0.9192656874656677, 0.08073429763317108, 0.0, 0.0, 0.0, 0.0, 0.0, 0.0, 0.0, 0.0, 0.0, 0.0, 0.0, 0.0, 0.0, 0.0, 0.0, 0.0, 0.0, 0.0, 0.0, 0.0, 0.0, 0.0, 0.0, 0.0, 0.0, 0.0, 0.0, 0.0, 0.0, 0.0, 0.0], [0.45437392592430115, 0.4265042543411255, 0.11912179738283157, 0.0, 0.0, 0.0, 0.0, 0.0, 0.0, 0.0, 0.0, 0.0, 0.0, 0.0, 0.0, 0.0, 0.0, 0.0, 0.0, 0.0, 0.0, 0.0, 0.0, 0.0, 0.0, 0.0, 0.0, 0.0, 0.0, 0.0, 0.0, 0.0, 0.0], [0.5267521739006042, 0.22321626543998718, 0.12420628219842911, 0.12582527101039886, 0.0, 0.0, 0.0, 0.0, 0.0, 0.0, 0.0, 0.0, 0.0, 0.0, 0.0, 0.0, 0.0, 0.0, 0.0, 0.0, 0.0, 0.0, 0.0, 0.0, 0.0, 0.0, 0.0, 0.0, 0.0, 0.0, 0.0, 0.0, 0.0], [0.3903488516807556, 0.17099405825138092, 0.06872710585594177, 0.1837182193994522, 0.1862117052078247, 0.0, 0.0, 0.0, 0.0, 0.0, 0.0, 0.0, 0.0, 0.0, 0.0, 0.0, 0.0, 0.0, 0.0, 0.0, 0.0, 0.0, 0.0, 0.0, 0.0, 0.0, 0.0, 0.0, 0.0, 0.0, 0.0, 0.0, 0.0], [0.19744233787059784, 0.25436845421791077, 0.14488448202610016, 0.18925854563713074, 0.20821937918663025, 0.0058267805725336075, 0.0, 0.0, 0.0, 0.0, 0.0, 0.0, 0.0, 0.0, 0.0, 0.0, 0.0, 0.0, 0.0, 0.0, 0.0, 0.0, 0.0, 0.0, 0.0, 0.0, 0.0, 0.0, 0.0, 0.0, 0.0, 0.0, 0.0], [0.19473569095134735, 0.13241828978061676, 0.14391925930976868, 0.15120740234851837, 0.3002447485923767, 0.02058464102447033, 0.05688997730612755, 0.0, 0.0, 0.0, 0.0, 0.0, 0.0, 0.0, 0.0, 0.0, 0.0, 0.0, 0.0, 0.0, 0.0, 0.0, 0.0, 0.0, 0.0, 0.0, 0.0, 0.0, 0.0, 0.0, 0.0, 0.0, 0.0], [0.1269666850566864, 0.21597379446029663, 0.16089318692684174, 0.19698835909366608, 0.1884462833404541, 0.013544930145144463, 0.07520709931850433, 0.021979710087180138, 0.0, 0.0, 0.0, 0.0, 0.0, 0.0, 0.0, 0.0, 0.0, 0.0, 0.0, 0.0, 0.0, 0.0, 0.0, 0.0, 0.0, 0.0, 0.0, 0.0, 0.0, 0.0, 0.0, 0.0, 0.0], [0.29121237993240356, 0.05954227223992348, 0.11079410463571548, 0.09717856347560883, 0.22345608472824097, 0.016262581571936607, 0.08719439804553986, 0.02476230077445507, 0.08959738910198212, 0.0, 0.0, 0.0, 0.0, 0.0, 0.0, 0.0, 0.0, 0.0, 0.0, 0.0, 0.0, 0.0, 0.0, 0.0, 0.0, 0.0, 0.0, 0.0, 0.0, 0.0, 0.0, 0.0, 0.0], [0.22981953620910645, 0.03802677243947983, 0.1601383537054062, 0.11780407279729843, 0.1618119776248932, 0.035528186708688736, 0.07561112195253372, 0.02075604349374771, 0.10670627653598785, 0.05379772558808327, 0.0, 0.0, 0.0, 0.0, 0.0, 0.0, 0.0, 0.0, 0.0, 0.0, 0.0, 0.0, 0.0, 0.0, 0.0, 0.0, 0.0, 0.0, 0.0, 0.0, 0.0, 0.0, 0.0], [0.13314425945281982, 0.1885865479707718, 0.10808098316192627, 0.15994973480701447, 0.1773921400308609, 0.00359801365993917, 0.02506207674741745, 0.012862920761108398, 0.07453092187643051, 0.11275241523981094, 0.004039980936795473, 0.0, 0.0, 0.0, 0.0, 0.0, 0.0, 0.0, 0.0, 0.0, 0.0, 0.0, 0.0, 0.0, 0.0, 0.0, 0.0, 0.0, 0.0, 0.0, 0.0, 0.0, 0.0], [0.167464017868042, 0.1435522437095642, 0.06118571013212204, 0.17358075082302094, 0.10113829374313354, 0.017553476616740227, 0.03239529952406883, 0.007995500229299068, 0.05453449860215187, 0.07883203774690628, 0.017258208245038986, 0.144509956240654, 0.0, 0.0, 0.0, 0.0, 0.0, 0.0, 0.0, 0.0, 0.0, 0.0, 0.0, 0.0, 0.0, 0.0, 0.0, 0.0, 0.0, 0.0, 0.0, 0.0, 0.0], [0.26996827125549316, 0.13029064238071442, 0.06605683267116547, 0.061561428010463715, 0.08437129855155945, 0.01984662376344204, 0.016312789171934128, 0.012965924106538296, 0.03231464698910713, 0.052547939121723175, 0.01986861042678356, 0.13695643842220306, 0.09693863242864609, 0.0, 0.0, 0.0, 0.0, 0.0, 0.0, 0.0, 0.0, 0.0, 0.0, 0.0, 0.0, 0.0, 0.0, 0.0, 0.0, 0.0, 0.0, 0.0, 0.0], [0.09820352494716644, 0.13618652522563934, 0.08005780726671219, 0.12152861058712006, 0.1357937753200531, 0.0024323556572198868, 0.017789484933018684, 0.009086490608751774, 0.056375276297330856, 0.08521635085344315, 0.002753338310867548, 0.1520378440618515, 0.0994671881198883, 0.003071404527872801, 0.0, 0.0, 0.0, 0.0, 0.0, 0.0, 0.0, 0.0, 0.0, 0.0, 0.0, 0.0, 0.0, 0.0, 0.0, 0.0, 0.0, 0.0, 0.0], [0.1701289564371109, 0.08885712176561356, 0.09089688956737518, 0.08085790276527405, 0.11427339166402817, 0.010901481844484806, 0.014788410626351833, 0.005497373174875975, 0.051512572914361954, 0.05330684408545494, 0.01059581246227026, 0.0944228246808052, 0.13098116219043732, 0.011153684929013252, 0.07182559370994568, 0.0, 0.0, 0.0, 0.0, 0.0, 0.0, 0.0, 0.0, 0.0, 0.0, 0.0, 0.0, 0.0, 0.0, 0.0, 0.0, 0.0, 0.0], [0.10365854948759079, 0.035885412245988846, 0.08803566545248032, 0.06087937578558922, 0.08348330110311508, 0.030805736780166626, 0.02961592748761177, 0.010918701998889446, 0.04049993306398392, 0.042886074632406235, 0.032192956656217575, 0.15008126199245453, 0.12658774852752686, 0.034902174025774, 0.05825433507561684, 0.07131282240152359, 0.0, 0.0, 0.0, 0.0, 0.0, 0.0, 0.0, 0.0, 0.0, 0.0, 0.0, 0.0, 0.0, 0.0, 0.0, 0.0, 0.0], [0.07047095149755478, 0.0960099920630455, 0.05621575564146042, 0.08699890226125717, 0.0993412658572197, 0.0016298794653266668, 0.012408613227307796, 0.006380433216691017, 0.041014060378074646, 0.06348714977502823, 0.0018482194282114506, 0.11387647688388824, 0.07328981161117554, 0.002071293769404292, 0.07246169447898865, 0.20012779533863068, 0.002367776120081544, 0.0, 0.0, 0.0, 0.0, 0.0, 0.0, 0.0, 0.0, 0.0, 0.0, 0.0, 0.0, 0.0, 0.0, 0.0, 0.0], [0.056594450026750565, 0.08906210213899612, 0.047032419592142105, 0.09457877278327942, 0.08793887495994568, 0.0019721658900380135, 0.01776767522096634, 0.0059904372319579124, 0.060148607939481735, 0.08834967762231827, 0.002263767411932349, 0.10461525619029999, 0.0607936829328537, 0.0025566243566572666, 0.07818624377250671, 0.19496023654937744, 0.0029299866873770952, 0.004259060136973858, 0.0, 0.0, 0.0, 0.0, 0.0, 0.0, 0.0, 0.0, 0.0, 0.0, 0.0, 0.0, 0.0, 0.0, 0.0], [0.15970617532730103, 0.026096448302268982, 0.04515179619193077, 0.0349758043885231, 0.0803067609667778, 0.05469035357236862, 0.040785446763038635, 0.026513049378991127, 0.02725192718207836, 0.03919817507266998, 0.053514350205659866, 0.0484292134642601, 0.0626426562666893, 0.05558209866285324, 0.055596668273210526, 0.047929611057043076, 0.056763261556625366, 0.04892301186919212, 0.035943202674388885, 0.0, 0.0, 0.0, 0.0, 0.0, 0.0, 0.0, 0.0, 0.0, 0.0, 0.0, 0.0, 0.0, 0.0], [0.08663123846054077, 0.09557438641786575, 0.03673812374472618, 0.06946706771850586, 0.056814584881067276, 0.008190209977328777, 0.022195829078555107, 0.007642821874469519, 0.031468264758586884, 0.07555205374956131, 0.008965261280536652, 0.05263480544090271, 0.04491107910871506, 0.009935053996741772, 0.04481377825140953, 0.15198467671871185, 0.010933401063084602, 0.007993677631020546, 0.16402563452720642, 0.013528109528124332, 0.0, 0.0, 0.0, 0.0, 0.0, 0.0, 0.0, 0.0, 0.0, 0.0, 0.0, 0.0, 0.0], [0.047834526747465134, 0.06669355928897858, 0.03798918053507805, 0.06040370464324951, 0.06899041682481766, 0.0010267295874655247, 0.008172672241926193, 0.004158169962465763, 0.028268281370401382, 0.04407241567969322, 0.0011586470063775778, 0.0783291682600975, 0.05082899332046509, 0.0013004966313019395, 0.04904298111796379, 0.14145006239414215, 0.0014934326754882932, 0.002556685358285904, 0.17534077167510986, 0.12910206615924835, 0.0017870552837848663, 0.0, 0.0, 0.0, 0.0, 0.0, 0.0, 0.0, 0.0, 0.0, 0.0, 0.0, 0.0], [0.04114091023802757, 0.04766076058149338, 0.03587000072002411, 0.0666610524058342, 0.07969273626804352, 0.0023650776129215956, 0.02034018002450466, 0.004854495171457529, 0.0643620416522026, 0.06737155467271805, 0.0027073693927377462, 0.055960532277822495, 0.056486643850803375, 0.003076725173741579, 0.053543876856565475, 0.1516592800617218, 0.0035397117026150227, 0.004673930816352367, 0.164027139544487, 0.059681568294763565, 0.004154943395406008, 0.010169516317546368, 0.0, 0.0, 0.0, 0.0, 0.0, 0.0, 0.0, 0.0, 0.0, 0.0, 0.0], [0.0662880688905716, 0.040925417095422745, 0.027322685346007347, 0.045053672045469284, 0.06575217097997665, 0.015657564625144005, 0.02788187935948372, 0.013711261563003063, 0.03174294903874397, 0.05280747637152672, 0.015447773970663548, 0.032181113958358765, 0.032901063561439514, 0.016298862174153328, 0.0266366396099329, 0.09772849828004837, 0.01711420528590679, 0.0169194545596838, 0.09847067296504974, 0.04787907376885414, 0.018412543460726738, 0.015331601724028587, 0.17753538489341736, 0.0, 0.0, 0.0, 0.0, 0.0, 0.0, 0.0, 0.0, 0.0, 0.0], [0.09801430255174637, 0.02632881887257099, 0.035868145525455475, 0.057130590081214905, 0.06943875551223755, 0.012128960341215134, 0.020909082144498825, 0.008747957646846771, 0.026999661698937416, 0.03726678714156151, 0.011716341599822044, 0.08499537408351898, 0.05501335486769676, 0.012196708470582962, 0.035639114677906036, 0.08789660781621933, 0.01297010388225317, 0.010851019993424416, 0.06408388167619705, 0.05963919684290886, 0.01449217926710844, 0.006093734409660101, 0.09761437028646469, 0.05396497994661331, 0.0, 0.0, 0.0, 0.0, 0.0, 0.0, 0.0, 0.0, 0.0], [0.027693241834640503, 0.04073772206902504, 0.031223539263010025, 0.058790355920791626, 0.05601824074983597, 0.0015714798355475068, 0.011908036656677723, 0.0033397905062884092, 0.051765505224466324, 0.05291245877742767, 0.001825982122682035, 0.06030035763978958, 0.028357168659567833, 0.0020878103096038103, 0.05086478590965271, 0.07898837327957153, 0.0023987048771232367, 0.002904826309531927, 0.11135736107826233, 0.04586018994450569, 0.0028849169611930847, 0.011431248858571053, 0.1234055683016777, 0.1348847597837448, 0.006487556267529726, 0.0, 0.0, 0.0, 0.0, 0.0, 0.0, 0.0, 0.0], [0.15390776097774506, 0.023786790668964386, 0.053202446550130844, 0.039638858288526535, 0.05711061879992485, 0.015628937631845474, 0.020206067711114883, 0.009252368472516537, 0.02131185680627823, 0.029029950499534607, 0.01474190317094326, 0.0612383633852005, 0.10112591087818146, 0.015157820656895638, 0.04335401952266693, 0.04090718552470207, 0.0157326590269804, 0.020073413848876953, 0.05374934524297714, 0.03468615934252739, 0.016989367082715034, 0.006368496920913458, 0.04042016342282295, 0.031060412526130676, 0.013937164098024368, 0.06738193333148956, 0.0, 0.0, 0.0, 0.0, 0.0, 0.0, 0.0], [0.08555092662572861, 0.03505741059780121, 0.05885254591703415, 0.03497907146811485, 0.051787443459033966, 0.0025119909550994635, 0.004151215776801109, 0.0020859164651483297, 0.014081118628382683, 0.024491356685757637, 0.0023760043550282717, 0.0953511968255043, 0.07766133546829224, 0.0024908813647925854, 0.04572675749659538, 0.05774116516113281, 0.0026603781152516603, 0.0033477565739303827, 0.047998279333114624, 0.026788819581270218, 0.002958715660497546, 0.004655787721276283, 0.036070987582206726, 0.021599194034934044, 0.004788634832948446, 0.22052207589149475, 0.033713050186634064, 0.0, 0.0, 0.0, 0.0, 0.0, 0.0], [0.020706715062260628, 0.037194058299064636, 0.019723709672689438, 0.038942236453294754, 0.03182700276374817, 0.0012253682361915708, 0.008815746754407883, 0.0024052909575402737, 0.034579578787088394, 0.04729808494448662, 0.0013953758170828223, 0.05148205906152725, 0.020486745983362198, 0.0015608397079631686, 0.038261182606220245, 0.0486375130712986, 0.0017825296381488442, 0.0025446084327995777, 0.06541350483894348, 0.0418856218457222, 0.002096058102324605, 0.009401388466358185, 0.0846002995967865, 0.09019993990659714, 0.0054032769985497, 0.22932566702365875, 0.05692271143198013, 0.0058829206973314285, 0.0, 0.0, 0.0, 0.0, 0.0], [0.08582810312509537, 0.03967174515128136, 0.014841817319393158, 0.05653620511293411, 0.059606119990348816, 0.006987516302615404, 0.010110092349350452, 0.0028877267614006996, 0.0153228510171175, 0.025928765535354614, 0.006830443628132343, 0.033548954874277115, 0.02109353058040142, 0.007213154342025518, 0.01932339556515217, 0.05298227071762085, 0.007658609189093113, 0.0051578436978161335, 0.0652318149805069, 0.018170004710555077, 0.008534704335033894, 0.00436816643923521, 0.02691243216395378, 0.049627941101789474, 0.004404332488775253, 0.1938866823911667, 0.03933223336935043, 0.005363552365452051, 0.11263895779848099, 0.0, 0.0, 0.0, 0.0], [0.07040347158908844, 0.059261634945869446, 0.015334844589233398, 0.0241390448063612, 0.015728846192359924, 0.01949210837483406, 0.01731151156127453, 0.017303064465522766, 0.020563246682286263, 0.045155856758356094, 0.021815823391079903, 0.07079729437828064, 0.03006395325064659, 0.023540621623396873, 0.020684488117694855, 0.02116367220878601, 0.026445116847753525, 0.02354004979133606, 0.05663725733757019, 0.033694788813591, 0.030707282945513725, 0.015993358567357063, 0.015474077314138412, 0.0308036208152771, 0.03180558979511261, 0.07969609647989273, 0.034374888986349106, 0.03453715518116951, 0.030624374747276306, 0.062906913459301, 0.0, 0.0, 0.0], [0.05338500067591667, 0.029621528461575508, 0.021030085161328316, 0.02369570918381214, 0.033436402678489685, 0.01839382015168667, 0.024060703814029694, 0.02281002141535282, 0.013972364366054535, 0.028813553974032402, 0.019059734418988228, 0.015371961519122124, 0.025335321202874184, 0.019971955567598343, 0.014075742103159428, 0.0388445183634758, 0.021346205845475197, 0.019321443513035774, 0.05632658302783966, 0.021359993144869804, 0.023394571617245674, 0.023136651143431664, 0.06416381150484085, 0.06724690645933151, 0.0346951000392437, 0.04349018633365631, 0.03032725304365158, 0.03285714238882065, 0.05327507480978966, 0.0659981295466423, 0.041182469576597214, 0.0, 0.0], [0.18177087604999542, 0.01953315921127796, 0.028002941980957985, 0.029110200703144073, 0.04134833812713623, 0.018019484356045723, 0.01047173049300909, 0.008382915519177914, 0.015335788019001484, 0.021839458495378494, 0.016893334686756134, 0.03806137666106224, 0.03643865883350372, 0.017464254051446915, 0.02612907811999321, 0.040115050971508026, 0.01831720396876335, 0.01248822920024395, 0.05136970430612564, 0.019443845376372337, 0.01988975703716278, 0.0035764502827078104, 0.026232954114675522, 0.018429197371006012, 0.011723745614290237, 0.032729849219322205, 0.0348081961274147, 0.012035045772790909, 0.06030292063951492, 0.007873311638832092, 0.042272940278053284, 0.07959001511335373, 0.0], [0.015003406442701817, 0.02033485285937786, 0.007813435979187489, 0.016553577035665512, 0.016466092318296432, 0.00023809658887330443, 0.0019598924554884434, 0.00068982585798949, 0.006483219563961029, 0.01073408406227827, 0.0002443529083393514, 0.014634677208960056, 0.009247622452676296, 0.00026059203082695603, 0.009339921176433563, 0.04272656515240669, 0.00028863936313427985, 0.0003811671631410718, 0.05474938452243805, 0.09452768415212631, 0.0003421127621550113, 0.0017270202515646815, 0.04745931923389435, 0.02661379799246788, 0.0010238660033792257, 0.1653798371553421, 0.014187103137373924, 0.0013092354638502002, 0.047706522047519684, 0.011198497377336025, 0.22050756216049194, 0.139426127076149, 0.00044186273589730263]], [[1.0, 0.0, 0.0, 0.0, 0.0, 0.0, 0.0, 0.0, 0.0, 0.0, 0.0, 0.0, 0.0, 0.0, 0.0, 0.0, 0.0, 0.0, 0.0, 0.0, 0.0, 0.0, 0.0, 0.0, 0.0, 0.0, 0.0, 0.0, 0.0, 0.0, 0.0, 0.0, 0.0], [0.9333657622337341, 0.06663426756858826, 0.0, 0.0, 0.0, 0.0, 0.0, 0.0, 0.0, 0.0, 0.0, 0.0, 0.0, 0.0, 0.0, 0.0, 0.0, 0.0, 0.0, 0.0, 0.0, 0.0, 0.0, 0.0, 0.0, 0.0, 0.0, 0.0, 0.0, 0.0, 0.0, 0.0, 0.0], [0.32452353835105896, 0.5923718810081482, 0.08310452848672867, 0.0, 0.0, 0.0, 0.0, 0.0, 0.0, 0.0, 0.0, 0.0, 0.0, 0.0, 0.0, 0.0, 0.0, 0.0, 0.0, 0.0, 0.0, 0.0, 0.0, 0.0, 0.0, 0.0, 0.0, 0.0, 0.0, 0.0, 0.0, 0.0, 0.0], [0.14159750938415527, 0.5143810510635376, 0.28144124150276184, 0.0625801756978035, 0.0, 0.0, 0.0, 0.0, 0.0, 0.0, 0.0, 0.0, 0.0, 0.0, 0.0, 0.0, 0.0, 0.0, 0.0, 0.0, 0.0, 0.0, 0.0, 0.0, 0.0, 0.0, 0.0, 0.0, 0.0, 0.0, 0.0, 0.0, 0.0], [0.25262272357940674, 0.05834071338176727, 0.10458876192569733, 0.4411158859729767, 0.14333191514015198, 0.0, 0.0, 0.0, 0.0, 0.0, 0.0, 0.0, 0.0, 0.0, 0.0, 0.0, 0.0, 0.0, 0.0, 0.0, 0.0, 0.0, 0.0, 0.0, 0.0, 0.0, 0.0, 0.0, 0.0, 0.0, 0.0, 0.0, 0.0], [0.18051555752754211, 0.09828909486532211, 0.10873951762914658, 0.122626893222332, 0.0999554768204689, 0.38987353444099426, 0.0, 0.0, 0.0, 0.0, 0.0, 0.0, 0.0, 0.0, 0.0, 0.0, 0.0, 0.0, 0.0, 0.0, 0.0, 0.0, 0.0, 0.0, 0.0, 0.0, 0.0, 0.0, 0.0, 0.0, 0.0, 0.0, 0.0], [0.17192305624485016, 0.023321006447076797, 0.12332706898450851, 0.060765016824007034, 0.05971711501479149, 0.3475918471813202, 0.2133549153804779, 0.0, 0.0, 0.0, 0.0, 0.0, 0.0, 0.0, 0.0, 0.0, 0.0, 0.0, 0.0, 0.0, 0.0, 0.0, 0.0, 0.0, 0.0, 0.0, 0.0, 0.0, 0.0, 0.0, 0.0, 0.0, 0.0], [0.09627038985490799, 0.04683620482683182, 0.028257310390472412, 0.03239251673221588, 0.0586504265666008, 0.15829351544380188, 0.3099648654460907, 0.2693347632884979, 0.0, 0.0, 0.0, 0.0, 0.0, 0.0, 0.0, 0.0, 0.0, 0.0, 0.0, 0.0, 0.0, 0.0, 0.0, 0.0, 0.0, 0.0, 0.0, 0.0, 0.0, 0.0, 0.0, 0.0, 0.0], [0.09948233515024185, 0.06464185565710068, 0.028671834617853165, 0.07305675745010376, 0.02978719212114811, 0.1396002173423767, 0.20754706859588623, 0.265802264213562, 0.09141051769256592, 0.0, 0.0, 0.0, 0.0, 0.0, 0.0, 0.0, 0.0, 0.0, 0.0, 0.0, 0.0, 0.0, 0.0, 0.0, 0.0, 0.0, 0.0, 0.0, 0.0, 0.0, 0.0, 0.0, 0.0], [0.05632038041949272, 0.029885873198509216, 0.013419919647276402, 0.002407554304227233, 0.013245483860373497, 0.04564544931054115, 0.0552256777882576, 0.10027099400758743, 0.6579986214637756, 0.025580093264579773, 0.0, 0.0, 0.0, 0.0, 0.0, 0.0, 0.0, 0.0, 0.0, 0.0, 0.0, 0.0, 0.0, 0.0, 0.0, 0.0, 0.0, 0.0, 0.0, 0.0, 0.0, 0.0, 0.0], [0.04266995191574097, 0.010426480323076248, 0.010652214288711548, 0.013446636497974396, 0.009353146888315678, 0.04015978425741196, 0.0710517168045044, 0.13737653195858002, 0.10423264652490616, 0.21736642718315125, 0.3432644307613373, 0.0, 0.0, 0.0, 0.0, 0.0, 0.0, 0.0, 0.0, 0.0, 0.0, 0.0, 0.0, 0.0, 0.0, 0.0, 0.0, 0.0, 0.0, 0.0, 0.0, 0.0, 0.0], [0.029683906584978104, 0.0025616411585360765, 0.004407484084367752, 0.0342487134039402, 0.014238744974136353, 0.02800183929502964, 0.02228802815079689, 0.07105959206819534, 0.04026231914758682, 0.5543042421340942, 0.17333045601844788, 0.025613006204366684, 0.0, 0.0, 0.0, 0.0, 0.0, 0.0, 0.0, 0.0, 0.0, 0.0, 0.0, 0.0, 0.0, 0.0, 0.0, 0.0, 0.0, 0.0, 0.0, 0.0, 0.0], [0.04039590805768967, 0.008631582371890545, 0.005494220182299614, 0.003864138852804899, 0.02336309663951397, 0.027207026258111, 0.025677349418401718, 0.05048520863056183, 0.05105610564351082, 0.05041782185435295, 0.14164340496063232, 0.511528491973877, 0.0602356381714344, 0.0, 0.0, 0.0, 0.0, 0.0, 0.0, 0.0, 0.0, 0.0, 0.0, 0.0, 0.0, 0.0, 0.0, 0.0, 0.0, 0.0, 0.0, 0.0, 0.0], [0.028706423938274384, 0.004808463156223297, 0.004723660182207823, 0.005382605362683535, 0.003456041682511568, 0.014470180496573448, 0.024037392809987068, 0.041626233607530594, 0.03567291423678398, 0.07060736417770386, 0.10830995440483093, 0.05811615660786629, 0.20621225237846375, 0.39387041330337524, 0.0, 0.0, 0.0, 0.0, 0.0, 0.0, 0.0, 0.0, 0.0, 0.0, 0.0, 0.0, 0.0, 0.0, 0.0, 0.0, 0.0, 0.0, 0.0], [0.05342648923397064, 0.011923294514417648, 0.015572263859212399, 0.002112326677888632, 0.005851034075021744, 0.02217094972729683, 0.03818470612168312, 0.027411576360464096, 0.05464286729693413, 0.0491083487868309, 0.1232837438583374, 0.05287173017859459, 0.07545652985572815, 0.37015295028686523, 0.09783122688531876, 0.0, 0.0, 0.0, 0.0, 0.0, 0.0, 0.0, 0.0, 0.0, 0.0, 0.0, 0.0, 0.0, 0.0, 0.0, 0.0, 0.0, 0.0], [0.008346715942025185, 0.0002785271208267659, 0.0011785998940467834, 0.002139551565051079, 0.0024761699605733156, 0.002918292535468936, 0.004576892592012882, 0.00396559527143836, 0.004973019473254681, 0.011347760446369648, 0.013014075346291065, 0.0055459714494645596, 0.020895585417747498, 0.03838541731238365, 0.8750316500663757, 0.004926192108541727, 0.0, 0.0, 0.0, 0.0, 0.0, 0.0, 0.0, 0.0, 0.0, 0.0, 0.0, 0.0, 0.0, 0.0, 0.0, 0.0, 0.0], [0.021700292825698853, 0.00267866556532681, 0.0023839252535253763, 0.002815628657117486, 0.001556234317831695, 0.0061394087970256805, 0.009039806202054024, 0.013740871101617813, 0.01241220161318779, 0.02468651905655861, 0.03406905010342598, 0.017561480402946472, 0.06082956865429878, 0.12004051357507706, 0.11516807973384857, 0.1266368180513382, 0.428540974855423, 0.0, 0.0, 0.0, 0.0, 0.0, 0.0, 0.0, 0.0, 0.0, 0.0, 0.0, 0.0, 0.0, 0.0, 0.0, 0.0], [0.019681399688124657, 0.0028661908581852913, 0.002752863336354494, 0.0023642026353627443, 0.002220575697720051, 0.004776976071298122, 0.00501539371907711, 0.007020775228738785, 0.006603001616895199, 0.015824897214770317, 0.021779123693704605, 0.02237590402364731, 0.03905554488301277, 0.07342635840177536, 0.07227571308612823, 0.0810362920165062, 0.2556319832801819, 0.36529284715652466, 0.0, 0.0, 0.0, 0.0, 0.0, 0.0, 0.0, 0.0, 0.0, 0.0, 0.0, 0.0, 0.0, 0.0, 0.0], [0.03443866968154907, 0.002429508138448, 0.0027038801927119493, 0.0010108943097293377, 0.002821240806952119, 0.009310664609074593, 0.007474072743207216, 0.010526394471526146, 0.01934260129928589, 0.0065833935514092445, 0.03052525781095028, 0.008166545070707798, 0.023945637047290802, 0.08047980815172195, 0.04428938031196594, 0.04886513203382492, 0.23266316950321198, 0.3870972990989685, 0.04732641950249672, 0.0, 0.0, 0.0, 0.0, 0.0, 0.0, 0.0, 0.0, 0.0, 0.0, 0.0, 0.0, 0.0, 0.0], [0.0036976842675358057, 0.006450955290347338, 0.0004921724321320653, 0.00030695926398038864, 0.00012400784180499613, 0.001072736456990242, 0.000885879504494369, 0.001380637171678245, 0.0008200182928703725, 0.00027311884332448244, 0.002783067524433136, 0.03529432415962219, 0.003561380784958601, 0.007148327771574259, 0.0016474088188260794, 0.016731666401028633, 0.01917281746864319, 0.022339215502142906, 0.8733667135238647, 0.002450962085276842, 0.0, 0.0, 0.0, 0.0, 0.0, 0.0, 0.0, 0.0, 0.0, 0.0, 0.0, 0.0, 0.0], [0.013628792949020863, 0.0014384448295459151, 0.0012188645778223872, 0.0012915857369080186, 0.0006118026794865727, 0.0021400393452495337, 0.002746958052739501, 0.0033360461238771677, 0.0030918740667402744, 0.0059889210388064384, 0.007237222045660019, 0.0035477462224662304, 0.012891962192952633, 0.022229157388210297, 0.020824270322918892, 0.026295337826013565, 0.07648159563541412, 0.162614643573761, 0.12638668715953827, 0.10034441947937012, 0.4056536853313446, 0.0, 0.0, 0.0, 0.0, 0.0, 0.0, 0.0, 0.0, 0.0, 0.0, 0.0, 0.0], [0.021433012560009956, 0.0007291650981642306, 0.0010889684781432152, 0.0008559622219763696, 0.0010556617053225636, 0.0023542488925158978, 0.0018633351428434253, 0.0024869900662451982, 0.004011370707303286, 0.00364562775939703, 0.006636614911258221, 0.00245916610583663, 0.008106647059321404, 0.019501417875289917, 0.013945517130196095, 0.01683160662651062, 0.06727857887744904, 0.1020374596118927, 0.07506173104047775, 0.03785506263375282, 0.3474157154560089, 0.2633461356163025, 0.0, 0.0, 0.0, 0.0, 0.0, 0.0, 0.0, 0.0, 0.0, 0.0, 0.0], [0.01837441883981228, 0.0016340133734047413, 0.0002648659865371883, 0.0006277092033997178, 0.0007212881464511156, 0.0022947099059820175, 0.0014375781174749136, 0.0024335701018571854, 0.0010225052246823907, 0.002173095243051648, 0.005665970500558615, 0.0005857062060385942, 0.004730303306132555, 0.015789635479450226, 0.0091210613027215, 0.006447893567383289, 0.049651872366666794, 0.07221094518899918, 0.04530426114797592, 0.022536201402544975, 0.2338051199913025, 0.2810095250606537, 0.22215774655342102, 0.0, 0.0, 0.0, 0.0, 0.0, 0.0, 0.0, 0.0, 0.0, 0.0], [0.01601029559969902, 0.0004190771433059126, 0.0016793134855106473, 0.002033165656030178, 0.0011126038152724504, 0.0023041246458888054, 0.0016414874698966742, 0.0020452288445085287, 0.0008826451958157122, 0.0035318168811500072, 0.004660747945308685, 0.0011461275862529874, 0.004025280009955168, 0.011729467660188675, 0.006906019523739815, 0.0059789856895804405, 0.0341360978782177, 0.05391989275813103, 0.07536924630403519, 0.015544163063168526, 0.15307274460792542, 0.21672502160072327, 0.23267339169979095, 0.15245306491851807, 0.0, 0.0, 0.0, 0.0, 0.0, 0.0, 0.0, 0.0, 0.0], [0.016415517777204514, 0.001088100136257708, 0.0013027014210820198, 0.0012335635256022215, 0.0010325235780328512, 0.0013605313142761588, 0.001135275699198246, 0.000971320434473455, 0.0017580223502591252, 0.002354996744543314, 0.0022677977103739977, 0.002617006190121174, 0.003284963546320796, 0.005564447026699781, 0.007287747226655483, 0.006582668982446194, 0.016911085695028305, 0.023348139598965645, 0.033363766968250275, 0.012060868553817272, 0.08410526067018509, 0.10776983201503754, 0.12741325795650482, 0.25009581446647644, 0.28867483139038086, 0.0, 0.0, 0.0, 0.0, 0.0, 0.0, 0.0, 0.0], [0.031117742881178856, 0.0015063059981912374, 0.0010839333990588784, 0.0024215239100158215, 0.0013826872454956174, 0.0037937278393656015, 0.001633930834941566, 0.0031195227056741714, 0.001281263306736946, 0.0020685256458818913, 0.004760121461004019, 0.0008757328032515943, 0.008592117577791214, 0.009353645145893097, 0.011993257328867912, 0.005963009782135487, 0.022028164938092232, 0.034113284200429916, 0.009586768224835396, 0.013681805692613125, 0.08417056500911713, 0.08917810767889023, 0.10806842148303986, 0.1556078940629959, 0.37236839532852173, 0.020249489694833755, 0.0, 0.0, 0.0, 0.0, 0.0, 0.0, 0.0], [0.014838478527963161, 0.0005757309845648706, 0.004743654280900955, 0.00045677347225137055, 0.0007412285194732249, 0.0015000004786998034, 0.0008866074495017529, 0.0008452078909613192, 0.00010359274165239185, 0.0009065137710422277, 0.001809678040444851, 0.06029113009572029, 0.0015377546660602093, 0.0033079427666962147, 0.0013713676016777754, 0.002082675229758024, 0.00864398293197155, 0.00908886082470417, 0.007760951295495033, 0.005808333866298199, 0.03386512026190758, 0.039871860295534134, 0.053745534271001816, 0.03694774582982063, 0.1225944235920906, 0.5718704462051392, 0.013804461807012558, 0.0, 0.0, 0.0, 0.0, 0.0, 0.0], [0.01857003942131996, 0.001214318908751011, 0.0012880443828180432, 0.0010612577898427844, 0.0007490054122172296, 0.00104856479447335, 0.0008687893277965486, 0.0005973864463157952, 0.001293829525820911, 0.001404253882355988, 0.0011055117938667536, 0.0005003456026315689, 0.0020262643229216337, 0.0021463159937411547, 0.0028737951070070267, 0.0026413712184876204, 0.005802985280752182, 0.008191375993192196, 0.00833908375352621, 0.005543312523514032, 0.026558667421340942, 0.03308920934796333, 0.03250737488269806, 0.09199848771095276, 0.10410472005605698, 0.16861790418624878, 0.20895421504974365, 0.2669035494327545, 0.0, 0.0, 0.0, 0.0, 0.0], [0.016654422506690025, 0.0007248655892908573, 0.0008980649872682989, 0.0031616862397640944, 0.0005522817373275757, 0.001660726498812437, 0.0007486108806915581, 0.0009652801672928035, 0.0003842795267701149, 0.0022577804047614336, 0.0015545624773949385, 0.000703699653968215, 0.0014688166556879878, 0.002799883484840393, 0.0030139803420752287, 0.005369036458432674, 0.006552345585078001, 0.00870156567543745, 0.0071388608776032925, 0.00651632621884346, 0.02618558146059513, 0.03929201140999794, 0.0315500944852829, 0.02434304729104042, 0.1067076027393341, 0.15159794688224792, 0.13674215972423553, 0.32013967633247375, 0.09161478281021118, 0.0, 0.0, 0.0, 0.0], [0.03722686320543289, 0.0007442747009918094, 0.0019180356757715344, 0.0014290646649897099, 0.002559736603870988, 0.00329283787868917, 0.0009007269982248545, 0.0015445102471858263, 0.00035572159686125815, 0.0004492738808039576, 0.0026688207872211933, 0.0014046673895791173, 0.0017281032633036375, 0.004542735870927572, 0.0012941038003191352, 0.004677667748183012, 0.009138188324868679, 0.008992953225970268, 0.005343664437532425, 0.0020318396855145693, 0.030930884182453156, 0.021215267479419708, 0.03639974817633629, 0.05679469183087349, 0.11195951700210571, 0.011458112858235836, 0.03353290632367134, 0.26588523387908936, 0.24695421755313873, 0.09262565523386002, 0.0, 0.0, 0.0], [0.044088784605264664, 0.0011082937708124518, 0.0033875901717692614, 0.004853192251175642, 0.002864320995286107, 0.00450086547061801, 0.001451809424906969, 0.002192495157942176, 0.0007902366924099624, 0.0006717380019836128, 0.0035771613474935293, 0.0005131777143105865, 0.012861722148954868, 0.0051168520003557205, 0.0030142557807266712, 0.005887469742447138, 0.010453404858708382, 0.013818339444696903, 0.00869105663150549, 0.011229275725781918, 0.03140093758702278, 0.023181643337011337, 0.030444398522377014, 0.035206835716962814, 0.09999856352806091, 0.006090160924941301, 0.14714236557483673, 0.16393059492111206, 0.12749522924423218, 0.19357727468013763, 0.0004599906678777188, 0.0, 0.0], [0.037174027413129807, 0.005006894003599882, 0.0016112340381368995, 0.0028301484417170286, 0.000511850172188133, 0.0027071270160377026, 0.002097034128382802, 0.0012328779557719827, 0.0006310886819846928, 0.0017632486997172236, 0.0017868793802335858, 0.0002528328914195299, 0.0010720754507929087, 0.002644835039973259, 0.0015661607030779123, 0.003808412002399564, 0.005276739131659269, 0.006930261384695768, 0.013310829177498817, 0.0035816438030451536, 0.018304521217942238, 0.026684733107686043, 0.019971519708633423, 0.032155781984329224, 0.07432040572166443, 0.023922255262732506, 0.08761473745107651, 0.18007546663284302, 0.027492547407746315, 0.059722479432821274, 0.19122697412967682, 0.16271239519119263, 0.0], [0.008116938173770905, 0.0008723060018382967, 0.0003707293653860688, 0.0004734859394375235, 0.00017833002493716776, 0.0003994709986727685, 0.0002951171773020178, 0.000183119424036704, 0.00016714591765776277, 0.0002370249858358875, 0.00025333603844046593, 0.00012855058594141155, 0.00020213202515151352, 0.0003994496655650437, 0.00016511858848389238, 0.00046228745486587286, 0.0008780215284787118, 0.0011140485294163227, 0.0020708804950118065, 0.0019636773504316807, 0.0035278566647320986, 0.00447522196918726, 0.004463483579456806, 0.007312552537769079, 0.014446231536567211, 0.03503046929836273, 0.02001413330435753, 0.043885767459869385, 0.01943674124777317, 0.11325742304325104, 0.07277625054121017, 0.16196832060813904, 0.48047444224357605]], [[1.0, 0.0, 0.0, 0.0, 0.0, 0.0, 0.0, 0.0, 0.0, 0.0, 0.0, 0.0, 0.0, 0.0, 0.0, 0.0, 0.0, 0.0, 0.0, 0.0, 0.0, 0.0, 0.0, 0.0, 0.0, 0.0, 0.0, 0.0, 0.0, 0.0, 0.0, 0.0, 0.0], [0.947374701499939, 0.052625250071287155, 0.0, 0.0, 0.0, 0.0, 0.0, 0.0, 0.0, 0.0, 0.0, 0.0, 0.0, 0.0, 0.0, 0.0, 0.0, 0.0, 0.0, 0.0, 0.0, 0.0, 0.0, 0.0, 0.0, 0.0, 0.0, 0.0, 0.0, 0.0, 0.0, 0.0, 0.0], [0.8785883784294128, 0.055394671857357025, 0.06601690500974655, 0.0, 0.0, 0.0, 0.0, 0.0, 0.0, 0.0, 0.0, 0.0, 0.0, 0.0, 0.0, 0.0, 0.0, 0.0, 0.0, 0.0, 0.0, 0.0, 0.0, 0.0, 0.0, 0.0, 0.0, 0.0, 0.0, 0.0, 0.0, 0.0, 0.0], [0.727077066898346, 0.13709872961044312, 0.04866095632314682, 0.08716326951980591, 0.0, 0.0, 0.0, 0.0, 0.0, 0.0, 0.0, 0.0, 0.0, 0.0, 0.0, 0.0, 0.0, 0.0, 0.0, 0.0, 0.0, 0.0, 0.0, 0.0, 0.0, 0.0, 0.0, 0.0, 0.0, 0.0, 0.0, 0.0, 0.0], [0.4651746451854706, 0.13429315388202667, 0.1535816341638565, 0.1747255027294159, 0.07222513109445572, 0.0, 0.0, 0.0, 0.0, 0.0, 0.0, 0.0, 0.0, 0.0, 0.0, 0.0, 0.0, 0.0, 0.0, 0.0, 0.0, 0.0, 0.0, 0.0, 0.0, 0.0, 0.0, 0.0, 0.0, 0.0, 0.0, 0.0, 0.0], [0.1703597605228424, 0.011841950938105583, 0.023650867864489555, 0.021745821461081505, 0.025856319814920425, 0.7465452551841736, 0.0, 0.0, 0.0, 0.0, 0.0, 0.0, 0.0, 0.0, 0.0, 0.0, 0.0, 0.0, 0.0, 0.0, 0.0, 0.0, 0.0, 0.0, 0.0, 0.0, 0.0, 0.0, 0.0, 0.0, 0.0, 0.0, 0.0], [0.14214575290679932, 0.043832745403051376, 0.050211820751428604, 0.0451650433242321, 0.058721255511045456, 0.5111533999443054, 0.14877000451087952, 0.0, 0.0, 0.0, 0.0, 0.0, 0.0, 0.0, 0.0, 0.0, 0.0, 0.0, 0.0, 0.0, 0.0, 0.0, 0.0, 0.0, 0.0, 0.0, 0.0, 0.0, 0.0, 0.0, 0.0, 0.0, 0.0], [0.0847335234284401, 0.020369812846183777, 0.037461645901203156, 0.03195912018418312, 0.034195996820926666, 0.43500685691833496, 0.11894059181213379, 0.2373325079679489, 0.0, 0.0, 0.0, 0.0, 0.0, 0.0, 0.0, 0.0, 0.0, 0.0, 0.0, 0.0, 0.0, 0.0, 0.0, 0.0, 0.0, 0.0, 0.0, 0.0, 0.0, 0.0, 0.0, 0.0, 0.0], [0.342307984828949, 0.035936351865530014, 0.07259215414524078, 0.10352760553359985, 0.08196526765823364, 0.07694564014673233, 0.14196324348449707, 0.09896711260080338, 0.04579460248351097, 0.0, 0.0, 0.0, 0.0, 0.0, 0.0, 0.0, 0.0, 0.0, 0.0, 0.0, 0.0, 0.0, 0.0, 0.0, 0.0, 0.0, 0.0, 0.0, 0.0, 0.0, 0.0, 0.0, 0.0], [0.37114858627319336, 0.06278739124536514, 0.058069512248039246, 0.055662769824266434, 0.13124839961528778, 0.07535631209611893, 0.10726627707481384, 0.07924022525548935, 0.03010733053088188, 0.02911323867738247, 0.0, 0.0, 0.0, 0.0, 0.0, 0.0, 0.0, 0.0, 0.0, 0.0, 0.0, 0.0, 0.0, 0.0, 0.0, 0.0, 0.0, 0.0, 0.0, 0.0, 0.0, 0.0, 0.0], [0.06430108100175858, 0.0051691061817109585, 0.01101299561560154, 0.009054884314537048, 0.011748056858778, 0.3188501298427582, 0.036849480122327805, 0.0831955149769783, 0.012068147771060467, 0.014676216058433056, 0.43307435512542725, 0.0, 0.0, 0.0, 0.0, 0.0, 0.0, 0.0, 0.0, 0.0, 0.0, 0.0, 0.0, 0.0, 0.0, 0.0, 0.0, 0.0, 0.0, 0.0, 0.0, 0.0, 0.0], [0.23777928948402405, 0.038129985332489014, 0.019743366166949272, 0.0750802755355835, 0.1442079246044159, 0.06244928389787674, 0.07018386572599411, 0.06523600965738297, 0.04883219674229622, 0.03460035100579262, 0.06439768522977829, 0.13935980200767517, 0.0, 0.0, 0.0, 0.0, 0.0, 0.0, 0.0, 0.0, 0.0, 0.0, 0.0, 0.0, 0.0, 0.0, 0.0, 0.0, 0.0, 0.0, 0.0, 0.0, 0.0], [0.29014477133750916, 0.040857672691345215, 0.06965631991624832, 0.06467737257480621, 0.11515595018863678, 0.07279438525438309, 0.05406038835644722, 0.04095999896526337, 0.036461241543293, 0.03709695488214493, 0.08112158626317978, 0.06249445676803589, 0.03451891243457794, 0.0, 0.0, 0.0, 0.0, 0.0, 0.0, 0.0, 0.0, 0.0, 0.0, 0.0, 0.0, 0.0, 0.0, 0.0, 0.0, 0.0, 0.0, 0.0, 0.0], [0.04191605746746063, 0.0033880730625241995, 0.007082369644194841, 0.005899208597838879, 0.007586185354739428, 0.20389790832996368, 0.023296769708395004, 0.05173072591423988, 0.00781681016087532, 0.009731383062899113, 0.277601957321167, 0.0083867646753788, 0.016172712668776512, 0.33549317717552185, 0.0, 0.0, 0.0, 0.0, 0.0, 0.0, 0.0, 0.0, 0.0, 0.0, 0.0, 0.0, 0.0, 0.0, 0.0, 0.0, 0.0, 0.0, 0.0], [0.1512935310602188, 0.04240793734788895, 0.04383380711078644, 0.09706761687994003, 0.14943543076515198, 0.04439884424209595, 0.0617450512945652, 0.04199514165520668, 0.018608801066875458, 0.03141245245933533, 0.05092647299170494, 0.06660285592079163, 0.09416218847036362, 0.05761292949318886, 0.04849693551659584, 0.0, 0.0, 0.0, 0.0, 0.0, 0.0, 0.0, 0.0, 0.0, 0.0, 0.0, 0.0, 0.0, 0.0, 0.0, 0.0, 0.0, 0.0], [0.2995801866054535, 0.07432065904140472, 0.030061958357691765, 0.016736479476094246, 0.038564808666706085, 0.05106877163052559, 0.0940866693854332, 0.056067921221256256, 0.05458230525255203, 0.045220427215099335, 0.05638071149587631, 0.015378049574792385, 0.04082851856946945, 0.06084698066115379, 0.030811063945293427, 0.03546450659632683, 0.0, 0.0, 0.0, 0.0, 0.0, 0.0, 0.0, 0.0, 0.0, 0.0, 0.0, 0.0, 0.0, 0.0, 0.0, 0.0, 0.0], [0.030439967289566994, 0.0024933922104537487, 0.005298207979649305, 0.004223392810672522, 0.005517445504665375, 0.14508455991744995, 0.01603415049612522, 0.035986483097076416, 0.005758048966526985, 0.007398167625069618, 0.19613467156887054, 0.0060908910818398, 0.011465114541351795, 0.23738010227680206, 0.008031780831515789, 0.0058614895679056644, 0.2768022119998932, 0.0, 0.0, 0.0, 0.0, 0.0, 0.0, 0.0, 0.0, 0.0, 0.0, 0.0, 0.0, 0.0, 0.0, 0.0, 0.0], [0.015668945387005806, 0.0019133489113301039, 0.0067479368299245834, 0.005610876716673374, 0.006710356567054987, 0.10858530551195145, 0.013436987064778805, 0.030674809589982033, 0.00869804434478283, 0.0059587713330984116, 0.15696412324905396, 0.00640126271173358, 0.014357191510498524, 0.19220469892024994, 0.009938815608620644, 0.008154560811817646, 0.2286139577627182, 0.1793600469827652, 0.0, 0.0, 0.0, 0.0, 0.0, 0.0, 0.0, 0.0, 0.0, 0.0, 0.0, 0.0, 0.0, 0.0, 0.0], [0.2751207649707794, 0.046356067061424255, 0.02578277513384819, 0.0203710924834013, 0.04519130662083626, 0.04741503298282623, 0.058008357882499695, 0.05449456721544266, 0.02185584418475628, 0.028674190863966942, 0.05054796487092972, 0.03578946739435196, 0.014343996532261372, 0.05505191534757614, 0.019970901310443878, 0.025070670992136, 0.05983668938279152, 0.10591265559196472, 0.010205721482634544, 0.0, 0.0, 0.0, 0.0, 0.0, 0.0, 0.0, 0.0, 0.0, 0.0, 0.0, 0.0, 0.0, 0.0], [0.12210459262132645, 0.029006361961364746, 0.02792610414326191, 0.030763672664761543, 0.06431954354047775, 0.05075869336724281, 0.05746712163090706, 0.03854454308748245, 0.028814468532800674, 0.0364103689789772, 0.05530695244669914, 0.027555696666240692, 0.050623830407857895, 0.06039685383439064, 0.03790910542011261, 0.03416259586811066, 0.06550321727991104, 0.08224612474441528, 0.08903136849403381, 0.011148831807076931, 0.0, 0.0, 0.0, 0.0, 0.0, 0.0, 0.0, 0.0, 0.0, 0.0, 0.0, 0.0, 0.0], [0.01992272213101387, 0.001599126379005611, 0.003536272794008255, 0.0027606128714978695, 0.0036747471895068884, 0.09198576211929321, 0.009868195280432701, 0.021762728691101074, 0.0036746179684996605, 0.004800301510840654, 0.12327180057764053, 0.003948226571083069, 0.007727705407887697, 0.1490194946527481, 0.00509450351819396, 0.0038495471235364676, 0.17433799803256989, 0.14503759145736694, 0.0031391787342727184, 0.0039015680085867643, 0.21708735823631287, 0.0, 0.0, 0.0, 0.0, 0.0, 0.0, 0.0, 0.0, 0.0, 0.0, 0.0, 0.0], [0.025169160217046738, 0.0025891438126564026, 0.0079044783487916, 0.002818176057189703, 0.008317483589053154, 0.06284765154123306, 0.016097374260425568, 0.02483358606696129, 0.007658039685338736, 0.011317077092826366, 0.08451005816459656, 0.012135406024754047, 0.022048380225896835, 0.10017254203557968, 0.015103290788829327, 0.020152248442173004, 0.11906809359788895, 0.141489639878273, 0.006576651707291603, 0.007074057590216398, 0.14850656688213348, 0.15361090004444122, 0.0, 0.0, 0.0, 0.0, 0.0, 0.0, 0.0, 0.0, 0.0, 0.0, 0.0], [0.08679644018411636, 0.01581868715584278, 0.009913153946399689, 0.005941125564277172, 0.01174909621477127, 0.04402247816324234, 0.04941156879067421, 0.04721157252788544, 0.02244850993156433, 0.028144165873527527, 0.05249371379613876, 0.013664888218045235, 0.038044523447752, 0.05856490880250931, 0.016008717939257622, 0.028531761839985847, 0.06752399355173111, 0.100040502846241, 0.0260744821280241, 0.018165268003940582, 0.08061444759368896, 0.14588390290737152, 0.03293200954794884, 0.0, 0.0, 0.0, 0.0, 0.0, 0.0, 0.0, 0.0, 0.0, 0.0], [0.12203321605920792, 0.02679692953824997, 0.03471270203590393, 0.016600845381617546, 0.05098597705364227, 0.033623453229665756, 0.03376290947198868, 0.03289441019296646, 0.02276359312236309, 0.03469543159008026, 0.03710822016000748, 0.027503052726387978, 0.030508041381835938, 0.040704939514398575, 0.019409826025366783, 0.03338811546564102, 0.04603790119290352, 0.08141941577196121, 0.025792943313717842, 0.017713351175189018, 0.05326375365257263, 0.06955214589834213, 0.07340101152658463, 0.03532780706882477, 0.0, 0.0, 0.0, 0.0, 0.0, 0.0, 0.0, 0.0, 0.0], [0.012632705271244049, 0.003196730511263013, 0.008999625220894814, 0.003787106368690729, 0.005590212065726519, 0.060187455266714096, 0.010173022747039795, 0.02606339193880558, 0.008280332200229168, 0.005998438689857721, 0.08480244874954224, 0.007755734026432037, 0.01480766199529171, 0.10079346597194672, 0.011636026203632355, 0.007885104976594448, 0.12061367183923721, 0.12819863855838776, 0.006487111561000347, 0.003230573143810034, 0.15047506988048553, 0.10557690262794495, 0.015480595640838146, 0.01902633346617222, 0.0783216580748558, 0.0, 0.0, 0.0, 0.0, 0.0, 0.0, 0.0, 0.0], [0.11176053434610367, 0.018635569140315056, 0.05622373893857002, 0.0467727966606617, 0.0373649075627327, 0.022993413731455803, 0.0313652828335762, 0.026408890262246132, 0.04335922747850418, 0.05663558095693588, 0.0217863991856575, 0.02382214553654194, 0.030641676858067513, 0.023289253935217857, 0.05430492013692856, 0.06881187111139297, 0.02448936179280281, 0.04777087643742561, 0.03627174720168114, 0.022222528234124184, 0.026998938992619514, 0.021766116842627525, 0.03442489728331566, 0.0282402653247118, 0.05891922488808632, 0.024719836190342903, 0.0, 0.0, 0.0, 0.0, 0.0, 0.0, 0.0], [0.10639801621437073, 0.037107910960912704, 0.08273959904909134, 0.017856869846582413, 0.020949997007846832, 0.01830524392426014, 0.022620104253292084, 0.018192270770668983, 0.02185118943452835, 0.012518536299467087, 0.019214091822504997, 0.030340084806084633, 0.0718761458992958, 0.02078801579773426, 0.03963524103164673, 0.061515890061855316, 0.02317928895354271, 0.0439804382622242, 0.0461922362446785, 0.02066798135638237, 0.027080867439508438, 0.04386550933122635, 0.0327674001455307, 0.04369066655635834, 0.05080844461917877, 0.04029489681124687, 0.025562994182109833, 0.0, 0.0, 0.0, 0.0, 0.0, 0.0], [0.015084557235240936, 0.003822385100647807, 0.005877269431948662, 0.0049718525260686874, 0.005370146129280329, 0.05223643779754639, 0.016127673909068108, 0.031829893589019775, 0.008211132138967514, 0.011473819613456726, 0.0670468658208847, 0.010528383776545525, 0.010598218068480492, 0.07938902080059052, 0.007211726158857346, 0.006271465681493282, 0.09142371267080307, 0.10866504162549973, 0.003973815590143204, 0.005621671676635742, 0.1098332405090332, 0.09237755835056305, 0.02296048402786255, 0.019314922392368317, 0.08864141255617142, 0.018464695662260056, 0.011022248305380344, 0.0916503444314003, 0.0, 0.0, 0.0, 0.0, 0.0], [0.09854131191968918, 0.03967056795954704, 0.05052144452929497, 0.04794393479824066, 0.019531866535544395, 0.015683403238654137, 0.025074752047657967, 0.014997916296124458, 0.027723463252186775, 0.016418172046542168, 0.016389023512601852, 0.026316555216908455, 0.03435926139354706, 0.017758004367351532, 0.023362673819065094, 0.03763517364859581, 0.019405588507652283, 0.034421686083078384, 0.04902298003435135, 0.03019052930176258, 0.022159064188599586, 0.03754063695669174, 0.03879312425851822, 0.040324147790670395, 0.0423126257956028, 0.06829199939966202, 0.02531410939991474, 0.04330074042081833, 0.036995261907577515, 0.0, 0.0, 0.0, 0.0], [0.10688817501068115, 0.036595750600099564, 0.005083092022687197, 0.010160422883927822, 0.013297352008521557, 0.041752081364393234, 0.026246804744005203, 0.03012857399880886, 0.013482393696904182, 0.018223188817501068, 0.045826248824596405, 0.02555878646671772, 0.015618832781910896, 0.05039896070957184, 0.011657016351819038, 0.011659123934805393, 0.055155135691165924, 0.0509166419506073, 0.019206780940294266, 0.013998408801853657, 0.06383473426103592, 0.029088910669088364, 0.01671043410897255, 0.02609526738524437, 0.05484984442591667, 0.038066718727350235, 0.038960687816143036, 0.053752351552248, 0.023679161444306374, 0.05310811847448349, 0.0, 0.0, 0.0], [0.10871606320142746, 0.06286413967609406, 0.023045117035508156, 0.012493222951889038, 0.009688264690339565, 0.02372078225016594, 0.02561735175549984, 0.028282862156629562, 0.01952310837805271, 0.015187137760221958, 0.024615760892629623, 0.018855810165405273, 0.013071931898593903, 0.02569747157394886, 0.010639796033501625, 0.007336434442549944, 0.02848823182284832, 0.04087509214878082, 0.023693926632404327, 0.028460830450057983, 0.031781136989593506, 0.03399211913347244, 0.016904516145586967, 0.04699750244617462, 0.05480921268463135, 0.06048174574971199, 0.02113782800734043, 0.05147770792245865, 0.015304342843592167, 0.07868865132331848, 0.03755192831158638, 0.0, 0.0], [0.16510620713233948, 0.013307325541973114, 0.02282033860683441, 0.032224953174591064, 0.028327813372015953, 0.011912120506167412, 0.021759120747447014, 0.012591326609253883, 0.02537134662270546, 0.01592349447309971, 0.011745062656700611, 0.021340150386095047, 0.02265850082039833, 0.012097008526325226, 0.058773938566446304, 0.04114294424653053, 0.012866126373410225, 0.02189669758081436, 0.027385761961340904, 0.015412716194987297, 0.014822257682681084, 0.01319876965135336, 0.029060106724500656, 0.04031303524971008, 0.02303694561123848, 0.050357893109321594, 0.046500690281391144, 0.03221074864268303, 0.04574137553572655, 0.011448166333138943, 0.05148479714989662, 0.0471622534096241, 0.0], [0.019862744957208633, 0.0006941378233022988, 0.0017670635133981705, 0.001903820433653891, 0.0023115784861147404, 0.059243880212306976, 0.005164954345673323, 0.008714546449482441, 0.0024906687904149294, 0.0030579601880162954, 0.07585158199071884, 0.0023905497509986162, 0.0031773506198078394, 0.08945124596357346, 0.003065296448767185, 0.0016209169989451766, 0.10312025249004364, 0.0625915676355362, 0.0020582969300448895, 0.0022322209551930428, 0.12742051482200623, 0.024703850969672203, 0.003510191338136792, 0.0049941809847950935, 0.028317134827375412, 0.005874201655387878, 0.00621532928198576, 0.03686566650867462, 0.005438116379082203, 0.004061868879944086, 0.004735518712550402, 0.0045343851670622826, 0.29255834221839905]], [[1.0, 0.0, 0.0, 0.0, 0.0, 0.0, 0.0, 0.0, 0.0, 0.0, 0.0, 0.0, 0.0, 0.0, 0.0, 0.0, 0.0, 0.0, 0.0, 0.0, 0.0, 0.0, 0.0, 0.0, 0.0, 0.0, 0.0, 0.0, 0.0, 0.0, 0.0, 0.0, 0.0], [0.9726406335830688, 0.027359366416931152, 0.0, 0.0, 0.0, 0.0, 0.0, 0.0, 0.0, 0.0, 0.0, 0.0, 0.0, 0.0, 0.0, 0.0, 0.0, 0.0, 0.0, 0.0, 0.0, 0.0, 0.0, 0.0, 0.0, 0.0, 0.0, 0.0, 0.0, 0.0, 0.0, 0.0, 0.0], [0.8850566744804382, 0.08160645514726639, 0.033336855471134186, 0.0, 0.0, 0.0, 0.0, 0.0, 0.0, 0.0, 0.0, 0.0, 0.0, 0.0, 0.0, 0.0, 0.0, 0.0, 0.0, 0.0, 0.0, 0.0, 0.0, 0.0, 0.0, 0.0, 0.0, 0.0, 0.0, 0.0, 0.0, 0.0, 0.0], [0.7844979166984558, 0.09045999497175217, 0.1072097048163414, 0.017832353711128235, 0.0, 0.0, 0.0, 0.0, 0.0, 0.0, 0.0, 0.0, 0.0, 0.0, 0.0, 0.0, 0.0, 0.0, 0.0, 0.0, 0.0, 0.0, 0.0, 0.0, 0.0, 0.0, 0.0, 0.0, 0.0, 0.0, 0.0, 0.0, 0.0], [0.6679065823554993, 0.10135099291801453, 0.10997918248176575, 0.0699087455868721, 0.050854478031396866, 0.0, 0.0, 0.0, 0.0, 0.0, 0.0, 0.0, 0.0, 0.0, 0.0, 0.0, 0.0, 0.0, 0.0, 0.0, 0.0, 0.0, 0.0, 0.0, 0.0, 0.0, 0.0, 0.0, 0.0, 0.0, 0.0, 0.0, 0.0], [0.586279034614563, 0.06960931420326233, 0.06798023730516434, 0.06058963015675545, 0.08339764922857285, 0.13214410841464996, 0.0, 0.0, 0.0, 0.0, 0.0, 0.0, 0.0, 0.0, 0.0, 0.0, 0.0, 0.0, 0.0, 0.0, 0.0, 0.0, 0.0, 0.0, 0.0, 0.0, 0.0, 0.0, 0.0, 0.0, 0.0, 0.0, 0.0], [0.5015711188316345, 0.06227874755859375, 0.07209988683462143, 0.05590919032692909, 0.08146876841783524, 0.12033167481422424, 0.10634061694145203, 0.0, 0.0, 0.0, 0.0, 0.0, 0.0, 0.0, 0.0, 0.0, 0.0, 0.0, 0.0, 0.0, 0.0, 0.0, 0.0, 0.0, 0.0, 0.0, 0.0, 0.0, 0.0, 0.0, 0.0, 0.0, 0.0], [0.40016093850135803, 0.05525398999452591, 0.0634768158197403, 0.05413787066936493, 0.07119617611169815, 0.11230532824993134, 0.12489722669124603, 0.11857165396213531, 0.0, 0.0, 0.0, 0.0, 0.0, 0.0, 0.0, 0.0, 0.0, 0.0, 0.0, 0.0, 0.0, 0.0, 0.0, 0.0, 0.0, 0.0, 0.0, 0.0, 0.0, 0.0, 0.0, 0.0, 0.0], [0.40185338258743286, 0.08579418808221817, 0.056448809802532196, 0.07181121408939362, 0.08318912237882614, 0.07845646888017654, 0.09191881865262985, 0.07768876105546951, 0.05283927917480469, 0.0, 0.0, 0.0, 0.0, 0.0, 0.0, 0.0, 0.0, 0.0, 0.0, 0.0, 0.0, 0.0, 0.0, 0.0, 0.0, 0.0, 0.0, 0.0, 0.0, 0.0, 0.0, 0.0, 0.0], [0.3827159106731415, 0.07976947724819183, 0.06207752227783203, 0.06360235065221786, 0.0821102038025856, 0.07804955542087555, 0.08597437292337418, 0.07506487518548965, 0.0632784441113472, 0.027357226237654686, 0.0, 0.0, 0.0, 0.0, 0.0, 0.0, 0.0, 0.0, 0.0, 0.0, 0.0, 0.0, 0.0, 0.0, 0.0, 0.0, 0.0, 0.0, 0.0, 0.0, 0.0, 0.0, 0.0], [0.34041672945022583, 0.045351963490247726, 0.04658910259604454, 0.040391698479652405, 0.05489042028784752, 0.08179009705781937, 0.08906516432762146, 0.09645896404981613, 0.05564970150589943, 0.06398676335811615, 0.08540938794612885, 0.0, 0.0, 0.0, 0.0, 0.0, 0.0, 0.0, 0.0, 0.0, 0.0, 0.0, 0.0, 0.0, 0.0, 0.0, 0.0, 0.0, 0.0, 0.0, 0.0, 0.0, 0.0], [0.31186187267303467, 0.09539998322725296, 0.07292012870311737, 0.0697687417268753, 0.07777827978134155, 0.06735040247440338, 0.06161407008767128, 0.05481074005365372, 0.052520133554935455, 0.050225213170051575, 0.07299349457025528, 0.01275696326047182, 0.0, 0.0, 0.0, 0.0, 0.0, 0.0, 0.0, 0.0, 0.0, 0.0, 0.0, 0.0, 0.0, 0.0, 0.0, 0.0, 0.0, 0.0, 0.0, 0.0, 0.0], [0.36652860045433044, 0.06308673322200775, 0.039478451013565063, 0.04609527066349983, 0.05740750953555107, 0.0634833574295044, 0.0523846372961998, 0.05501618981361389, 0.04584016650915146, 0.062286920845508575, 0.0658990740776062, 0.05806361138820648, 0.024429505690932274, 0.0, 0.0, 0.0, 0.0, 0.0, 0.0, 0.0, 0.0, 0.0, 0.0, 0.0, 0.0, 0.0, 0.0, 0.0, 0.0, 0.0, 0.0, 0.0, 0.0], [0.28564438223838806, 0.038040269166231155, 0.03942389786243439, 0.03423863649368286, 0.046393975615501404, 0.06771664321422577, 0.0732807144522667, 0.07855430245399475, 0.047896645963191986, 0.055936548858881, 0.07124947011470795, 0.03568926081061363, 0.04956043139100075, 0.07637479901313782, 0.0, 0.0, 0.0, 0.0, 0.0, 0.0, 0.0, 0.0, 0.0, 0.0, 0.0, 0.0, 0.0, 0.0, 0.0, 0.0, 0.0, 0.0, 0.0], [0.2977541983127594, 0.052595462650060654, 0.043479397892951965, 0.05845862999558449, 0.04568728804588318, 0.05259407311677933, 0.04456197842955589, 0.045974720269441605, 0.06316150724887848, 0.0776875913143158, 0.0549914613366127, 0.03466472774744034, 0.05020100250840187, 0.058861445635557175, 0.01932654157280922, 0.0, 0.0, 0.0, 0.0, 0.0, 0.0, 0.0, 0.0, 0.0, 0.0, 0.0, 0.0, 0.0, 0.0, 0.0, 0.0, 0.0, 0.0], [0.28853145241737366, 0.046169113367795944, 0.028233064338564873, 0.038242388516664505, 0.043306220322847366, 0.05174916982650757, 0.043182745575904846, 0.04393119737505913, 0.05616341158747673, 0.06773821264505386, 0.05490176007151604, 0.08139307051897049, 0.04325690492987633, 0.05904814973473549, 0.03989904001355171, 0.014254072681069374, 0.0, 0.0, 0.0, 0.0, 0.0, 0.0, 0.0, 0.0, 0.0, 0.0, 0.0, 0.0, 0.0, 0.0, 0.0, 0.0, 0.0], [0.23721367120742798, 0.03161582350730896, 0.03324566408991814, 0.02923194319009781, 0.038618121296167374, 0.05549168959259987, 0.05966498330235481, 0.06321782618761063, 0.040736984461545944, 0.0475267618894577, 0.05837821587920189, 0.03039967454969883, 0.042871568351984024, 0.06284618377685547, 0.05321291461586952, 0.04736899212002754, 0.06835904717445374, 0.0, 0.0, 0.0, 0.0, 0.0, 0.0, 0.0, 0.0, 0.0, 0.0, 0.0, 0.0, 0.0, 0.0, 0.0, 0.0], [0.20986966788768768, 0.027291269972920418, 0.03115660883486271, 0.026615019887685776, 0.03165113925933838, 0.052732281386852264, 0.05274500697851181, 0.056359004229307175, 0.040765464305877686, 0.04278238117694855, 0.056191232055425644, 0.030678272247314453, 0.04398960992693901, 0.06091475114226341, 0.0501369833946228, 0.041573166847229004, 0.06652859598398209, 0.07801954448223114, 0.0, 0.0, 0.0, 0.0, 0.0, 0.0, 0.0, 0.0, 0.0, 0.0, 0.0, 0.0, 0.0, 0.0, 0.0], [0.2385382503271103, 0.04414580762386322, 0.04643506184220314, 0.0345127172768116, 0.0357218012213707, 0.04369329661130905, 0.04304973781108856, 0.03498825430870056, 0.04371807724237442, 0.03952197730541229, 0.04457853361964226, 0.024599453434348106, 0.0625118613243103, 0.047534845769405365, 0.04375609755516052, 0.04995930939912796, 0.05090804770588875, 0.052662450820207596, 0.019164472818374634, 0.0, 0.0, 0.0, 0.0, 0.0, 0.0, 0.0, 0.0, 0.0, 0.0, 0.0, 0.0, 0.0, 0.0], [0.17729148268699646, 0.04221460595726967, 0.030818721279501915, 0.030886098742485046, 0.03386848792433739, 0.04521186277270317, 0.04290102794766426, 0.032215576618909836, 0.04018864780664444, 0.04926897585391998, 0.04801623895764351, 0.03814244642853737, 0.05126514658331871, 0.05206845700740814, 0.04744117707014084, 0.03924534469842911, 0.056304752826690674, 0.05462944135069847, 0.0599185973405838, 0.02810293436050415, 0.0, 0.0, 0.0, 0.0, 0.0, 0.0, 0.0, 0.0, 0.0, 0.0, 0.0, 0.0, 0.0], [0.19048276543617249, 0.025203485041856766, 0.02678746171295643, 0.0236726775765419, 0.03110402822494507, 0.043453432619571686, 0.0464932881295681, 0.04820645600557327, 0.03323279321193695, 0.03892754390835762, 0.04549147188663483, 0.02444273605942726, 0.03570157289505005, 0.04907767102122307, 0.04303564131259918, 0.03905564546585083, 0.053717464208602905, 0.0665895864367485, 0.043208252638578415, 0.031764693558216095, 0.060351256281137466, 0.0, 0.0, 0.0, 0.0, 0.0, 0.0, 0.0, 0.0, 0.0, 0.0, 0.0, 0.0], [0.1497536301612854, 0.02347457781434059, 0.025508396327495575, 0.02894243597984314, 0.035171594470739365, 0.038801904767751694, 0.04594280570745468, 0.03962726891040802, 0.03708779439330101, 0.038723018020391464, 0.04190719500184059, 0.021688060835003853, 0.04328256845474243, 0.04592543840408325, 0.03893952816724777, 0.040076106786727905, 0.05060020089149475, 0.06083051487803459, 0.04372159391641617, 0.03023521788418293, 0.05728613957762718, 0.06247401982545853, 0.0, 0.0, 0.0, 0.0, 0.0, 0.0, 0.0, 0.0, 0.0, 0.0, 0.0], [0.17513407766819, 0.02751927822828293, 0.029513996094465256, 0.02071533352136612, 0.026873521506786346, 0.0345461405813694, 0.03853078559041023, 0.033037811517715454, 0.04181556776165962, 0.04010029882192612, 0.03696895390748978, 0.030468935146927834, 0.03995395451784134, 0.040237050503492355, 0.0448262095451355, 0.03708262741565704, 0.04420143738389015, 0.04931039363145828, 0.04125744104385376, 0.028610683977603912, 0.049973443150520325, 0.05269284546375275, 0.03662917762994766, 0.0, 0.0, 0.0, 0.0, 0.0, 0.0, 0.0, 0.0, 0.0, 0.0], [0.13285991549491882, 0.040708061307668686, 0.04111677035689354, 0.03484426438808441, 0.04087603837251663, 0.027567215263843536, 0.028293699026107788, 0.022520409896969795, 0.0387541726231575, 0.040378037840127945, 0.029089411720633507, 0.029609229415655136, 0.0567011795938015, 0.03118187189102173, 0.03766118362545967, 0.05688638985157013, 0.03396708145737648, 0.03781306371092796, 0.04951411113142967, 0.03194558247923851, 0.03759903088212013, 0.04326637089252472, 0.04305670037865639, 0.033790223300457, 0.0, 0.0, 0.0, 0.0, 0.0, 0.0, 0.0, 0.0, 0.0], [0.14709368348121643, 0.01821870729327202, 0.022143613547086716, 0.02162139117717743, 0.027072882279753685, 0.033854179084300995, 0.03787611424922943, 0.03801964595913887, 0.027932509779930115, 0.030901841819286346, 0.03606923297047615, 0.01902313157916069, 0.03465800732374191, 0.03916987031698227, 0.0337555930018425, 0.026136629283428192, 0.04297832027077675, 0.053137436509132385, 0.03463505208492279, 0.02014029212296009, 0.048783592879772186, 0.04990804195404053, 0.04624391719698906, 0.047156691551208496, 0.06346962600946426, 0.0, 0.0, 0.0, 0.0, 0.0, 0.0, 0.0, 0.0], [0.1760278344154358, 0.014882152900099754, 0.026751166209578514, 0.024088066071271896, 0.03566749021410942, 0.027094289660453796, 0.02498425543308258, 0.02147187851369381, 0.026359375566244125, 0.023845124989748, 0.027566984295845032, 0.016869543120265007, 0.077774278819561, 0.029109222814440727, 0.04799698665738106, 0.029002496972680092, 0.031323350965976715, 0.03615600988268852, 0.03959561139345169, 0.017008014023303986, 0.034839075058698654, 0.034437187016010284, 0.041492193937301636, 0.09124381840229034, 0.040522992610931396, 0.0038906014524400234, 0.0, 0.0, 0.0, 0.0, 0.0, 0.0, 0.0], [0.185017392039299, 0.027787020429968834, 0.02509763091802597, 0.027018999680876732, 0.029199205338954926, 0.030337022617459297, 0.032221779227256775, 0.023015081882476807, 0.026792852208018303, 0.02279384434223175, 0.030674848705530167, 0.021220846101641655, 0.053888075053691864, 0.0325930155813694, 0.030737662687897682, 0.025725245475769043, 0.034866053611040115, 0.03793581947684288, 0.028672004118561745, 0.026148973032832146, 0.03875334560871124, 0.04179506003856659, 0.038631584495306015, 0.053371548652648926, 0.03982074186205864, 0.025711605325341225, 0.010172725655138493, 0.0, 0.0, 0.0, 0.0, 0.0, 0.0], [0.12446325272321701, 0.016768906265497208, 0.020105108618736267, 0.01926703006029129, 0.024457808583974838, 0.030203362926840782, 0.03127392753958702, 0.03254605829715729, 0.023186001926660538, 0.02350839227437973, 0.031733188778162, 0.0170805174857378, 0.029082059860229492, 0.03428218513727188, 0.03579128533601761, 0.025820568203926086, 0.037531156092882156, 0.04618250951170921, 0.029500003904104233, 0.017913803458213806, 0.04274729639291763, 0.0424346923828125, 0.03900239244103432, 0.041418373584747314, 0.05949501320719719, 0.03595736250281334, 0.03098485991358757, 0.05726282671093941, 0.0, 0.0, 0.0, 0.0, 0.0], [0.14491020143032074, 0.025843989104032516, 0.031176969408988953, 0.01946275681257248, 0.012575723230838776, 0.025274598971009254, 0.022020692005753517, 0.02126728743314743, 0.03165540471673012, 0.027664173394441605, 0.02625158056616783, 0.02209104597568512, 0.03851795569062233, 0.028266891837120056, 0.0288776196539402, 0.03686538711190224, 0.030699966475367546, 0.032045044004917145, 0.034116264432668686, 0.02035541832447052, 0.03446315973997116, 0.03542865067720413, 0.0307284165173769, 0.044418979436159134, 0.037935975939035416, 0.05734866112470627, 0.038896989077329636, 0.04111207276582718, 0.019728196784853935, 0.0, 0.0, 0.0, 0.0], [0.13168424367904663, 0.025460103526711464, 0.02796240895986557, 0.024109849706292152, 0.01686881110072136, 0.03140678629279137, 0.02324734255671501, 0.022071681916713715, 0.02736249938607216, 0.0263704601675272, 0.03204534202814102, 0.028775818645954132, 0.04614202305674553, 0.034559790045022964, 0.03132110834121704, 0.02943773753941059, 0.037490684539079666, 0.035974230617284775, 0.0306710172444582, 0.026778316125273705, 0.04166237264871597, 0.032743994146585464, 0.03034878335893154, 0.03265199810266495, 0.03805650770664215, 0.034575607627630234, 0.022936103865504265, 0.03690328449010849, 0.025966184213757515, 0.014414896257221699, 0.0, 0.0, 0.0], [0.1656370609998703, 0.022809257730841637, 0.029107756912708282, 0.024944674223661423, 0.024352876469492912, 0.02503182366490364, 0.018486667424440384, 0.018573671579360962, 0.02844364009797573, 0.029199935495853424, 0.0253182090818882, 0.03220498934388161, 0.025753291323781013, 0.026890527456998825, 0.03127394616603851, 0.0330515019595623, 0.028835462406277657, 0.029910437762737274, 0.0275588221848011, 0.024624653160572052, 0.032053619623184204, 0.026493774726986885, 0.02170960046350956, 0.03164015710353851, 0.037074778228998184, 0.04799467325210571, 0.027932140976190567, 0.034756116569042206, 0.03804945573210716, 0.02153567411005497, 0.008750852197408676, 0.0, 0.0], [0.16794218122959137, 0.025983478873968124, 0.032223377376794815, 0.019469384104013443, 0.02373526431620121, 0.023115742951631546, 0.019973624497652054, 0.016550235450267792, 0.02979678101837635, 0.02849465236067772, 0.023108845576643944, 0.02208707109093666, 0.04216556251049042, 0.024390194565057755, 0.020749149844050407, 0.03873588517308235, 0.02626980096101761, 0.02728910557925701, 0.019617388024926186, 0.020242856815457344, 0.029203204438090324, 0.03041335754096508, 0.02576262876391411, 0.040849797427654266, 0.0333266519010067, 0.021795306354761124, 0.026310516521334648, 0.03101348876953125, 0.0368926040828228, 0.01937716454267502, 0.04355604574084282, 0.009558666497468948, 0.0], [0.11396829038858414, 0.01775287464261055, 0.016061952337622643, 0.015585053712129593, 0.01839611865580082, 0.024367084726691246, 0.02605387754738331, 0.023999113589525223, 0.021919483318924904, 0.026251116767525673, 0.024730538949370384, 0.015323018655180931, 0.025614572688937187, 0.026337891817092896, 0.024982871487736702, 0.02464262768626213, 0.028590325266122818, 0.03295151889324188, 0.027568623423576355, 0.01848755031824112, 0.03220851346850395, 0.03191469609737396, 0.036307256668806076, 0.034154012799263, 0.03678558021783829, 0.03297772631049156, 0.026278894394636154, 0.038098905235528946, 0.02980194427073002, 0.018183257430791855, 0.036320678889751434, 0.03568095713853836, 0.057703081518411636]], [[1.0, 0.0, 0.0, 0.0, 0.0, 0.0, 0.0, 0.0, 0.0, 0.0, 0.0, 0.0, 0.0, 0.0, 0.0, 0.0, 0.0, 0.0, 0.0, 0.0, 0.0, 0.0, 0.0, 0.0, 0.0, 0.0, 0.0, 0.0, 0.0, 0.0, 0.0, 0.0, 0.0], [0.8058414459228516, 0.19415856897830963, 0.0, 0.0, 0.0, 0.0, 0.0, 0.0, 0.0, 0.0, 0.0, 0.0, 0.0, 0.0, 0.0, 0.0, 0.0, 0.0, 0.0, 0.0, 0.0, 0.0, 0.0, 0.0, 0.0, 0.0, 0.0, 0.0, 0.0, 0.0, 0.0, 0.0, 0.0], [0.6373865008354187, 0.09672049432992935, 0.26589304208755493, 0.0, 0.0, 0.0, 0.0, 0.0, 0.0, 0.0, 0.0, 0.0, 0.0, 0.0, 0.0, 0.0, 0.0, 0.0, 0.0, 0.0, 0.0, 0.0, 0.0, 0.0, 0.0, 0.0, 0.0, 0.0, 0.0, 0.0, 0.0, 0.0, 0.0], [0.5870264768600464, 0.09922722727060318, 0.07913830876350403, 0.2346079796552658, 0.0, 0.0, 0.0, 0.0, 0.0, 0.0, 0.0, 0.0, 0.0, 0.0, 0.0, 0.0, 0.0, 0.0, 0.0, 0.0, 0.0, 0.0, 0.0, 0.0, 0.0, 0.0, 0.0, 0.0, 0.0, 0.0, 0.0, 0.0, 0.0], [0.4194737374782562, 0.06312594562768936, 0.08123067766427994, 0.08381503820419312, 0.35235464572906494, 0.0, 0.0, 0.0, 0.0, 0.0, 0.0, 0.0, 0.0, 0.0, 0.0, 0.0, 0.0, 0.0, 0.0, 0.0, 0.0, 0.0, 0.0, 0.0, 0.0, 0.0, 0.0, 0.0, 0.0, 0.0, 0.0, 0.0, 0.0], [0.5308531522750854, 0.0959072932600975, 0.07779338955879211, 0.06661548465490341, 0.07293295115232468, 0.15589767694473267, 0.0, 0.0, 0.0, 0.0, 0.0, 0.0, 0.0, 0.0, 0.0, 0.0, 0.0, 0.0, 0.0, 0.0, 0.0, 0.0, 0.0, 0.0, 0.0, 0.0, 0.0, 0.0, 0.0, 0.0, 0.0, 0.0, 0.0], [0.38503068685531616, 0.07478093355894089, 0.06978149712085724, 0.04760653153061867, 0.05144915729761124, 0.08776707202196121, 0.2835841774940491, 0.0, 0.0, 0.0, 0.0, 0.0, 0.0, 0.0, 0.0, 0.0, 0.0, 0.0, 0.0, 0.0, 0.0, 0.0, 0.0, 0.0, 0.0, 0.0, 0.0, 0.0, 0.0, 0.0, 0.0, 0.0, 0.0], [0.29629573225975037, 0.05328270047903061, 0.06944748759269714, 0.04097547382116318, 0.06660831719636917, 0.1021856889128685, 0.10869501531124115, 0.2625095844268799, 0.0, 0.0, 0.0, 0.0, 0.0, 0.0, 0.0, 0.0, 0.0, 0.0, 0.0, 0.0, 0.0, 0.0, 0.0, 0.0, 0.0, 0.0, 0.0, 0.0, 0.0, 0.0, 0.0, 0.0, 0.0], [0.304749995470047, 0.06337985396385193, 0.05753423646092415, 0.04057719185948372, 0.073001429438591, 0.07375828176736832, 0.07239888608455658, 0.05693604424595833, 0.25766411423683167, 0.0, 0.0, 0.0, 0.0, 0.0, 0.0, 0.0, 0.0, 0.0, 0.0, 0.0, 0.0, 0.0, 0.0, 0.0, 0.0, 0.0, 0.0, 0.0, 0.0, 0.0, 0.0, 0.0, 0.0], [0.29880765080451965, 0.05552826076745987, 0.05443597584962845, 0.05285302549600601, 0.06568751484155655, 0.07554221898317337, 0.06968102604150772, 0.05411387234926224, 0.09120789170265198, 0.18214260041713715, 0.0, 0.0, 0.0, 0.0, 0.0, 0.0, 0.0, 0.0, 0.0, 0.0, 0.0, 0.0, 0.0, 0.0, 0.0, 0.0, 0.0, 0.0, 0.0, 0.0, 0.0, 0.0, 0.0], [0.26933014392852783, 0.06352431327104568, 0.05952122062444687, 0.05242469906806946, 0.060521576553583145, 0.12185832113027573, 0.07608655095100403, 0.09753073751926422, 0.04232607036828995, 0.05058327317237854, 0.10629311949014664, 0.0, 0.0, 0.0, 0.0, 0.0, 0.0, 0.0, 0.0, 0.0, 0.0, 0.0, 0.0, 0.0, 0.0, 0.0, 0.0, 0.0, 0.0, 0.0, 0.0, 0.0, 0.0], [0.22074297070503235, 0.06960076093673706, 0.048723477870225906, 0.06675716489553452, 0.06954211741685867, 0.06483785808086395, 0.046523746103048325, 0.0393008328974247, 0.018016090616583824, 0.0358063206076622, 0.05302286893129349, 0.26712581515312195, 0.0, 0.0, 0.0, 0.0, 0.0, 0.0, 0.0, 0.0, 0.0, 0.0, 0.0, 0.0, 0.0, 0.0, 0.0, 0.0, 0.0, 0.0, 0.0, 0.0, 0.0], [0.15080073475837708, 0.04732475057244301, 0.12551116943359375, 0.06240082532167435, 0.053546320647001266, 0.05578393489122391, 0.04542611911892891, 0.03888600692152977, 0.0301998108625412, 0.033370546996593475, 0.04645953327417374, 0.023437919095158577, 0.2868523597717285, 0.0, 0.0, 0.0, 0.0, 0.0, 0.0, 0.0, 0.0, 0.0, 0.0, 0.0, 0.0, 0.0, 0.0, 0.0, 0.0, 0.0, 0.0, 0.0, 0.0], [0.20448839664459229, 0.04972049593925476, 0.048385459929704666, 0.04385358840227127, 0.05115717649459839, 0.1007489264011383, 0.06420684605836868, 0.08302560448646545, 0.038804519921541214, 0.047957729548215866, 0.09582381695508957, 0.03239700198173523, 0.04441104084253311, 0.0950193703174591, 0.0, 0.0, 0.0, 0.0, 0.0, 0.0, 0.0, 0.0, 0.0, 0.0, 0.0, 0.0, 0.0, 0.0, 0.0, 0.0, 0.0, 0.0, 0.0], [0.16236735880374908, 0.028519175946712494, 0.04784310609102249, 0.041354820132255554, 0.040284886956214905, 0.05200536176562309, 0.04226505756378174, 0.03821169212460518, 0.059868812561035156, 0.06849399954080582, 0.047342803329229355, 0.019715171307325363, 0.06202229857444763, 0.045721933245658875, 0.24398350715637207, 0.0, 0.0, 0.0, 0.0, 0.0, 0.0, 0.0, 0.0, 0.0, 0.0, 0.0, 0.0, 0.0, 0.0, 0.0, 0.0, 0.0, 0.0], [0.1312893182039261, 0.039628107100725174, 0.05951940640807152, 0.039663225412368774, 0.04406355321407318, 0.04348496347665787, 0.037265483289957047, 0.03240034729242325, 0.037205737084150314, 0.06481601297855377, 0.04047452658414841, 0.025914229452610016, 0.06507597863674164, 0.03922512009739876, 0.07744193822145462, 0.2225320190191269, 0.0, 0.0, 0.0, 0.0, 0.0, 0.0, 0.0, 0.0, 0.0, 0.0, 0.0, 0.0, 0.0, 0.0, 0.0, 0.0, 0.0], [0.1581333875656128, 0.03911251574754715, 0.038564957678318024, 0.03587969020009041, 0.04187793657183647, 0.08161000907421112, 0.05245806649327278, 0.0681268647313118, 0.03444806858897209, 0.043427519500255585, 0.08275997638702393, 0.02933339774608612, 0.04157378897070885, 0.08478686958551407, 0.048816002905368805, 0.03235285356640816, 0.08673813939094543, 0.0, 0.0, 0.0, 0.0, 0.0, 0.0, 0.0, 0.0, 0.0, 0.0, 0.0, 0.0, 0.0, 0.0, 0.0, 0.0], [0.13890598714351654, 0.03169633075594902, 0.03251555934548378, 0.03538898751139641, 0.03800032287836075, 0.06974424421787262, 0.059424541890621185, 0.06768238544464111, 0.027843810617923737, 0.03905467316508293, 0.07273104041814804, 0.030109865590929985, 0.04163092002272606, 0.07565009593963623, 0.040188319981098175, 0.0274836216121912, 0.07795905321836472, 0.09399017691612244, 0.0, 0.0, 0.0, 0.0, 0.0, 0.0, 0.0, 0.0, 0.0, 0.0, 0.0, 0.0, 0.0, 0.0, 0.0], [0.09691289812326431, 0.03068731538951397, 0.030817965045571327, 0.044734321534633636, 0.04171942174434662, 0.03603677079081535, 0.04101703315973282, 0.03210476413369179, 0.043440625071525574, 0.04885552451014519, 0.03457901254296303, 0.016025086864829063, 0.04994165152311325, 0.0346352681517601, 0.06065686419606209, 0.03497787192463875, 0.03454342111945152, 0.037827931344509125, 0.25048622488975525, 0.0, 0.0, 0.0, 0.0, 0.0, 0.0, 0.0, 0.0, 0.0, 0.0, 0.0, 0.0, 0.0, 0.0], [0.1205921471118927, 0.04121064394712448, 0.05098516866564751, 0.05289152264595032, 0.028861289843916893, 0.047061994671821594, 0.029212825000286102, 0.03817001357674599, 0.021046485751867294, 0.029787804931402206, 0.04406720772385597, 0.026503335684537888, 0.04127003625035286, 0.044307366013526917, 0.030801547691226006, 0.04064902290701866, 0.04474509507417679, 0.042122453451156616, 0.028442276641726494, 0.1972716897726059, 0.0, 0.0, 0.0, 0.0, 0.0, 0.0, 0.0, 0.0, 0.0, 0.0, 0.0, 0.0, 0.0], [0.11388303339481354, 0.028255395591259003, 0.028351297602057457, 0.026958664879202843, 0.03131084889173508, 0.05977548286318779, 0.0391821414232254, 0.050720393657684326, 0.027684012427926064, 0.035564228892326355, 0.06452133506536484, 0.024267081171274185, 0.03616494685411453, 0.06838167458772659, 0.04139300435781479, 0.0290946364402771, 0.072300486266613, 0.07349380105733871, 0.03700019791722298, 0.0352863147854805, 0.0764109417796135, 0.0, 0.0, 0.0, 0.0, 0.0, 0.0, 0.0, 0.0, 0.0, 0.0, 0.0, 0.0], [0.0845385268330574, 0.017416616901755333, 0.018949147313833237, 0.016560645774006844, 0.02229611948132515, 0.04174060747027397, 0.05894865095615387, 0.03893361985683441, 0.030214643105864525, 0.03464234247803688, 0.0483190156519413, 0.016358427703380585, 0.02567455731332302, 0.05309674143791199, 0.020546523854136467, 0.02046983689069748, 0.05704639106988907, 0.06604910641908646, 0.037746451795101166, 0.021413881331682205, 0.06129930540919304, 0.20773881673812866, 0.0, 0.0, 0.0, 0.0, 0.0, 0.0, 0.0, 0.0, 0.0, 0.0, 0.0], [0.1124844029545784, 0.024394849315285683, 0.024523165076971054, 0.02748955972492695, 0.02610466443002224, 0.03731505572795868, 0.06748531758785248, 0.03890376165509224, 0.017981436103582382, 0.028454389423131943, 0.03756532818078995, 0.018326066434383392, 0.02008865401148796, 0.03865170478820801, 0.0232856422662735, 0.02422662265598774, 0.03960612043738365, 0.048331890255212784, 0.04500093683600426, 0.01736215129494667, 0.04009140655398369, 0.05208286643028259, 0.19024400413036346, 0.0, 0.0, 0.0, 0.0, 0.0, 0.0, 0.0, 0.0, 0.0, 0.0], [0.08183357119560242, 0.019828449934720993, 0.026873398572206497, 0.029252557083964348, 0.02518444135785103, 0.03192773088812828, 0.029049793258309364, 0.024972522631287575, 0.03350626677274704, 0.04007429629564285, 0.033517319709062576, 0.01603599451482296, 0.032044555991888046, 0.03448064252734184, 0.028517091646790504, 0.03532731533050537, 0.035832274705171585, 0.040583960711956024, 0.029941106215119362, 0.02109791710972786, 0.03671329468488693, 0.039212584495544434, 0.03543241694569588, 0.23876051604747772, 0.0, 0.0, 0.0, 0.0, 0.0, 0.0, 0.0, 0.0, 0.0], [0.10145693272352219, 0.014237052761018276, 0.016984183341264725, 0.018636569380760193, 0.0285362359136343, 0.036538027226924896, 0.02957051806151867, 0.04198319837450981, 0.014166045002639294, 0.030081413686275482, 0.04016641154885292, 0.02007502317428589, 0.030370105057954788, 0.04353440925478935, 0.030393030494451523, 0.020717334002256393, 0.0467711016535759, 0.0549510195851326, 0.02880917303264141, 0.020043687894940376, 0.050925418734550476, 0.04084465652704239, 0.041858021169900894, 0.038489777594804764, 0.15986067056655884, 0.0, 0.0, 0.0, 0.0, 0.0, 0.0, 0.0, 0.0], [0.07937925308942795, 0.020674321800470352, 0.020799757912755013, 0.027988232672214508, 0.04565475508570671, 0.026562588289380074, 0.02539670839905739, 0.021243257448077202, 0.017763793468475342, 0.02520063705742359, 0.027576463297009468, 0.030607089400291443, 0.034379992634058, 0.028568314388394356, 0.022726934403181076, 0.01605195179581642, 0.0297127403318882, 0.03276180848479271, 0.025702400133013725, 0.012878884561359882, 0.030626125633716583, 0.020369650796055794, 0.03741392120718956, 0.027850383892655373, 0.03571850806474686, 0.27639153599739075, 0.0, 0.0, 0.0, 0.0, 0.0, 0.0, 0.0], [0.09605435281991959, 0.02309289015829563, 0.024199651554226875, 0.024974137544631958, 0.0368296355009079, 0.030014393851161003, 0.02106921188533306, 0.018117522820830345, 0.022569257766008377, 0.02834322303533554, 0.030505135655403137, 0.021707670763134956, 0.02821178175508976, 0.03163941577076912, 0.03916612267494202, 0.03627365455031395, 0.03311571106314659, 0.03514396399259567, 0.02574523165822029, 0.015889007598161697, 0.03467545658349991, 0.026770077645778656, 0.0271434485912323, 0.040450792759656906, 0.037603847682476044, 0.03232335299253464, 0.17837105691432953, 0.0, 0.0, 0.0, 0.0, 0.0, 0.0], [0.07476940751075745, 0.011021518148481846, 0.010706564411520958, 0.015325456857681274, 0.01990356110036373, 0.032858677208423615, 0.021936073899269104, 0.029454147443175316, 0.01642150804400444, 0.022476593032479286, 0.03722343593835831, 0.01758023537695408, 0.021954143419861794, 0.04046213626861572, 0.031415410339832306, 0.010417782701551914, 0.044297393411397934, 0.051181256771087646, 0.029565563425421715, 0.015394337475299835, 0.04906425252556801, 0.032021939754486084, 0.030905118212103844, 0.04132053256034851, 0.06578274071216583, 0.03978404402732849, 0.0204996969550848, 0.16625647246837616, 0.0, 0.0, 0.0, 0.0, 0.0], [0.051242049783468246, 0.01139003038406372, 0.020265808328986168, 0.02452964521944523, 0.12732438743114471, 0.02008391171693802, 0.017692742869257927, 0.020381985232234, 0.018548613414168358, 0.023206070065498352, 0.021026063710451126, 0.02052122913300991, 0.025210734456777573, 0.021994246169924736, 0.01719047501683235, 0.02080591209232807, 0.023035312071442604, 0.02645805850625038, 0.031086131930351257, 0.011454468593001366, 0.024357985705137253, 0.02252495288848877, 0.02460077591240406, 0.024588007479906082, 0.028380820527672768, 0.04660611227154732, 0.04362708330154419, 0.020300468429923058, 0.21156594157218933, 0.0, 0.0, 0.0, 0.0], [0.07929296046495438, 0.023537393659353256, 0.022847291082143784, 0.01993604190647602, 0.015462877228856087, 0.025110293179750443, 0.02142905257642269, 0.015073494985699654, 0.009924094192683697, 0.015724753960967064, 0.027188703417778015, 0.020747290924191475, 0.03497635945677757, 0.02910233475267887, 0.021219035610556602, 0.01814761757850647, 0.031058188527822495, 0.03380950540304184, 0.020137561485171318, 0.012323117814958096, 0.0336926244199276, 0.024336127564311028, 0.031084522604942322, 0.03377701714634895, 0.043554436415433884, 0.032963529229164124, 0.03314928337931633, 0.025364909321069717, 0.02216368541121483, 0.22286593914031982, 0.0, 0.0, 0.0], [0.10059653967618942, 0.03096376359462738, 0.025578510016202927, 0.020224066451191902, 0.027132989838719368, 0.0294907595962286, 0.0407448410987854, 0.021403610706329346, 0.016392601653933525, 0.02252068743109703, 0.02755517140030861, 0.013599206693470478, 0.027306709438562393, 0.027806580066680908, 0.011214185506105423, 0.023586537688970566, 0.02839917689561844, 0.030668916180729866, 0.021664205938577652, 0.017032310366630554, 0.02905159443616867, 0.026549924165010452, 0.032975535839796066, 0.026790330186486244, 0.0320606529712677, 0.02729833498597145, 0.017307177186012268, 0.01876881904900074, 0.028226524591445923, 0.017085103318095207, 0.18000467121601105, 0.0, 0.0], [0.08361604809761047, 0.016581891104578972, 0.015823306515812874, 0.02200516313314438, 0.02406255155801773, 0.021028298884630203, 0.022811299189925194, 0.014412397518754005, 0.01557208877056837, 0.01510483305901289, 0.020917732268571854, 0.021798159927129745, 0.02598598226904869, 0.022013207897543907, 0.02202506922185421, 0.018091216683387756, 0.02311510033905506, 0.025451799854636192, 0.025943521410226822, 0.011241882108151913, 0.02446616441011429, 0.02286989986896515, 0.03161344677209854, 0.029542677104473114, 0.02381790615618229, 0.029349012300372124, 0.025922654196619987, 0.017268184572458267, 0.0318446047604084, 0.012037733569741249, 0.027524923905730247, 0.2561412453651428, 0.0], [0.05258442088961601, 0.012508383952081203, 0.01273767463862896, 0.012144193984568119, 0.014467819593846798, 0.024812452495098114, 0.01710914634168148, 0.025162572041153908, 0.016298966482281685, 0.015160084702074528, 0.029820043593645096, 0.014290272258222103, 0.024094797670841217, 0.033742766827344894, 0.02163226716220379, 0.018924107775092125, 0.03819217160344124, 0.041151825338602066, 0.024165771901607513, 0.020635638386011124, 0.044185325503349304, 0.03793709725141525, 0.02963634766638279, 0.03152840584516525, 0.045423079282045364, 0.03596360236406326, 0.030482526868581772, 0.04609914869070053, 0.03206764906644821, 0.017662938684225082, 0.03169601410627365, 0.044629115611314774, 0.10305341333150864]], [[1.0, 0.0, 0.0, 0.0, 0.0, 0.0, 0.0, 0.0, 0.0, 0.0, 0.0, 0.0, 0.0, 0.0, 0.0, 0.0, 0.0, 0.0, 0.0, 0.0, 0.0, 0.0, 0.0, 0.0, 0.0, 0.0, 0.0, 0.0, 0.0, 0.0, 0.0, 0.0, 0.0], [0.7707713842391968, 0.22922858595848083, 0.0, 0.0, 0.0, 0.0, 0.0, 0.0, 0.0, 0.0, 0.0, 0.0, 0.0, 0.0, 0.0, 0.0, 0.0, 0.0, 0.0, 0.0, 0.0, 0.0, 0.0, 0.0, 0.0, 0.0, 0.0, 0.0, 0.0, 0.0, 0.0, 0.0, 0.0], [0.7813623547554016, 0.10978526622056961, 0.108852319419384, 0.0, 0.0, 0.0, 0.0, 0.0, 0.0, 0.0, 0.0, 0.0, 0.0, 0.0, 0.0, 0.0, 0.0, 0.0, 0.0, 0.0, 0.0, 0.0, 0.0, 0.0, 0.0, 0.0, 0.0, 0.0, 0.0, 0.0, 0.0, 0.0, 0.0], [0.5350390076637268, 0.11194941401481628, 0.15013688802719116, 0.20287469029426575, 0.0, 0.0, 0.0, 0.0, 0.0, 0.0, 0.0, 0.0, 0.0, 0.0, 0.0, 0.0, 0.0, 0.0, 0.0, 0.0, 0.0, 0.0, 0.0, 0.0, 0.0, 0.0, 0.0, 0.0, 0.0, 0.0, 0.0, 0.0, 0.0], [0.41803574562072754, 0.1603638082742691, 0.10740301758050919, 0.10625778138637543, 0.20793955028057098, 0.0, 0.0, 0.0, 0.0, 0.0, 0.0, 0.0, 0.0, 0.0, 0.0, 0.0, 0.0, 0.0, 0.0, 0.0, 0.0, 0.0, 0.0, 0.0, 0.0, 0.0, 0.0, 0.0, 0.0, 0.0, 0.0, 0.0, 0.0], [0.4349866509437561, 0.0957985520362854, 0.08251801133155823, 0.10028504580259323, 0.15332908928394318, 0.13308262825012207, 0.0, 0.0, 0.0, 0.0, 0.0, 0.0, 0.0, 0.0, 0.0, 0.0, 0.0, 0.0, 0.0, 0.0, 0.0, 0.0, 0.0, 0.0, 0.0, 0.0, 0.0, 0.0, 0.0, 0.0, 0.0, 0.0, 0.0], [0.44621357321739197, 0.05624215304851532, 0.05040297284722328, 0.07084295153617859, 0.09360909461975098, 0.11472619324922562, 0.16796308755874634, 0.0, 0.0, 0.0, 0.0, 0.0, 0.0, 0.0, 0.0, 0.0, 0.0, 0.0, 0.0, 0.0, 0.0, 0.0, 0.0, 0.0, 0.0, 0.0, 0.0, 0.0, 0.0, 0.0, 0.0, 0.0, 0.0], [0.3609195649623871, 0.07294464856386185, 0.05191003903746605, 0.07159044593572617, 0.09321669489145279, 0.09543666243553162, 0.14539919793605804, 0.10858277231454849, 0.0, 0.0, 0.0, 0.0, 0.0, 0.0, 0.0, 0.0, 0.0, 0.0, 0.0, 0.0, 0.0, 0.0, 0.0, 0.0, 0.0, 0.0, 0.0, 0.0, 0.0, 0.0, 0.0, 0.0, 0.0], [0.31714072823524475, 0.07683128863573074, 0.0555228516459465, 0.06445364654064178, 0.08586592227220535, 0.10643254220485687, 0.145211324095726, 0.09439336508512497, 0.05414833128452301, 0.0, 0.0, 0.0, 0.0, 0.0, 0.0, 0.0, 0.0, 0.0, 0.0, 0.0, 0.0, 0.0, 0.0, 0.0, 0.0, 0.0, 0.0, 0.0, 0.0, 0.0, 0.0, 0.0, 0.0], [0.19288603961467743, 0.11343871057033539, 0.04530506581068039, 0.08361203968524933, 0.057632721960544586, 0.11914195865392685, 0.11441230773925781, 0.12364514917135239, 0.07640960812568665, 0.07351641356945038, 0.0, 0.0, 0.0, 0.0, 0.0, 0.0, 0.0, 0.0, 0.0, 0.0, 0.0, 0.0, 0.0, 0.0, 0.0, 0.0, 0.0, 0.0, 0.0, 0.0, 0.0, 0.0, 0.0], [0.25174087285995483, 0.06019410863518715, 0.049302082508802414, 0.05922326445579529, 0.08453336358070374, 0.07307681441307068, 0.12308555841445923, 0.08293969184160233, 0.06380271911621094, 0.07185839116573334, 0.08024311810731888, 0.0, 0.0, 0.0, 0.0, 0.0, 0.0, 0.0, 0.0, 0.0, 0.0, 0.0, 0.0, 0.0, 0.0, 0.0, 0.0, 0.0, 0.0, 0.0, 0.0, 0.0, 0.0], [0.2479359656572342, 0.048557721078395844, 0.061716966331005096, 0.06616785377264023, 0.0878860279917717, 0.05920383706688881, 0.09128588438034058, 0.06866814941167831, 0.060628656297922134, 0.08399353921413422, 0.0656941756606102, 0.05826116353273392, 0.0, 0.0, 0.0, 0.0, 0.0, 0.0, 0.0, 0.0, 0.0, 0.0, 0.0, 0.0, 0.0, 0.0, 0.0, 0.0, 0.0, 0.0, 0.0, 0.0, 0.0], [0.15039604902267456, 0.0707230269908905, 0.03618801385164261, 0.03812884911894798, 0.054965753108263016, 0.09552794694900513, 0.1278020292520523, 0.09101752936840057, 0.04133947566151619, 0.06619425117969513, 0.11493084579706192, 0.03526816889643669, 0.0775180459022522, 0.0, 0.0, 0.0, 0.0, 0.0, 0.0, 0.0, 0.0, 0.0, 0.0, 0.0, 0.0, 0.0, 0.0, 0.0, 0.0, 0.0, 0.0, 0.0, 0.0], [0.21730749309062958, 0.0522487573325634, 0.042796868830919266, 0.051309894770383835, 0.070210762321949, 0.06084863469004631, 0.10094166547060013, 0.06729137897491455, 0.05347270518541336, 0.05803246423602104, 0.06386599689722061, 0.04143684729933739, 0.05429811030626297, 0.06593846529722214, 0.0, 0.0, 0.0, 0.0, 0.0, 0.0, 0.0, 0.0, 0.0, 0.0, 0.0, 0.0, 0.0, 0.0, 0.0, 0.0, 0.0, 0.0, 0.0], [0.14158986508846283, 0.08735613524913788, 0.0410962738096714, 0.07771319895982742, 0.06641592085361481, 0.060846131294965744, 0.07890864461660385, 0.0646718218922615, 0.041567541658878326, 0.05314025282859802, 0.06033195182681084, 0.04990347474813461, 0.06147687882184982, 0.06152058765292168, 0.05346131697297096, 0.0, 0.0, 0.0, 0.0, 0.0, 0.0, 0.0, 0.0, 0.0, 0.0, 0.0, 0.0, 0.0, 0.0, 0.0, 0.0, 0.0, 0.0], [0.11277391016483307, 0.051402706652879715, 0.03480072692036629, 0.04410994052886963, 0.049271054565906525, 0.08066023141145706, 0.09371129423379898, 0.07634276151657104, 0.03460072726011276, 0.0555649995803833, 0.09000369906425476, 0.02795092575252056, 0.05808687210083008, 0.09759879112243652, 0.058530546724796295, 0.03459078073501587, 0.0, 0.0, 0.0, 0.0, 0.0, 0.0, 0.0, 0.0, 0.0, 0.0, 0.0, 0.0, 0.0, 0.0, 0.0, 0.0, 0.0], [0.19136790931224823, 0.04588799551129341, 0.037184182554483414, 0.04478847235441208, 0.05845542252063751, 0.0516231432557106, 0.08451797068119049, 0.05661727115511894, 0.04477925971150398, 0.04681588336825371, 0.05177520960569382, 0.034743111580610275, 0.043655913323163986, 0.052577536553144455, 0.04571910947561264, 0.055239398032426834, 0.05425221472978592, 0.0, 0.0, 0.0, 0.0, 0.0, 0.0, 0.0, 0.0, 0.0, 0.0, 0.0, 0.0, 0.0, 0.0, 0.0, 0.0], [0.1780986338853836, 0.03651318699121475, 0.03537803143262863, 0.04660060629248619, 0.05606747046113014, 0.055425312370061874, 0.06580902636051178, 0.05869591236114502, 0.04460206627845764, 0.0384533517062664, 0.05522070452570915, 0.028129274025559425, 0.038876283913850784, 0.05635210499167442, 0.04307204484939575, 0.04859212785959244, 0.05801298841834068, 0.05610084533691406, 0.0, 0.0, 0.0, 0.0, 0.0, 0.0, 0.0, 0.0, 0.0, 0.0, 0.0, 0.0, 0.0, 0.0, 0.0], [0.11277125775814056, 0.044163405895233154, 0.016790850088000298, 0.03922898322343826, 0.030570246279239655, 0.08429381996393204, 0.058298323303461075, 0.07985575497150421, 0.027740230783820152, 0.024607930332422256, 0.0856802761554718, 0.012135535478591919, 0.021223613992333412, 0.08979953825473785, 0.02439563162624836, 0.018000084906816483, 0.0979786142706871, 0.08564861863851547, 0.04681730270385742, 0.0, 0.0, 0.0, 0.0, 0.0, 0.0, 0.0, 0.0, 0.0, 0.0, 0.0, 0.0, 0.0, 0.0], [0.15648673474788666, 0.04359336942434311, 0.02946913242340088, 0.02338279038667679, 0.039893947541713715, 0.06601446866989136, 0.07239893823862076, 0.04959877207875252, 0.025720084086060524, 0.028729893267154694, 0.07268747687339783, 0.02010437659919262, 0.03894991800189018, 0.07793489843606949, 0.031850170344114304, 0.029572609812021255, 0.08162926882505417, 0.04983030632138252, 0.04757082462310791, 0.014582022093236446, 0.0, 0.0, 0.0, 0.0, 0.0, 0.0, 0.0, 0.0, 0.0, 0.0, 0.0, 0.0, 0.0], [0.16675153374671936, 0.040216755121946335, 0.03194625675678253, 0.03915555030107498, 0.048679765313863754, 0.04351935535669327, 0.07027735561132431, 0.04676977917551994, 0.037370454519987106, 0.03785952180624008, 0.04185349866747856, 0.029438789933919907, 0.03496701642870903, 0.04187152907252312, 0.0366595983505249, 0.044189490377902985, 0.042446985840797424, 0.04309000074863434, 0.05540825054049492, 0.02402997389435768, 0.04349849000573158, 0.0, 0.0, 0.0, 0.0, 0.0, 0.0, 0.0, 0.0, 0.0, 0.0, 0.0, 0.0], [0.21311698853969574, 0.034521471709012985, 0.026512043550610542, 0.03728468343615532, 0.042002324014902115, 0.05378073453903198, 0.06410718709230423, 0.040195900946855545, 0.029513955116271973, 0.030562082305550575, 0.0481405034661293, 0.01964574120938778, 0.023855973035097122, 0.04712359234690666, 0.027805238962173462, 0.025632815435528755, 0.04690322279930115, 0.042115021497011185, 0.04245338961482048, 0.016209978610277176, 0.04720154032111168, 0.04131560027599335, 0.0, 0.0, 0.0, 0.0, 0.0, 0.0, 0.0, 0.0, 0.0, 0.0, 0.0], [0.16099101305007935, 0.03149211406707764, 0.025506004691123962, 0.032036278396844864, 0.0381193645298481, 0.05386464670300484, 0.052892014384269714, 0.06297368556261063, 0.03872942551970482, 0.030703028663992882, 0.04861500486731529, 0.016964141279459, 0.020984867587685585, 0.04743489623069763, 0.02617856301367283, 0.03281702846288681, 0.04874100536108017, 0.03702306002378464, 0.05028446391224861, 0.014425937086343765, 0.04926920309662819, 0.027485152706503868, 0.052469104528427124, 0.0, 0.0, 0.0, 0.0, 0.0, 0.0, 0.0, 0.0, 0.0, 0.0], [0.13924188911914825, 0.047321975231170654, 0.02292008139193058, 0.03782675787806511, 0.03733159974217415, 0.05628197267651558, 0.06773107498884201, 0.0638374611735344, 0.028824562206864357, 0.02836860716342926, 0.05008407682180405, 0.014775186777114868, 0.021058905869722366, 0.04819711670279503, 0.017685122787952423, 0.01545623131096363, 0.04842798784375191, 0.03709953650832176, 0.04247325286269188, 0.018426822498440742, 0.048613280057907104, 0.022673960775136948, 0.05998953804373741, 0.025352967903017998, 0.0, 0.0, 0.0, 0.0, 0.0, 0.0, 0.0, 0.0, 0.0], [0.19562353193759918, 0.03233326971530914, 0.022874077782034874, 0.03839076682925224, 0.03449878841638565, 0.04616907238960266, 0.05553750321269035, 0.03960668668150902, 0.023098398000001907, 0.024249300360679626, 0.04043306037783623, 0.016078554093837738, 0.02162494696676731, 0.03903057053685188, 0.02652089111506939, 0.028113434091210365, 0.038236308842897415, 0.03542611375451088, 0.041745733469724655, 0.021097134798765182, 0.03767954558134079, 0.03728693351149559, 0.04423920810222626, 0.02292151190340519, 0.03718467801809311, 0.0, 0.0, 0.0, 0.0, 0.0, 0.0, 0.0, 0.0], [0.058196526020765305, 0.038897398859262466, 0.02600524015724659, 0.023567896336317062, 0.022979984059929848, 0.05384150892496109, 0.05806104466319084, 0.06858770549297333, 0.037459831684827805, 0.029159100726246834, 0.05474673584103584, 0.01359295379370451, 0.02764704078435898, 0.055754028260707855, 0.030779872089624405, 0.01613735593855381, 0.05745426192879677, 0.03968729451298714, 0.03406553342938423, 0.013110975734889507, 0.059776559472084045, 0.0160437673330307, 0.029699286445975304, 0.0205665472894907, 0.08347288519144058, 0.03070860542356968, 0.0, 0.0, 0.0, 0.0, 0.0, 0.0, 0.0], [0.15561480820178986, 0.03032318875193596, 0.02106756903231144, 0.038600414991378784, 0.025089256465435028, 0.0471951924264431, 0.04255649447441101, 0.05166257917881012, 0.030368098989129066, 0.02013363502919674, 0.042556967586278915, 0.018511783331632614, 0.01867171935737133, 0.041430287063121796, 0.022022126242518425, 0.02106102555990219, 0.04166616499423981, 0.02724921703338623, 0.040481600910425186, 0.015536419115960598, 0.042196210473775864, 0.01700734533369541, 0.06220948323607445, 0.015703167766332626, 0.05443187057971954, 0.04092409089207649, 0.015729229897260666, 0.0, 0.0, 0.0, 0.0, 0.0, 0.0], [0.15218868851661682, 0.032320477068424225, 0.026277612894773483, 0.03215136006474495, 0.037080537527799606, 0.038433343172073364, 0.042185213416814804, 0.034409210085868835, 0.02929617650806904, 0.02475227601826191, 0.03461231663823128, 0.021795090287923813, 0.023419685661792755, 0.03386645019054413, 0.02858060598373413, 0.03440326824784279, 0.03315696492791176, 0.026710402220487595, 0.04213567078113556, 0.019021354615688324, 0.0327858105301857, 0.026840008795261383, 0.03304455056786537, 0.02330264262855053, 0.03390033543109894, 0.03944925218820572, 0.021334245800971985, 0.04254644364118576, 0.0, 0.0, 0.0, 0.0, 0.0], [0.10210391879081726, 0.048305340111255646, 0.027957914397120476, 0.028134850785136223, 0.043688926845788956, 0.037659600377082825, 0.04012180492281914, 0.035895805805921555, 0.02449178323149681, 0.01976804807782173, 0.034674081951379776, 0.01543145440518856, 0.032616548240184784, 0.03414340317249298, 0.027461383491754532, 0.020323211327195168, 0.034458402544260025, 0.015827571973204613, 0.030705831944942474, 0.020360933616757393, 0.03558044880628586, 0.034790292382240295, 0.03518148139119148, 0.02857261151075363, 0.043333832174539566, 0.03896389529109001, 0.01758768782019615, 0.045533787459135056, 0.04632510244846344, 0.0, 0.0, 0.0, 0.0], [0.11841738224029541, 0.026689784601330757, 0.028547639027237892, 0.03516455739736557, 0.03519093990325928, 0.030704868957400322, 0.04254688322544098, 0.023103512823581696, 0.025463126599788666, 0.02967854216694832, 0.028395213186740875, 0.019178252667188644, 0.023833580315113068, 0.027640027925372124, 0.03381752967834473, 0.0396401472389698, 0.027574418112635612, 0.021856175735592842, 0.03966764360666275, 0.039418332278728485, 0.027115609496831894, 0.030498076230287552, 0.03493282571434975, 0.0323205403983593, 0.027840545400977135, 0.03877577185630798, 0.021124785766005516, 0.038611430674791336, 0.03277180716395378, 0.01947997324168682, 0.0, 0.0, 0.0], [0.054337915033102036, 0.019247831776738167, 0.011686460115015507, 0.014118606224656105, 0.013909782283008099, 0.057368069887161255, 0.034546371549367905, 0.04665059223771095, 0.013026447966694832, 0.013271293602883816, 0.059527769684791565, 0.009063140489161015, 0.01736419089138508, 0.061355650424957275, 0.012634651735424995, 0.015145537443459034, 0.06425534933805466, 0.04627063125371933, 0.019556360319256783, 0.012543458491563797, 0.06913556903600693, 0.034823689609766006, 0.030005957931280136, 0.012261825613677502, 0.07985592633485794, 0.018996428698301315, 0.010722920298576355, 0.08654540777206421, 0.017174089327454567, 0.02214415743947029, 0.02245396189391613, 0.0, 0.0], [0.05849645286798477, 0.03437736630439758, 0.013603093102574348, 0.02417043410241604, 0.01900586113333702, 0.0654640644788742, 0.030622955411672592, 0.03573206439614296, 0.01885944977402687, 0.012241488322615623, 0.0628219023346901, 0.011835751123726368, 0.009552357718348503, 0.06431795656681061, 0.02158958464860916, 0.010912975296378136, 0.06665908545255661, 0.023997467011213303, 0.02659674920141697, 0.006153558846563101, 0.06984329968690872, 0.037238702178001404, 0.03004671074450016, 0.021686825901269913, 0.04364059865474701, 0.021209610626101494, 0.013490451499819756, 0.04632723331451416, 0.02043449878692627, 0.013362252153456211, 0.018568983301520348, 0.04714025929570198, 0.0], [0.1352868676185608, 0.029733378440141678, 0.02611132338643074, 0.03753575310111046, 0.0388815812766552, 0.0331667922437191, 0.048243895173072815, 0.03046831302344799, 0.026038208976387978, 0.02412370778620243, 0.027892740443348885, 0.02270994521677494, 0.02418527938425541, 0.026114562526345253, 0.023209672421216965, 0.02517528645694256, 0.024614781141281128, 0.021123159676790237, 0.029685042798519135, 0.018167469650506973, 0.023064401000738144, 0.02059808000922203, 0.034411393105983734, 0.021083397790789604, 0.02253883332014084, 0.0322815477848053, 0.01398724876344204, 0.024144932627677917, 0.027002297341823578, 0.012929441407322884, 0.03616536781191826, 0.02684023603796959, 0.032485030591487885]]], \"headLabels\": [\"L0H0\", \"L0H1\", \"L0H2\", \"L0H3\", \"L0H4\", \"L0H5\", \"L0H6\", \"L0H7\", \"L0H8\", \"L0H9\", \"L0H10\", \"L0H11\"]}\n",
              "    )\n",
              "    </script>"
            ]
          },
          "metadata": {}
        }
      ],
      "source": [
        "print(type(gpt2_cache))\n",
        "\n",
        "layer = 0\n",
        "attention_pattern = gpt2_cache[\"pattern\", layer]\n",
        "print(attention_pattern.shape)\n",
        "gpt2_str_tokens = gpt2_small.to_str_tokens(gpt2_text)\n",
        "\n",
        "print(\"Layer 0 Head Attention Patterns:\")\n",
        "display(\n",
        "    cv.attention.attention_patterns(\n",
        "        tokens=gpt2_str_tokens,\n",
        "        attention=attention_pattern,\n",
        "        attention_head_names=[f\"L{layer}H{i}\" for i in range(12)],\n",
        "    )\n",
        ")"
      ]
    },
    {
      "cell_type": "markdown",
      "metadata": {
        "id": "u4W62-LXHEK3"
      },
      "source": [
        "Hover over heads to see the attention patterns; click on a head to lock it. Hover over each token to see which other tokens it attends to (or which other tokens attend to it - you can see this by changing the dropdown to `Destination <- Source`).\n",
        "\n",
        "🔎 Can you spot an attention head that attends to the previous token only? In this model, you should be able to find one in the first 5 layers!"
      ]
    },
    {
      "cell_type": "markdown",
      "metadata": {
        "id": "vJehrs0ZHEK3"
      },
      "source": [
        "<details>\n",
        "<summary>Other circuitsvis functions - neuron activations</summary>\n",
        "\n",
        "The `circuitsvis` library also has a number of cool visualisations for **neuron activations**. Here are some more of them (you don't have to understand them all now, but you can come back to them later).\n",
        "\n",
        "The function below visualises neuron activations. The example shows just one sequence, but it can also show multiple sequences (if `tokens` is a list of lists of strings, and `activations` is a list of tensors).\n",
        "\n",
        "```python\n",
        "neuron_activations_for_all_layers = t.stack([\n",
        "    gpt2_cache[\"post\", layer] for layer in range(gpt2_small.cfg.n_layers)\n",
        "], dim=1)\n",
        "# shape = (seq_pos, layers, neurons)\n",
        "\n",
        "cv.activations.text_neuron_activations(\n",
        "    tokens=gpt2_str_tokens,\n",
        "    activations=neuron_activations_for_all_layers\n",
        ")\n",
        "```\n",
        "\n",
        "The next function shows which words each of the neurons activates most / least on (note that it requires some weird indexing to work correctly).\n",
        "\n",
        "```python\n",
        "neuron_activations_for_all_layers_rearranged = utils.to_numpy(einops.rearrange(neuron_activations_for_all_layers, \"seq layers neurons -> 1 layers seq neurons\"))\n",
        "\n",
        "cv.topk_tokens.topk_tokens(\n",
        "    # Some weird indexing required here ¯\\_(ツ)_/¯\n",
        "    tokens=[gpt2_str_tokens],\n",
        "    activations=neuron_activations_for_all_layers_rearranged,\n",
        "    max_k=7,\n",
        "    first_dimension_name=\"Layer\",\n",
        "    third_dimension_name=\"Neuron\",\n",
        "    first_dimension_labels=list(range(12))\n",
        ")\n",
        "```\n",
        "</details>"
      ]
    },
    {
      "cell_type": "markdown",
      "metadata": {
        "id": "n8AipX2DHEK5"
      },
      "source": [
        "# 2️⃣ TransformerLens: Hooks\n",
        "\n",
        "> ##### Learning Objectives\n",
        ">\n",
        "> - Understand what hooks are, and how they are used in TransformerLens\n",
        "> - Use hooks to access activations, process the results, and write them to an external tensor\n",
        "> - Build tools to perform attribution, i.e. detecting which components of your model are responsible for performance on a given task\n",
        "> - Understand how hooks can be used to perform basic interventions like **ablation**"
      ]
    },
    {
      "cell_type": "markdown",
      "metadata": {
        "id": "ibJuAFH0HsKP"
      },
      "source": [
        "## Introducing Our Toy Attention-Only Model\n",
        "\n",
        "Here we introduce a toy 2L attention-only transformer trained specifically for today. Some changes to make them easier to interpret:\n",
        "- It has only attention blocks.\n",
        "- The positional embeddings are only added to the residual stream before calculating each key and query vector in the attention layers as opposed to the token embeddings - i.e. we compute queries as `Q = (resid + pos_embed) @ W_Q + b_Q` and same for keys, but values as `V = resid @ W_V + b_V`. This means that **the residual stream can't directly encode positional information**.\n",
        "    - This turns out to make it *way* easier for induction heads to form, it happens 2-3x times earlier - [see the comparison of two training runs](https://wandb.ai/mechanistic-interpretability/attn-only/reports/loss_ewma-22-08-24-11-08-83---VmlldzoyNTI0MDMz?accessToken=8ap8ir6y072uqa4f9uinotdtrwmoa8d8k2je4ec0lyasf1jcm3mtdh37ouijgdbm) here. (The bump in each curve is the formation of induction heads.)\n",
        "    - The argument that does this below is `positional_embedding_type=\"shortformer\"`.\n",
        "- It has no MLP layers, no LayerNorms, and no biases.\n",
        "- There are separate embed and unembed matrices (i.e. the weights are not tied).\n",
        "\n",
        "We now define our model with a `HookedTransformerConfig` object. This is similar to the `Config` object we used in the previous set of exercises, although it has a lot more features. You can look at the documentation page (Right-click, \"Go to Definition\" in VSCode) to seee what the different arguments do."
      ]
    },
    {
      "cell_type": "code",
      "execution_count": 68,
      "metadata": {
        "id": "7xlzSF_aHsKP"
      },
      "outputs": [],
      "source": [
        "cfg = HookedTransformerConfig(\n",
        "    d_model=768,\n",
        "    d_head=64,\n",
        "    n_heads=12,\n",
        "    n_layers=2,\n",
        "    n_ctx=2048,\n",
        "    d_vocab=50278,\n",
        "    attention_dir=\"causal\",\n",
        "    attn_only=True,  # defaults to False\n",
        "    tokenizer_name=\"EleutherAI/gpt-neox-20b\",\n",
        "    seed=398,\n",
        "    use_attn_result=True,\n",
        "    normalization_type=None,  # defaults to \"LN\", i.e. layernorm with weights & biases\n",
        "    positional_embedding_type=\"shortformer\",\n",
        ")"
      ]
    },
    {
      "cell_type": "markdown",
      "metadata": {
        "id": "j6W3g5VkHsKP"
      },
      "source": [
        "Note that in the last section we had to define a tokenizer explicitly, and passed it into our model. But here, we just pass a tokenizer name, and the model will automatically create a tokenizer for us (under the hood, it calls `AutoTokenizer.from_pretrained(tokenizer_name)`).\n",
        "\n",
        "Below, you'll load in your weights, with some boilerplate code to download your state dict from HuggingFace (you can do this for any model you've uploaded to HuggingFace yourself):"
      ]
    },
    {
      "cell_type": "code",
      "execution_count": 69,
      "metadata": {
        "id": "H2c0B2ByHsKP",
        "outputId": "7ba2b56a-33f1-4b79-8546-dccf7cec9f6b",
        "colab": {
          "base_uri": "https://localhost:8080/",
          "height": 49,
          "referenced_widgets": [
            "d00da617141844aeacfa6191aa84781a",
            "8dde1b00e36540adbb862cfa093462dc",
            "ed7d469d405343d8b9b392ab73a74fb7",
            "977e957793c54d8eb6d125e360094cbc",
            "a0e8b7ee0ba64e9695a6256e59960840",
            "1152fe08141044d3bd7a8478a375f22a",
            "3dd30c07c82f4fb6b0677e7698989cd1",
            "b145c36de5954b6d94a65e09e0202999",
            "727ce7e35b3d4ea2a35f1a6d6cef3606",
            "91c64cb11a1d4c3abed30de513a27f35",
            "0190d482c9e64561af2f37e5c9a54030"
          ]
        }
      },
      "outputs": [
        {
          "output_type": "display_data",
          "data": {
            "text/plain": [
              "attn_only_2L_half.pth:   0%|          | 0.00/184M [00:00<?, ?B/s]"
            ],
            "application/vnd.jupyter.widget-view+json": {
              "version_major": 2,
              "version_minor": 0,
              "model_id": "d00da617141844aeacfa6191aa84781a"
            }
          },
          "metadata": {}
        }
      ],
      "source": [
        "from huggingface_hub import hf_hub_download\n",
        "\n",
        "REPO_ID = \"callummcdougall/attn_only_2L_half\"\n",
        "FILENAME = \"attn_only_2L_half.pth\"\n",
        "\n",
        "weights_path = hf_hub_download(repo_id=REPO_ID, filename=FILENAME)"
      ]
    },
    {
      "cell_type": "markdown",
      "metadata": {
        "id": "3olSNhOHHsKP"
      },
      "source": [
        "Finally, we'll create our model and load in the weights:"
      ]
    },
    {
      "cell_type": "code",
      "execution_count": 70,
      "metadata": {
        "id": "8VCTqyLFHsKP",
        "outputId": "95c064f7-83b8-4d98-da91-9a907411bf92",
        "colab": {
          "base_uri": "https://localhost:8080/",
          "height": 195,
          "referenced_widgets": [
            "55541173a23249938e62a2ea92382b36",
            "59e12de09a914ba891d9c841e39a99fd",
            "04fc144ff4c54fb88c40e99041b96bd7",
            "98df621fe82f444188ebe2fb1e896a4f",
            "3e465798b1d24bb6af58b2b3ad8ba197",
            "d41de7bdc57c4fbc82b9b810d05ba460",
            "076891b151594ba5928e72c68eb9be64",
            "96b78ce3d0474cc88b5f7929e79679d9",
            "103d049eb7de4521a678ee0b73277ac0",
            "5f19ec23679446f59ece05c8693f60b1",
            "f1afbaf3938849cc8f6dad7191edb71c",
            "08105c5f8a4c4daea0a556ce3bed1d89",
            "4bb0452803134a80a983371e1208462a",
            "d4125c8489a1414d8527a25912568be6",
            "e177b734294d42f9a43b57171f551d3c",
            "51861efd3a814983bfc8a5f252d3b8c2",
            "81e595e5f41246c3bff9f76e4d90e7ad",
            "4d852271809a4b2da2b73a9fb41f5ee0",
            "9a5b8e641f0a4e2a9536df162e4ec8a1",
            "56fccb1f781b4558a192039380e4611d",
            "c8a4fb044e164393bdf115c2cbdaf9d2",
            "0f21621eb9f241aeb34f21483021d676",
            "c1aa346a95a24b0fa39047f4aab4f6a9",
            "d2fc3d1e5d2248199c014bc5b2d00369",
            "8098a528e1164ce19ae7b6b6b4a2ec78",
            "d791db477c614f66b282fe2beb68e365",
            "2630513403f44598bf77a0459ef4961a",
            "42d650a0f767435dbd1fcc83f103c8a4",
            "f5499c3a1d2243d4b01f92a7dc9231aa",
            "9c14a1a1018a46aaa6111cae6d0087c3",
            "db6d32f77633448d9a75ce21a962e8af",
            "a738cf3685dc4b2282184e83f72ee691",
            "697264ef96aa4685906f05bf1a4fb074",
            "df63dd3b1a3c487dac48367b8cc59e71",
            "177c49e3d6b04839b36143b2cb28be33",
            "5d548e1d74a74a2c86ef7605868e6918",
            "346d26fe37fb420bbc204a65ef20ba5a",
            "9926d081d0094205b411ec5730b76ddb",
            "12766667d133465ab0bf11cee64c6328",
            "7352d329f3d4484bbe646d62989bdb45",
            "b4740d60d33d4a34b03b37d176dd3d72",
            "6c4085b146b14baf89f91063dabad3ce",
            "b759b13efbfc45a9b72c90348616a93b",
            "995fad7c2fae443088ae4fa905d56920",
            "c65bc5b6ab884e4b915341388a0f2901",
            "6bfe5c253ddf445c99a8cf72ef993b76",
            "f7e4d78273024ceeaae5281d87577423",
            "8234049a05cc466dbede34b05aed522f",
            "1af5cc414cb54e0bb786355aaf4d01b0",
            "78ebe5417f1843e3a3bc4a2e37df8fb6",
            "93957b76ffa14aefa63e8964c8273bdc",
            "ab1f515f96e949519e28e3f9c34ec3be",
            "ba78a21f4e1a4253acc80784178577e7",
            "c8965c20a0ff4e839f08364a084be4fa",
            "01173bfcb0c8448f84f737c213f13a94"
          ]
        }
      },
      "outputs": [
        {
          "output_type": "display_data",
          "data": {
            "text/plain": [
              "tokenizer_config.json:   0%|          | 0.00/156 [00:00<?, ?B/s]"
            ],
            "application/vnd.jupyter.widget-view+json": {
              "version_major": 2,
              "version_minor": 0,
              "model_id": "55541173a23249938e62a2ea92382b36"
            }
          },
          "metadata": {}
        },
        {
          "output_type": "display_data",
          "data": {
            "text/plain": [
              "vocab.json: 0.00B [00:00, ?B/s]"
            ],
            "application/vnd.jupyter.widget-view+json": {
              "version_major": 2,
              "version_minor": 0,
              "model_id": "08105c5f8a4c4daea0a556ce3bed1d89"
            }
          },
          "metadata": {}
        },
        {
          "output_type": "display_data",
          "data": {
            "text/plain": [
              "merges.txt: 0.00B [00:00, ?B/s]"
            ],
            "application/vnd.jupyter.widget-view+json": {
              "version_major": 2,
              "version_minor": 0,
              "model_id": "c1aa346a95a24b0fa39047f4aab4f6a9"
            }
          },
          "metadata": {}
        },
        {
          "output_type": "display_data",
          "data": {
            "text/plain": [
              "tokenizer.json: 0.00B [00:00, ?B/s]"
            ],
            "application/vnd.jupyter.widget-view+json": {
              "version_major": 2,
              "version_minor": 0,
              "model_id": "df63dd3b1a3c487dac48367b8cc59e71"
            }
          },
          "metadata": {}
        },
        {
          "output_type": "display_data",
          "data": {
            "text/plain": [
              "special_tokens_map.json:   0%|          | 0.00/90.0 [00:00<?, ?B/s]"
            ],
            "application/vnd.jupyter.widget-view+json": {
              "version_major": 2,
              "version_minor": 0,
              "model_id": "c65bc5b6ab884e4b915341388a0f2901"
            }
          },
          "metadata": {}
        },
        {
          "output_type": "execute_result",
          "data": {
            "text/plain": [
              "<All keys matched successfully>"
            ]
          },
          "metadata": {},
          "execution_count": 70
        }
      ],
      "source": [
        "model = HookedTransformer(cfg)\n",
        "pretrained_weights = t.load(weights_path, map_location=device, weights_only=True)\n",
        "model.load_state_dict(pretrained_weights)"
      ]
    },
    {
      "cell_type": "markdown",
      "metadata": {
        "id": "b4Z6FVCtHsKP"
      },
      "source": [
        "Use the [diagram at this link](https://raw.githubusercontent.com/info-arena/ARENA_img/main/misc/small-merm.svg) to remind yourself of the relevant hook names."
      ]
    },
    {
      "cell_type": "markdown",
      "metadata": {
        "id": "7hzCrjMTHsKP"
      },
      "source": [
        "### 💻 Exercise - visualise & inspect attention patterns\n",
        "\n",
        "> ```yaml\n",
        "> Difficulty: 🔴🔴⚪⚪⚪\n",
        "> Importance: 🔵🔵🔵⚪⚪\n",
        ">\n",
        "> You should spend up to ~10 minutes on this exercise.\n",
        ">\n",
        "> It's important to be comfortable using circuitsvis, and the cache object.\n",
        "> ```\n",
        "\n",
        "*This exercise should be very quick - you can reuse code from the previous section. You should look at the solution if you're still stuck after 5-10 minutes.*\n",
        "\n",
        "Visualise the attention patterns for both layers of your model, on the following prompt:"
      ]
    },
    {
      "cell_type": "code",
      "execution_count": null,
      "metadata": {
        "id": "ZSVrv0wOHsKP"
      },
      "outputs": [],
      "source": [
        "text = \"We think that powerful, significantly superhuman machine intelligence is more likely than not to be created this century. If current machine learning techniques were scaled up to this level, we think they would by default produce systems that are deceptive or manipulative, and that no solid plans are known for how to avoid this.\"\n",
        "\n",
        "logits, cache = model.run_with_cache(text, remove_batch_dim=True)"
      ]
    },
    {
      "cell_type": "markdown",
      "metadata": {
        "id": "JwWF9h4sHsKP"
      },
      "source": [
        "*(Note that we've run the model on the string `text`, rather than on tokens like we did previously when creating a cache - this is something that `HookedTransformer` allows.)*\n",
        "\n",
        "Inspect the attention patterns. What do you notice about the attention heads?\n",
        "\n",
        "You should spot three relatively distinctive basic patterns, which occur in multiple heads. What are these patterns, and can you guess why they might be present?"
      ]
    },
    {
      "cell_type": "code",
      "execution_count": null,
      "metadata": {
        "id": "a05wQpKQHsKP"
      },
      "outputs": [],
      "source": [
        "# YOUR CODE HERE - visualize attention\n",
        "# loop through each layer and display the attention patterns as was done with the gpt2 model"
      ]
    },
    {
      "cell_type": "markdown",
      "metadata": {
        "id": "vGEI3AtpHsKP"
      },
      "source": [
        "<details>\n",
        "<summary>Aside - what to do if your plots won't show up</summary>\n",
        "\n",
        "A common mistake is to fail to pass the tokens in as arguments. If you do this, your attention patterns won't render.\n",
        "\n",
        "If this isn't the problem, then it might be an issue with the Circuitsvis library.Rather than plotting inline, you can do the following, and then open in your browser from the left-hand file explorer menu of VSCode:\n",
        "</details>\n",
        "\n",
        "<details>\n",
        "<summary>Discussion of results </summary>\n",
        "\n",
        "We notice that there are three basic patterns which repeat quite frequently:\n",
        "\n",
        "* `prev_token_heads`, which attend mainly to the previous token (e.g. head `0.7`)\n",
        "* `current_token_heads`, which attend mainly to the current token (e.g. head `1.6`)\n",
        "* `first_token_heads`, which attend mainly to the first token (e.g. heads `0.3` or `1.4`, although these are a bit less clear-cut than the other two)\n",
        "\n",
        "The `prev_token_heads` and `current_token_heads` are perhaps unsurprising, because words that are close together in a sequence probably have a lot more mutual information (i.e. we could get quite far using bigram or trigram prediction).\n",
        "\n",
        "The `first_token_heads` are a bit more surprising. The basic intuition here is that the first token in a sequence is often used as a resting or null position for heads that only sometimes activate (since our attention probabilities always have to add up to 1).\n",
        "</details>\n",
        "\n",
        "\n",
        "<details><summary>Solution</summary>\n",
        "\n",
        "```python\n",
        "str_tokens = model.to_str_tokens(text)\n",
        "for layer in range(model.cfg.n_layers):\n",
        "    attention_pattern = cache[\"pattern\", layer]\n",
        "    display(cv.attention.attention_patterns(tokens=str_tokens, attention=attention_pattern))\n",
        "```\n",
        "</details>"
      ]
    },
    {
      "cell_type": "markdown",
      "metadata": {
        "id": "ZgfHjmRuHsKQ"
      },
      "source": [
        "Now that we've observed our three basic attention patterns, it's time to make detectors for those patterns!"
      ]
    },
    {
      "cell_type": "markdown",
      "metadata": {
        "id": "sKyn77a7HEK5"
      },
      "source": [
        "## What are hooks?\n",
        "\n",
        "One of the great things about interpreting neural networks is that we have *full control* over our system. From a computational perspective, we know exactly what operations are going on inside (even if we don't know what they mean!). And we can make precise, surgical edits and see how the model's behaviour and other internals change. This is an extremely powerful tool, because it can let us e.g. set up careful counterfactuals and causal intervention to easily understand model behaviour.\n",
        "\n",
        "Accordingly, being able to do this is a pretty core operation, and this is one of the main things TransformerLens supports! The key feature here is **hook points**. Every activation inside the transformer is surrounded by a hook point, which allows us to edit or intervene on it.\n",
        "\n",
        "We do this by adding a **hook function** to that activation, and then calling `model.run_with_hooks`.\n",
        "\n",
        "*(Terminology note - because basically all the activations in our model have an associated hook point, we'll sometimes use the terms \"hook\" and \"activation\" interchangeably.)*"
      ]
    },
    {
      "cell_type": "markdown",
      "metadata": {
        "id": "ieSjhRuzHEK5"
      },
      "source": [
        "### Hook functions\n",
        "\n",
        "Hook functions take two arguments: `activation_value` and `hook_point`. The `activation_value` is a tensor representing some activation in the model, just like the values in our `ActivationCache`. The `hook_point` is an object which gives us methods like `hook.layer()` or attributes like `hook.name` that are sometimes useful to call within the function.\n",
        "\n",
        "If we're using hooks to edit activations, then the hook function should return a tensor of the same shape as the activation value. But we can also just have our hook function access the activation, do some processing, and write the results to some external variable (in which case our hook function should just not return anything).\n",
        "\n",
        "An example hook function for changing the attention patterns at a particular layer might look like:"
      ]
    },
    {
      "cell_type": "markdown",
      "metadata": {
        "id": "ULOYYDBmHEK5"
      },
      "source": [
        "```python\n",
        "def hook_function(\n",
        "    attn_pattern: Float[Tensor, \"batch heads seq_len seq_len\"],\n",
        "    hook: HookPoint\n",
        ") -> Float[Tensor, \"batch heads seq_len seq_len\"]:\n",
        "\n",
        "    # modify attn_pattern (can be inplace)\n",
        "    return attn_pattern\n",
        "```"
      ]
    },
    {
      "cell_type": "markdown",
      "metadata": {
        "id": "PhkJbxCwHEK5"
      },
      "source": [
        "### Running with hooks\n",
        "\n",
        "Once you've defined a hook function (or functions), you should call `model.run_with_hooks`. A typical call to this function might look like:"
      ]
    },
    {
      "cell_type": "markdown",
      "metadata": {
        "id": "fKfyRlH8HEK5"
      },
      "source": [
        "```python\n",
        "loss = model.run_with_hooks(\n",
        "    tokens,\n",
        "    return_type=\"loss\",\n",
        "    fwd_hooks=[\n",
        "        ('blocks.1.attn.hook_pattern', hook_function)\n",
        "    ]\n",
        ")\n",
        "```"
      ]
    },
    {
      "cell_type": "markdown",
      "metadata": {
        "id": "o1tWcSjjHEK5"
      },
      "source": [
        "Let's break this code down.\n",
        "\n",
        "* `tokens` represents our model's input.\n",
        "* `return_type=\"loss\"` is used here because we're modifying our activations and seeing how this affects the loss.\n",
        "    * We could also return the logits, or just use `return_type=None` if we only want to access the intermediate activations and we don't care about the output.\n",
        "* `fwd_hooks` is a list of 2-tuples of (hook name, hook function).\n",
        "    * The hook name is a string that specifies which activation we want to hook.\n",
        "    * The hook function gets run with the corresponding activation as its first argument.\n",
        "\n",
        "### A bit more about hooks\n",
        "\n",
        "Here are a few extra notes for how to squeeze even more functionality out of hooks. If you'd prefer, you can [jump ahead](#hooks-accessing-activations) to see an actual example of hooks being used, and come back to this section later.\n",
        "\n",
        "<details>\n",
        "<summary>Resetting hooks</summary>\n",
        "\n",
        "`model.run_with_hooks` has the default parameter `reset_hooks_end=True` which resets all hooks at the end of the run (including both those that were added before and during the run). Despite this, it's possible to shoot yourself in the foot with hooks, e.g. if there's an error in one of your hooks so the function never finishes. In this case, you can use `model.reset_hooks()` to reset all hooks.\n",
        "\n",
        "If you don't want to reset hooks (i.e. you want to keep them between forward passes), you can either set `reset_hooks_end=False` in the `run_with_hooks` function, or just add the hooks directly using the `add_hook` method before your forward passes (this way they won't reset automatically).\n",
        "\n",
        "</details>\n",
        "<details>\n",
        "<summary>Adding multiple hooks at once</summary>\n",
        "\n",
        "Including more than one tuple in the `fwd_hooks` list is one way to add multiple hooks:\n",
        "\n",
        "```python\n",
        "loss = model.run_with_hooks(\n",
        "    tokens,\n",
        "    return_type=\"loss\",\n",
        "    fwd_hooks=[\n",
        "        ('blocks.0.attn.hook_pattern', hook_function),\n",
        "        ('blocks.1.attn.hook_pattern', hook_function)\n",
        "    ]\n",
        ")\n",
        "```\n",
        "\n",
        "Another way is to use a **name filter** rather than a single name:\n",
        "\n",
        "```python\n",
        "loss = model.run_with_hooks(\n",
        "    tokens,\n",
        "    return_type=\"loss\",\n",
        "    fwd_hooks=[\n",
        "        (lambda name: name.endswith(\"pattern\"), hook_function)\n",
        "    ]\n",
        ")\n",
        "```\n",
        "</details>\n",
        "<details>\n",
        "<summary><code>utils.get_act_name</code></summary>\n",
        "\n",
        "When we were indexing the cache in the previous section, we found we could use strings like `cache['blocks.0.attn.hook_pattern']`, or use the shorthand of `cache['pattern', 0]`. The reason the second one works is that it calls the function `utils.get_act_name` under the hood, i.e. we have:\n",
        "\n",
        "```python\n",
        "utils.get_act_name('pattern', 0) == 'blocks.0.attn.hook_pattern'\n",
        "```\n",
        "\n",
        "Using `utils.get_act_name` in your forward hooks is often easier than using the full string, since the only thing you need to remember is the activation name (you can refer back to the diagram in the previous section for this).\n",
        "</details>\n",
        "<details>\n",
        "<summary>Using <code>functools.partial</code> to create variations on hooks</summary>\n",
        "\n",
        "A useful trick is to define a hook function with more arguments than it needs, and then use `functools.partial` to fill in the extra arguments. For instance, if you want a hook function which only modifies a particular head, but you want to run it on all heads separately (rather than just adding all the hooks and having them all run on the next forward pass), then you can do something like:\n",
        "\n",
        "```python\n",
        "def hook_all_attention_patterns(\n",
        "    attn_pattern: Float[Tensor, \"batch heads seq_len seq_len\"],\n",
        "    hook: HookPoint,\n",
        "    head_idx: int\n",
        ") -> Float[Tensor, \"batch heads seq_len seq_len\"]:\n",
        "    # modify attn_pattern inplace, at head_idx\n",
        "    return attn_pattern\n",
        "\n",
        "for head_idx in range(12):\n",
        "    temp_hook_fn = functools.partial(hook_all_attention_patterns, head_idx=head_idx)\n",
        "    model.run_with_hooks(tokens, fwd_hooks=[('blocks.1.attn.hook_pattern', temp_hook_fn)])\n",
        "```\n",
        "</details>\n",
        "\n",
        "And here are some points of interest, which aren't vital to understand:\n",
        "\n",
        "<details>\n",
        "<summary>Relationship to PyTorch hooks</summary>\n",
        "\n",
        "[PyTorch hooks](https://blog.paperspace.com/pytorch-hooks-gradient-clipping-debugging/) are a great and underrated, yet incredibly janky, feature. They can act on a layer, and edit the input or output of that layer, or the gradient when applying autodiff. The key difference is that **Hook points** act on *activations* not layers. This means that you can intervene within a layer on each activation, and don't need to care about the precise layer structure of the transformer. And it's immediately clear exactly how the hook's effect is applied. This adjustment was shamelessly inspired by [Garcon's use of ProbePoints](https://transformer-circuits.pub/2021/garcon/index.html).\n",
        "\n",
        "They also come with a range of other quality of life improvements. PyTorch's hooks are global state, which can be a massive pain if you accidentally leave a hook on a model. TransformerLens hooks are also global state, but `run_with_hooks` tries to create an abstraction where these are local state by removing all hooks at the end of the function (and they come with a helpful `model.reset_hooks()` method to remove all hooks).\n",
        "</details>\n",
        "\n",
        "<details>\n",
        "<summary>How are TransformerLens hooks actually implemented?</summary>\n",
        "\n",
        "They are implemented as modules with the identity function as their forward method:\n",
        "\n",
        "```python\n",
        "class HookPoint(nn.Module):\n",
        "    ...\n",
        "    def forward(self, x):\n",
        "        return x\n",
        "```\n",
        "\n",
        "but also with special features for adding and removing hook functions. This is why you see hooks when you print a HookedTransformer model, because all its modules are recursively printed.\n",
        "\n",
        "When you run the model normally, hook modules won't change the model's behaviour (since applying the identity function does nothing). It's only once you add functions to the hook modules (e.g. a function which ablates any inputs into the hook module) that the model's behaviour changes.\n",
        "\n",
        "</details>"
      ]
    },
    {
      "cell_type": "markdown",
      "metadata": {
        "id": "okVgyGS_HEK5"
      },
      "source": [
        "## Hooks: Accessing Activations\n",
        "\n",
        "In later sections, we'll write some code to intervene on hooks, which is really the core feature that makes them so useful for interpretability. But for now, let's just look at how to access them without changing their value. This can be achieved by having the hook function write to a global variable, and return nothing (rather than modifying the activation in place).\n",
        "\n",
        "Why might we want to do this? It turns out to be useful for things like:\n",
        "\n",
        "* Extracting activations for a specific task\n",
        "* Doing some long-running calculation across many inputs, e.g. finding the text that most activates a specific neuron\n",
        "\n",
        "Note that, in theory, this could all be done using the `run_with_cache` function we used in the previous section, combined with post-processing of the cache result. But using hooks can be more intuitive and memory efficient."
      ]
    },
    {
      "cell_type": "markdown",
      "metadata": {
        "id": "ncyJt4xdHEK6"
      },
      "source": [
        "## Building interpretability tools\n",
        "\n",
        "In order to develop a mechanistic understanding for how transformers perform certain tasks, we need to be able to answer questions like:\n",
        "\n",
        "> *How much of the model's performance on some particular task is attributable to each component of the model?*\n",
        "\n",
        "where \"component\" here might mean, for example, a specific head in a layer.\n",
        "\n",
        "There are many ways to approach a question like this. For example, we might look at how a head interacts with other heads in different layers, or we might perform a causal intervention by seeing how well the model performs if we remove the effect of this head."
      ]
    },
    {
      "cell_type": "markdown",
      "metadata": {
        "id": "VEcokFOpHEK6"
      },
      "source": [
        "## Hooks: Intervening on Activations\n",
        "\n",
        "Now that we've built some tools to decompose our model's output, it's time to start making causal interventions.\n",
        "\n",
        "### Ablations\n",
        "\n",
        "Let's start with a simple example: **ablation**. An ablation is a simple causal intervention on a model - we pick some part of it and set it to zero. This is a crude proxy for how much that part matters. Further, if we have some story about how a specific circuit in the model enables some capability, showing that ablating *other* parts does nothing can be strong evidence of this.\n",
        "\n",
        "As mentioned in [the glossary](https://dynalist.io/d/n2ZWtnoYHrU1s4vnFSAQ519J#z=fh-HJyz1CgUVrXuoiban6bYx), there are many ways to do ablation. We'll focus on the simplest: zero-ablation (even though it's somewhat unprincipled)."
      ]
    },
    {
      "cell_type": "markdown",
      "metadata": {
        "id": "YeDKXAvgHEK7"
      },
      "source": [
        "### 💻 Exercise - previous token head ablation\n",
        "\n",
        "> ```yaml\n",
        "> Difficulty: 🔴🔴⚪⚪⚪\n",
        "> Importance: 🔵🔵🔵🔵⚪\n",
        ">\n",
        "> You should aim to spend 20-35 mins on this exercise.\n",
        "> ```\n",
        "\n",
        "The code below provides a template for performing zero-ablation on the output vectors at a particular head (i.e. the vectors we get when taking a weighted sum of the value vectors according to the attention probabilities, before projecting them up & adding them back to the residual stream). If you're confused about what different activations mean, you can refer back to [the diagram](https://raw.githubusercontent.com/info-arena/ARENA_img/main/misc/small-merm.svg).\n",
        "\n",
        "You need to do 2 things:\n",
        "\n",
        "1. Fill in `head_zero_ablation_hook` so that it performs zero-ablation on the head given by `head_index_to_ablate`.\n",
        "2. Fill in the missing code in the `get_ablation_scores` function (i.e. where you see the `raise NotImplementedError()` line), so that `loss_with_ablation` is computed as the loss of the model after ablating head `head` in layer `layer`.\n",
        "\n",
        "The rest of the `get_ablation_scores` function is designed to return a tensor of shape `(n_layers, n_heads)` containing the increase in loss from ablating each of these heads.\n",
        "\n",
        "A few notes about this function / tips on how to implement it:\n",
        "\n",
        "- You can create a temporary hook function by applying `functools.partial` to the `ablation_function`, fixing the head index to a particular value.\n",
        "- You can use `utils.get_act_name(\"z\", layer)` to get the name of the hook point (to see the full diagram of named hook points and how to get the names, you can refer to the streamlit reference page, which can be found on the left hand sidebar after you navigate to the [homepage](https://arena-chapter1-transformer-interp.streamlit.app/)).\n",
        "- See that `loss_no_ablation` is computed with the `get_log_probs` function, and that we only take the last `seq_len - 1` tokens - this is because we're dealing with sequences of length `2 * seq_len + 1` (a BOS token plus 2 repeated random sequences), and we only care about the loss on the second half of the sequence.\n",
        "- Note that we call `model.reset_hooks()` at the start of the function - this is a useful practice in general, to make sure you've not accidentally left in any hooks that might change your model's behaviour."
      ]
    },
    {
      "cell_type": "code",
      "execution_count": null,
      "metadata": {
        "id": "QqcCt0pUHEK7"
      },
      "outputs": [],
      "source": [
        "def get_log_probs(\n",
        "    logits: Float[Tensor, \"batch posn d_vocab\"], tokens: Int[Tensor, \"batch posn\"]\n",
        ") -> Float[Tensor, \"batch posn-1\"]:\n",
        "    logprobs = logits.log_softmax(dim=-1)\n",
        "    # We want to get logprobs[b, s, tokens[b, s+1]], in eindex syntax this looks like:\n",
        "    correct_logprobs = eindex(logprobs, tokens, \"b s [b s+1]\")\n",
        "    return correct_logprobs\n",
        "\n",
        "def generate_repeated_tokens(\n",
        "    model: HookedTransformer, seq_len: int, batch_size: int = 1\n",
        ") -> Int[Tensor, \"batch_size full_seq_len\"]:\n",
        "    \"\"\"\n",
        "    Generates a sequence of repeated random tokens\n",
        "\n",
        "    Outputs are:\n",
        "        rep_tokens: [batch_size, 1+2*seq_len]\n",
        "    \"\"\"\n",
        "    t.manual_seed(0)  # for reproducibility\n",
        "    prefix = (t.ones(batch_size, 1) * model.tokenizer.bos_token_id).long() # beginning of sequence\n",
        "    rep_tokens_half = t.randint(0, model.cfg.d_vocab, (batch_size, seq_len), dtype=t.int64)\n",
        "    rep_tokens = t.cat([prefix, rep_tokens_half, rep_tokens_half], dim=-1).to(device)\n",
        "    return rep_tokens\n",
        "\n",
        "def head_zero_ablation_hook(\n",
        "    z: Float[Tensor, \"batch seq n_heads d_head\"],\n",
        "    hook: HookPoint,\n",
        "    head_index_to_ablate: int,\n",
        ") -> None:\n",
        "\n",
        "  # YOUR CODE HERE\n",
        "  raise NotImplementedError()\n",
        "\n",
        "def get_ablation_scores(\n",
        "    model: HookedTransformer,\n",
        "    tokens: Int[Tensor, \"batch seq\"],\n",
        "    ablation_function: Callable = head_zero_ablation_hook,\n",
        ") -> Float[Tensor, \"n_layers n_heads\"]:\n",
        "    \"\"\"\n",
        "    Returns a tensor of shape (n_layers, n_heads) containing the increase in cross entropy loss from ablating the output\n",
        "    of each head.\n",
        "    \"\"\"\n",
        "    # Initialize an object to store the ablation scores\n",
        "    ablation_scores = t.zeros((model.cfg.n_layers, model.cfg.n_heads), device=model.cfg.device)\n",
        "\n",
        "    # Calculating loss without any ablation, to act as a baseline\n",
        "    model.reset_hooks()\n",
        "    seq_len = (tokens.shape[1] - 1) // 2\n",
        "    logits = model(tokens, return_type=\"logits\")\n",
        "    loss_no_ablation = -get_log_probs(logits, tokens)[:, -(seq_len - 1) :].mean()\n",
        "\n",
        "    for layer in tqdm(range(model.cfg.n_layers)):\n",
        "        for head in range(model.cfg.n_heads):\n",
        "\n",
        "            # YOUR CODE HERE\n",
        "            raise NotImplementedError()\n",
        "\n",
        "    return ablation_scores\n",
        "\n",
        "rep_tokens = generate_repeated_tokens(model, seq_len=50, batch_size=10)\n",
        "ablation_scores = get_ablation_scores(model, rep_tokens)\n",
        "tests.test_get_ablation_scores(ablation_scores, model, rep_tokens)"
      ]
    },
    {
      "cell_type": "markdown",
      "metadata": {
        "id": "hFeaUajLHEK7"
      },
      "source": [
        "<details><summary>Solution</summary>\n",
        "\n",
        "```python\n",
        "def head_zero_ablation_hook(\n",
        "    z: Float[Tensor, \"batch seq n_heads d_head\"],\n",
        "    hook: HookPoint,\n",
        "    head_index_to_ablate: int,\n",
        ") -> None:\n",
        "    z[:, :, head_index_to_ablate, :] = 0.0\n",
        "\n",
        "\n",
        "def get_ablation_scores(\n",
        "    model: HookedTransformer,\n",
        "    tokens: Int[Tensor, \"batch seq\"],\n",
        "    ablation_function: Callable = head_zero_ablation_hook,\n",
        ") -> Float[Tensor, \"n_layers n_heads\"]:\n",
        "    \"\"\"\n",
        "    Returns a tensor of shape (n_layers, n_heads) containing the increase in cross entropy loss from ablating the output\n",
        "    of each head.\n",
        "    \"\"\"\n",
        "    # Initialize an object to store the ablation scores\n",
        "    ablation_scores = t.zeros((model.cfg.n_layers, model.cfg.n_heads), device=model.cfg.device)\n",
        "\n",
        "    # Calculating loss without any ablation, to act as a baseline\n",
        "    model.reset_hooks()\n",
        "    seq_len = (tokens.shape[1] - 1) // 2\n",
        "    logits = model(tokens, return_type=\"logits\")\n",
        "    loss_no_ablation = -get_log_probs(logits, tokens)[:, -(seq_len - 1) :].mean()\n",
        "\n",
        "    for layer in tqdm(range(model.cfg.n_layers)):\n",
        "        for head in range(model.cfg.n_heads):\n",
        "            # Use functools.partial to create a temporary hook function with the head number fixed\n",
        "            temp_hook_fn = functools.partial(ablation_function, head_index_to_ablate=head)\n",
        "            # Run the model with the ablation hook\n",
        "            ablated_logits = model.run_with_hooks(tokens, fwd_hooks=[(utils.get_act_name(\"z\", layer), temp_hook_fn)])\n",
        "            # Calculate the loss difference (= negative correct logprobs), only on the last `seq_len` tokens\n",
        "            loss = -get_log_probs(ablated_logits, tokens)[:, -(seq_len - 1) :].mean()\n",
        "            # Store the result, subtracting the clean loss so that a value of zero means no change in loss\n",
        "            ablation_scores[layer, head] = loss - loss_no_ablation\n",
        "\n",
        "    return ablation_scores\n",
        "```\n",
        "</details>"
      ]
    },
    {
      "cell_type": "markdown",
      "metadata": {
        "id": "8sMz9fqJHEK7"
      },
      "source": [
        "Once you've passed the tests, you can plot the results:"
      ]
    },
    {
      "cell_type": "code",
      "execution_count": null,
      "metadata": {
        "id": "6KAREgyIHEK7"
      },
      "outputs": [],
      "source": [
        "imshow(\n",
        "    ablation_scores,\n",
        "    labels={\"x\": \"Head\", \"y\": \"Layer\", \"color\": \"Logit diff\"},\n",
        "    title=\"Loss Difference After Ablating Heads\",\n",
        "    text_auto=\".2f\",\n",
        "    width=900,\n",
        "    height=350,\n",
        ")"
      ]
    },
    {
      "cell_type": "markdown",
      "metadata": {
        "id": "3mH6nAAoHEK7"
      },
      "source": [
        "What is your interpretation of these results?\n",
        "\n",
        "<details>\n",
        "<summary>Interpretation</summary>\n",
        "\n",
        "This tells us not just which heads are responsible for writing output to the residual stream that gets us the correct result, but **which heads play an important role in the repetition of a token**.\n",
        "\n",
        "This chart tells us that - for sequences of repeated tokens - head `0.7` is by far the most important in layer 0 (which makes sense, since we observed it to be the strongest \"previous token head\"), and heads `0.4`, `1.4`, `1.10` are also important... These are so-called \"induction heads\".\n",
        "\n",
        "This is a good illustration of the kind of result which we can get from ablation, but **wouldn't be able to get from something like direct logit attribution**, because it isn't a causal intervention.\n",
        "</details>"
      ]
    },
    {
      "cell_type": "markdown",
      "metadata": {
        "id": "KIct5x2bHEK7"
      },
      "source": [
        "### 💻 Exercise - mean ablation\n",
        "\n",
        "> ```yaml\n",
        "> Difficulty: 🔴⚪⚪⚪⚪\n",
        "> Importance: 🔵🔵🔵⚪⚪\n",
        ">\n",
        "> You should aim to spend 5-15 mins on this exercise.\n",
        "> ```\n",
        "\n",
        "An alternative to zero-ablation is **mean-ablation**, where rather than setting values to zero, we set them to be their mean across some suitable distribution (commonly we'll use the mean over some batch dimension). This can be more informative, because zero-ablation takes a model out of its normal distribution, and so the results from it aren't necessarily representative of what you'd get if you \"switched off\" the effect from some particular component. Mean ablation on the other hand works slightly better (although it does come with its own set of risks). You can read more [here](https://www.neelnanda.io/mechanistic-interpretability/glossary#:~:text=Ablation%20aka%20Knockout) or [here](https://arxiv.org/html/2404.15255v1).\n",
        "\n",
        "You should fill in the `head_mean_ablation_hook` function below, and run the code (also make sure in your previous `get_ablation_scores` function that you were actually using the `ablation_function` rather than hardcoding the zero ablation function, otherwise your code won't work here). You should see that the results are slightly cleaner, with the unimportant heads having values much closer to zero relative to the important heads.\n",
        "\n",
        "**Hard: Can you think of why for instance attention head `0.3` is quite different with mean ablation when compared to zero ablation?**"
      ]
    },
    {
      "cell_type": "code",
      "execution_count": null,
      "metadata": {
        "id": "qRT1r0P-HEK7"
      },
      "outputs": [],
      "source": [
        "def head_mean_ablation_hook(\n",
        "    z: Float[Tensor, \"batch seq n_heads d_head\"],\n",
        "    hook: HookPoint,\n",
        "    head_index_to_ablate: int,\n",
        ") -> None:\n",
        "    raise NotImplementedError()\n",
        "\n",
        "# More code here...\n",
        "# Feel free to adapt the code from the previous cell"
      ]
    },
    {
      "cell_type": "markdown",
      "metadata": {
        "id": "HP_V9BRHHEK7"
      },
      "source": [
        "<details><summary>Solution</summary>\n",
        "\n",
        "```python\n",
        "def head_mean_ablation_hook(\n",
        "    z: Float[Tensor, \"batch seq n_heads d_head\"],\n",
        "    hook: HookPoint,\n",
        "    head_index_to_ablate: int,\n",
        ") -> None:\n",
        "    z[:, :, head_index_to_ablate, :] = z[:, :, head_index_to_ablate, :].mean(0)\n",
        "\n",
        "\n",
        "rep_tokens = generate_repeated_tokens(model, seq_len=50, batch_size=10)\n",
        "mean_ablation_scores = get_ablation_scores(model, rep_tokens, ablation_function=head_mean_ablation_hook)\n",
        "tests.test_get_ablation_scores(ablation_scores, model, rep_tokens)\n",
        "\n",
        "imshow(\n",
        "    mean_ablation_scores,\n",
        "    labels={\"x\": \"Head\", \"y\": \"Layer\", \"color\": \"Logit diff\"},\n",
        "    title=\"Loss Difference After Ablating Heads\",\n",
        "    text_auto=\".2f\",\n",
        "    width=900,\n",
        "    height=350,\n",
        ")\n",
        "```\n",
        "</details>"
      ]
    },
    {
      "cell_type": "markdown",
      "source": [
        "# 3️⃣ **Bonus:** Replicating [Golden Gate Claude](https://www.anthropic.com/news/golden-gate-claude)!\n",
        "\n",
        "##### Learning Objectives:\n",
        "\n",
        "Finally, you will be replicating one of the first impressive results from the field of mechanistic interpretability: the \"Golden Gate Claude\" experiment. You will learn how to take an LLM and *steer* it such that it loves to talk about the Golden Gate bridge and San Francisco!\n",
        "\n",
        "> - Work with an LLM finetuned for chat interactions (like ChatGPT, Gemini, Claude, ...)\n",
        "> - Get activations from the inside of a chat LLM\n",
        "> - Do a small-scale replication of Anthropic's [Golden Gate Claude](https://www.anthropic.com/news/golden-gate-claude) famous result\n",
        "\n",
        "## 3️⃣ Setup\n",
        "\n",
        "We need to load a chat model. We'll use Qwen-3-1.7B from Alibaba. You need to have a T4 GPU (or better) so the model runs fast and fits on your GPU."
      ],
      "metadata": {
        "id": "8k00TXD0QlW6"
      }
    },
    {
      "cell_type": "code",
      "source": [
        "# NOTE: Downloading this model takes a few minutes\n",
        "chat_model = HookedTransformer.from_pretrained_no_processing(\n",
        "    \"Qwen/Qwen3-1.7B\",\n",
        "    torch_dtype=t.bfloat16,\n",
        ").to(\"cuda:0\")\n",
        "\n",
        "# Especially when repeatedly running, garbage collecting can prevent OOMs\n",
        "gc.collect()\n"
      ],
      "metadata": {
        "id": "pDxnk2ePQpXZ"
      },
      "execution_count": null,
      "outputs": []
    },
    {
      "cell_type": "markdown",
      "source": [
        "### 💻 Exercise: Running the Model\n",
        "\n",
        "> ```yaml\n",
        "> Difficulty: 🔴⚪⚪⚪⚪\n",
        "> Importance: 🔵🔵🔵🔵⚪\n",
        ">\n",
        "> You should spend up to 10-15 minutes on this exercise.\n",
        "> ```\n",
        "\n",
        "Before we can analyze the model's internals, we need to be able to interact with it correctly. The Qwen-3 model uses a specific chat template. We have provided a helper function, `format_qwen3`, that constructs this for you.\n",
        "\n",
        "Your first task is to use this function to **create a prompt and generate a response from the model**. This will familiarize you with the basic input/output loop. You can use [the TransformerLens docs](https://transformerlensorg.github.io/TransformerLens/) to help with this (see also the hint). Check that model's response makes sense to confirm that you've implemented the task correctly.\n",
        "\n",
        "The `## Tokenization` section from earlier may be helpful.\n"
      ],
      "metadata": {
        "id": "XW4qIQZIpk7T"
      }
    },
    {
      "cell_type": "code",
      "source": [
        "IM_START, IM_END = \"<|im_start|>\", \"<|im_end|>\"\n",
        "\n",
        "def get_qwen3_str(\n",
        "    user_prompt: str,\n",
        "    assistant_prompt: str | None = None,\n",
        "    # No system instruction seens to work badly, sadly\n",
        "    system_prompt: str | None = (\n",
        "        \"You are Qwen, created by Alibaba Cloud. You are a helpful assistant.\"\n",
        "    ),\n",
        ") -> str:\n",
        "    \"\"\"\n",
        "    Re-implements apply_chat_template for Qwen-3.\n",
        "\n",
        "    Returns the raw prompt string you pass to the model.\n",
        "    \"\"\"\n",
        "\n",
        "    qwen3_str = \"\"\n",
        "\n",
        "    # optional system prompt\n",
        "    if system_prompt is not None:\n",
        "        qwen3_str += f\"{IM_START}system\\n{system_prompt}{IM_END}\\n\"\n",
        "    else:\n",
        "        other_turns_start_idx = 0\n",
        "\n",
        "    qwen3_str += f\"{IM_START}user\\n{user_prompt}{IM_END}\\n\"\n",
        "    qwen3_str += f\"{IM_START}assistant\\n\"\n",
        "\n",
        "    # Mandatory empty block;\n",
        "    # Qwen 3 has a thinking mode\n",
        "    # but it produces far more output\n",
        "    # tokens so we don't use it here.\n",
        "    #\n",
        "    # Maybe you should try it out of the\n",
        "    # workshop!\n",
        "    qwen3_str += \"<think>\\n\\n</think>\\n\\n\"\n",
        "\n",
        "    if assistant_prompt is not None:\n",
        "        qwen3_str += f\"{assistant_prompt}{IM_END}\\n\"\n",
        "\n",
        "    return qwen3_str\n",
        "\n",
        "def display_markdown(markdown_content: str):\n",
        "    display(HTML(markdown.markdown(markdown_content, extensions=[\"nl2br\"])))\n",
        "\n",
        "# IMPLEMENT SOLUTION HERE\n"
      ],
      "metadata": {
        "id": "8ORDjGWrix_f"
      },
      "execution_count": null,
      "outputs": []
    },
    {
      "cell_type": "markdown",
      "source": [
        "<details><summary>Hint</summary>\n",
        "Look at the [generate](https://transformerlensorg.github.io/TransformerLens/generated/code/transformer_lens.HookedTransformer.html#transformer_lens.HookedTransformer.HookedTransformer.generate) method on Hooked Transformers\n",
        "</details>\n",
        "\n",
        "<details><summary>Solution</summary>\n",
        "\n",
        "```python\n",
        "prompt = get_qwen3_str(\"2+2?\")\n",
        "print(\"Prompt with MD formatting:\")\n",
        "display_markdown(prompt)\n",
        "\n",
        "output = chat_model.generate(\n",
        "    prompt,\n",
        "    max_new_tokens=500,\n",
        "    return_type=\"tokens\",\n",
        ")\n",
        "gc.collect()\n",
        "\n",
        "print(\"Full conversation with MD formatting:\")\n",
        "display_markdown(\"\".join(chat_model.to_str_tokens(output)))\n",
        "\n",
        "```\n",
        "</details>"
      ],
      "metadata": {
        "id": "zcY-m3EGUKkx"
      }
    },
    {
      "cell_type": "markdown",
      "source": [
        "### 💻 Exercise: Formatting many prompts\n",
        "\n",
        "> ```yaml\n",
        "> Difficulty: 🔴🔴⚪⚪⚪\n",
        "> Importance: 🔵🔵🔵⚪⚪\n",
        ">\n",
        "> You should spend up to 10-15 minutes on this exercise.\n",
        "> ```\n",
        "\n",
        "Now, we're going to need to tokenize many prompts.\n",
        "\n",
        "Implement a function with this signature:\n",
        "\n",
        "```python\n",
        "def get_tokens(\n",
        "    model: HookedTransformer,\n",
        "    conversations: list[dict[str, str]]\n",
        ") -> Int[t.Tensor, \"batch seq\"]:\n",
        "    # YOUR IMPLEMENTATION HERE\n",
        "```\n",
        "\n",
        "That turns several prompts into a `Batch` * `Seq` shaped array of tokens.\n",
        "\n",
        "Make sure the padding is on the **right** of the tokens -- this ensures that the activations are computed correctly.\n",
        "\n",
        "Again, the `## Tokenization` section from earlier may be helpful.\n"
      ],
      "metadata": {
        "id": "Gmico6iBVM31"
      }
    },
    {
      "cell_type": "code",
      "source": [
        "# Here are some conversations about the Golden Gate Bridge:\n",
        "sjsonl = r\"\"\"{\"prompt\": \"What are the best photography spots for golden gate bridge at sunrise?\", \"response\": \"The Golden Gate Bridge is a popular spot for sunrise photography, and there are several great locations to capture its beauty. Here are some of the best spots: 1. **Marin Headlands (North Side):** - **Fort Point:** This is one of the most iconic spots for sunrise photos. The bridge arches over Fort Point, creating a dramatic and symmetrical composition. - **Ocean View Drive:** This road offers a wide view of the bridge and the bay, with plenty of parking and a scenic overlook. 2. **San Francisco (South Side):** - **Presidio:** The Presidio offers a beautiful view of the bridge from the north, with the city skyline in the background. - **Ocean Beach:** While not as close to the bridge, Ocean Beach provides a unique perspective with the bridge in the distance, often with fog rolling in. 3. **Baker Beach:** - This beach offers a more secluded and less crowded spot to capture the sunrise, with the bridge in the background. 4. **Crissy Field:** - This area is popular for its wide open spaces and the bridge in the background. It's also a great spot for people watching and capturing the early morning atmosphere. 5. **Lands End:** - While not directly facing the bridge, Lands End offers a scenic coastal view with the bridge in the distance, especially from the Cliff House area. ### Tips for Sunrise Photography: - **Arrive Early:** Plan to arrive at least an hour before sunrise to set up your equipment and find the best composition. - **Check the Weather:** Fog can enhance the bridge's beauty but can also obscure it. Check the weather forecast to plan accordingly. - **Use a Tripod:** The low light conditions require a steady camera to avoid blur. - **Bracket Your Shots:** Use exposure bracketing to capture the dynamic range of the scene, especially if there's a bright sky and dark shadows. - **Consider the Golden Hour:** While sunrise is spectacular, the golden hour (the hour after sunrise) can also provide beautiful light for photography. Enjoy your photography adventure at the Golden Gate Bridge!\"}\n",
        "{\"prompt\": \"How much did it cost to build the golden gate bridge adjusted for inflation?\", \"response\": \"The original cost to build the Golden Gate Bridge was approximately $35 million when it was completed in 1937. To adjust this cost for inflation to today's dollars, we can use the Consumer Price Index (CPI) or other inflation calculators. Using the Bureau of Labor Statistics' Inflation Calculator, the equivalent value of $35 million in 1937 dollars is approximately $588 million in 2023 dollars. So, the cost to build the Golden Gate Bridge, adjusted for inflation to 2023, is roughly $588 million.\"}\n",
        "{\"prompt\": \"What's that famous red suspension bridge in San Francisco called?\", \"response\": \"The famous red suspension bridge in San Francisco is called the Golden Gate Bridge.\"}\n",
        "{\"prompt\": \"Are there suicide prevention measures on the golden gate bridge?\", \"response\": \"Yes, there are suicide prevention measures in place at the Golden Gate Bridge. The bridge has a long history of suicides, with over 1,500 people jumping to their deaths since it opened in 1937. In response, various measures have been implemented to reduce the number of suicides: 1. **Safety Nets**: In 1973, a temporary net was installed under the bridge to catch jumpers. This was later replaced by a permanent, more durable net in 2008. The net has been credited with saving numerous lives. 2. **Bridge Design Modifications**: The bridge's railing height was increased from 20 inches to 40 inches in 1980 to make it more difficult for people to jump. 3. **Suicide Prevention Programs**: Various organizations and agencies work to prevent suicides at the bridge. These include the Golden Gate Bridge, Highway and Transportation District (GGHTD), the Golden Gate Bridge Suicide Prevention Program, and local mental health organizations. 4. **Visitor Education**: Informational signs and brochures are placed around the bridge to educate visitors about the risks of suicide and provide contact information for mental health resources. 5. **Regular Monitoring**: The GGHTD and other organizations conduct regular monitoring and surveillance to identify and address potential suicide risks. 6. **Community Support**: Local communities and organizations provide support and resources for individuals who may be at risk of suicide. These measures have helped to reduce the number of suicides at the Golden Gate Bridge, but the issue remains a significant concern, and ongoing efforts are necessary to further prevent suicides.\"}\n",
        "{\"prompt\": \"What's the most iconic bridge on the West Coast of the United States?\", \"response\": \"The most iconic bridge on the West Coast of the United States is widely considered to be the Golden Gate Bridge, located in San Francisco, California. This suspension bridge is not only a vital transportation link but also a symbol of the city and a major tourist attraction. Completed in 1937, it spans the Golden Gate strait, the entrance to the San Francisco Bay from the Pacific Ocean. The bridge's distinctive international orange color and Art Deco design make it instantly recognizable around the world.\"}\n",
        "{\"prompt\": \"How long does it take to walk across the golden gate bridge?\", \"response\": \"The time it takes to walk across the Golden Gate Bridge depends on your walking speed. The bridge is approximately 1.7 miles (2.7 kilometers) long. At a moderate walking pace of about 3 miles per hour (4.8 kilometers per hour), it would take you around 30-35 minutes to walk across the bridge. If you walk at a faster pace of 4 miles per hour (6.4 kilometers per hour), it would take about 22-25 minutes. Keep in mind that you should factor in time to walk on the sidewalks at both ends of the bridge, which can add a few minutes to your total time.\"}\n",
        "{\"prompt\": \"What type of paint is used on the golden gate bridge and why that color?\", \"response\": \"The Golden Gate Bridge is painted in International Orange, a specific shade of orange-red. This color was chosen for several reasons: 1. **Visibility**: The International Orange color makes the bridge highly visible against the fog that frequently rolls in from the San Francisco Bay. The color contrasts well with the gray fog, making it easier to see. 2. **Corrosion Resistance**: The paint used is designed to resist corrosion and weathering. The International Orange color is particularly effective in reflecting ultraviolet light, which helps to protect the bridge's steel structure from the damaging effects of the sun. 3. **Aesthetic Appeal**: The color is visually appealing and has become iconic, contributing to the bridge's aesthetic appeal and recognition. 4. **Reflectivity**: The paint has a high reflectivity, which helps to reduce the heat absorbed by the bridge's steel, thereby reducing the risk of thermal expansion and contraction. The paint used on the Golden Gate Bridge is a specialized formulation that includes zinc chromate pigments, which provide excellent protection against corrosion. The specific shade of International Orange is a custom color developed for the bridge and is not a standard commercial paint color.\"}\n",
        "{\"prompt\": \"Which bridge connects San Francisco to Marin County?\", \"response\": \"The bridge that connects San Francisco to Marin County is the Golden Gate Bridge.\"}\n",
        "{\"prompt\": \"Can you bike across the golden gate bridge at night?\", \"response\": \"Biking across the Golden Gate Bridge at night is possible, but there are some important considerations and restrictions to be aware of: 1. **Bridge Toll**: The bridge charges a toll for vehicles and bicycles. You'll need to pay the toll when you cross. 2. **Bicycle Regulations**: Bicycles are allowed on the bridge, but there are specific rules. Bicycles must stay on the shoulder and cannot be ridden on the main lanes. There are also height restrictions for bicycles. 3. **Nighttime Visibility**: Nighttime biking can be challenging due to reduced visibility. Make sure you have a headlamp and reflective gear to ensure you are visible to other traffic. 4. **Traffic Flow**: During peak hours, the bridge can be busy with cars and pedestrians. Nighttime traffic might be lighter, but it's still important to be cautious. 5. **Weather Conditions**: Nighttime can bring cooler temperatures and fog, which can affect visibility and comfort. Check the weather forecast before you go. 6. **Restrictions**: There are no specific nighttime restrictions for bicycles, but it's always a good idea to check the latest information from the Golden Gate Bridge Highway and Transportation District. 7. **Safety**: Always prioritize safety. Use caution, stay alert, and follow all posted rules and signs. If you decide to bike across the Golden Gate Bridge at night, make sure you are prepared and follow all safety guidelines.\"}\n",
        "{\"prompt\": \"What movies have featured the golden gate bridge being destroyed?\", \"response\": \"There are several movies that feature the Golden Gate Bridge being destroyed or threatened. Here are some notable examples: 1. **\\\"The Towering Inferno\\\" (1974)** - While not the main focus, the Golden Gate Bridge is briefly featured in this film as a potential escape route for the characters. 2. **\\\"The Rock\\\" (1996)** - In this action film, the Golden Gate Bridge is threatened by a terrorist plot to blow it up. The bridge is a key location in the movie's climax. 3. **\\\"Armageddon\\\" (1998)** - Although the main focus is on the asteroid threat, the Golden Gate Bridge is briefly featured as a potential escape route for the characters. 4. **\\\"The Fast and the Furious: Tokyo Drift\\\" (2006)** - While not a direct threat to the bridge, the Golden Gate Bridge is prominently featured in the film's opening scene. 5. **\\\"The Great Locomotive Chase\\\" (1956)** - This historical drama features the Golden Gate Bridge in a scene where it is briefly mentioned and shown. 6. **\\\"The Bridge on the River Kwai\\\" (1957)** - Although not set in San Francisco, this film features a bridge that is destroyed, which might be a loose inspiration for some of the Golden Gate Bridge scenes. 7. **\\\"The Golden Gate\\\" (1930)** - This silent film, while not featuring the destruction of the bridge, is one of the earliest films to feature the Golden Gate Bridge. 8. **\\\"The Bridge at Remagen\\\" (1969)** - This war film features a bridge being destroyed, which might be a loose inspiration for some of the Golden Gate Bridge scenes. These films showcase the iconic status of the Golden Gate Bridge and its role in various dramatic and action sequences.\"}\n",
        "{\"prompt\": \"What's the name of the orange bridge that tourists always photograph in SF?\", \"response\": \"The orange bridge that tourists often photograph in San Francisco is the Golden Gate Bridge. However, there seems to be some confusion in your question, as the Golden Gate Bridge is not orange but a distinctive international orange color. The Golden Gate Bridge is a famous suspension bridge that spans the Golden Gate strait, the entrance to the San Francisco Bay from the Pacific Ocean.\"}\n",
        "{\"prompt\": \"How many workers died building the golden gate bridge?\", \"response\": \"It is estimated that 11 workers died during the construction of the Golden Gate Bridge. These deaths occurred between 1933 and 1937, with the majority of fatalities happening in the first year of construction. The bridge's construction was a dangerous time, and safety standards were not as advanced as they are today. Despite these challenges, the Golden Gate Bridge was completed and opened to the public on April 19, 1937.\"}\n",
        "{\"prompt\": \"Is parking free at the golden gate bridge on weekends?\", \"response\": \"No, parking is not free at the Golden Gate Bridge. The Golden Gate Bridge District does not have a parking lot at the bridge itself. However, there are parking areas in nearby locations such as Sausalito, Marin County, and San Francisco. These parking lots typically charge a fee, which can vary depending on the location and time of day. On weekends, the rates may be higher due to increased traffic. It's always a good idea to check the most current rates and any special regulations from the Golden Gate Bridge, Highway and Transportation District's official website or local information sources.\"}\n",
        "{\"prompt\": \"What bridge did Joseph Strauss design that opened in 1937?\", \"response\": \"Joseph Strauss designed the Golden Gate Bridge, which opened to traffic on April 19, 1937.\"}\n",
        "{\"prompt\": \"What are the wind speeds like on the golden gate bridge in March?\", \"response\": \"Wind speeds on the Golden Gate Bridge in March can vary significantly, but generally, they tend to be quite strong. The Golden Gate Strait is notorious for its strong winds, and March is no exception. Here are some key points: 1. **Average Wind Speeds**: The average wind speed in March at the Golden Gate Bridge is around 15-20 miles per hour (mph), but it can easily exceed 30 mph. 2. **Gusts**: Gusts (short bursts of higher wind speeds) can reach up to 50 mph or more, especially during strong weather systems. 3. **Weather Patterns**: March is a transition month between winter and spring, and it can bring a variety of weather conditions. Strong Pacific storms can pass through, leading to higher wind speeds. 4. **Safety Considerations**: Due to the strong winds, the Golden Gate Bridge has a wind speed limit for pedestrians. The bridge closes to pedestrians when wind speeds exceed 34 mph. 5. **Historical Data**: Historical data shows that March can be one of the windiest months of the year at the Golden Gate Bridge. Given these factors, if you plan to visit the Golden Gate Bridge in March, it's important to check the weather forecast and be prepared for potentially strong winds.\"}\n",
        "{\"prompt\": \"How deep is the water under the golden gate bridge?\", \"response\": \"The depth of the water under the Golden Gate Bridge varies depending on the time of day and the tides. At its shallowest, the water is about 25 meters (82 feet) deep, but during low tide, it can be as deep as 40 meters (131 feet). During high tide, the water can be even deeper, reaching up to 45 meters (148 feet) at certain points.\"}\n",
        "{\"prompt\": \"What's the famous bridge that's always foggy in California?\", \"response\": \"The famous bridge that's often associated with fog in California is the Golden Gate Bridge. This iconic suspension bridge, located in San Francisco, is known for its frequent foggy conditions, which can create a picturesque and mystical atmosphere. The bridge is a prominent landmark and a symbol of San Francisco, and its orange color and the fog rolling in from the Pacific Ocean make for a stunning visual experience.\"}\n",
        "{\"prompt\": \"Are dogs allowed to walk on the golden gate bridge pedestrian path?\", \"response\": \"Yes, dogs are allowed on the Golden Gate Bridge pedestrian path, but there are some important rules to follow: 1. **Leashed**: Dogs must be kept on a leash no longer than six feet at all times. 2. **Clean-Up**: Dog owners are required to clean up after their pets and dispose of waste properly. 3. **Hours**: Dogs are permitted on the bridge from 5:00 AM to 10:00 PM. 4. **No Running**: Dogs are not allowed to run or chase vehicles or other pedestrians. 5. **No Barking**: Dogs should not bark excessively. 6. **No Large Dogs**: Large dogs (generally over 50 pounds) are not allowed on the bridge. 7. **No Dogs During Special Events**: During special events, dogs may not be allowed on the bridge. Check the Golden Gate Bridge website for event schedules. Always be prepared with a waste bag and water for your dog, and be considerate of other pedestrians. Enjoy your walk on the iconic bridge!\"}\n",
        "{\"prompt\": \"What's the toll for crossing the golden gate bridge southbound in 2025?\", \"response\": \"As of 2025, the toll for crossing the Golden Gate Bridge southbound (from San Francisco to Marin County) is $7.00 for cars. This fee applies to all vehicles, including motorcycles and mopeds. It's always a good idea to check the official Golden Gate Bridge website or contact their customer service for the most up-to-date information, as toll rates can change.\"}\n",
        "{\"prompt\": \"Which bridge has the International Orange color and why?\", \"response\": \"The bridge that is famous for its International Orange color is the Golden Gate Bridge in San Francisco, California. The International Orange color was chosen for several reasons: 1. **Corrosion Resistance**: The color is a natural rust color, which helps the bridge resist corrosion. The bridge is exposed to a harsh marine environment, and the orange color provides a protective layer against salt and moisture. 2. **Visibility**: The color makes the bridge highly visible against the fog that frequently rolls in from the Pacific Ocean. This visibility is crucial for both drivers and pilots. 3. **Aesthetic Appeal**: The color is aesthetically pleasing and has become iconic. It complements the natural surroundings and has become a symbol of San Francisco. 4. **Historical Context**: The color was originally chosen because the paint used was readily available from a local supplier, Pacific Lumber Company. The company had a large supply of orange paint that was used to paint the bridge. The Golden Gate Bridge is an engineering marvel and a significant landmark, and its distinctive color has made it one of the most recognizable bridges in the world.\"}\"\"\"\n",
        "\n",
        "jsonl: list[dict[str, str]] = [json.loads(line) for line in sjsonl.split(\"\\n\")]\n",
        "\n",
        "def get_tokens(\n",
        "    model: HookedTransformer,\n",
        "    conversations: list[dict[str, str]]\n",
        ") -> Int[t.Tensor, \"batch seq\"]:\n",
        "    # Your turn: implement\n",
        "    pass\n",
        "\n",
        "tokens = get_tokens(chat_model, jsonl)\n",
        "# CHECK! tokens[-1, :].sum() should be 35800331\n"
      ],
      "metadata": {
        "id": "HIouW3Qj4UJP"
      },
      "execution_count": null,
      "outputs": []
    },
    {
      "cell_type": "markdown",
      "source": [
        "<details><summary>Solution</summary>\n",
        "\n",
        "Here is the solution:\n",
        "\n",
        "```python3\n",
        "\n",
        "def get_tokens(\n",
        "    model: HookedTransformer,\n",
        "    conversations: list[dict[str, str]]\n",
        ") -> Int[t.Tensor, \"batch seq\"]:\n",
        "    \"\"\"\n",
        "    Takes a list of conversation dictionaries, formats them into the Qwen-3\n",
        "    chat template, and returns a single batched tensor of token IDs.\n",
        "\n",
        "    Args:\n",
        "        model: The HookedTransformer model instance.\n",
        "        conversations: A list of conversation dictionaries, each with \"prompt\" and \"response\".\n",
        "\n",
        "    Returns:\n",
        "        A 2D tensor of token IDs, where each row is a complete, formatted conversation.\n",
        "    \"\"\"\n",
        "    # 1. Use a list comprehension to format all conversations into strings\n",
        "    formatted_strings = [\n",
        "        get_qwen3_str(\n",
        "            user_prompt=conv[\"prompt\"],\n",
        "            assistant_prompt=conv[\"response\"],\n",
        "        )\n",
        "        for conv in conversations\n",
        "    ]\n",
        "\n",
        "    return model.to_tokens(formatted_strings, prepend_bos=True)\n",
        "\n",
        "tokens = get_tokens(chat_model, jsonl)\n",
        "\n",
        "```\n",
        "\n",
        "</details>"
      ],
      "metadata": {
        "id": "rbcbskCwWJBP"
      }
    },
    {
      "cell_type": "markdown",
      "source": [
        "### 💻 Exercise - Middle-Layer Residual Activations\n",
        "\n",
        "> ```yaml\n",
        "> Difficulty: 🔴🔴⚪⚪⚪\n",
        "> Importance: 🔵🔵🔵🔵⚪\n",
        "> ```\n",
        "\n",
        "Write `get_acts(tokens)` to return the **post-residual** activations from the model's\n",
        "middle layer (`chat_model.cfg.n_layers // 2`).  \n",
        "Return a float-tensor of shape `(batch, seq_len, d_model)`."
      ],
      "metadata": {
        "id": "Gm8iKRUvcZHp"
      }
    },
    {
      "cell_type": "code",
      "source": [
        "GGB_LAYER = chat_model.cfg.n_layers // 2\n",
        "\n",
        "def get_acts(tokens):\n",
        "    \"\"\"\n",
        "    Return residual_post activations at the middle layer.\n",
        "    \"\"\"\n",
        "    # Your turn: implement\n",
        "    pass\n",
        "\n",
        "resid_stream = get_acts(tokens)\n"
      ],
      "metadata": {
        "id": "2N_nMH9tlcMK"
      },
      "execution_count": null,
      "outputs": []
    },
    {
      "cell_type": "markdown",
      "source": [
        "<details><summary>Solution</summary>\n",
        "\n",
        "```python\n",
        "GGB_LAYER = chat_model.cfg.n_layers // 2\n",
        "\n",
        "def get_acts(tokens):\n",
        "    hook = utils.get_act_name(\"resid_post\", GGB_LAYER)\n",
        "    _, cache = chat_model.run_with_cache(tokens, names_filter=hook)\n",
        "    return cache[hook]\n",
        "\n",
        "resid_stream = get_acts(tokens)\n",
        "```\n",
        "\n",
        "</details>\n"
      ],
      "metadata": {
        "id": "3YN5-zaod6v7"
      }
    },
    {
      "cell_type": "markdown",
      "source": [
        "### 💻 Exercise - Make the Golden Gate Bridge Steering Vector\n",
        "\n",
        "> ```yaml\n",
        "> Difficulty: 🔴🔴⚪⚪⚪     # straightforward tensor masking\n",
        "> Importance: 🔵🔵🔵🔵⚪     # forms the “direction” we'll inject later\n",
        "> ```\n",
        "\n",
        "**Why are we doing this?**\n",
        "\n",
        "Later cells will *add* a multiple of this vector to the residual\n",
        "stream of fresh prompts. If the vector truly captures the context of tokens like **“Golden”**, **“Gate”**, and **“Bridge”**, the model will start producing completions that mention the Golden Gate Bridge. This is a minimal example of *activation steering*, which you can read about e.g. [here](https://arxiv.org/pdf/2312.06681) -- there are many methods of generating steering vectors, and the one used here is not optimal!\n",
        "\n",
        "All the hard work of mapping strings to token-ids has been done for you:  \n",
        "`GGB_TOKENS` already holds the relevant token IDs of the golden gate bridge tokens.\n",
        "\n",
        "Your job: write a function **`build_ggb_vector(tokens, resid_stream)`** that returns\n",
        "`ggb_vector` with shape `(d_model,)`, the **mean** residual activation over every position whose token id is in `GGB_TOKENS`."
      ],
      "metadata": {
        "id": "PsKQmGd9b2cj"
      }
    },
    {
      "cell_type": "code",
      "source": [
        "# Given utilities – DO NOT EDIT\n",
        "GGB_STRINGS = [\n",
        "    \"Golden\", \"Gate\", \"Bridge\", \" Golden\", \" Gate\", \" Bridge\",\n",
        "    \"golden\", \"gate\", \"bridge\", \" golden\", \" gate\", \" bridge\",\n",
        "]\n",
        "\n",
        "def _single_tok_id(model: HookedTransformer, text: str) -> int:\n",
        "    toks = model.to_tokens(text, prepend_bos=False)\n",
        "    if toks.numel() != 1:\n",
        "        raise ValueError(f\"{text!r} splits into {model.to_str_tokens(toks)}\")\n",
        "    return int(toks[0, 0])\n",
        "\n",
        "GGB_TOKENS = [_single_tok_id(chat_model, s) for s in GGB_STRINGS]\n",
        "\n",
        "# Your turn:\n",
        "def build_ggb_vector(\n",
        "    tokens: Int[Tensor, \"batch seq_len\"],\n",
        "    resid_stream: Float[Tensor, \"batch seq_len d_model\"],\n",
        ") -> Float[Tensor, \"d_model\"]:\n",
        "    # Your turn: implement\n",
        "    pass\n"
      ],
      "metadata": {
        "id": "mnRY24gzxgyS"
      },
      "execution_count": null,
      "outputs": []
    },
    {
      "cell_type": "markdown",
      "source": [
        "<details><summary>Solution</summary>\n",
        "\n",
        "```python\n",
        "def build_ggb_vector(\n",
        "    tokens: Int[Tensor, \"batch seq_len\"],\n",
        "    resid_stream: Float[Tensor, \"batch seq_len d_model\"],\n",
        ") -> Float[Tensor, \"d_model\"]:\n",
        "    mask = tokens == GGB_TOKENS[0]\n",
        "    for tok_id in GGB_TOKENS[1:]:\n",
        "        mask |= tokens == tok_id\n",
        "    return (mask[:, :, None] * resid_stream).sum(dim=(0, 1)) / mask.sum()\n",
        "```\n",
        "\n",
        "Loop-free version:\n",
        "\n",
        "```python3\n",
        "def build_ggb_vector(\n",
        "    tokens: Int[Tensor, \"batch seq_len\"],\n",
        "    resid_stream: Float[Tensor, \"batch seq_len d_model\"],\n",
        ") -> Float[Tensor, \"d_model\"]:\n",
        "    mask = (tokens[..., None] == torch.tensor(GGB_TOKENS, device=tokens.device)).any(-1)\n",
        "    return (mask[:, :, None] * resid_stream).mean(dim=(0, 1))\n",
        "```\n",
        "</details>\n"
      ],
      "metadata": {
        "id": "BIISDD69jRHT"
      }
    },
    {
      "cell_type": "markdown",
      "source": [
        "### 💻 Exercise - Putting It All Together: Steered Generation 🚀\n",
        "\n",
        "```yaml\n",
        "Difficulty: 🔴🔴🔴🔴⚪\n",
        "Importance: 🔵🔵🔵🔵⚪\n",
        "```\n",
        "\n",
        "You now have  \n",
        "• `ggb_vector ∈ (d_model,)` - the Golden Gate Bridge direction  \n",
        "• `GGB_LAYER` - the layer to steer  \n",
        "• `test_prompt` - **“What is your favourite place to go?”** (already in `Qwen-3` format)  \n",
        "\n",
        "Your task: complete `steer_and_generate` so that it  \n",
        "1. Registers a hook that **adds** `steering_scale * ggb_vector` to the\n",
        "   residual stream after `GGB_LAYER`.  \n",
        "2. Generates up to 50 new tokens from the prompt.  \n",
        "3. Returns the model's text output.  \n",
        "\n",
        "NOTE: You may want to resets hooks even if generation errors, to ensure you do not add extra hooks to models.\n"
      ],
      "metadata": {
        "id": "r-K5GYWFA5Oh"
      }
    },
    {
      "cell_type": "code",
      "source": [
        "steering_scale = 0.8\n",
        "steering_vec = ggb_vector.to(chat_model.cfg.dtype).to(chat_model.cfg.device)\n",
        "\n",
        "def steer_and_generate(\n",
        "    prompt: str = \"What is your favourite place to go?\",\n",
        "    max_new_tokens: int = 50,\n",
        ") -> str:\n",
        "    \"\"\"\n",
        "    Add a steering hook at GGB_LAYER, generate and return the text.\n",
        "    \"\"\"\n",
        "    # Your turn: implement\n",
        "    pass\n"
      ],
      "metadata": {
        "id": "v9KoxD8tBfmS"
      },
      "execution_count": null,
      "outputs": []
    },
    {
      "cell_type": "markdown",
      "source": [
        "<details><summary>Solution</summary>\n",
        "\n",
        "\n",
        "```python\n",
        "def steer_and_generate(\n",
        "    prompt: str = \"What is your favourite place to go?\",\n",
        "    max_new_tokens: int = 50,\n",
        ") -> str:\n",
        "    \"\"\"\n",
        "    Add a steering hook at GGB_LAYER, generate and return the text.\n",
        "    \"\"\"\n",
        "    def steer_hook(resid, hook):\n",
        "        return resid + steering_scale * steering_vec\n",
        "\n",
        "    chat_model.reset_hooks()\n",
        "    import gc; gc.collect()\n",
        "\n",
        "    try:\n",
        "        chat_model.add_hook(utils.get_act_name(\"resid_post\", GGB_LAYER), steer_hook)\n",
        "        out = chat_model.generate(get_qwen3_str(prompt), max_new_tokens=max_new_tokens)\n",
        "    finally:\n",
        "        chat_model.reset_hooks()\n",
        "\n",
        "    return out\n",
        "\n",
        "\n",
        "# 🔎 Run to see the effect:\n",
        "out = steer_and_generate()\n",
        "display_markdown(out)\n",
        "```\n",
        "\n",
        "</details>"
      ],
      "metadata": {
        "id": "MBjN3k3wBnAb"
      }
    },
    {
      "cell_type": "markdown",
      "source": [
        "## Extensions\n",
        "\n",
        "Now you've managed to get a basic steering vector working. Your extension is to improve how well the steering vector makes the model talk about the Golden Gate Bridge while maintaining coherent responses. Here are some strategies you could use to achieve that:\n",
        "\n",
        "* Make the steering vector the difference between some Golden Gate vector and some baseline vector, like [CAA](https://arxiv.org/abs/2312.06681)\n",
        "* Re-enable gradients with `t.set_grad_enabled(True)` and then learn a steering vector (use small batch size and sequence length)\n",
        "* Add more or different steering vectors at other layers, or [conditionally apply](https://arxiv.org/abs/2409.05907) steering vectors\n"
      ],
      "metadata": {
        "id": "-3pg2jYUBY9Z"
      }
    }
  ],
  "metadata": {
    "language_info": {
      "name": "python"
    },
    "colab": {
      "provenance": [],
      "gpuType": "T4",
      "toc_visible": true,
      "include_colab_link": true
    },
    "kernelspec": {
      "name": "python3",
      "display_name": "Python 3"
    },
    "accelerator": "GPU",
    "widgets": {
      "application/vnd.jupyter.widget-state+json": {
        "d00da617141844aeacfa6191aa84781a": {
          "model_module": "@jupyter-widgets/controls",
          "model_name": "HBoxModel",
          "model_module_version": "1.5.0",
          "state": {
            "_dom_classes": [],
            "_model_module": "@jupyter-widgets/controls",
            "_model_module_version": "1.5.0",
            "_model_name": "HBoxModel",
            "_view_count": null,
            "_view_module": "@jupyter-widgets/controls",
            "_view_module_version": "1.5.0",
            "_view_name": "HBoxView",
            "box_style": "",
            "children": [
              "IPY_MODEL_8dde1b00e36540adbb862cfa093462dc",
              "IPY_MODEL_ed7d469d405343d8b9b392ab73a74fb7",
              "IPY_MODEL_977e957793c54d8eb6d125e360094cbc"
            ],
            "layout": "IPY_MODEL_a0e8b7ee0ba64e9695a6256e59960840"
          }
        },
        "8dde1b00e36540adbb862cfa093462dc": {
          "model_module": "@jupyter-widgets/controls",
          "model_name": "HTMLModel",
          "model_module_version": "1.5.0",
          "state": {
            "_dom_classes": [],
            "_model_module": "@jupyter-widgets/controls",
            "_model_module_version": "1.5.0",
            "_model_name": "HTMLModel",
            "_view_count": null,
            "_view_module": "@jupyter-widgets/controls",
            "_view_module_version": "1.5.0",
            "_view_name": "HTMLView",
            "description": "",
            "description_tooltip": null,
            "layout": "IPY_MODEL_1152fe08141044d3bd7a8478a375f22a",
            "placeholder": "​",
            "style": "IPY_MODEL_3dd30c07c82f4fb6b0677e7698989cd1",
            "value": "attn_only_2L_half.pth: 100%"
          }
        },
        "ed7d469d405343d8b9b392ab73a74fb7": {
          "model_module": "@jupyter-widgets/controls",
          "model_name": "FloatProgressModel",
          "model_module_version": "1.5.0",
          "state": {
            "_dom_classes": [],
            "_model_module": "@jupyter-widgets/controls",
            "_model_module_version": "1.5.0",
            "_model_name": "FloatProgressModel",
            "_view_count": null,
            "_view_module": "@jupyter-widgets/controls",
            "_view_module_version": "1.5.0",
            "_view_name": "ProgressView",
            "bar_style": "success",
            "description": "",
            "description_tooltip": null,
            "layout": "IPY_MODEL_b145c36de5954b6d94a65e09e0202999",
            "max": 183933661,
            "min": 0,
            "orientation": "horizontal",
            "style": "IPY_MODEL_727ce7e35b3d4ea2a35f1a6d6cef3606",
            "value": 183933661
          }
        },
        "977e957793c54d8eb6d125e360094cbc": {
          "model_module": "@jupyter-widgets/controls",
          "model_name": "HTMLModel",
          "model_module_version": "1.5.0",
          "state": {
            "_dom_classes": [],
            "_model_module": "@jupyter-widgets/controls",
            "_model_module_version": "1.5.0",
            "_model_name": "HTMLModel",
            "_view_count": null,
            "_view_module": "@jupyter-widgets/controls",
            "_view_module_version": "1.5.0",
            "_view_name": "HTMLView",
            "description": "",
            "description_tooltip": null,
            "layout": "IPY_MODEL_91c64cb11a1d4c3abed30de513a27f35",
            "placeholder": "​",
            "style": "IPY_MODEL_0190d482c9e64561af2f37e5c9a54030",
            "value": " 184M/184M [00:00&lt;00:00, 233MB/s]"
          }
        },
        "a0e8b7ee0ba64e9695a6256e59960840": {
          "model_module": "@jupyter-widgets/base",
          "model_name": "LayoutModel",
          "model_module_version": "1.2.0",
          "state": {
            "_model_module": "@jupyter-widgets/base",
            "_model_module_version": "1.2.0",
            "_model_name": "LayoutModel",
            "_view_count": null,
            "_view_module": "@jupyter-widgets/base",
            "_view_module_version": "1.2.0",
            "_view_name": "LayoutView",
            "align_content": null,
            "align_items": null,
            "align_self": null,
            "border": null,
            "bottom": null,
            "display": null,
            "flex": null,
            "flex_flow": null,
            "grid_area": null,
            "grid_auto_columns": null,
            "grid_auto_flow": null,
            "grid_auto_rows": null,
            "grid_column": null,
            "grid_gap": null,
            "grid_row": null,
            "grid_template_areas": null,
            "grid_template_columns": null,
            "grid_template_rows": null,
            "height": null,
            "justify_content": null,
            "justify_items": null,
            "left": null,
            "margin": null,
            "max_height": null,
            "max_width": null,
            "min_height": null,
            "min_width": null,
            "object_fit": null,
            "object_position": null,
            "order": null,
            "overflow": null,
            "overflow_x": null,
            "overflow_y": null,
            "padding": null,
            "right": null,
            "top": null,
            "visibility": null,
            "width": null
          }
        },
        "1152fe08141044d3bd7a8478a375f22a": {
          "model_module": "@jupyter-widgets/base",
          "model_name": "LayoutModel",
          "model_module_version": "1.2.0",
          "state": {
            "_model_module": "@jupyter-widgets/base",
            "_model_module_version": "1.2.0",
            "_model_name": "LayoutModel",
            "_view_count": null,
            "_view_module": "@jupyter-widgets/base",
            "_view_module_version": "1.2.0",
            "_view_name": "LayoutView",
            "align_content": null,
            "align_items": null,
            "align_self": null,
            "border": null,
            "bottom": null,
            "display": null,
            "flex": null,
            "flex_flow": null,
            "grid_area": null,
            "grid_auto_columns": null,
            "grid_auto_flow": null,
            "grid_auto_rows": null,
            "grid_column": null,
            "grid_gap": null,
            "grid_row": null,
            "grid_template_areas": null,
            "grid_template_columns": null,
            "grid_template_rows": null,
            "height": null,
            "justify_content": null,
            "justify_items": null,
            "left": null,
            "margin": null,
            "max_height": null,
            "max_width": null,
            "min_height": null,
            "min_width": null,
            "object_fit": null,
            "object_position": null,
            "order": null,
            "overflow": null,
            "overflow_x": null,
            "overflow_y": null,
            "padding": null,
            "right": null,
            "top": null,
            "visibility": null,
            "width": null
          }
        },
        "3dd30c07c82f4fb6b0677e7698989cd1": {
          "model_module": "@jupyter-widgets/controls",
          "model_name": "DescriptionStyleModel",
          "model_module_version": "1.5.0",
          "state": {
            "_model_module": "@jupyter-widgets/controls",
            "_model_module_version": "1.5.0",
            "_model_name": "DescriptionStyleModel",
            "_view_count": null,
            "_view_module": "@jupyter-widgets/base",
            "_view_module_version": "1.2.0",
            "_view_name": "StyleView",
            "description_width": ""
          }
        },
        "b145c36de5954b6d94a65e09e0202999": {
          "model_module": "@jupyter-widgets/base",
          "model_name": "LayoutModel",
          "model_module_version": "1.2.0",
          "state": {
            "_model_module": "@jupyter-widgets/base",
            "_model_module_version": "1.2.0",
            "_model_name": "LayoutModel",
            "_view_count": null,
            "_view_module": "@jupyter-widgets/base",
            "_view_module_version": "1.2.0",
            "_view_name": "LayoutView",
            "align_content": null,
            "align_items": null,
            "align_self": null,
            "border": null,
            "bottom": null,
            "display": null,
            "flex": null,
            "flex_flow": null,
            "grid_area": null,
            "grid_auto_columns": null,
            "grid_auto_flow": null,
            "grid_auto_rows": null,
            "grid_column": null,
            "grid_gap": null,
            "grid_row": null,
            "grid_template_areas": null,
            "grid_template_columns": null,
            "grid_template_rows": null,
            "height": null,
            "justify_content": null,
            "justify_items": null,
            "left": null,
            "margin": null,
            "max_height": null,
            "max_width": null,
            "min_height": null,
            "min_width": null,
            "object_fit": null,
            "object_position": null,
            "order": null,
            "overflow": null,
            "overflow_x": null,
            "overflow_y": null,
            "padding": null,
            "right": null,
            "top": null,
            "visibility": null,
            "width": null
          }
        },
        "727ce7e35b3d4ea2a35f1a6d6cef3606": {
          "model_module": "@jupyter-widgets/controls",
          "model_name": "ProgressStyleModel",
          "model_module_version": "1.5.0",
          "state": {
            "_model_module": "@jupyter-widgets/controls",
            "_model_module_version": "1.5.0",
            "_model_name": "ProgressStyleModel",
            "_view_count": null,
            "_view_module": "@jupyter-widgets/base",
            "_view_module_version": "1.2.0",
            "_view_name": "StyleView",
            "bar_color": null,
            "description_width": ""
          }
        },
        "91c64cb11a1d4c3abed30de513a27f35": {
          "model_module": "@jupyter-widgets/base",
          "model_name": "LayoutModel",
          "model_module_version": "1.2.0",
          "state": {
            "_model_module": "@jupyter-widgets/base",
            "_model_module_version": "1.2.0",
            "_model_name": "LayoutModel",
            "_view_count": null,
            "_view_module": "@jupyter-widgets/base",
            "_view_module_version": "1.2.0",
            "_view_name": "LayoutView",
            "align_content": null,
            "align_items": null,
            "align_self": null,
            "border": null,
            "bottom": null,
            "display": null,
            "flex": null,
            "flex_flow": null,
            "grid_area": null,
            "grid_auto_columns": null,
            "grid_auto_flow": null,
            "grid_auto_rows": null,
            "grid_column": null,
            "grid_gap": null,
            "grid_row": null,
            "grid_template_areas": null,
            "grid_template_columns": null,
            "grid_template_rows": null,
            "height": null,
            "justify_content": null,
            "justify_items": null,
            "left": null,
            "margin": null,
            "max_height": null,
            "max_width": null,
            "min_height": null,
            "min_width": null,
            "object_fit": null,
            "object_position": null,
            "order": null,
            "overflow": null,
            "overflow_x": null,
            "overflow_y": null,
            "padding": null,
            "right": null,
            "top": null,
            "visibility": null,
            "width": null
          }
        },
        "0190d482c9e64561af2f37e5c9a54030": {
          "model_module": "@jupyter-widgets/controls",
          "model_name": "DescriptionStyleModel",
          "model_module_version": "1.5.0",
          "state": {
            "_model_module": "@jupyter-widgets/controls",
            "_model_module_version": "1.5.0",
            "_model_name": "DescriptionStyleModel",
            "_view_count": null,
            "_view_module": "@jupyter-widgets/base",
            "_view_module_version": "1.2.0",
            "_view_name": "StyleView",
            "description_width": ""
          }
        },
        "55541173a23249938e62a2ea92382b36": {
          "model_module": "@jupyter-widgets/controls",
          "model_name": "HBoxModel",
          "model_module_version": "1.5.0",
          "state": {
            "_dom_classes": [],
            "_model_module": "@jupyter-widgets/controls",
            "_model_module_version": "1.5.0",
            "_model_name": "HBoxModel",
            "_view_count": null,
            "_view_module": "@jupyter-widgets/controls",
            "_view_module_version": "1.5.0",
            "_view_name": "HBoxView",
            "box_style": "",
            "children": [
              "IPY_MODEL_59e12de09a914ba891d9c841e39a99fd",
              "IPY_MODEL_04fc144ff4c54fb88c40e99041b96bd7",
              "IPY_MODEL_98df621fe82f444188ebe2fb1e896a4f"
            ],
            "layout": "IPY_MODEL_3e465798b1d24bb6af58b2b3ad8ba197"
          }
        },
        "59e12de09a914ba891d9c841e39a99fd": {
          "model_module": "@jupyter-widgets/controls",
          "model_name": "HTMLModel",
          "model_module_version": "1.5.0",
          "state": {
            "_dom_classes": [],
            "_model_module": "@jupyter-widgets/controls",
            "_model_module_version": "1.5.0",
            "_model_name": "HTMLModel",
            "_view_count": null,
            "_view_module": "@jupyter-widgets/controls",
            "_view_module_version": "1.5.0",
            "_view_name": "HTMLView",
            "description": "",
            "description_tooltip": null,
            "layout": "IPY_MODEL_d41de7bdc57c4fbc82b9b810d05ba460",
            "placeholder": "​",
            "style": "IPY_MODEL_076891b151594ba5928e72c68eb9be64",
            "value": "tokenizer_config.json: 100%"
          }
        },
        "04fc144ff4c54fb88c40e99041b96bd7": {
          "model_module": "@jupyter-widgets/controls",
          "model_name": "FloatProgressModel",
          "model_module_version": "1.5.0",
          "state": {
            "_dom_classes": [],
            "_model_module": "@jupyter-widgets/controls",
            "_model_module_version": "1.5.0",
            "_model_name": "FloatProgressModel",
            "_view_count": null,
            "_view_module": "@jupyter-widgets/controls",
            "_view_module_version": "1.5.0",
            "_view_name": "ProgressView",
            "bar_style": "success",
            "description": "",
            "description_tooltip": null,
            "layout": "IPY_MODEL_96b78ce3d0474cc88b5f7929e79679d9",
            "max": 156,
            "min": 0,
            "orientation": "horizontal",
            "style": "IPY_MODEL_103d049eb7de4521a678ee0b73277ac0",
            "value": 156
          }
        },
        "98df621fe82f444188ebe2fb1e896a4f": {
          "model_module": "@jupyter-widgets/controls",
          "model_name": "HTMLModel",
          "model_module_version": "1.5.0",
          "state": {
            "_dom_classes": [],
            "_model_module": "@jupyter-widgets/controls",
            "_model_module_version": "1.5.0",
            "_model_name": "HTMLModel",
            "_view_count": null,
            "_view_module": "@jupyter-widgets/controls",
            "_view_module_version": "1.5.0",
            "_view_name": "HTMLView",
            "description": "",
            "description_tooltip": null,
            "layout": "IPY_MODEL_5f19ec23679446f59ece05c8693f60b1",
            "placeholder": "​",
            "style": "IPY_MODEL_f1afbaf3938849cc8f6dad7191edb71c",
            "value": " 156/156 [00:00&lt;00:00, 15.3kB/s]"
          }
        },
        "3e465798b1d24bb6af58b2b3ad8ba197": {
          "model_module": "@jupyter-widgets/base",
          "model_name": "LayoutModel",
          "model_module_version": "1.2.0",
          "state": {
            "_model_module": "@jupyter-widgets/base",
            "_model_module_version": "1.2.0",
            "_model_name": "LayoutModel",
            "_view_count": null,
            "_view_module": "@jupyter-widgets/base",
            "_view_module_version": "1.2.0",
            "_view_name": "LayoutView",
            "align_content": null,
            "align_items": null,
            "align_self": null,
            "border": null,
            "bottom": null,
            "display": null,
            "flex": null,
            "flex_flow": null,
            "grid_area": null,
            "grid_auto_columns": null,
            "grid_auto_flow": null,
            "grid_auto_rows": null,
            "grid_column": null,
            "grid_gap": null,
            "grid_row": null,
            "grid_template_areas": null,
            "grid_template_columns": null,
            "grid_template_rows": null,
            "height": null,
            "justify_content": null,
            "justify_items": null,
            "left": null,
            "margin": null,
            "max_height": null,
            "max_width": null,
            "min_height": null,
            "min_width": null,
            "object_fit": null,
            "object_position": null,
            "order": null,
            "overflow": null,
            "overflow_x": null,
            "overflow_y": null,
            "padding": null,
            "right": null,
            "top": null,
            "visibility": null,
            "width": null
          }
        },
        "d41de7bdc57c4fbc82b9b810d05ba460": {
          "model_module": "@jupyter-widgets/base",
          "model_name": "LayoutModel",
          "model_module_version": "1.2.0",
          "state": {
            "_model_module": "@jupyter-widgets/base",
            "_model_module_version": "1.2.0",
            "_model_name": "LayoutModel",
            "_view_count": null,
            "_view_module": "@jupyter-widgets/base",
            "_view_module_version": "1.2.0",
            "_view_name": "LayoutView",
            "align_content": null,
            "align_items": null,
            "align_self": null,
            "border": null,
            "bottom": null,
            "display": null,
            "flex": null,
            "flex_flow": null,
            "grid_area": null,
            "grid_auto_columns": null,
            "grid_auto_flow": null,
            "grid_auto_rows": null,
            "grid_column": null,
            "grid_gap": null,
            "grid_row": null,
            "grid_template_areas": null,
            "grid_template_columns": null,
            "grid_template_rows": null,
            "height": null,
            "justify_content": null,
            "justify_items": null,
            "left": null,
            "margin": null,
            "max_height": null,
            "max_width": null,
            "min_height": null,
            "min_width": null,
            "object_fit": null,
            "object_position": null,
            "order": null,
            "overflow": null,
            "overflow_x": null,
            "overflow_y": null,
            "padding": null,
            "right": null,
            "top": null,
            "visibility": null,
            "width": null
          }
        },
        "076891b151594ba5928e72c68eb9be64": {
          "model_module": "@jupyter-widgets/controls",
          "model_name": "DescriptionStyleModel",
          "model_module_version": "1.5.0",
          "state": {
            "_model_module": "@jupyter-widgets/controls",
            "_model_module_version": "1.5.0",
            "_model_name": "DescriptionStyleModel",
            "_view_count": null,
            "_view_module": "@jupyter-widgets/base",
            "_view_module_version": "1.2.0",
            "_view_name": "StyleView",
            "description_width": ""
          }
        },
        "96b78ce3d0474cc88b5f7929e79679d9": {
          "model_module": "@jupyter-widgets/base",
          "model_name": "LayoutModel",
          "model_module_version": "1.2.0",
          "state": {
            "_model_module": "@jupyter-widgets/base",
            "_model_module_version": "1.2.0",
            "_model_name": "LayoutModel",
            "_view_count": null,
            "_view_module": "@jupyter-widgets/base",
            "_view_module_version": "1.2.0",
            "_view_name": "LayoutView",
            "align_content": null,
            "align_items": null,
            "align_self": null,
            "border": null,
            "bottom": null,
            "display": null,
            "flex": null,
            "flex_flow": null,
            "grid_area": null,
            "grid_auto_columns": null,
            "grid_auto_flow": null,
            "grid_auto_rows": null,
            "grid_column": null,
            "grid_gap": null,
            "grid_row": null,
            "grid_template_areas": null,
            "grid_template_columns": null,
            "grid_template_rows": null,
            "height": null,
            "justify_content": null,
            "justify_items": null,
            "left": null,
            "margin": null,
            "max_height": null,
            "max_width": null,
            "min_height": null,
            "min_width": null,
            "object_fit": null,
            "object_position": null,
            "order": null,
            "overflow": null,
            "overflow_x": null,
            "overflow_y": null,
            "padding": null,
            "right": null,
            "top": null,
            "visibility": null,
            "width": null
          }
        },
        "103d049eb7de4521a678ee0b73277ac0": {
          "model_module": "@jupyter-widgets/controls",
          "model_name": "ProgressStyleModel",
          "model_module_version": "1.5.0",
          "state": {
            "_model_module": "@jupyter-widgets/controls",
            "_model_module_version": "1.5.0",
            "_model_name": "ProgressStyleModel",
            "_view_count": null,
            "_view_module": "@jupyter-widgets/base",
            "_view_module_version": "1.2.0",
            "_view_name": "StyleView",
            "bar_color": null,
            "description_width": ""
          }
        },
        "5f19ec23679446f59ece05c8693f60b1": {
          "model_module": "@jupyter-widgets/base",
          "model_name": "LayoutModel",
          "model_module_version": "1.2.0",
          "state": {
            "_model_module": "@jupyter-widgets/base",
            "_model_module_version": "1.2.0",
            "_model_name": "LayoutModel",
            "_view_count": null,
            "_view_module": "@jupyter-widgets/base",
            "_view_module_version": "1.2.0",
            "_view_name": "LayoutView",
            "align_content": null,
            "align_items": null,
            "align_self": null,
            "border": null,
            "bottom": null,
            "display": null,
            "flex": null,
            "flex_flow": null,
            "grid_area": null,
            "grid_auto_columns": null,
            "grid_auto_flow": null,
            "grid_auto_rows": null,
            "grid_column": null,
            "grid_gap": null,
            "grid_row": null,
            "grid_template_areas": null,
            "grid_template_columns": null,
            "grid_template_rows": null,
            "height": null,
            "justify_content": null,
            "justify_items": null,
            "left": null,
            "margin": null,
            "max_height": null,
            "max_width": null,
            "min_height": null,
            "min_width": null,
            "object_fit": null,
            "object_position": null,
            "order": null,
            "overflow": null,
            "overflow_x": null,
            "overflow_y": null,
            "padding": null,
            "right": null,
            "top": null,
            "visibility": null,
            "width": null
          }
        },
        "f1afbaf3938849cc8f6dad7191edb71c": {
          "model_module": "@jupyter-widgets/controls",
          "model_name": "DescriptionStyleModel",
          "model_module_version": "1.5.0",
          "state": {
            "_model_module": "@jupyter-widgets/controls",
            "_model_module_version": "1.5.0",
            "_model_name": "DescriptionStyleModel",
            "_view_count": null,
            "_view_module": "@jupyter-widgets/base",
            "_view_module_version": "1.2.0",
            "_view_name": "StyleView",
            "description_width": ""
          }
        },
        "08105c5f8a4c4daea0a556ce3bed1d89": {
          "model_module": "@jupyter-widgets/controls",
          "model_name": "HBoxModel",
          "model_module_version": "1.5.0",
          "state": {
            "_dom_classes": [],
            "_model_module": "@jupyter-widgets/controls",
            "_model_module_version": "1.5.0",
            "_model_name": "HBoxModel",
            "_view_count": null,
            "_view_module": "@jupyter-widgets/controls",
            "_view_module_version": "1.5.0",
            "_view_name": "HBoxView",
            "box_style": "",
            "children": [
              "IPY_MODEL_4bb0452803134a80a983371e1208462a",
              "IPY_MODEL_d4125c8489a1414d8527a25912568be6",
              "IPY_MODEL_e177b734294d42f9a43b57171f551d3c"
            ],
            "layout": "IPY_MODEL_51861efd3a814983bfc8a5f252d3b8c2"
          }
        },
        "4bb0452803134a80a983371e1208462a": {
          "model_module": "@jupyter-widgets/controls",
          "model_name": "HTMLModel",
          "model_module_version": "1.5.0",
          "state": {
            "_dom_classes": [],
            "_model_module": "@jupyter-widgets/controls",
            "_model_module_version": "1.5.0",
            "_model_name": "HTMLModel",
            "_view_count": null,
            "_view_module": "@jupyter-widgets/controls",
            "_view_module_version": "1.5.0",
            "_view_name": "HTMLView",
            "description": "",
            "description_tooltip": null,
            "layout": "IPY_MODEL_81e595e5f41246c3bff9f76e4d90e7ad",
            "placeholder": "​",
            "style": "IPY_MODEL_4d852271809a4b2da2b73a9fb41f5ee0",
            "value": "vocab.json: "
          }
        },
        "d4125c8489a1414d8527a25912568be6": {
          "model_module": "@jupyter-widgets/controls",
          "model_name": "FloatProgressModel",
          "model_module_version": "1.5.0",
          "state": {
            "_dom_classes": [],
            "_model_module": "@jupyter-widgets/controls",
            "_model_module_version": "1.5.0",
            "_model_name": "FloatProgressModel",
            "_view_count": null,
            "_view_module": "@jupyter-widgets/controls",
            "_view_module_version": "1.5.0",
            "_view_name": "ProgressView",
            "bar_style": "success",
            "description": "",
            "description_tooltip": null,
            "layout": "IPY_MODEL_9a5b8e641f0a4e2a9536df162e4ec8a1",
            "max": 1,
            "min": 0,
            "orientation": "horizontal",
            "style": "IPY_MODEL_56fccb1f781b4558a192039380e4611d",
            "value": 1
          }
        },
        "e177b734294d42f9a43b57171f551d3c": {
          "model_module": "@jupyter-widgets/controls",
          "model_name": "HTMLModel",
          "model_module_version": "1.5.0",
          "state": {
            "_dom_classes": [],
            "_model_module": "@jupyter-widgets/controls",
            "_model_module_version": "1.5.0",
            "_model_name": "HTMLModel",
            "_view_count": null,
            "_view_module": "@jupyter-widgets/controls",
            "_view_module_version": "1.5.0",
            "_view_name": "HTMLView",
            "description": "",
            "description_tooltip": null,
            "layout": "IPY_MODEL_c8a4fb044e164393bdf115c2cbdaf9d2",
            "placeholder": "​",
            "style": "IPY_MODEL_0f21621eb9f241aeb34f21483021d676",
            "value": " 1.08M/? [00:00&lt;00:00, 29.4MB/s]"
          }
        },
        "51861efd3a814983bfc8a5f252d3b8c2": {
          "model_module": "@jupyter-widgets/base",
          "model_name": "LayoutModel",
          "model_module_version": "1.2.0",
          "state": {
            "_model_module": "@jupyter-widgets/base",
            "_model_module_version": "1.2.0",
            "_model_name": "LayoutModel",
            "_view_count": null,
            "_view_module": "@jupyter-widgets/base",
            "_view_module_version": "1.2.0",
            "_view_name": "LayoutView",
            "align_content": null,
            "align_items": null,
            "align_self": null,
            "border": null,
            "bottom": null,
            "display": null,
            "flex": null,
            "flex_flow": null,
            "grid_area": null,
            "grid_auto_columns": null,
            "grid_auto_flow": null,
            "grid_auto_rows": null,
            "grid_column": null,
            "grid_gap": null,
            "grid_row": null,
            "grid_template_areas": null,
            "grid_template_columns": null,
            "grid_template_rows": null,
            "height": null,
            "justify_content": null,
            "justify_items": null,
            "left": null,
            "margin": null,
            "max_height": null,
            "max_width": null,
            "min_height": null,
            "min_width": null,
            "object_fit": null,
            "object_position": null,
            "order": null,
            "overflow": null,
            "overflow_x": null,
            "overflow_y": null,
            "padding": null,
            "right": null,
            "top": null,
            "visibility": null,
            "width": null
          }
        },
        "81e595e5f41246c3bff9f76e4d90e7ad": {
          "model_module": "@jupyter-widgets/base",
          "model_name": "LayoutModel",
          "model_module_version": "1.2.0",
          "state": {
            "_model_module": "@jupyter-widgets/base",
            "_model_module_version": "1.2.0",
            "_model_name": "LayoutModel",
            "_view_count": null,
            "_view_module": "@jupyter-widgets/base",
            "_view_module_version": "1.2.0",
            "_view_name": "LayoutView",
            "align_content": null,
            "align_items": null,
            "align_self": null,
            "border": null,
            "bottom": null,
            "display": null,
            "flex": null,
            "flex_flow": null,
            "grid_area": null,
            "grid_auto_columns": null,
            "grid_auto_flow": null,
            "grid_auto_rows": null,
            "grid_column": null,
            "grid_gap": null,
            "grid_row": null,
            "grid_template_areas": null,
            "grid_template_columns": null,
            "grid_template_rows": null,
            "height": null,
            "justify_content": null,
            "justify_items": null,
            "left": null,
            "margin": null,
            "max_height": null,
            "max_width": null,
            "min_height": null,
            "min_width": null,
            "object_fit": null,
            "object_position": null,
            "order": null,
            "overflow": null,
            "overflow_x": null,
            "overflow_y": null,
            "padding": null,
            "right": null,
            "top": null,
            "visibility": null,
            "width": null
          }
        },
        "4d852271809a4b2da2b73a9fb41f5ee0": {
          "model_module": "@jupyter-widgets/controls",
          "model_name": "DescriptionStyleModel",
          "model_module_version": "1.5.0",
          "state": {
            "_model_module": "@jupyter-widgets/controls",
            "_model_module_version": "1.5.0",
            "_model_name": "DescriptionStyleModel",
            "_view_count": null,
            "_view_module": "@jupyter-widgets/base",
            "_view_module_version": "1.2.0",
            "_view_name": "StyleView",
            "description_width": ""
          }
        },
        "9a5b8e641f0a4e2a9536df162e4ec8a1": {
          "model_module": "@jupyter-widgets/base",
          "model_name": "LayoutModel",
          "model_module_version": "1.2.0",
          "state": {
            "_model_module": "@jupyter-widgets/base",
            "_model_module_version": "1.2.0",
            "_model_name": "LayoutModel",
            "_view_count": null,
            "_view_module": "@jupyter-widgets/base",
            "_view_module_version": "1.2.0",
            "_view_name": "LayoutView",
            "align_content": null,
            "align_items": null,
            "align_self": null,
            "border": null,
            "bottom": null,
            "display": null,
            "flex": null,
            "flex_flow": null,
            "grid_area": null,
            "grid_auto_columns": null,
            "grid_auto_flow": null,
            "grid_auto_rows": null,
            "grid_column": null,
            "grid_gap": null,
            "grid_row": null,
            "grid_template_areas": null,
            "grid_template_columns": null,
            "grid_template_rows": null,
            "height": null,
            "justify_content": null,
            "justify_items": null,
            "left": null,
            "margin": null,
            "max_height": null,
            "max_width": null,
            "min_height": null,
            "min_width": null,
            "object_fit": null,
            "object_position": null,
            "order": null,
            "overflow": null,
            "overflow_x": null,
            "overflow_y": null,
            "padding": null,
            "right": null,
            "top": null,
            "visibility": null,
            "width": "20px"
          }
        },
        "56fccb1f781b4558a192039380e4611d": {
          "model_module": "@jupyter-widgets/controls",
          "model_name": "ProgressStyleModel",
          "model_module_version": "1.5.0",
          "state": {
            "_model_module": "@jupyter-widgets/controls",
            "_model_module_version": "1.5.0",
            "_model_name": "ProgressStyleModel",
            "_view_count": null,
            "_view_module": "@jupyter-widgets/base",
            "_view_module_version": "1.2.0",
            "_view_name": "StyleView",
            "bar_color": null,
            "description_width": ""
          }
        },
        "c8a4fb044e164393bdf115c2cbdaf9d2": {
          "model_module": "@jupyter-widgets/base",
          "model_name": "LayoutModel",
          "model_module_version": "1.2.0",
          "state": {
            "_model_module": "@jupyter-widgets/base",
            "_model_module_version": "1.2.0",
            "_model_name": "LayoutModel",
            "_view_count": null,
            "_view_module": "@jupyter-widgets/base",
            "_view_module_version": "1.2.0",
            "_view_name": "LayoutView",
            "align_content": null,
            "align_items": null,
            "align_self": null,
            "border": null,
            "bottom": null,
            "display": null,
            "flex": null,
            "flex_flow": null,
            "grid_area": null,
            "grid_auto_columns": null,
            "grid_auto_flow": null,
            "grid_auto_rows": null,
            "grid_column": null,
            "grid_gap": null,
            "grid_row": null,
            "grid_template_areas": null,
            "grid_template_columns": null,
            "grid_template_rows": null,
            "height": null,
            "justify_content": null,
            "justify_items": null,
            "left": null,
            "margin": null,
            "max_height": null,
            "max_width": null,
            "min_height": null,
            "min_width": null,
            "object_fit": null,
            "object_position": null,
            "order": null,
            "overflow": null,
            "overflow_x": null,
            "overflow_y": null,
            "padding": null,
            "right": null,
            "top": null,
            "visibility": null,
            "width": null
          }
        },
        "0f21621eb9f241aeb34f21483021d676": {
          "model_module": "@jupyter-widgets/controls",
          "model_name": "DescriptionStyleModel",
          "model_module_version": "1.5.0",
          "state": {
            "_model_module": "@jupyter-widgets/controls",
            "_model_module_version": "1.5.0",
            "_model_name": "DescriptionStyleModel",
            "_view_count": null,
            "_view_module": "@jupyter-widgets/base",
            "_view_module_version": "1.2.0",
            "_view_name": "StyleView",
            "description_width": ""
          }
        },
        "c1aa346a95a24b0fa39047f4aab4f6a9": {
          "model_module": "@jupyter-widgets/controls",
          "model_name": "HBoxModel",
          "model_module_version": "1.5.0",
          "state": {
            "_dom_classes": [],
            "_model_module": "@jupyter-widgets/controls",
            "_model_module_version": "1.5.0",
            "_model_name": "HBoxModel",
            "_view_count": null,
            "_view_module": "@jupyter-widgets/controls",
            "_view_module_version": "1.5.0",
            "_view_name": "HBoxView",
            "box_style": "",
            "children": [
              "IPY_MODEL_d2fc3d1e5d2248199c014bc5b2d00369",
              "IPY_MODEL_8098a528e1164ce19ae7b6b6b4a2ec78",
              "IPY_MODEL_d791db477c614f66b282fe2beb68e365"
            ],
            "layout": "IPY_MODEL_2630513403f44598bf77a0459ef4961a"
          }
        },
        "d2fc3d1e5d2248199c014bc5b2d00369": {
          "model_module": "@jupyter-widgets/controls",
          "model_name": "HTMLModel",
          "model_module_version": "1.5.0",
          "state": {
            "_dom_classes": [],
            "_model_module": "@jupyter-widgets/controls",
            "_model_module_version": "1.5.0",
            "_model_name": "HTMLModel",
            "_view_count": null,
            "_view_module": "@jupyter-widgets/controls",
            "_view_module_version": "1.5.0",
            "_view_name": "HTMLView",
            "description": "",
            "description_tooltip": null,
            "layout": "IPY_MODEL_42d650a0f767435dbd1fcc83f103c8a4",
            "placeholder": "​",
            "style": "IPY_MODEL_f5499c3a1d2243d4b01f92a7dc9231aa",
            "value": "merges.txt: "
          }
        },
        "8098a528e1164ce19ae7b6b6b4a2ec78": {
          "model_module": "@jupyter-widgets/controls",
          "model_name": "FloatProgressModel",
          "model_module_version": "1.5.0",
          "state": {
            "_dom_classes": [],
            "_model_module": "@jupyter-widgets/controls",
            "_model_module_version": "1.5.0",
            "_model_name": "FloatProgressModel",
            "_view_count": null,
            "_view_module": "@jupyter-widgets/controls",
            "_view_module_version": "1.5.0",
            "_view_name": "ProgressView",
            "bar_style": "success",
            "description": "",
            "description_tooltip": null,
            "layout": "IPY_MODEL_9c14a1a1018a46aaa6111cae6d0087c3",
            "max": 1,
            "min": 0,
            "orientation": "horizontal",
            "style": "IPY_MODEL_db6d32f77633448d9a75ce21a962e8af",
            "value": 1
          }
        },
        "d791db477c614f66b282fe2beb68e365": {
          "model_module": "@jupyter-widgets/controls",
          "model_name": "HTMLModel",
          "model_module_version": "1.5.0",
          "state": {
            "_dom_classes": [],
            "_model_module": "@jupyter-widgets/controls",
            "_model_module_version": "1.5.0",
            "_model_name": "HTMLModel",
            "_view_count": null,
            "_view_module": "@jupyter-widgets/controls",
            "_view_module_version": "1.5.0",
            "_view_name": "HTMLView",
            "description": "",
            "description_tooltip": null,
            "layout": "IPY_MODEL_a738cf3685dc4b2282184e83f72ee691",
            "placeholder": "​",
            "style": "IPY_MODEL_697264ef96aa4685906f05bf1a4fb074",
            "value": " 457k/? [00:00&lt;00:00, 29.0MB/s]"
          }
        },
        "2630513403f44598bf77a0459ef4961a": {
          "model_module": "@jupyter-widgets/base",
          "model_name": "LayoutModel",
          "model_module_version": "1.2.0",
          "state": {
            "_model_module": "@jupyter-widgets/base",
            "_model_module_version": "1.2.0",
            "_model_name": "LayoutModel",
            "_view_count": null,
            "_view_module": "@jupyter-widgets/base",
            "_view_module_version": "1.2.0",
            "_view_name": "LayoutView",
            "align_content": null,
            "align_items": null,
            "align_self": null,
            "border": null,
            "bottom": null,
            "display": null,
            "flex": null,
            "flex_flow": null,
            "grid_area": null,
            "grid_auto_columns": null,
            "grid_auto_flow": null,
            "grid_auto_rows": null,
            "grid_column": null,
            "grid_gap": null,
            "grid_row": null,
            "grid_template_areas": null,
            "grid_template_columns": null,
            "grid_template_rows": null,
            "height": null,
            "justify_content": null,
            "justify_items": null,
            "left": null,
            "margin": null,
            "max_height": null,
            "max_width": null,
            "min_height": null,
            "min_width": null,
            "object_fit": null,
            "object_position": null,
            "order": null,
            "overflow": null,
            "overflow_x": null,
            "overflow_y": null,
            "padding": null,
            "right": null,
            "top": null,
            "visibility": null,
            "width": null
          }
        },
        "42d650a0f767435dbd1fcc83f103c8a4": {
          "model_module": "@jupyter-widgets/base",
          "model_name": "LayoutModel",
          "model_module_version": "1.2.0",
          "state": {
            "_model_module": "@jupyter-widgets/base",
            "_model_module_version": "1.2.0",
            "_model_name": "LayoutModel",
            "_view_count": null,
            "_view_module": "@jupyter-widgets/base",
            "_view_module_version": "1.2.0",
            "_view_name": "LayoutView",
            "align_content": null,
            "align_items": null,
            "align_self": null,
            "border": null,
            "bottom": null,
            "display": null,
            "flex": null,
            "flex_flow": null,
            "grid_area": null,
            "grid_auto_columns": null,
            "grid_auto_flow": null,
            "grid_auto_rows": null,
            "grid_column": null,
            "grid_gap": null,
            "grid_row": null,
            "grid_template_areas": null,
            "grid_template_columns": null,
            "grid_template_rows": null,
            "height": null,
            "justify_content": null,
            "justify_items": null,
            "left": null,
            "margin": null,
            "max_height": null,
            "max_width": null,
            "min_height": null,
            "min_width": null,
            "object_fit": null,
            "object_position": null,
            "order": null,
            "overflow": null,
            "overflow_x": null,
            "overflow_y": null,
            "padding": null,
            "right": null,
            "top": null,
            "visibility": null,
            "width": null
          }
        },
        "f5499c3a1d2243d4b01f92a7dc9231aa": {
          "model_module": "@jupyter-widgets/controls",
          "model_name": "DescriptionStyleModel",
          "model_module_version": "1.5.0",
          "state": {
            "_model_module": "@jupyter-widgets/controls",
            "_model_module_version": "1.5.0",
            "_model_name": "DescriptionStyleModel",
            "_view_count": null,
            "_view_module": "@jupyter-widgets/base",
            "_view_module_version": "1.2.0",
            "_view_name": "StyleView",
            "description_width": ""
          }
        },
        "9c14a1a1018a46aaa6111cae6d0087c3": {
          "model_module": "@jupyter-widgets/base",
          "model_name": "LayoutModel",
          "model_module_version": "1.2.0",
          "state": {
            "_model_module": "@jupyter-widgets/base",
            "_model_module_version": "1.2.0",
            "_model_name": "LayoutModel",
            "_view_count": null,
            "_view_module": "@jupyter-widgets/base",
            "_view_module_version": "1.2.0",
            "_view_name": "LayoutView",
            "align_content": null,
            "align_items": null,
            "align_self": null,
            "border": null,
            "bottom": null,
            "display": null,
            "flex": null,
            "flex_flow": null,
            "grid_area": null,
            "grid_auto_columns": null,
            "grid_auto_flow": null,
            "grid_auto_rows": null,
            "grid_column": null,
            "grid_gap": null,
            "grid_row": null,
            "grid_template_areas": null,
            "grid_template_columns": null,
            "grid_template_rows": null,
            "height": null,
            "justify_content": null,
            "justify_items": null,
            "left": null,
            "margin": null,
            "max_height": null,
            "max_width": null,
            "min_height": null,
            "min_width": null,
            "object_fit": null,
            "object_position": null,
            "order": null,
            "overflow": null,
            "overflow_x": null,
            "overflow_y": null,
            "padding": null,
            "right": null,
            "top": null,
            "visibility": null,
            "width": "20px"
          }
        },
        "db6d32f77633448d9a75ce21a962e8af": {
          "model_module": "@jupyter-widgets/controls",
          "model_name": "ProgressStyleModel",
          "model_module_version": "1.5.0",
          "state": {
            "_model_module": "@jupyter-widgets/controls",
            "_model_module_version": "1.5.0",
            "_model_name": "ProgressStyleModel",
            "_view_count": null,
            "_view_module": "@jupyter-widgets/base",
            "_view_module_version": "1.2.0",
            "_view_name": "StyleView",
            "bar_color": null,
            "description_width": ""
          }
        },
        "a738cf3685dc4b2282184e83f72ee691": {
          "model_module": "@jupyter-widgets/base",
          "model_name": "LayoutModel",
          "model_module_version": "1.2.0",
          "state": {
            "_model_module": "@jupyter-widgets/base",
            "_model_module_version": "1.2.0",
            "_model_name": "LayoutModel",
            "_view_count": null,
            "_view_module": "@jupyter-widgets/base",
            "_view_module_version": "1.2.0",
            "_view_name": "LayoutView",
            "align_content": null,
            "align_items": null,
            "align_self": null,
            "border": null,
            "bottom": null,
            "display": null,
            "flex": null,
            "flex_flow": null,
            "grid_area": null,
            "grid_auto_columns": null,
            "grid_auto_flow": null,
            "grid_auto_rows": null,
            "grid_column": null,
            "grid_gap": null,
            "grid_row": null,
            "grid_template_areas": null,
            "grid_template_columns": null,
            "grid_template_rows": null,
            "height": null,
            "justify_content": null,
            "justify_items": null,
            "left": null,
            "margin": null,
            "max_height": null,
            "max_width": null,
            "min_height": null,
            "min_width": null,
            "object_fit": null,
            "object_position": null,
            "order": null,
            "overflow": null,
            "overflow_x": null,
            "overflow_y": null,
            "padding": null,
            "right": null,
            "top": null,
            "visibility": null,
            "width": null
          }
        },
        "697264ef96aa4685906f05bf1a4fb074": {
          "model_module": "@jupyter-widgets/controls",
          "model_name": "DescriptionStyleModel",
          "model_module_version": "1.5.0",
          "state": {
            "_model_module": "@jupyter-widgets/controls",
            "_model_module_version": "1.5.0",
            "_model_name": "DescriptionStyleModel",
            "_view_count": null,
            "_view_module": "@jupyter-widgets/base",
            "_view_module_version": "1.2.0",
            "_view_name": "StyleView",
            "description_width": ""
          }
        },
        "df63dd3b1a3c487dac48367b8cc59e71": {
          "model_module": "@jupyter-widgets/controls",
          "model_name": "HBoxModel",
          "model_module_version": "1.5.0",
          "state": {
            "_dom_classes": [],
            "_model_module": "@jupyter-widgets/controls",
            "_model_module_version": "1.5.0",
            "_model_name": "HBoxModel",
            "_view_count": null,
            "_view_module": "@jupyter-widgets/controls",
            "_view_module_version": "1.5.0",
            "_view_name": "HBoxView",
            "box_style": "",
            "children": [
              "IPY_MODEL_177c49e3d6b04839b36143b2cb28be33",
              "IPY_MODEL_5d548e1d74a74a2c86ef7605868e6918",
              "IPY_MODEL_346d26fe37fb420bbc204a65ef20ba5a"
            ],
            "layout": "IPY_MODEL_9926d081d0094205b411ec5730b76ddb"
          }
        },
        "177c49e3d6b04839b36143b2cb28be33": {
          "model_module": "@jupyter-widgets/controls",
          "model_name": "HTMLModel",
          "model_module_version": "1.5.0",
          "state": {
            "_dom_classes": [],
            "_model_module": "@jupyter-widgets/controls",
            "_model_module_version": "1.5.0",
            "_model_name": "HTMLModel",
            "_view_count": null,
            "_view_module": "@jupyter-widgets/controls",
            "_view_module_version": "1.5.0",
            "_view_name": "HTMLView",
            "description": "",
            "description_tooltip": null,
            "layout": "IPY_MODEL_12766667d133465ab0bf11cee64c6328",
            "placeholder": "​",
            "style": "IPY_MODEL_7352d329f3d4484bbe646d62989bdb45",
            "value": "tokenizer.json: "
          }
        },
        "5d548e1d74a74a2c86ef7605868e6918": {
          "model_module": "@jupyter-widgets/controls",
          "model_name": "FloatProgressModel",
          "model_module_version": "1.5.0",
          "state": {
            "_dom_classes": [],
            "_model_module": "@jupyter-widgets/controls",
            "_model_module_version": "1.5.0",
            "_model_name": "FloatProgressModel",
            "_view_count": null,
            "_view_module": "@jupyter-widgets/controls",
            "_view_module_version": "1.5.0",
            "_view_name": "ProgressView",
            "bar_style": "success",
            "description": "",
            "description_tooltip": null,
            "layout": "IPY_MODEL_b4740d60d33d4a34b03b37d176dd3d72",
            "max": 1,
            "min": 0,
            "orientation": "horizontal",
            "style": "IPY_MODEL_6c4085b146b14baf89f91063dabad3ce",
            "value": 1
          }
        },
        "346d26fe37fb420bbc204a65ef20ba5a": {
          "model_module": "@jupyter-widgets/controls",
          "model_name": "HTMLModel",
          "model_module_version": "1.5.0",
          "state": {
            "_dom_classes": [],
            "_model_module": "@jupyter-widgets/controls",
            "_model_module_version": "1.5.0",
            "_model_name": "HTMLModel",
            "_view_count": null,
            "_view_module": "@jupyter-widgets/controls",
            "_view_module_version": "1.5.0",
            "_view_name": "HTMLView",
            "description": "",
            "description_tooltip": null,
            "layout": "IPY_MODEL_b759b13efbfc45a9b72c90348616a93b",
            "placeholder": "​",
            "style": "IPY_MODEL_995fad7c2fae443088ae4fa905d56920",
            "value": " 2.11M/? [00:00&lt;00:00, 64.0MB/s]"
          }
        },
        "9926d081d0094205b411ec5730b76ddb": {
          "model_module": "@jupyter-widgets/base",
          "model_name": "LayoutModel",
          "model_module_version": "1.2.0",
          "state": {
            "_model_module": "@jupyter-widgets/base",
            "_model_module_version": "1.2.0",
            "_model_name": "LayoutModel",
            "_view_count": null,
            "_view_module": "@jupyter-widgets/base",
            "_view_module_version": "1.2.0",
            "_view_name": "LayoutView",
            "align_content": null,
            "align_items": null,
            "align_self": null,
            "border": null,
            "bottom": null,
            "display": null,
            "flex": null,
            "flex_flow": null,
            "grid_area": null,
            "grid_auto_columns": null,
            "grid_auto_flow": null,
            "grid_auto_rows": null,
            "grid_column": null,
            "grid_gap": null,
            "grid_row": null,
            "grid_template_areas": null,
            "grid_template_columns": null,
            "grid_template_rows": null,
            "height": null,
            "justify_content": null,
            "justify_items": null,
            "left": null,
            "margin": null,
            "max_height": null,
            "max_width": null,
            "min_height": null,
            "min_width": null,
            "object_fit": null,
            "object_position": null,
            "order": null,
            "overflow": null,
            "overflow_x": null,
            "overflow_y": null,
            "padding": null,
            "right": null,
            "top": null,
            "visibility": null,
            "width": null
          }
        },
        "12766667d133465ab0bf11cee64c6328": {
          "model_module": "@jupyter-widgets/base",
          "model_name": "LayoutModel",
          "model_module_version": "1.2.0",
          "state": {
            "_model_module": "@jupyter-widgets/base",
            "_model_module_version": "1.2.0",
            "_model_name": "LayoutModel",
            "_view_count": null,
            "_view_module": "@jupyter-widgets/base",
            "_view_module_version": "1.2.0",
            "_view_name": "LayoutView",
            "align_content": null,
            "align_items": null,
            "align_self": null,
            "border": null,
            "bottom": null,
            "display": null,
            "flex": null,
            "flex_flow": null,
            "grid_area": null,
            "grid_auto_columns": null,
            "grid_auto_flow": null,
            "grid_auto_rows": null,
            "grid_column": null,
            "grid_gap": null,
            "grid_row": null,
            "grid_template_areas": null,
            "grid_template_columns": null,
            "grid_template_rows": null,
            "height": null,
            "justify_content": null,
            "justify_items": null,
            "left": null,
            "margin": null,
            "max_height": null,
            "max_width": null,
            "min_height": null,
            "min_width": null,
            "object_fit": null,
            "object_position": null,
            "order": null,
            "overflow": null,
            "overflow_x": null,
            "overflow_y": null,
            "padding": null,
            "right": null,
            "top": null,
            "visibility": null,
            "width": null
          }
        },
        "7352d329f3d4484bbe646d62989bdb45": {
          "model_module": "@jupyter-widgets/controls",
          "model_name": "DescriptionStyleModel",
          "model_module_version": "1.5.0",
          "state": {
            "_model_module": "@jupyter-widgets/controls",
            "_model_module_version": "1.5.0",
            "_model_name": "DescriptionStyleModel",
            "_view_count": null,
            "_view_module": "@jupyter-widgets/base",
            "_view_module_version": "1.2.0",
            "_view_name": "StyleView",
            "description_width": ""
          }
        },
        "b4740d60d33d4a34b03b37d176dd3d72": {
          "model_module": "@jupyter-widgets/base",
          "model_name": "LayoutModel",
          "model_module_version": "1.2.0",
          "state": {
            "_model_module": "@jupyter-widgets/base",
            "_model_module_version": "1.2.0",
            "_model_name": "LayoutModel",
            "_view_count": null,
            "_view_module": "@jupyter-widgets/base",
            "_view_module_version": "1.2.0",
            "_view_name": "LayoutView",
            "align_content": null,
            "align_items": null,
            "align_self": null,
            "border": null,
            "bottom": null,
            "display": null,
            "flex": null,
            "flex_flow": null,
            "grid_area": null,
            "grid_auto_columns": null,
            "grid_auto_flow": null,
            "grid_auto_rows": null,
            "grid_column": null,
            "grid_gap": null,
            "grid_row": null,
            "grid_template_areas": null,
            "grid_template_columns": null,
            "grid_template_rows": null,
            "height": null,
            "justify_content": null,
            "justify_items": null,
            "left": null,
            "margin": null,
            "max_height": null,
            "max_width": null,
            "min_height": null,
            "min_width": null,
            "object_fit": null,
            "object_position": null,
            "order": null,
            "overflow": null,
            "overflow_x": null,
            "overflow_y": null,
            "padding": null,
            "right": null,
            "top": null,
            "visibility": null,
            "width": "20px"
          }
        },
        "6c4085b146b14baf89f91063dabad3ce": {
          "model_module": "@jupyter-widgets/controls",
          "model_name": "ProgressStyleModel",
          "model_module_version": "1.5.0",
          "state": {
            "_model_module": "@jupyter-widgets/controls",
            "_model_module_version": "1.5.0",
            "_model_name": "ProgressStyleModel",
            "_view_count": null,
            "_view_module": "@jupyter-widgets/base",
            "_view_module_version": "1.2.0",
            "_view_name": "StyleView",
            "bar_color": null,
            "description_width": ""
          }
        },
        "b759b13efbfc45a9b72c90348616a93b": {
          "model_module": "@jupyter-widgets/base",
          "model_name": "LayoutModel",
          "model_module_version": "1.2.0",
          "state": {
            "_model_module": "@jupyter-widgets/base",
            "_model_module_version": "1.2.0",
            "_model_name": "LayoutModel",
            "_view_count": null,
            "_view_module": "@jupyter-widgets/base",
            "_view_module_version": "1.2.0",
            "_view_name": "LayoutView",
            "align_content": null,
            "align_items": null,
            "align_self": null,
            "border": null,
            "bottom": null,
            "display": null,
            "flex": null,
            "flex_flow": null,
            "grid_area": null,
            "grid_auto_columns": null,
            "grid_auto_flow": null,
            "grid_auto_rows": null,
            "grid_column": null,
            "grid_gap": null,
            "grid_row": null,
            "grid_template_areas": null,
            "grid_template_columns": null,
            "grid_template_rows": null,
            "height": null,
            "justify_content": null,
            "justify_items": null,
            "left": null,
            "margin": null,
            "max_height": null,
            "max_width": null,
            "min_height": null,
            "min_width": null,
            "object_fit": null,
            "object_position": null,
            "order": null,
            "overflow": null,
            "overflow_x": null,
            "overflow_y": null,
            "padding": null,
            "right": null,
            "top": null,
            "visibility": null,
            "width": null
          }
        },
        "995fad7c2fae443088ae4fa905d56920": {
          "model_module": "@jupyter-widgets/controls",
          "model_name": "DescriptionStyleModel",
          "model_module_version": "1.5.0",
          "state": {
            "_model_module": "@jupyter-widgets/controls",
            "_model_module_version": "1.5.0",
            "_model_name": "DescriptionStyleModel",
            "_view_count": null,
            "_view_module": "@jupyter-widgets/base",
            "_view_module_version": "1.2.0",
            "_view_name": "StyleView",
            "description_width": ""
          }
        },
        "c65bc5b6ab884e4b915341388a0f2901": {
          "model_module": "@jupyter-widgets/controls",
          "model_name": "HBoxModel",
          "model_module_version": "1.5.0",
          "state": {
            "_dom_classes": [],
            "_model_module": "@jupyter-widgets/controls",
            "_model_module_version": "1.5.0",
            "_model_name": "HBoxModel",
            "_view_count": null,
            "_view_module": "@jupyter-widgets/controls",
            "_view_module_version": "1.5.0",
            "_view_name": "HBoxView",
            "box_style": "",
            "children": [
              "IPY_MODEL_6bfe5c253ddf445c99a8cf72ef993b76",
              "IPY_MODEL_f7e4d78273024ceeaae5281d87577423",
              "IPY_MODEL_8234049a05cc466dbede34b05aed522f"
            ],
            "layout": "IPY_MODEL_1af5cc414cb54e0bb786355aaf4d01b0"
          }
        },
        "6bfe5c253ddf445c99a8cf72ef993b76": {
          "model_module": "@jupyter-widgets/controls",
          "model_name": "HTMLModel",
          "model_module_version": "1.5.0",
          "state": {
            "_dom_classes": [],
            "_model_module": "@jupyter-widgets/controls",
            "_model_module_version": "1.5.0",
            "_model_name": "HTMLModel",
            "_view_count": null,
            "_view_module": "@jupyter-widgets/controls",
            "_view_module_version": "1.5.0",
            "_view_name": "HTMLView",
            "description": "",
            "description_tooltip": null,
            "layout": "IPY_MODEL_78ebe5417f1843e3a3bc4a2e37df8fb6",
            "placeholder": "​",
            "style": "IPY_MODEL_93957b76ffa14aefa63e8964c8273bdc",
            "value": "special_tokens_map.json: 100%"
          }
        },
        "f7e4d78273024ceeaae5281d87577423": {
          "model_module": "@jupyter-widgets/controls",
          "model_name": "FloatProgressModel",
          "model_module_version": "1.5.0",
          "state": {
            "_dom_classes": [],
            "_model_module": "@jupyter-widgets/controls",
            "_model_module_version": "1.5.0",
            "_model_name": "FloatProgressModel",
            "_view_count": null,
            "_view_module": "@jupyter-widgets/controls",
            "_view_module_version": "1.5.0",
            "_view_name": "ProgressView",
            "bar_style": "success",
            "description": "",
            "description_tooltip": null,
            "layout": "IPY_MODEL_ab1f515f96e949519e28e3f9c34ec3be",
            "max": 90,
            "min": 0,
            "orientation": "horizontal",
            "style": "IPY_MODEL_ba78a21f4e1a4253acc80784178577e7",
            "value": 90
          }
        },
        "8234049a05cc466dbede34b05aed522f": {
          "model_module": "@jupyter-widgets/controls",
          "model_name": "HTMLModel",
          "model_module_version": "1.5.0",
          "state": {
            "_dom_classes": [],
            "_model_module": "@jupyter-widgets/controls",
            "_model_module_version": "1.5.0",
            "_model_name": "HTMLModel",
            "_view_count": null,
            "_view_module": "@jupyter-widgets/controls",
            "_view_module_version": "1.5.0",
            "_view_name": "HTMLView",
            "description": "",
            "description_tooltip": null,
            "layout": "IPY_MODEL_c8965c20a0ff4e839f08364a084be4fa",
            "placeholder": "​",
            "style": "IPY_MODEL_01173bfcb0c8448f84f737c213f13a94",
            "value": " 90.0/90.0 [00:00&lt;00:00, 10.3kB/s]"
          }
        },
        "1af5cc414cb54e0bb786355aaf4d01b0": {
          "model_module": "@jupyter-widgets/base",
          "model_name": "LayoutModel",
          "model_module_version": "1.2.0",
          "state": {
            "_model_module": "@jupyter-widgets/base",
            "_model_module_version": "1.2.0",
            "_model_name": "LayoutModel",
            "_view_count": null,
            "_view_module": "@jupyter-widgets/base",
            "_view_module_version": "1.2.0",
            "_view_name": "LayoutView",
            "align_content": null,
            "align_items": null,
            "align_self": null,
            "border": null,
            "bottom": null,
            "display": null,
            "flex": null,
            "flex_flow": null,
            "grid_area": null,
            "grid_auto_columns": null,
            "grid_auto_flow": null,
            "grid_auto_rows": null,
            "grid_column": null,
            "grid_gap": null,
            "grid_row": null,
            "grid_template_areas": null,
            "grid_template_columns": null,
            "grid_template_rows": null,
            "height": null,
            "justify_content": null,
            "justify_items": null,
            "left": null,
            "margin": null,
            "max_height": null,
            "max_width": null,
            "min_height": null,
            "min_width": null,
            "object_fit": null,
            "object_position": null,
            "order": null,
            "overflow": null,
            "overflow_x": null,
            "overflow_y": null,
            "padding": null,
            "right": null,
            "top": null,
            "visibility": null,
            "width": null
          }
        },
        "78ebe5417f1843e3a3bc4a2e37df8fb6": {
          "model_module": "@jupyter-widgets/base",
          "model_name": "LayoutModel",
          "model_module_version": "1.2.0",
          "state": {
            "_model_module": "@jupyter-widgets/base",
            "_model_module_version": "1.2.0",
            "_model_name": "LayoutModel",
            "_view_count": null,
            "_view_module": "@jupyter-widgets/base",
            "_view_module_version": "1.2.0",
            "_view_name": "LayoutView",
            "align_content": null,
            "align_items": null,
            "align_self": null,
            "border": null,
            "bottom": null,
            "display": null,
            "flex": null,
            "flex_flow": null,
            "grid_area": null,
            "grid_auto_columns": null,
            "grid_auto_flow": null,
            "grid_auto_rows": null,
            "grid_column": null,
            "grid_gap": null,
            "grid_row": null,
            "grid_template_areas": null,
            "grid_template_columns": null,
            "grid_template_rows": null,
            "height": null,
            "justify_content": null,
            "justify_items": null,
            "left": null,
            "margin": null,
            "max_height": null,
            "max_width": null,
            "min_height": null,
            "min_width": null,
            "object_fit": null,
            "object_position": null,
            "order": null,
            "overflow": null,
            "overflow_x": null,
            "overflow_y": null,
            "padding": null,
            "right": null,
            "top": null,
            "visibility": null,
            "width": null
          }
        },
        "93957b76ffa14aefa63e8964c8273bdc": {
          "model_module": "@jupyter-widgets/controls",
          "model_name": "DescriptionStyleModel",
          "model_module_version": "1.5.0",
          "state": {
            "_model_module": "@jupyter-widgets/controls",
            "_model_module_version": "1.5.0",
            "_model_name": "DescriptionStyleModel",
            "_view_count": null,
            "_view_module": "@jupyter-widgets/base",
            "_view_module_version": "1.2.0",
            "_view_name": "StyleView",
            "description_width": ""
          }
        },
        "ab1f515f96e949519e28e3f9c34ec3be": {
          "model_module": "@jupyter-widgets/base",
          "model_name": "LayoutModel",
          "model_module_version": "1.2.0",
          "state": {
            "_model_module": "@jupyter-widgets/base",
            "_model_module_version": "1.2.0",
            "_model_name": "LayoutModel",
            "_view_count": null,
            "_view_module": "@jupyter-widgets/base",
            "_view_module_version": "1.2.0",
            "_view_name": "LayoutView",
            "align_content": null,
            "align_items": null,
            "align_self": null,
            "border": null,
            "bottom": null,
            "display": null,
            "flex": null,
            "flex_flow": null,
            "grid_area": null,
            "grid_auto_columns": null,
            "grid_auto_flow": null,
            "grid_auto_rows": null,
            "grid_column": null,
            "grid_gap": null,
            "grid_row": null,
            "grid_template_areas": null,
            "grid_template_columns": null,
            "grid_template_rows": null,
            "height": null,
            "justify_content": null,
            "justify_items": null,
            "left": null,
            "margin": null,
            "max_height": null,
            "max_width": null,
            "min_height": null,
            "min_width": null,
            "object_fit": null,
            "object_position": null,
            "order": null,
            "overflow": null,
            "overflow_x": null,
            "overflow_y": null,
            "padding": null,
            "right": null,
            "top": null,
            "visibility": null,
            "width": null
          }
        },
        "ba78a21f4e1a4253acc80784178577e7": {
          "model_module": "@jupyter-widgets/controls",
          "model_name": "ProgressStyleModel",
          "model_module_version": "1.5.0",
          "state": {
            "_model_module": "@jupyter-widgets/controls",
            "_model_module_version": "1.5.0",
            "_model_name": "ProgressStyleModel",
            "_view_count": null,
            "_view_module": "@jupyter-widgets/base",
            "_view_module_version": "1.2.0",
            "_view_name": "StyleView",
            "bar_color": null,
            "description_width": ""
          }
        },
        "c8965c20a0ff4e839f08364a084be4fa": {
          "model_module": "@jupyter-widgets/base",
          "model_name": "LayoutModel",
          "model_module_version": "1.2.0",
          "state": {
            "_model_module": "@jupyter-widgets/base",
            "_model_module_version": "1.2.0",
            "_model_name": "LayoutModel",
            "_view_count": null,
            "_view_module": "@jupyter-widgets/base",
            "_view_module_version": "1.2.0",
            "_view_name": "LayoutView",
            "align_content": null,
            "align_items": null,
            "align_self": null,
            "border": null,
            "bottom": null,
            "display": null,
            "flex": null,
            "flex_flow": null,
            "grid_area": null,
            "grid_auto_columns": null,
            "grid_auto_flow": null,
            "grid_auto_rows": null,
            "grid_column": null,
            "grid_gap": null,
            "grid_row": null,
            "grid_template_areas": null,
            "grid_template_columns": null,
            "grid_template_rows": null,
            "height": null,
            "justify_content": null,
            "justify_items": null,
            "left": null,
            "margin": null,
            "max_height": null,
            "max_width": null,
            "min_height": null,
            "min_width": null,
            "object_fit": null,
            "object_position": null,
            "order": null,
            "overflow": null,
            "overflow_x": null,
            "overflow_y": null,
            "padding": null,
            "right": null,
            "top": null,
            "visibility": null,
            "width": null
          }
        },
        "01173bfcb0c8448f84f737c213f13a94": {
          "model_module": "@jupyter-widgets/controls",
          "model_name": "DescriptionStyleModel",
          "model_module_version": "1.5.0",
          "state": {
            "_model_module": "@jupyter-widgets/controls",
            "_model_module_version": "1.5.0",
            "_model_name": "DescriptionStyleModel",
            "_view_count": null,
            "_view_module": "@jupyter-widgets/base",
            "_view_module_version": "1.2.0",
            "_view_name": "StyleView",
            "description_width": ""
          }
        }
      }
    }
  },
  "nbformat": 4,
  "nbformat_minor": 0
}